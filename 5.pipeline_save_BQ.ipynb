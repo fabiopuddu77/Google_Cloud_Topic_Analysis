{
 "cells": [
  {
   "cell_type": "markdown",
   "id": "c41faa18-61d3-46e3-8bee-6442a2d052d2",
   "metadata": {},
   "source": [
    "## Inizio Quarta parte"
   ]
  },
  {
   "cell_type": "markdown",
   "id": "59c5f8cc-44f0-4258-a952-7e207ba1085b",
   "metadata": {},
   "source": [
    "### Carico il DF su Big Query"
   ]
  },
  {
   "cell_type": "code",
   "execution_count": 26,
   "id": "cde85fc0-6dd9-4195-b5e3-6ffa9147d88a",
   "metadata": {
    "tags": []
   },
   "outputs": [],
   "source": [
    "%run functions.ipynb"
   ]
  },
  {
   "cell_type": "code",
   "execution_count": 27,
   "id": "d5ab38ef-0ebf-43b7-871c-e1d17a6bdb50",
   "metadata": {
    "tags": []
   },
   "outputs": [],
   "source": [
    "from google.cloud import storage\n",
    "import pandas as pd\n",
    "from io import BytesIO\n",
    "\n",
    "# Your GCS bucket name\n",
    "bucket_name = 'ccai-storage'\n",
    "\n",
    "# Paths to the Parquet files in your GCS bucket\n",
    "articles_parquet_path = 'pipeline/final_df4.parquet'\n",
    "\n",
    "# Initialize the GCS client\n",
    "client = storage.Client()\n",
    "\n",
    "# Load the Parquet files\n",
    "final_df4 = load_parquet_from_gcs(bucket_name, articles_parquet_path)"
   ]
  },
  {
   "cell_type": "code",
   "execution_count": 28,
   "id": "57eb5844-f0ad-490c-a293-b8f46a241847",
   "metadata": {
    "tags": []
   },
   "outputs": [
    {
     "data": {
      "text/html": [
       "<div>\n",
       "<style scoped>\n",
       "    .dataframe tbody tr th:only-of-type {\n",
       "        vertical-align: middle;\n",
       "    }\n",
       "\n",
       "    .dataframe tbody tr th {\n",
       "        vertical-align: top;\n",
       "    }\n",
       "\n",
       "    .dataframe thead th {\n",
       "        text-align: right;\n",
       "    }\n",
       "</style>\n",
       "<table border=\"1\" class=\"dataframe\">\n",
       "  <thead>\n",
       "    <tr style=\"text-align: right;\">\n",
       "      <th></th>\n",
       "      <th>date</th>\n",
       "      <th>sentiment</th>\n",
       "      <th>relevance</th>\n",
       "      <th>sharesFacebook</th>\n",
       "      <th>importanceRank</th>\n",
       "      <th>alexaGlobalRank</th>\n",
       "      <th>alexaCountryRank</th>\n",
       "      <th>date_column</th>\n",
       "      <th>year</th>\n",
       "      <th>month</th>\n",
       "      <th>...</th>\n",
       "      <th>WORK_OF_ART_mean_salience</th>\n",
       "      <th>CONSUMER_GOOD_mean_salience</th>\n",
       "      <th>NUMBER_mean_salience</th>\n",
       "      <th>DATE_mean_salience</th>\n",
       "      <th>PRICE</th>\n",
       "      <th>PRICE_mean_salience</th>\n",
       "      <th>ADDRESS</th>\n",
       "      <th>ADDRESS_mean_salience</th>\n",
       "      <th>PHONE_NUMBER</th>\n",
       "      <th>PHONE_NUMBER_mean_salience</th>\n",
       "    </tr>\n",
       "  </thead>\n",
       "  <tbody>\n",
       "    <tr>\n",
       "      <th>count</th>\n",
       "      <td>4322</td>\n",
       "      <td>0.0</td>\n",
       "      <td>4322.0</td>\n",
       "      <td>4322.000000</td>\n",
       "      <td>4322.000000</td>\n",
       "      <td>4322.00000</td>\n",
       "      <td>4322.000000</td>\n",
       "      <td>4322</td>\n",
       "      <td>4322.0</td>\n",
       "      <td>4322.000000</td>\n",
       "      <td>...</td>\n",
       "      <td>4322.000000</td>\n",
       "      <td>4322.000000</td>\n",
       "      <td>4322.0</td>\n",
       "      <td>4322.0</td>\n",
       "      <td>4322.000000</td>\n",
       "      <td>4322.0</td>\n",
       "      <td>4322.000000</td>\n",
       "      <td>4322.0</td>\n",
       "      <td>4322.000000</td>\n",
       "      <td>4322.0</td>\n",
       "    </tr>\n",
       "    <tr>\n",
       "      <th>mean</th>\n",
       "      <td>2023-09-08 12:08:39.759370752</td>\n",
       "      <td>NaN</td>\n",
       "      <td>1.0</td>\n",
       "      <td>27.828089</td>\n",
       "      <td>217544.448172</td>\n",
       "      <td>17445.07404</td>\n",
       "      <td>514.228366</td>\n",
       "      <td>2023-09-08 12:08:39.759370752</td>\n",
       "      <td>2023.0</td>\n",
       "      <td>8.761684</td>\n",
       "      <td>...</td>\n",
       "      <td>0.008127</td>\n",
       "      <td>0.008544</td>\n",
       "      <td>0.0</td>\n",
       "      <td>0.0</td>\n",
       "      <td>0.333873</td>\n",
       "      <td>0.0</td>\n",
       "      <td>0.009024</td>\n",
       "      <td>0.0</td>\n",
       "      <td>0.006016</td>\n",
       "      <td>0.0</td>\n",
       "    </tr>\n",
       "    <tr>\n",
       "      <th>min</th>\n",
       "      <td>2023-01-01 00:00:00</td>\n",
       "      <td>NaN</td>\n",
       "      <td>1.0</td>\n",
       "      <td>0.000000</td>\n",
       "      <td>164339.000000</td>\n",
       "      <td>0.00000</td>\n",
       "      <td>0.000000</td>\n",
       "      <td>2023-01-01 00:00:00</td>\n",
       "      <td>2023.0</td>\n",
       "      <td>1.000000</td>\n",
       "      <td>...</td>\n",
       "      <td>0.000000</td>\n",
       "      <td>0.000000</td>\n",
       "      <td>0.0</td>\n",
       "      <td>0.0</td>\n",
       "      <td>0.000000</td>\n",
       "      <td>0.0</td>\n",
       "      <td>0.000000</td>\n",
       "      <td>0.0</td>\n",
       "      <td>0.000000</td>\n",
       "      <td>0.0</td>\n",
       "    </tr>\n",
       "    <tr>\n",
       "      <th>25%</th>\n",
       "      <td>2023-05-15 06:00:00</td>\n",
       "      <td>NaN</td>\n",
       "      <td>1.0</td>\n",
       "      <td>1.000000</td>\n",
       "      <td>170621.000000</td>\n",
       "      <td>1633.00000</td>\n",
       "      <td>30.000000</td>\n",
       "      <td>2023-05-15 06:00:00</td>\n",
       "      <td>2023.0</td>\n",
       "      <td>5.000000</td>\n",
       "      <td>...</td>\n",
       "      <td>0.000000</td>\n",
       "      <td>0.000000</td>\n",
       "      <td>0.0</td>\n",
       "      <td>0.0</td>\n",
       "      <td>0.000000</td>\n",
       "      <td>0.0</td>\n",
       "      <td>0.000000</td>\n",
       "      <td>0.0</td>\n",
       "      <td>0.000000</td>\n",
       "      <td>0.0</td>\n",
       "    </tr>\n",
       "    <tr>\n",
       "      <th>50%</th>\n",
       "      <td>2023-11-27 00:00:00</td>\n",
       "      <td>NaN</td>\n",
       "      <td>1.0</td>\n",
       "      <td>7.000000</td>\n",
       "      <td>191788.000000</td>\n",
       "      <td>3336.00000</td>\n",
       "      <td>47.000000</td>\n",
       "      <td>2023-11-27 00:00:00</td>\n",
       "      <td>2023.0</td>\n",
       "      <td>11.000000</td>\n",
       "      <td>...</td>\n",
       "      <td>0.001546</td>\n",
       "      <td>0.002038</td>\n",
       "      <td>0.0</td>\n",
       "      <td>0.0</td>\n",
       "      <td>0.000000</td>\n",
       "      <td>0.0</td>\n",
       "      <td>0.000000</td>\n",
       "      <td>0.0</td>\n",
       "      <td>0.000000</td>\n",
       "      <td>0.0</td>\n",
       "    </tr>\n",
       "    <tr>\n",
       "      <th>75%</th>\n",
       "      <td>2023-12-16 00:00:00</td>\n",
       "      <td>NaN</td>\n",
       "      <td>1.0</td>\n",
       "      <td>26.000000</td>\n",
       "      <td>211051.000000</td>\n",
       "      <td>5616.00000</td>\n",
       "      <td>67.000000</td>\n",
       "      <td>2023-12-16 00:00:00</td>\n",
       "      <td>2023.0</td>\n",
       "      <td>12.000000</td>\n",
       "      <td>...</td>\n",
       "      <td>0.007560</td>\n",
       "      <td>0.007904</td>\n",
       "      <td>0.0</td>\n",
       "      <td>0.0</td>\n",
       "      <td>0.000000</td>\n",
       "      <td>0.0</td>\n",
       "      <td>0.000000</td>\n",
       "      <td>0.0</td>\n",
       "      <td>0.000000</td>\n",
       "      <td>0.0</td>\n",
       "    </tr>\n",
       "    <tr>\n",
       "      <th>max</th>\n",
       "      <td>2023-12-21 00:00:00</td>\n",
       "      <td>NaN</td>\n",
       "      <td>1.0</td>\n",
       "      <td>2544.000000</td>\n",
       "      <td>1000000.000000</td>\n",
       "      <td>302718.00000</td>\n",
       "      <td>92187.000000</td>\n",
       "      <td>2023-12-21 00:00:00</td>\n",
       "      <td>2023.0</td>\n",
       "      <td>12.000000</td>\n",
       "      <td>...</td>\n",
       "      <td>0.314216</td>\n",
       "      <td>0.380333</td>\n",
       "      <td>0.0</td>\n",
       "      <td>0.0</td>\n",
       "      <td>30.000000</td>\n",
       "      <td>0.0</td>\n",
       "      <td>3.000000</td>\n",
       "      <td>0.0</td>\n",
       "      <td>5.000000</td>\n",
       "      <td>0.0</td>\n",
       "    </tr>\n",
       "    <tr>\n",
       "      <th>std</th>\n",
       "      <td>NaN</td>\n",
       "      <td>NaN</td>\n",
       "      <td>0.0</td>\n",
       "      <td>84.886091</td>\n",
       "      <td>97299.248453</td>\n",
       "      <td>38944.66327</td>\n",
       "      <td>5600.385508</td>\n",
       "      <td>NaN</td>\n",
       "      <td>0.0</td>\n",
       "      <td>4.027519</td>\n",
       "      <td>...</td>\n",
       "      <td>0.018242</td>\n",
       "      <td>0.019711</td>\n",
       "      <td>0.0</td>\n",
       "      <td>0.0</td>\n",
       "      <td>1.276532</td>\n",
       "      <td>0.0</td>\n",
       "      <td>0.112459</td>\n",
       "      <td>0.0</td>\n",
       "      <td>0.107402</td>\n",
       "      <td>0.0</td>\n",
       "    </tr>\n",
       "  </tbody>\n",
       "</table>\n",
       "<p>8 rows × 54 columns</p>\n",
       "</div>"
      ],
      "text/plain": [
       "                                date  sentiment  relevance  sharesFacebook  \\\n",
       "count                           4322        0.0     4322.0     4322.000000   \n",
       "mean   2023-09-08 12:08:39.759370752        NaN        1.0       27.828089   \n",
       "min              2023-01-01 00:00:00        NaN        1.0        0.000000   \n",
       "25%              2023-05-15 06:00:00        NaN        1.0        1.000000   \n",
       "50%              2023-11-27 00:00:00        NaN        1.0        7.000000   \n",
       "75%              2023-12-16 00:00:00        NaN        1.0       26.000000   \n",
       "max              2023-12-21 00:00:00        NaN        1.0     2544.000000   \n",
       "std                              NaN        NaN        0.0       84.886091   \n",
       "\n",
       "       importanceRank  alexaGlobalRank  alexaCountryRank  \\\n",
       "count     4322.000000       4322.00000       4322.000000   \n",
       "mean    217544.448172      17445.07404        514.228366   \n",
       "min     164339.000000          0.00000          0.000000   \n",
       "25%     170621.000000       1633.00000         30.000000   \n",
       "50%     191788.000000       3336.00000         47.000000   \n",
       "75%     211051.000000       5616.00000         67.000000   \n",
       "max    1000000.000000     302718.00000      92187.000000   \n",
       "std      97299.248453      38944.66327       5600.385508   \n",
       "\n",
       "                         date_column    year        month  ...  \\\n",
       "count                           4322  4322.0  4322.000000  ...   \n",
       "mean   2023-09-08 12:08:39.759370752  2023.0     8.761684  ...   \n",
       "min              2023-01-01 00:00:00  2023.0     1.000000  ...   \n",
       "25%              2023-05-15 06:00:00  2023.0     5.000000  ...   \n",
       "50%              2023-11-27 00:00:00  2023.0    11.000000  ...   \n",
       "75%              2023-12-16 00:00:00  2023.0    12.000000  ...   \n",
       "max              2023-12-21 00:00:00  2023.0    12.000000  ...   \n",
       "std                              NaN     0.0     4.027519  ...   \n",
       "\n",
       "       WORK_OF_ART_mean_salience  CONSUMER_GOOD_mean_salience  \\\n",
       "count                4322.000000                  4322.000000   \n",
       "mean                    0.008127                     0.008544   \n",
       "min                     0.000000                     0.000000   \n",
       "25%                     0.000000                     0.000000   \n",
       "50%                     0.001546                     0.002038   \n",
       "75%                     0.007560                     0.007904   \n",
       "max                     0.314216                     0.380333   \n",
       "std                     0.018242                     0.019711   \n",
       "\n",
       "       NUMBER_mean_salience  DATE_mean_salience        PRICE  \\\n",
       "count                4322.0              4322.0  4322.000000   \n",
       "mean                    0.0                 0.0     0.333873   \n",
       "min                     0.0                 0.0     0.000000   \n",
       "25%                     0.0                 0.0     0.000000   \n",
       "50%                     0.0                 0.0     0.000000   \n",
       "75%                     0.0                 0.0     0.000000   \n",
       "max                     0.0                 0.0    30.000000   \n",
       "std                     0.0                 0.0     1.276532   \n",
       "\n",
       "       PRICE_mean_salience      ADDRESS  ADDRESS_mean_salience  PHONE_NUMBER  \\\n",
       "count               4322.0  4322.000000                 4322.0   4322.000000   \n",
       "mean                   0.0     0.009024                    0.0      0.006016   \n",
       "min                    0.0     0.000000                    0.0      0.000000   \n",
       "25%                    0.0     0.000000                    0.0      0.000000   \n",
       "50%                    0.0     0.000000                    0.0      0.000000   \n",
       "75%                    0.0     0.000000                    0.0      0.000000   \n",
       "max                    0.0     3.000000                    0.0      5.000000   \n",
       "std                    0.0     0.112459                    0.0      0.107402   \n",
       "\n",
       "       PHONE_NUMBER_mean_salience  \n",
       "count                      4322.0  \n",
       "mean                          0.0  \n",
       "min                           0.0  \n",
       "25%                           0.0  \n",
       "50%                           0.0  \n",
       "75%                           0.0  \n",
       "max                           0.0  \n",
       "std                           0.0  \n",
       "\n",
       "[8 rows x 54 columns]"
      ]
     },
     "execution_count": 28,
     "metadata": {},
     "output_type": "execute_result"
    }
   ],
   "source": [
    "final_df4.describe()"
   ]
  },
  {
   "cell_type": "code",
   "execution_count": 29,
   "id": "dac8a300-4aed-40f3-a26e-95cf5baa4136",
   "metadata": {
    "tags": []
   },
   "outputs": [
    {
     "data": {
      "text/plain": [
       "Index(['uri', 'url', 'title', 'body', 'date', 'time', 'dateTime',\n",
       "       'dateTimePub', 'lang', 'isDuplicate', 'dataType', 'sentiment',\n",
       "       'eventUri', 'relevance', 'image', 'authors', 'sharesFacebook',\n",
       "       'sourceTitle', 'sourceLocationLabel', 'categoryLabels',\n",
       "       'categoryWeights', 'importanceRank', 'alexaGlobalRank',\n",
       "       'alexaCountryRank', 'date_column', 'year', 'month', 'year_month',\n",
       "       'topic', 'split', 'shares_scaled', 'body_pre', 'score', 'magnitude',\n",
       "       'num_documents', 'Toxic', 'Insult', 'Profanity', 'Derogatory', 'Sexual',\n",
       "       'Death_Harm__Tragedy', 'Violent', 'Firearms__Weapons', 'Public_Safety',\n",
       "       'Health', 'Religion__Belief', 'Illicit_Drugs', 'War__Conflict',\n",
       "       'Politics', 'Finance', 'Legal', 'PERSON', 'OTHER', 'ORGANIZATION',\n",
       "       'EVENT', 'LOCATION', 'WORK_OF_ART', 'CONSUMER_GOOD', 'NUMBER', 'DATE',\n",
       "       'PERSON_mean_salience', 'OTHER_mean_salience',\n",
       "       'ORGANIZATION_mean_salience', 'EVENT_mean_salience',\n",
       "       'LOCATION_mean_salience', 'WORK_OF_ART_mean_salience',\n",
       "       'CONSUMER_GOOD_mean_salience', 'NUMBER_mean_salience',\n",
       "       'DATE_mean_salience', 'PRICE', 'PRICE_mean_salience', 'ADDRESS',\n",
       "       'ADDRESS_mean_salience', 'PHONE_NUMBER', 'PHONE_NUMBER_mean_salience'],\n",
       "      dtype='object')"
      ]
     },
     "execution_count": 29,
     "metadata": {},
     "output_type": "execute_result"
    }
   ],
   "source": [
    "final_df4.columns"
   ]
  },
  {
   "cell_type": "code",
   "execution_count": 30,
   "id": "12555911-5726-4649-aa2b-7fd4c367d72e",
   "metadata": {
    "tags": []
   },
   "outputs": [
    {
     "name": "stdout",
     "output_type": "stream",
     "text": [
      "Total NaN values: uri                           0\n",
      "url                           0\n",
      "title                         0\n",
      "body                          0\n",
      "date                          0\n",
      "                             ..\n",
      "PRICE_mean_salience           0\n",
      "ADDRESS                       0\n",
      "ADDRESS_mean_salience         0\n",
      "PHONE_NUMBER                  0\n",
      "PHONE_NUMBER_mean_salience    0\n",
      "Length: 75, dtype: int64\n"
     ]
    }
   ],
   "source": [
    "nan_count = final_df4.isna().sum()\n",
    "print(\"Total NaN values:\", nan_count)"
   ]
  },
  {
   "cell_type": "code",
   "execution_count": null,
   "id": "f3ad61e4-ca7d-4027-95fb-f7a64dd0a575",
   "metadata": {},
   "outputs": [],
   "source": []
  },
  {
   "cell_type": "code",
   "execution_count": 31,
   "id": "4a233094-38b3-4c3a-8acf-eee18cb9fbee",
   "metadata": {
    "tags": []
   },
   "outputs": [
    {
     "name": "stdout",
     "output_type": "stream",
     "text": [
      "split\n",
      "TRAIN       2408\n",
      "TEST         958\n",
      "VALIDATE     956\n",
      "Name: count, dtype: int64\n"
     ]
    }
   ],
   "source": [
    "print(final_df4['split'].value_counts())"
   ]
  },
  {
   "cell_type": "code",
   "execution_count": null,
   "id": "03845cb7-0ce2-4925-97b6-6845ef77bbcc",
   "metadata": {},
   "outputs": [],
   "source": []
  },
  {
   "cell_type": "code",
   "execution_count": 32,
   "id": "e4ae34aa-28da-464d-bc58-7e4918e6a897",
   "metadata": {
    "tags": []
   },
   "outputs": [],
   "source": [
    "final_df4 = final_df4.drop(columns=\"DATE\")"
   ]
  },
  {
   "cell_type": "code",
   "execution_count": 33,
   "id": "b5092df9-068c-4432-bd6b-b3c0d5ab0938",
   "metadata": {
    "tags": []
   },
   "outputs": [
    {
     "data": {
      "text/plain": [
       "Index(['uri', 'url', 'title', 'body', 'date', 'time', 'dateTime',\n",
       "       'dateTimePub', 'lang', 'isDuplicate', 'dataType', 'sentiment',\n",
       "       'eventUri', 'relevance', 'image', 'authors', 'sharesFacebook',\n",
       "       'sourceTitle', 'sourceLocationLabel', 'categoryLabels',\n",
       "       'categoryWeights', 'importanceRank', 'alexaGlobalRank',\n",
       "       'alexaCountryRank', 'date_column', 'year', 'month', 'year_month',\n",
       "       'topic', 'split', 'shares_scaled', 'body_pre', 'score', 'magnitude',\n",
       "       'num_documents', 'Toxic', 'Insult', 'Profanity', 'Derogatory', 'Sexual',\n",
       "       'Death_Harm__Tragedy', 'Violent', 'Firearms__Weapons', 'Public_Safety',\n",
       "       'Health', 'Religion__Belief', 'Illicit_Drugs', 'War__Conflict',\n",
       "       'Politics', 'Finance', 'Legal', 'PERSON', 'OTHER', 'ORGANIZATION',\n",
       "       'EVENT', 'LOCATION', 'WORK_OF_ART', 'CONSUMER_GOOD', 'NUMBER',\n",
       "       'PERSON_mean_salience', 'OTHER_mean_salience',\n",
       "       'ORGANIZATION_mean_salience', 'EVENT_mean_salience',\n",
       "       'LOCATION_mean_salience', 'WORK_OF_ART_mean_salience',\n",
       "       'CONSUMER_GOOD_mean_salience', 'NUMBER_mean_salience',\n",
       "       'DATE_mean_salience', 'PRICE', 'PRICE_mean_salience', 'ADDRESS',\n",
       "       'ADDRESS_mean_salience', 'PHONE_NUMBER', 'PHONE_NUMBER_mean_salience'],\n",
       "      dtype='object')"
      ]
     },
     "execution_count": 33,
     "metadata": {},
     "output_type": "execute_result"
    }
   ],
   "source": [
    "final_df4.columns"
   ]
  },
  {
   "cell_type": "code",
   "execution_count": 34,
   "id": "8b151952-5857-4566-902a-85d078d30260",
   "metadata": {},
   "outputs": [
    {
     "name": "stdout",
     "output_type": "stream",
     "text": [
      "Loaded 4322 rows into BigQuery table: gcp-ccai-auto-ml-contactcenter.datasetnlp.stepfinalbq\n"
     ]
    }
   ],
   "source": [
    "# Upload to BQ :        \n",
    "ds_id = \"datasetnlp\"\n",
    "project = !gcloud config get-value project\n",
    "PROJECT_ID = project[0]\n",
    "bucket = \"ccai-storage\"\n",
    "table_id=\"finaldf5\"\n",
    "location = \"europe-west3\"  # Specify the location where your BigQuery dataset resides\n",
    "upload_dataframe_to_bigquery(final_df4, table_id, PROJECT_ID, ds_id, bucket, location)"
   ]
  },
  {
   "cell_type": "code",
   "execution_count": null,
   "id": "38035e07-512a-4bee-9b4a-2fb53cd63aa8",
   "metadata": {},
   "outputs": [],
   "source": []
  }
 ],
 "metadata": {
  "environment": {
   "kernel": "python3",
   "name": "common-cpu.m115",
   "type": "gcloud",
   "uri": "gcr.io/deeplearning-platform-release/base-cpu:m115"
  },
  "kernelspec": {
   "display_name": "Python 3",
   "language": "python",
   "name": "python3"
  },
  "language_info": {
   "codemirror_mode": {
    "name": "ipython",
    "version": 3
   },
   "file_extension": ".py",
   "mimetype": "text/x-python",
   "name": "python",
   "nbconvert_exporter": "python",
   "pygments_lexer": "ipython3",
   "version": "3.10.13"
  }
 },
 "nbformat": 4,
 "nbformat_minor": 5
}
