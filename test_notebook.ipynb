{
 "cells": [
  {
   "cell_type": "code",
   "execution_count": 1,
   "id": "b990cf3f-a55b-4cc6-a255-1073a0bf7375",
   "metadata": {
    "tags": []
   },
   "outputs": [
    {
     "name": "stdout",
     "output_type": "stream",
     "text": [
      "/home/jupyter/fabio\n"
     ]
    }
   ],
   "source": [
    "! pwd"
   ]
  },
  {
   "cell_type": "code",
   "execution_count": 7,
   "id": "540d8ed4-7a4e-4dab-be22-d0afd7677e15",
   "metadata": {
    "tags": []
   },
   "outputs": [],
   "source": [
    "import pandas as pd\n",
    "from google.cloud import storage\n",
    "\n",
    "from io import BytesIO\n",
    "from google.cloud import bigquery\n",
    "import nltk\n",
    "from nltk.corpus import stopwords\n",
    "from nltk.stem import PorterStemmer, WordNetLemmatizer\n",
    "from sklearn.preprocessing import RobustScaler\n"
   ]
  },
  {
   "cell_type": "code",
   "execution_count": 10,
   "id": "a928b30d-28c5-44c1-b021-32071b9cbb59",
   "metadata": {
    "tags": []
   },
   "outputs": [],
   "source": [
    "\n",
    "# Your GCS bucket name\n",
    "bucket_name = 'ccai-storage'\n",
    "\n",
    "# Paths to the Parquet files in your GCS bucket\n",
    "articles_parquet_path = 'make_prediction/step_final_bq.parquet'\n",
    "\n",
    "# Initialize the GCS client\n",
    "client = storage.Client()\n",
    "\n",
    "# Function to download a Parquet file from GCS and load it into a pandas DataFrame\n",
    "def load_parquet_from_gcs(bucket_name, file_path):\n",
    "    bucket = client.bucket(bucket_name)\n",
    "    blob = bucket.blob(file_path)\n",
    "    byte_stream = BytesIO()\n",
    "    blob.download_to_file(byte_stream)\n",
    "    byte_stream.seek(0)\n",
    "    df = pd.read_parquet(byte_stream, engine='pyarrow')\n",
    "    return df\n",
    "\n",
    "# Load the Parquet files\n",
    "articles_df = load_parquet_from_gcs(bucket_name, articles_parquet_path)"
   ]
  },
  {
   "cell_type": "code",
   "execution_count": 12,
   "id": "6c378e89-f7fd-4d48-9464-158752d10601",
   "metadata": {},
   "outputs": [
    {
     "data": {
      "text/plain": [
       "Index(['uri', 'url', 'title', 'body', 'date', 'time', 'dateTime',\n",
       "       'dateTimePub', 'lang', 'isDuplicate', 'dataType', 'sentiment',\n",
       "       'eventUri', 'relevance', 'image', 'authors', 'sharesFacebook',\n",
       "       'sourceTitle', 'sourceLocationLabel', 'categoryLabels',\n",
       "       'categoryWeights', 'importanceRank', 'alexaGlobalRank',\n",
       "       'alexaCountryRank', 'date_column', 'year', 'month', 'year_month',\n",
       "       'topic', 'shares_scaled', 'body_pre', 'score', 'magnitude', 'Toxic',\n",
       "       'Insult', 'Profanity', 'Derogatory', 'Sexual', 'Death_Harm__Tragedy',\n",
       "       'Violent', 'Firearms__Weapons', 'Public_Safety', 'Health',\n",
       "       'Religion__Belief', 'Illicit_Drugs', 'War__Conflict', 'Politics',\n",
       "       'Finance', 'Legal', 'EVENT', 'LOCATION', 'OTHER', 'ORGANIZATION',\n",
       "       'PERSON', 'CONSUMER_GOOD', 'EVENT_mean_salience',\n",
       "       'LOCATION_mean_salience', 'OTHER_mean_salience',\n",
       "       'ORGANIZATION_mean_salience', 'PERSON_mean_salience',\n",
       "       'CONSUMER_GOOD_mean_salience', 'NUMBER', 'NUMBER_mean_salience',\n",
       "       'WORK_OF_ART', 'DATE', 'WORK_OF_ART_mean_salience',\n",
       "       'DATE_mean_salience', 'PRICE', 'PRICE_mean_salience', 'split',\n",
       "       'num_documents', 'ADDRESS', 'ADDRESS_mean_salience', 'PHONE_NUMBER',\n",
       "       'PHONE_NUMBER_mean_salience'],\n",
       "      dtype='object')"
      ]
     },
     "execution_count": 12,
     "metadata": {},
     "output_type": "execute_result"
    }
   ],
   "source": [
    "articles_df.columns"
   ]
  },
  {
   "cell_type": "code",
   "execution_count": null,
   "id": "3babef6c-59a0-4022-8e4c-8a159ab32479",
   "metadata": {},
   "outputs": [],
   "source": []
  }
 ],
 "metadata": {
  "environment": {
   "kernel": "python3",
   "name": "common-cpu.m115",
   "type": "gcloud",
   "uri": "gcr.io/deeplearning-platform-release/base-cpu:m115"
  },
  "kernelspec": {
   "display_name": "Python 3",
   "language": "python",
   "name": "python3"
  },
  "language_info": {
   "codemirror_mode": {
    "name": "ipython",
    "version": 3
   },
   "file_extension": ".py",
   "mimetype": "text/x-python",
   "name": "python",
   "nbconvert_exporter": "python",
   "pygments_lexer": "ipython3",
   "version": "3.10.13"
  }
 },
 "nbformat": 4,
 "nbformat_minor": 5
}
