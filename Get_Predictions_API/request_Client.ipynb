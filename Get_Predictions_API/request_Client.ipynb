{
 "cells": [
  {
   "cell_type": "code",
   "execution_count": 1,
   "id": "66a30ea0-2db7-4bdc-9c64-1089ffb2b662",
   "metadata": {},
   "outputs": [
    {
     "name": "stdout",
     "output_type": "stream",
     "text": [
      "+------------------------+------------+\n",
      "| Class                  |      Score |\n",
      "+========================+============+\n",
      "| Technology             | 0.0245035  |\n",
      "+------------------------+------------+\n",
      "| Sports                 | 0.648755   |\n",
      "+------------------------+------------+\n",
      "| Science                | 0.00770369 |\n",
      "+------------------------+------------+\n",
      "| Politics               | 0.0633634  |\n",
      "+------------------------+------------+\n",
      "| Health                 | 0.0122139  |\n",
      "+------------------------+------------+\n",
      "| Environment            | 0.00951837 |\n",
      "+------------------------+------------+\n",
      "| Business               | 0.0636411  |\n",
      "+------------------------+------------+\n",
      "| Arts and Entertainment | 0.170301   |\n",
      "+------------------------+------------+\n",
      "| Technology             | 0.0454687  |\n",
      "+------------------------+------------+\n",
      "| Sports                 | 0.411656   |\n",
      "+------------------------+------------+\n",
      "| Science                | 0.0270731  |\n",
      "+------------------------+------------+\n",
      "| Politics               | 0.0150516  |\n",
      "+------------------------+------------+\n",
      "| Health                 | 0.0117418  |\n",
      "+------------------------+------------+\n",
      "| Environment            | 0.0143234  |\n",
      "+------------------------+------------+\n",
      "| Business               | 0.146324   |\n",
      "+------------------------+------------+\n",
      "| Arts and Entertainment | 0.328361   |\n",
      "+------------------------+------------+\n"
     ]
    }
   ],
   "source": [
    "import requests\n",
    " \n",
    "# Define the URL of your FastAPI endpoint\n",
    "\n",
    "FILE_PATH = 'test_file.parquet'\n",
    "NUM_DOC = 2\n",
    "\n",
    "url = f'https://fast-api-automl-serving-bpfl6lx4ta-ey.a.run.app/predict/?file_path={FILE_PATH}&num_doc={NUM_DOC}'  # Update the URL with your endpoint\n",
    "\n",
    "# Send a GET request\n",
    "response = requests.post(url)\n",
    " \n",
    "# Check if the request was successful\n",
    "\n",
    "if response.status_code == 200:\n",
    "\n",
    "    # Print the response content\n",
    "\n",
    "    print(response.json())\n",
    "\n",
    "else:\n",
    "\n",
    "    print(\"Error:\", response.status_code)\n"
   ]
  },
  {
   "cell_type": "code",
   "execution_count": null,
   "id": "16ff6287-4ad2-43fd-b805-9fc79e0ec1a5",
   "metadata": {},
   "outputs": [],
   "source": []
  }
 ],
 "metadata": {
  "environment": {
   "kernel": "python3",
   "name": "common-cpu.m115",
   "type": "gcloud",
   "uri": "gcr.io/deeplearning-platform-release/base-cpu:m115"
  },
  "kernelspec": {
   "display_name": "Python 3",
   "language": "python",
   "name": "python3"
  },
  "language_info": {
   "codemirror_mode": {
    "name": "ipython",
    "version": 3
   },
   "file_extension": ".py",
   "mimetype": "text/x-python",
   "name": "python",
   "nbconvert_exporter": "python",
   "pygments_lexer": "ipython3",
   "version": "3.10.13"
  }
 },
 "nbformat": 4,
 "nbformat_minor": 5
}
