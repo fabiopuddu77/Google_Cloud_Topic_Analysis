{
 "cells": [
  {
   "cell_type": "code",
   "execution_count": 3,
   "id": "7a23db45-23d4-41e6-8fab-31c2ba0d8e14",
   "metadata": {
    "tags": []
   },
   "outputs": [],
   "source": [
    "PROJECT_ID = 'gcp-ccai-auto-ml-contactcenter'"
   ]
  },
  {
   "cell_type": "code",
   "execution_count": 4,
   "id": "c9c940d2-e499-460c-9a95-f19a904145ac",
   "metadata": {
    "tags": []
   },
   "outputs": [
    {
     "name": "stdout",
     "output_type": "stream",
     "text": [
      "\u001b[1;33mWARNING:\u001b[0m Your config file at [/home/jupyter/.docker/config.json] contains these credential helper entries:\n",
      "\n",
      "{\n",
      "  \"credHelpers\": {\n",
      "    \"gcr.io\": \"gcloud\",\n",
      "    \"us.gcr.io\": \"gcloud\",\n",
      "    \"eu.gcr.io\": \"gcloud\",\n",
      "    \"asia.gcr.io\": \"gcloud\",\n",
      "    \"staging-k8s.gcr.io\": \"gcloud\",\n",
      "    \"marketplace.gcr.io\": \"gcloud\",\n",
      "    \"europe-west3-docker.pkg.dev\": \"gcloud\"\n",
      "  }\n",
      "}\n",
      "Adding credentials for all GCR repositories.\n",
      "\u001b[1;33mWARNING:\u001b[0m A long list of credential helpers may cause delays running 'docker build'. We recommend passing the registry name to configure only the registry you are using.\n",
      "gcloud credential helpers already registered correctly.\n"
     ]
    }
   ],
   "source": [
    "! gcloud auth configure-docker"
   ]
  },
  {
   "cell_type": "code",
   "execution_count": 7,
   "id": "f5389601-474f-4406-87ed-4c688eb764a2",
   "metadata": {
    "tags": []
   },
   "outputs": [],
   "source": [
    "image_URI=f\"gcr.io/{PROJECT_ID}/fastapi_app\""
   ]
  },
  {
   "cell_type": "code",
   "execution_count": 11,
   "id": "cb2f5fe4-318d-486d-8e0b-32c6d48f6baa",
   "metadata": {
    "tags": []
   },
   "outputs": [
    {
     "name": "stdout",
     "output_type": "stream",
     "text": [
      "unable to prepare context: unable to evaluate symlinks in Dockerfile path: lstat /home/jupyter/gcp-ccai-auto-ml-contactcenter/End-to-end-AutoML-Topic-Classification/Dockerfile: no such file or directory\n"
     ]
    }
   ],
   "source": [
    "! docker build ./ -t $image_URI"
   ]
  },
  {
   "cell_type": "code",
   "execution_count": null,
   "id": "a160362e-0caa-4837-b3f6-13ea2786903d",
   "metadata": {},
   "outputs": [],
   "source": [
    "! docker build ./ -t $IMAGE_URI"
   ]
  }
 ],
 "metadata": {
  "environment": {
   "kernel": "python3",
   "name": "common-cpu.m115",
   "type": "gcloud",
   "uri": "gcr.io/deeplearning-platform-release/base-cpu:m115"
  },
  "kernelspec": {
   "display_name": "Python 3",
   "language": "python",
   "name": "python3"
  },
  "language_info": {
   "codemirror_mode": {
    "name": "ipython",
    "version": 3
   },
   "file_extension": ".py",
   "mimetype": "text/x-python",
   "name": "python",
   "nbconvert_exporter": "python",
   "pygments_lexer": "ipython3",
   "version": "3.10.13"
  }
 },
 "nbformat": 4,
 "nbformat_minor": 5
}
