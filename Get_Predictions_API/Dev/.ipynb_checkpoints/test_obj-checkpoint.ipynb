{
 "cells": [
  {
   "cell_type": "code",
   "execution_count": 1,
   "id": "b0a0f8e7-4de2-4dab-8fed-9057941c0ba2",
   "metadata": {
    "tags": []
   },
   "outputs": [],
   "source": [
    "from obj_preprocessing import GCS_preprocessing"
   ]
  },
  {
   "cell_type": "code",
   "execution_count": 2,
   "id": "e42dd764-6413-4fd0-a192-01cc7f41f3aa",
   "metadata": {
    "tags": []
   },
   "outputs": [],
   "source": [
    "PROJECT_ID = 'gcp-ccai-auto-ml-contactcenter'\n",
    "REGION= \"europe-west3\"\n",
    "REPO_NAME = \"repo-demo3\"\n",
    "SERVICE_ACCOUNT = \"944308723981-compute@developer.gserviceaccount.com\"\n",
    "BUCKET = \"ccai-storage\"\n",
    "PIPELINE_NAME = \"automl_pipeline\"\n",
    "YAML_NAME = f\"{PIPELINE_NAME}.yml\"\n",
    "PIPELINE_ROOT = f\"gs://{BUCKET}/pipeline_root/\"\n",
    "DISPLAY_NAME = PIPELINE_NAME.replace(\"_\", \"-\")\n",
    "NOTEBOOK = \"automl\"\n",
    "DATANAME = \"datasetnlp\"\n",
    "FILE_PATH = 'test_file.parquet'\n",
    "FOLDER = 'make_prediction'\n",
    "PROJECT_ID = 'gcp-ccai-auto-ml-contactcenter'\n",
    "TABLE_ID = \"testdatabq\"\n",
    "TEXT_COLUMN = 'body_pre'\n",
    "LOCATION = \"europe-west3\"\n",
    "NUM_DOC = 20\n",
    "RANDOM_SEED=123\n",
    "#BQ_SOURCE = \"bq://gcp-ccai-auto-ml-contactcenter.datasetnlp.stepfinalbq\"\n",
    "OUTPUT_PROCESSING = 'output_processing.parquet'\n",
    "OUTPUT_TOKENIZATION = 'output_tokenized.parquet'\n",
    "OUTPUT_SENTIMENT = 'output_sentiment.parquet'\n",
    "OUTPUT_MODERATE = 'output_moderate.parquet'\n",
    "OUTPUT_ENTITIES = 'output_entities.parquet'\n",
    "OUTPUT_FINAL = 'step_final_bq.parquet'\n",
    "\n",
    "# Resources\n",
    "DEPLOY_COMPUTE = 'n1-standard-4'\n"
   ]
  },
  {
   "cell_type": "code",
   "execution_count": 4,
   "id": "1de0ba70-d114-4a26-a2e6-293751f759fd",
   "metadata": {
    "tags": []
   },
   "outputs": [
    {
     "name": "stderr",
     "output_type": "stream",
     "text": [
      "[nltk_data] Downloading package punkt to /home/jupyter/nltk_data...\n",
      "[nltk_data]   Package punkt is already up-to-date!\n",
      "[nltk_data] Downloading package wordnet to /home/jupyter/nltk_data...\n",
      "[nltk_data]   Package wordnet is already up-to-date!\n",
      "[nltk_data] Downloading package stopwords to\n",
      "[nltk_data]     /home/jupyter/nltk_data...\n",
      "[nltk_data]   Package stopwords is already up-to-date!\n"
     ]
    },
    {
     "name": "stdout",
     "output_type": "stream",
     "text": [
      "Error uploading DataFrame to BigQuery: 'GCS_preprocessing' object has no attribute 'bucket_name'\n",
      "Dataset preprocessed - process completed and file saved to GCS.\n"
     ]
    },
    {
     "data": {
      "text/plain": [
       "'step_final_bq.parquet'"
      ]
     },
     "execution_count": 4,
     "metadata": {},
     "output_type": "execute_result"
    }
   ],
   "source": [
    "processor = GCS_preprocessing(bucket=BUCKET,\n",
    "                              folder=FOLDER,\n",
    "                              file_path=FILE_PATH,\n",
    "                              parquet_file_name=OUTPUT_FINAL,\n",
    "                              num_doc=NUM_DOC, \n",
    "                              random_seed=RANDOM_SEED,\n",
    "                              project_id=PROJECT_ID,\n",
    "                              dataset_id=DATANAME,\n",
    "                              table_id=TABLE_ID,\n",
    "                              location=LOCATION,\n",
    "                              text_column=TEXT_COLUMN,\n",
    "                              overwrite=True)\n",
    "\n",
    "\n",
    "processor.process()"
   ]
  },
  {
   "cell_type": "code",
   "execution_count": null,
   "id": "00dcc09d-5e84-4280-8a1f-b5401989fe75",
   "metadata": {},
   "outputs": [],
   "source": [
    "\n"
   ]
  }
 ],
 "metadata": {
  "environment": {
   "kernel": "python3",
   "name": "common-cpu.m115",
   "type": "gcloud",
   "uri": "gcr.io/deeplearning-platform-release/base-cpu:m115"
  },
  "kernelspec": {
   "display_name": "Python 3",
   "language": "python",
   "name": "python3"
  },
  "language_info": {
   "codemirror_mode": {
    "name": "ipython",
    "version": 3
   },
   "file_extension": ".py",
   "mimetype": "text/x-python",
   "name": "python",
   "nbconvert_exporter": "python",
   "pygments_lexer": "ipython3",
   "version": "3.10.13"
  }
 },
 "nbformat": 4,
 "nbformat_minor": 5
}
