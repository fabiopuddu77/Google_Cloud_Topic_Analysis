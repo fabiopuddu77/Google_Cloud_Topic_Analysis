{
 "cells": [
  {
   "cell_type": "markdown",
   "id": "fbcb3a76-6ef2-4746-be7e-9d982763de69",
   "metadata": {},
   "source": [
    "---\n",
    "## Prediction"
   ]
  },
  {
   "cell_type": "code",
   "execution_count": 2,
   "id": "218b92be-e14e-4885-9d5b-5467ebffd318",
   "metadata": {
    "tags": []
   },
   "outputs": [],
   "source": [
    "import kfp\n",
    "from kfp import compiler\n",
    "from kfp.dsl import component, pipeline, Artifact, ClassificationMetrics, Input, Output, Model, Metrics\n",
    "\n",
    "from google.cloud import aiplatform as aip\n",
    "from typing import NamedTuple\n",
    "\n",
    "from datetime import datetime\n",
    "\n",
    "#import kfp.v2.dsl as dsl\n",
    "#import google_cloud_pipeline_components as gcc_aip\n",
    "from google_cloud_pipeline_components.v1.dataset import TabularDatasetCreateOp\n",
    "from google_cloud_pipeline_components.v1.automl.training_job import AutoMLTabularTrainingJobRunOp\n",
    "from google_cloud_pipeline_components.v1.endpoint import EndpointCreateOp, ModelDeployOp\n",
    "\n",
    "from google.cloud import bigquery \n",
    "from google.protobuf import json_format\n",
    "from google.protobuf.struct_pb2 import Value\n",
    "import json\n",
    "import numpy as np"
   ]
  },
  {
   "cell_type": "code",
   "execution_count": 3,
   "id": "655f744a-4f8e-487a-b1be-2e17893b599a",
   "metadata": {
    "tags": []
   },
   "outputs": [
    {
     "data": {
      "text/plain": [
       "'gs://ccai-storage/pipeline_root/'"
      ]
     },
     "execution_count": 3,
     "metadata": {},
     "output_type": "execute_result"
    }
   ],
   "source": [
    "PROJECT_ID = 'gcp-ccai-auto-ml-contactcenter'\n",
    "REGION= \"europe-west3\"\n",
    "REPO_NAME = \"repo-demo3\"\n",
    "SERVICE_ACCOUNT = \"944308723981-compute@developer.gserviceaccount.com\"\n",
    "BUCKET = \"ccai-storage\"\n",
    "PIPELINE_NAME = \"automl_pipeline\"\n",
    "YAML_NAME = f\"{PIPELINE_NAME}.yml\"\n",
    "PIPELINE_ROOT = f\"gs://{BUCKET}/pipeline_root/\"\n",
    "DISPLAY_NAME = PIPELINE_NAME.replace(\"_\", \"-\")\n",
    "NOTEBOOK = \"automl\"\n",
    "DATANAME = \"datasetnlp\"\n",
    "FILE_PATH = 'articlesoutput.parquet'\n",
    "FOLDER = 'pipeline'\n",
    "PROJECT_ID = 'gcp-ccai-auto-ml-contactcenter'\n",
    "TABLE_ID = \"stepfinalbq\"\n",
    "TEXT_COLUMN = 'body_pre'\n",
    "LOCATION = \"europe-west3\"\n",
    "NUM_DOC = 10\n",
    "#BQ_SOURCE = \"bq://gcp-ccai-auto-ml-contactcenter.datasetnlp.stepfinalbq\"\n",
    "OUTPUT_PROCESSING = 'step1_pipeline.parquet'\n",
    "OUTPUT_TOKENIZATION = 'step2_pipeline.parquet'\n",
    "OUTPUT_SENTIMENT = 'step3_pipeline.parquet'\n",
    "OUTPUT_MODERATE = 'step4_pipeline.parquet'\n",
    "OUTPUT_ENTITIES = 'step5_pipeline.parquet'\n",
    "OUTPUT_FINAL = 'step_final_bq.parquet'\n",
    "\n",
    "PIPELINE_ROOT"
   ]
  },
  {
   "cell_type": "code",
   "execution_count": 4,
   "id": "697e7ea2-d225-43cf-b538-21f0e1840ad7",
   "metadata": {
    "tags": []
   },
   "outputs": [],
   "source": [
    "# Resources\n",
    "DEPLOY_COMPUTE = 'n1-standard-4'\n",
    "\n",
    "# Model Training\n",
    "VAR_TARGET = 'topic'\n",
    "VAR_OMIT = (\n",
    "    'uri,url,date,body,time,dateTime,dateTimePub,lang,isDuplicate,dataType,sentiment,' +\n",
    "    'eventUri,image,sharesFacebook,' +\n",
    "    'sourceLocationLabel,categoryLabels,' +\n",
    "    'categoryWeights,' +\n",
    "    'alexaCountryRank,date_column,year,year_month,' +\n",
    "    'num_documents,' +\n",
    "    'PERSON,OTHER,ORGANIZATION,' +\n",
    "    'EVENT,LOCATION,WORK_OF_ART,CONSUMER_GOOD,NUMBER,DATE,' +\n",
    "    'NUMBER_mean_salience,' +\n",
    "    'DATE_mean_salience,PRICE,ADDRESS,' +\n",
    "    'ADDRESS_mean_salience,PHONE_NUMBER,PHONE_NUMBER_mean_salience'\n",
    ")\n",
    "\n",
    "COLUMN_TOPICK = \"shares_scaled, body_pre\""
   ]
  },
  {
   "cell_type": "code",
   "execution_count": 5,
   "id": "f1735f7a-85ea-413e-8a2a-68a9a6951624",
   "metadata": {
    "tags": []
   },
   "outputs": [],
   "source": [
    "aip.init(project=PROJECT_ID, staging_bucket=PIPELINE_ROOT, location=REGION)\n",
    "bq = bigquery.Client()"
   ]
  },
  {
   "cell_type": "code",
   "execution_count": 6,
   "id": "e89c787f-929e-4158-9b3c-cc5769220efa",
   "metadata": {
    "tags": []
   },
   "outputs": [
    {
     "name": "stdout",
     "output_type": "stream",
     "text": [
      "uri,url,date,body,time,dateTime,dateTimePub,lang,isDuplicate,dataType,sentiment,eventUri,image,sharesFacebook,sourceLocationLabel,categoryLabels,categoryWeights,alexaCountryRank,date_column,year,year_month,num_documents,PERSON,OTHER,ORGANIZATION,EVENT,LOCATION,WORK_OF_ART,CONSUMER_GOOD,NUMBER,NUMBER_mean_salience,DATE_mean_salience,PRICE,ADDRESS,ADDRESS_mean_salience,PHONE_NUMBER,PHONE_NUMBER_mean_salience\n"
     ]
    }
   ],
   "source": [
    "# Remove the duplicate date from the string\n",
    "VAR_OMIT_rev = VAR_OMIT.replace(\"DATE,\", \"\")\n",
    "\n",
    "print(VAR_OMIT_rev)"
   ]
  },
  {
   "cell_type": "code",
   "execution_count": 7,
   "id": "19e020af-8239-496c-8cf8-c9d5954a1890",
   "metadata": {
    "tags": []
   },
   "outputs": [],
   "source": [
    "pred = bq.query(\n",
    "    query = f\"\"\"\n",
    "        SELECT * EXCEPT({VAR_TARGET}, split, {VAR_OMIT_rev})\n",
    "        FROM {DATANAME}.{TABLE_ID}\n",
    "        WHERE split='TEST'\n",
    "        LIMIT 10\n",
    "    \"\"\"\n",
    ").to_dataframe()"
   ]
  },
  {
   "cell_type": "code",
   "execution_count": 8,
   "id": "6ce9e36c-19f7-4047-9776-dff8ba8ae577",
   "metadata": {
    "tags": []
   },
   "outputs": [
    {
     "data": {
      "text/plain": [
       "{'title': 'GF, Varrese sotto attacco: pesanti critiche da due ex Vipponi',\n",
       " 'relevance': '1',\n",
       " 'authors': 'Debora Manzoli',\n",
       " 'sourceTitle': 'libero.it',\n",
       " 'importanceRank': '1000000',\n",
       " 'alexaGlobalRank': '0',\n",
       " 'month': '12',\n",
       " 'shares_scaled': -0.28,\n",
       " 'body_pre': \"Scrittrice , copywriter , editor pubblicista mantovana , laureata Lettere , Cinema Tv . due libri all'attivo ama scrittura follia . L'ultima puntata Grande Fratello visto protagonisti Massimiliano Varrese , ripreso Alfonso Signorini brutti atteggiamenti confronti Beatrice Luzzi . molti web infatti richiesto squalifica Varrese , stanchi atteggiamenti troppo aggressivi , gieffino fine ' cavata solamente scuse Beatrice pubblico ramanzina presentatore . , però , andato giù proprio , due ex vipponi Grande Fratello , passato stati squalificati gioco , passati all'attacco . Ecco tratta cosa detto . Dopo ramanzina Alfonso Signorini diretta , Varrese ammesso propri errori fine ' cavata ( sempre resto ) semplice ammonizione . `` uomo devo far passare messaggi . Prometto me stesso lavorare cosa , confronti dell'opinione pubblica . Voglio mettere parte l'ascia guerra . vittoria qua dentro dimostrare fatti può lavorare aspetti '' , detto gieffino scuse Beatrice pubblico . momento , quindi , niente squalifica Varrese . decisione scatenato solo commenti contrari web , forti critiche parte due ex Vipponi edizioni passate invece stati squalificati senza troppi giri parole ( contrario Varrese ) . GF , due ex Vipponi Massimiliano Varrese : Ebbene sì , dopo dure critiche Roberta Bruzzone Rebecca Staffelli , os due ex Vipponi passate edizioni utilizzato social scagliarsi Massimiliano Varrese , Grande Fratello stesso , l'ennesima volta , deciso fargli trattamento favore ( concesso invece quando tempo vennero squalificati ) . primis parliamo Salvo Veneziano , espulso corso edizione alcune frasi molto gravi confronti Elisa De Panicis , commentato situazione scrivendo : `` ok. chiesto scusa . Pure chiesto scusa trattato criminale , infatti riguarda possono fallire '' . poi aggiunta critica Filippo Nardi , squalificato tempo frasi sessiste Maria Teresa Ruta . L'ex Vippone quindi utilizzato social dire `` salvataggio '' Varrese : `` ' storia programma stato cacciato messo gogna molto meno '' . finirà questione ? Signorini avvertito Varrese sottolineando prossimo comportamento reiterato nessuno potrà levargli squalifica . davvero così ? Vedremo .\",\n",
       " 'score': -0.10000000149011612,\n",
       " 'magnitude': 6.400000095367432,\n",
       " 'Toxic': 0.23918169736862183,\n",
       " 'Insult': 0.13278861343860626,\n",
       " 'Profanity': 0.05046677961945534,\n",
       " 'Derogatory': 0.016035471111536026,\n",
       " 'Sexual': 0.0024352301843464375,\n",
       " 'Death_Harm__Tragedy': 0.016105417162179947,\n",
       " 'Violent': 0.1867469847202301,\n",
       " 'Firearms__Weapons': 0.0,\n",
       " 'Public_Safety': 0.05181347206234932,\n",
       " 'Health': 0.002964426763355732,\n",
       " 'Religion__Belief': 0.011627906933426857,\n",
       " 'Illicit_Drugs': 0.009554140269756317,\n",
       " 'War__Conflict': 0.06603773683309555,\n",
       " 'Politics': 0.3313252925872803,\n",
       " 'Finance': 0.006836827844381332,\n",
       " 'Legal': 0.10094637423753738,\n",
       " 'PERSON_mean_salience': 0.017601417898929314,\n",
       " 'OTHER_mean_salience': 0.007805135486705694,\n",
       " 'ORGANIZATION_mean_salience': 0.0,\n",
       " 'EVENT_mean_salience': 0.006327095674350858,\n",
       " 'LOCATION_mean_salience': 0.0,\n",
       " 'WORK_OF_ART_mean_salience': 0.044574463119109474,\n",
       " 'CONSUMER_GOOD_mean_salience': 0.0,\n",
       " 'PRICE_mean_salience': 0.0}"
      ]
     },
     "execution_count": 8,
     "metadata": {},
     "output_type": "execute_result"
    }
   ],
   "source": [
    "pred['relevance'] = pred['relevance'].astype(str)\n",
    "pred['importanceRank'] = pred['importanceRank'].astype(str)\n",
    "pred['alexaGlobalRank'] = pred['alexaGlobalRank'].astype(str)\n",
    "pred['month'] = pred['month'].astype(str)\n",
    "\n",
    "newobs = pred.to_dict(orient='records')\n",
    "newobs[0]"
   ]
  },
  {
   "cell_type": "code",
   "execution_count": 9,
   "id": "a4b95d18-ebe4-4a18-8876-977db2e72705",
   "metadata": {
    "tags": []
   },
   "outputs": [],
   "source": [
    "instances = [json_format.ParseDict(newob, Value()) for newob in newobs]"
   ]
  },
  {
   "cell_type": "markdown",
   "id": "fb9bb28c-8f4b-40de-9ba2-98b971fcdc5d",
   "metadata": {},
   "source": [
    "### Get Predictions: Python Client"
   ]
  },
  {
   "cell_type": "code",
   "execution_count": 10,
   "id": "c22b9a22-1727-4fea-b410-8eb390b8f204",
   "metadata": {
    "tags": []
   },
   "outputs": [
    {
     "data": {
      "text/plain": [
       "[<google.cloud.aiplatform.models.Endpoint object at 0x7f3aa693f2e0> \n",
       " resource name: projects/944308723981/locations/europe-west3/endpoints/1221042847017336832,\n",
       " <google.cloud.aiplatform.models.Endpoint object at 0x7f3aa693f5e0> \n",
       " resource name: projects/944308723981/locations/europe-west3/endpoints/1242434945247346688,\n",
       " <google.cloud.aiplatform.models.Endpoint object at 0x7f3aa693f4c0> \n",
       " resource name: projects/944308723981/locations/europe-west3/endpoints/6842661081882558464,\n",
       " <google.cloud.aiplatform.models.Endpoint object at 0x7f3aa693fbe0> \n",
       " resource name: projects/944308723981/locations/europe-west3/endpoints/238132228343726080]"
      ]
     },
     "execution_count": 10,
     "metadata": {},
     "output_type": "execute_result"
    }
   ],
   "source": [
    "aip.Endpoint.list(filter=f'labels.notebook={NOTEBOOK}')"
   ]
  },
  {
   "cell_type": "code",
   "execution_count": 11,
   "id": "a94ba5e8-9b4e-4b81-bccf-6e010a5f4dea",
   "metadata": {
    "tags": []
   },
   "outputs": [
    {
     "data": {
      "text/plain": [
       "'automl_datasetnlp_20240325224945'"
      ]
     },
     "execution_count": 11,
     "metadata": {},
     "output_type": "execute_result"
    }
   ],
   "source": [
    "endpoint = aip.Endpoint.list(filter=f'labels.notebook={NOTEBOOK}')[0]\n",
    "endpoint.display_name"
   ]
  },
  {
   "cell_type": "code",
   "execution_count": 12,
   "id": "7506bb1c-ccc5-4a8b-9c5f-6cdbabf42ecc",
   "metadata": {
    "tags": []
   },
   "outputs": [
    {
     "data": {
      "text/plain": [
       "{'classes': ['Technology',\n",
       "  'Sports',\n",
       "  'Science',\n",
       "  'Politics',\n",
       "  'Health',\n",
       "  'Environment',\n",
       "  'Business',\n",
       "  'Arts and Entertainment'],\n",
       " 'scores': [0.01056508254259825,\n",
       "  0.01481661759316921,\n",
       "  0.00365602714009583,\n",
       "  0.01545155979692936,\n",
       "  0.001204681699164212,\n",
       "  0.001032748143188655,\n",
       "  0.01098049152642488,\n",
       "  0.9422927498817444]}"
      ]
     },
     "execution_count": 12,
     "metadata": {},
     "output_type": "execute_result"
    }
   ],
   "source": [
    "prediction = endpoint.predict(instances = instances) # or instances = newobs\n",
    "prediction.predictions[0]"
   ]
  },
  {
   "cell_type": "code",
   "execution_count": 13,
   "id": "01a81ac8-4c39-473a-9ef7-95daf2381a99",
   "metadata": {
    "tags": []
   },
   "outputs": [],
   "source": [
    "### Get Predictions: REST"
   ]
  },
  {
   "cell_type": "code",
   "execution_count": null,
   "id": "0ac31bad-18dc-4671-89df-ad0094af1b39",
   "metadata": {},
   "outputs": [],
   "source": []
  }
 ],
 "metadata": {
  "environment": {
   "kernel": "python3",
   "name": "common-cpu.m115",
   "type": "gcloud",
   "uri": "gcr.io/deeplearning-platform-release/base-cpu:m115"
  },
  "kernelspec": {
   "display_name": "Python 3",
   "language": "python",
   "name": "python3"
  },
  "language_info": {
   "codemirror_mode": {
    "name": "ipython",
    "version": 3
   },
   "file_extension": ".py",
   "mimetype": "text/x-python",
   "name": "python",
   "nbconvert_exporter": "python",
   "pygments_lexer": "ipython3",
   "version": "3.10.13"
  }
 },
 "nbformat": 4,
 "nbformat_minor": 5
}
