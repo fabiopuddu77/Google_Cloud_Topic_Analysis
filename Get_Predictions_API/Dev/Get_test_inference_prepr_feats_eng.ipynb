{
 "cells": [
  {
   "cell_type": "code",
   "execution_count": 1,
   "id": "b0a0f8e7-4de2-4dab-8fed-9057941c0ba2",
   "metadata": {
    "tags": []
   },
   "outputs": [],
   "source": [
    "from processing.obj_preprocessing import GCS_preprocessing\n",
    "from google.cloud import aiplatform as aip\n",
    "from tabulate import tabulate\n",
    "import json"
   ]
  },
  {
   "cell_type": "code",
   "execution_count": 13,
   "id": "84011d91-ab58-4096-ac5d-bd9adb1be1e0",
   "metadata": {
    "tags": []
   },
   "outputs": [],
   "source": [
    "PROJECT_ID = 'gcp-ccai-auto-ml-contactcenter'\n",
    "REGION= \"europe-west3\"\n",
    "REPO_NAME = \"repo-demo3\"\n",
    "SERVICE_ACCOUNT = \"944308723981-compute@developer.gserviceaccount.com\"\n",
    "BUCKET = \"ccai-storage\"\n",
    "PIPELINE_NAME = \"automl_pipeline\"\n",
    "YAML_NAME = f\"{PIPELINE_NAME}.yml\"\n",
    "PIPELINE_ROOT = f\"gs://{BUCKET}/pipeline_root/\"\n",
    "DISPLAY_NAME = PIPELINE_NAME.replace(\"_\", \"-\")\n",
    "NOTEBOOK = \"automl\"\n",
    "DATANAME = \"datasetnlp\"\n",
    "FOLDER = 'make_prediction'\n",
    "PROJECT_ID = 'gcp-ccai-auto-ml-contactcenter'\n",
    "TABLE_ID = \"testdatabq\"\n",
    "TEXT_COLUMN = 'body_pre'\n",
    "LOCATION = \"europe-west3\"\n",
    "NUM_DOC = 1\n",
    "RANDOM_SEED=123\n",
    "#BQ_SOURCE = \"bq://gcp-ccai-auto-ml-contactcenter.datasetnlp.stepfinalbq\"\n",
    "\n",
    "OUTPUT_FINAL = 'step_final_bq.parquet'\n",
    "\n",
    "# Resources\n",
    "DEPLOY_COMPUTE = 'n1-standard-4'"
   ]
  },
  {
   "cell_type": "markdown",
   "id": "569985b2-3e30-4213-8c3f-3aa28a57a7ea",
   "metadata": {},
   "source": [
    "### Get Test Data from Google Storage"
   ]
  },
  {
   "cell_type": "code",
   "execution_count": 14,
   "id": "abb33941-0781-4e21-9c94-c041027d6042",
   "metadata": {
    "tags": []
   },
   "outputs": [],
   "source": [
    "FILE_PATH = \"test_file.parquet\""
   ]
  },
  {
   "cell_type": "code",
   "execution_count": 15,
   "id": "1de0ba70-d114-4a26-a2e6-293751f759fd",
   "metadata": {
    "tags": []
   },
   "outputs": [
    {
     "name": "stderr",
     "output_type": "stream",
     "text": [
      "[nltk_data] Downloading package punkt to /home/jupyter/nltk_data...\n",
      "[nltk_data]   Package punkt is already up-to-date!\n",
      "[nltk_data] Downloading package wordnet to /home/jupyter/nltk_data...\n",
      "[nltk_data]   Package wordnet is already up-to-date!\n",
      "[nltk_data] Downloading package stopwords to\n",
      "[nltk_data]     /home/jupyter/nltk_data...\n",
      "[nltk_data]   Package stopwords is already up-to-date!\n"
     ]
    }
   ],
   "source": [
    "processor = GCS_preprocessing(bucket=BUCKET,\n",
    "                              folder=FOLDER,\n",
    "                              file_path=FILE_PATH,\n",
    "                              parquet_file_name=OUTPUT_FINAL,\n",
    "                              num_doc=NUM_DOC, \n",
    "                              random_seed=RANDOM_SEED,\n",
    "                              project_id=PROJECT_ID,\n",
    "                              dataset_id=DATANAME,\n",
    "                              table_id=TABLE_ID,\n",
    "                              location=LOCATION,\n",
    "                              text_column=TEXT_COLUMN,\n",
    "                              pipeline_root=PIPELINE_ROOT,\n",
    "                              overwrite=True)\n"
   ]
  },
  {
   "cell_type": "code",
   "execution_count": null,
   "id": "695e60a8-b8a8-4723-8de7-e48bc023f951",
   "metadata": {},
   "outputs": [],
   "source": []
  },
  {
   "cell_type": "code",
   "execution_count": 18,
   "id": "00dcc09d-5e84-4280-8a1f-b5401989fe75",
   "metadata": {
    "tags": []
   },
   "outputs": [
    {
     "name": "stdout",
     "output_type": "stream",
     "text": [
      "Start loading DataFrame from test_file.parquet\n",
      "Start loading DataFrame from test_file.parquet\n",
      "\n",
      "INPUT DATAFRAME\n",
      "                  uri                                                url  \\\n",
      "0  2023-12-196637772  https://www.repubblica.it/il-gusto/2023/12/19/...   \n",
      "1  2023-12-196631748  https://www.libero.it/magazine/news/grande-fra...   \n",
      "2         7893333817  https://www.tgcom24.mediaset.it/lifestyle/beau...   \n",
      "3         7893333963  https://www.corriere.it/lodicoalcorriere/index...   \n",
      "4  2023-12-196630770  https://www.repubblica.it/tecnologia/2023/12/1...   \n",
      "\n",
      "                                               title  \\\n",
      "0  Tutto il gusto dell'Abruzzo d'inverno, tra cas...   \n",
      "1  GF, Varrese sotto attacco: pesanti critiche da...   \n",
      "2  Natale, il make up più chic delle Feste è ispi...   \n",
      "3  La rivalità Goggia-Brignone    grande romanzo ...   \n",
      "4                        Tech: i personaggi del 2023   \n",
      "\n",
      "                                                body        date      time  \\\n",
      "0  Tra ciaspolate, rifugi, alcune tra le piste mi...  2023-12-18  23:26:23   \n",
      "1  Scrittrice, copywriter, editor e pubblicista m...  2023-12-18  23:16:20   \n",
      "2  A Natale e per tutto il periodo delle Feste il...  2023-12-18  23:15:15   \n",
      "3  Caro Aldo,\\n\\nstrano destino quello di Federic...  2023-12-18  23:14:32   \n",
      "4  Il 12 dicembre è in edicola con Repubblica, La...  2023-12-18  23:14:14   \n",
      "\n",
      "               dateTime           dateTimePub lang  isDuplicate  ...  \\\n",
      "0  2023-12-18T23:26:23Z  2023-12-18T23:26:15Z  ita        False  ...   \n",
      "1  2023-12-18T23:16:20Z  2023-12-18T13:34:00Z  ita        False  ...   \n",
      "2  2023-12-18T23:15:15Z  2023-12-18T23:13:26Z  ita        False  ...   \n",
      "3  2023-12-18T23:14:32Z  2023-12-18T23:04:40Z  ita        False  ...   \n",
      "4  2023-12-18T23:14:14Z  2023-12-18T23:14:07Z  ita        False  ...   \n",
      "\n",
      "                                               image          authors  \\\n",
      "0  https://www.repstatic.it/content/contenthub/im...   Marco Ciaffone   \n",
      "1  https://wips.plug.it/cips/libero.it/magazine/c...   Debora Manzoli   \n",
      "2  https://img-prod.tgcom24.mediaset.it/images/20...   Ufficio Stampa   \n",
      "3  https://images2.corriereobjects.it/methode_ima...    Aldo Cazzullo   \n",
      "4  https://www.repstatic.it/content/contenthub/im...  Pier Luigi Pisa   \n",
      "\n",
      "  sharesFacebook          sourceTitle sourceLocationLabel  \\\n",
      "0              0     La Repubblica.it                Rome   \n",
      "1              0            libero.it                None   \n",
      "2              0              Tgcom24                Rome   \n",
      "3              0  Corriere della Sera               Milan   \n",
      "4              0     La Repubblica.it                Rome   \n",
      "\n",
      "                categoryLabels  categoryWeights importanceRank  \\\n",
      "0  news/Arts and Entertainment               88         164339   \n",
      "1  news/Arts and Entertainment               50        1000000   \n",
      "2  news/Arts and Entertainment               54         176463   \n",
      "3                  news/Sports               67         170621   \n",
      "4              news/Technology              100         164339   \n",
      "\n",
      "  alexaGlobalRank alexaCountryRank  \n",
      "0            1376                8  \n",
      "1               0                0  \n",
      "2            1969               28  \n",
      "3            1633               30  \n",
      "4            1376                8  \n",
      "\n",
      "[5 rows x 24 columns]\n",
      "Loaded DataFrame from test_file.parquet\n",
      "Analyze articles\n",
      "Start Data tokenize\n",
      "Starting Tokenization DataFrame from test_file.parquet\n",
      "Extracting Sentiment\n",
      "Extracting Sentiment\n",
      "Extracting Moderate\n",
      "Starting Data Moderation\n",
      "\n",
      "Extracting Entity\n",
      "Extracting Entities\n",
      "DATAFRAME PROCESSED\n",
      "           uri                                                url  \\\n",
      "0  7890787458  https://www.corriere.it/sette/opinioni/23_dice...   \n",
      "\n",
      "                                               title  \\\n",
      "0  Mario Sconcerti, il giornalista del calcio com...   \n",
      "\n",
      "                                                body        date      time  \\\n",
      "0  Puntò il dito contro le società che controllav...  2023-12-17  10:12:25   \n",
      "\n",
      "               dateTime           dateTimePub lang  isDuplicate  ...  \\\n",
      "0  2023-12-17T10:12:25Z  2023-12-17T10:11:10Z  ita        False  ...   \n",
      "\n",
      "  EVENT_mean_salience  WORK_OF_ART_mean_salience CONSUMER_GOOD_mean_salience  \\\n",
      "0                   0                          0                           0   \n",
      "\n",
      "   DATE_mean_salience PRICE PRICE_mean_salience  ADDRESS  \\\n",
      "0                   0     0                   0        0   \n",
      "\n",
      "  ADDRESS_mean_salience PHONE_NUMBER PHONE_NUMBER_mean_salience  \n",
      "0                     0            0                          0  \n",
      "\n",
      "[1 rows x 74 columns]\n",
      "Loaded 1 rows into BigQuery table: gcp-ccai-auto-ml-contactcenter.datasetnlp.testdatabq\n",
      "Create Dataframe prediction\n",
      "Adapt the variables to the autoML\n",
      "Create instances\n",
      "ENDPOINTS: \n",
      "automl_datasetnlp_20240325224945\n",
      "\n",
      "PREDICTIONS\n",
      "+------------------------+------------+\n",
      "| Class                  |      Score |\n",
      "+========================+============+\n",
      "| Technology             | 0.023609   |\n",
      "+------------------------+------------+\n",
      "| Sports                 | 0.660982   |\n",
      "+------------------------+------------+\n",
      "| Science                | 0.00777501 |\n",
      "+------------------------+------------+\n",
      "| Politics               | 0.0609622  |\n",
      "+------------------------+------------+\n",
      "| Health                 | 0.0128804  |\n",
      "+------------------------+------------+\n",
      "| Environment            | 0.0101219  |\n",
      "+------------------------+------------+\n",
      "| Business               | 0.0612893  |\n",
      "+------------------------+------------+\n",
      "| Arts and Entertainment | 0.16238    |\n",
      "+------------------------+------------+\n"
     ]
    }
   ],
   "source": [
    "instances = processor.process()\n",
    "aip.Endpoint.list(filter=f'labels.notebook={NOTEBOOK}')\n",
    "endpoint = aip.Endpoint.list(filter=f'labels.notebook={NOTEBOOK}')[0]\n",
    "print(f\"ENDPOINTS: \\n{endpoint.display_name}\\n\")\n",
    "prediction = endpoint.predict(instances = instances) # or instances = newobs\n",
    "\n",
    "dictionary=prediction.predictions[0]\n",
    "# Convert the dictionary into a list of tuples\n",
    "table_data = list(zip(dictionary['classes'], dictionary['scores']))\n",
    "\n",
    "# Print the table\n",
    "print(\"PREDICTIONS\")\n",
    "print(tabulate(table_data, headers=['Class', 'Score'], tablefmt='grid'))\n",
    "#print(f\"PREDICTIONS: \\n {prediction.predictions[0]}\")"
   ]
  },
  {
   "cell_type": "code",
   "execution_count": null,
   "id": "55330309-1bbe-4d98-86db-1c7861c7f135",
   "metadata": {},
   "outputs": [],
   "source": []
  },
  {
   "cell_type": "code",
   "execution_count": null,
   "id": "997e452f-2d4f-4322-92c7-6076408913b5",
   "metadata": {},
   "outputs": [],
   "source": []
  },
  {
   "cell_type": "code",
   "execution_count": null,
   "id": "eac57a57-45fc-4b41-8ee0-72784361c75c",
   "metadata": {},
   "outputs": [],
   "source": []
  },
  {
   "cell_type": "markdown",
   "id": "2a62ea20-68b8-42f3-a1e9-645310145d6a",
   "metadata": {},
   "source": [
    "### Get Test Data from Json Sample"
   ]
  },
  {
   "cell_type": "code",
   "execution_count": null,
   "id": "6f8edc70-b7e0-4fe2-a5f4-5f61f646a3a8",
   "metadata": {},
   "outputs": [],
   "source": [
    "json_string = {\n",
    "    \"uri\": \"7892121222\",\n",
    "    \"url\": \"https://www.ilfattoquotidiano.it/2023/12/18/auto-si-schianta-contro-suv-della-scorta-di-biden-il-tonfo-e-la-sorpresa-del-presidente-video/7386540/\",\n",
    "    \"title\": \"Auto si schianta contro suv della scorta di Biden: il tonfo e la sorpresa del presidente - Video - Il Fatto Quotidiano\",\n",
    "    \"body\": \"Al momento dell'impatto di un'auto contro un suv del corteo presidenziale, Joe Biden stava uscendo da un evento elettorale al quartier generale della campagna per il 2024 a Wilmington. Lo riferisce la Casa Bianca in una nota. Nel momento in cui l'auto, una berlina argentata, ha colpito un suv del corteo gli uomini del Secret Service l'hanno circondata con le pistole puntate e il conducente ha alzato le mani. Il presidente ha assistito alla scena con un'espressione sorpresa e poi è stato scortato alla sua auto e quindi nella sua residenza in Delaware, riferiscono i giornalisti al seguito.\",\n",
    "    \"date\": \"2023-12-18\",\n",
    "    \"time\": \"08:47:11\",\n",
    "    \"dateTime\": \"2023-12-18T08:47:11Z\",\n",
    "    \"dateTimePub\": \"2023-12-18T08:42:03Z\",\n",
    "    \"lang\": \"ita\",\n",
    "    \"isDuplicate\": \"True\",\n",
    "    \"dataType\": \"news\",\n",
    "    \"sentiment\": \"nan\",\n",
    "    \"eventUri\": \"None\",\n",
    "    \"relevance\": \"1\",\n",
    "    \"image\": \"https://st.ilfattoquotidiano.it/wp-content/uploads/2023/12/18/BidenAuto.jpg\",\n",
    "    \"authors\": \"F. Q.\",\n",
    "    \"sharesFacebook\": \"0\",\n",
    "    \"sourceTitle\": \"Il Fatto Quotidiano\",\n",
    "    \"sourceLocationLabel\": \"Rome\",\n",
    "    \"categoryLabels\": \"news/Politics\",\n",
    "    \"categoryWeights\": \"53\",\n",
    "    \"importanceRank\": \"191788\",\n",
    "    \"alexaGlobalRank\": \"3336\",\n",
    "    \"alexaCountryRank\": \"47\"\n",
    "}\n",
    "\n",
    "# Convert dictionary to JSON string\n",
    "FILE_PATH_JSON = json.dumps(json_string, indent=4)\n",
    "\n",
    "# Print the JSON string\n",
    "print(FILE_PATH_JSON)"
   ]
  }
 ],
 "metadata": {
  "environment": {
   "kernel": "python3",
   "name": "common-cpu.m115",
   "type": "gcloud",
   "uri": "gcr.io/deeplearning-platform-release/base-cpu:m115"
  },
  "kernelspec": {
   "display_name": "Python 3",
   "language": "python",
   "name": "python3"
  },
  "language_info": {
   "codemirror_mode": {
    "name": "ipython",
    "version": 3
   },
   "file_extension": ".py",
   "mimetype": "text/x-python",
   "name": "python",
   "nbconvert_exporter": "python",
   "pygments_lexer": "ipython3",
   "version": "3.10.13"
  }
 },
 "nbformat": 4,
 "nbformat_minor": 5
}
