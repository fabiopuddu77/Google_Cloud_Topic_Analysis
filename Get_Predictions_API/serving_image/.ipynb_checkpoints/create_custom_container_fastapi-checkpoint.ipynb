{
 "cells": [
  {
   "cell_type": "code",
   "execution_count": 2,
   "id": "b87bcb72-33c6-4ad6-ad51-50b06f7a938f",
   "metadata": {
    "tags": []
   },
   "outputs": [],
   "source": [
    "PROJECT_ID = 'gcp-ccai-auto-ml-contactcenter'\n",
    "REGION= \"europe-west3\"\n",
    "REPO_NAME = \"repo-demo3\"\n",
    "SERVICE_ACCOUNT = \"944308723981-compute@developer.gserviceaccount.com\"\n",
    "BUCKET = \"ccai-storage\"\n",
    "PIPELINE_NAME = \"automl_pipeline\"\n",
    "YAML_NAME = f\"{PIPELINE_NAME}.yml\"\n",
    "PIPELINE_ROOT = f\"gs://{BUCKET}/pipeline_root/\"\n",
    "DISPLAY_NAME = PIPELINE_NAME.replace(\"_\", \"-\")\n",
    "NOTEBOOK = \"automl\"\n",
    "DATANAME = \"datasetnlp\"\n",
    "FOLDER = 'make_prediction'\n",
    "PROJECT_ID = 'gcp-ccai-auto-ml-contactcenter'\n",
    "TABLE_ID = \"testdatabq\"\n",
    "TEXT_COLUMN = 'body_pre'\n",
    "LOCATION = \"europe-west3\"\n",
    "RANDOM_SEED=123\n",
    "#BQ_SOURCE = \"bq://gcp-ccai-auto-ml-contactcenter.datasetnlp.stepfinalbq\"\n",
    "\n",
    "OUTPUT_FINAL = 'step_final_bq.parquet'\n",
    "\n",
    "# Resources\n",
    "DEPLOY_COMPUTE = 'n1-standard-4'"
   ]
  },
  {
   "cell_type": "code",
   "execution_count": 3,
   "id": "79c48784-7abb-41a8-8c15-ceb53390d9ad",
   "metadata": {
    "tags": []
   },
   "outputs": [],
   "source": [
    "APPLICATION_DIR = \"src\""
   ]
  },
  {
   "cell_type": "code",
   "execution_count": 4,
   "id": "86005b60-3624-4abb-9060-7ccc06cb1db9",
   "metadata": {
    "tags": []
   },
   "outputs": [
    {
     "name": "stdout",
     "output_type": "stream",
     "text": [
      "/home/jupyter/gcp-ccai-auto-ml-contactcenter/End-to-end-AutoML-Topic-Classification/Get_Predictions_API/serving_image\n"
     ]
    }
   ],
   "source": [
    "\n",
    "!pwd"
   ]
  },
  {
   "cell_type": "code",
   "execution_count": 5,
   "id": "855bf4f5-3ac0-46bd-86ec-a64c7091d10f",
   "metadata": {
    "tags": []
   },
   "outputs": [
    {
     "name": "stdout",
     "output_type": "stream",
     "text": [
      "__pycache__\t\t\t       info.txt\n",
      "create_custom_container_fastapi.ipynb  src\n",
      "create_docker_container_gcr.ipynb      test_app\n"
     ]
    }
   ],
   "source": [
    "!ls"
   ]
  },
  {
   "cell_type": "code",
   "execution_count": 6,
   "id": "5d688fe8-3aaf-4699-be35-237eb8d4c2b1",
   "metadata": {
    "tags": []
   },
   "outputs": [
    {
     "name": "stdout",
     "output_type": "stream",
     "text": [
      "Overwriting src/Dockerfile\n"
     ]
    }
   ],
   "source": [
    "%%writefile {APPLICATION_DIR}/Dockerfile\n",
    "\n",
    "# Use the official Python image\n",
    "FROM us-docker.pkg.dev/deeplearning-platform-release/gcr.io/base-cu113.py310\n",
    " \n",
    "# Set the working directory in the container\n",
    "WORKDIR /\n",
    " \n",
    "ENV HOST 0.0.0.0\n",
    "\n",
    "# Copy the requirements file into the container\n",
    "COPY requirements.txt .\n",
    " \n",
    "# Install dependencies\n",
    "RUN pip install -r requirements.txt\n",
    " \n",
    "# Copy the rest of the application code into the container\n",
    "COPY . /\n",
    " \n",
    "# Command to run the FastAPI application\n",
    "CMD [\"uvicorn\", \"app:app\", \"--host\", \"0.0.0.0\", \"--port\", \"8081\"]\n",
    "\n",
    "EXPOSE 8081"
   ]
  },
  {
   "cell_type": "code",
   "execution_count": 7,
   "id": "6c7c6a4c-ccd7-4d57-ba59-732a0cd7c1ba",
   "metadata": {
    "tags": []
   },
   "outputs": [
    {
     "name": "stdout",
     "output_type": "stream",
     "text": [
      "\u001b[1;33mWARNING:\u001b[0m Your config file at [/home/jupyter/.docker/config.json] contains these credential helper entries:\n",
      "\n",
      "{\n",
      "  \"credHelpers\": {\n",
      "    \"gcr.io\": \"gcloud\",\n",
      "    \"us.gcr.io\": \"gcloud\",\n",
      "    \"eu.gcr.io\": \"gcloud\",\n",
      "    \"asia.gcr.io\": \"gcloud\",\n",
      "    \"staging-k8s.gcr.io\": \"gcloud\",\n",
      "    \"marketplace.gcr.io\": \"gcloud\",\n",
      "    \"europe-west3-docker.pkg.dev\": \"gcloud\"\n",
      "  }\n",
      "}\n",
      "Adding credentials for all GCR repositories.\n",
      "\u001b[1;33mWARNING:\u001b[0m A long list of credential helpers may cause delays running 'docker build'. We recommend passing the registry name to configure only the registry you are using.\n",
      "gcloud credential helpers already registered correctly.\n"
     ]
    }
   ],
   "source": [
    "! gcloud auth configure-docker"
   ]
  },
  {
   "cell_type": "code",
   "execution_count": null,
   "id": "ec1544f5-c707-49c9-ad94-2671fb4c6fee",
   "metadata": {},
   "outputs": [],
   "source": []
  },
  {
   "cell_type": "code",
   "execution_count": null,
   "id": "0e0e3a38-e86e-4a89-b18f-1c9f44fbd3f2",
   "metadata": {},
   "outputs": [],
   "source": []
  },
  {
   "cell_type": "code",
   "execution_count": 8,
   "id": "9673c74f-7f58-416b-af44-c8eee9fd4043",
   "metadata": {
    "tags": []
   },
   "outputs": [
    {
     "name": "stdout",
     "output_type": "stream",
     "text": [
      "\u001b[1;31mERROR:\u001b[0m (gcloud.artifacts.repositories.create) ALREADY_EXISTS: the repository already exists\n"
     ]
    }
   ],
   "source": [
    "!gcloud artifacts repositories create $REPO_NAME --repository-format=docker \\\n",
    "--location=$REGION --description=\"Docker repository\""
   ]
  },
  {
   "cell_type": "code",
   "execution_count": 9,
   "id": "270a66ab-b63d-4dc1-9fc8-d0227651a4b2",
   "metadata": {
    "tags": []
   },
   "outputs": [],
   "source": [
    "IMAGE_URI = (\n",
    "    f\"{LOCATION}-docker.pkg.dev/{PROJECT_ID}/{REPO_NAME}/fast_api_automl_serving:latest\"\n",
    ")"
   ]
  },
  {
   "cell_type": "code",
   "execution_count": 10,
   "id": "399b89e6-75f3-45d4-ab2f-646afed440c4",
   "metadata": {
    "tags": []
   },
   "outputs": [
    {
     "data": {
      "text/plain": [
       "'europe-west3-docker.pkg.dev/gcp-ccai-auto-ml-contactcenter/repo-demo3/fast_api_automl_serving:latest'"
      ]
     },
     "execution_count": 10,
     "metadata": {},
     "output_type": "execute_result"
    }
   ],
   "source": [
    "IMAGE_URI"
   ]
  },
  {
   "cell_type": "code",
   "execution_count": 11,
   "id": "7bab495d-e523-442c-aece-4a96e7feb5cf",
   "metadata": {
    "tags": []
   },
   "outputs": [
    {
     "name": "stdout",
     "output_type": "stream",
     "text": [
      "/home/jupyter/gcp-ccai-auto-ml-contactcenter/End-to-end-AutoML-Topic-Classification/Get_Predictions_API/serving_image/src\n"
     ]
    }
   ],
   "source": [
    "cd $APPLICATION_DIR"
   ]
  },
  {
   "cell_type": "code",
   "execution_count": null,
   "id": "049c1a0a-784f-4bec-a9d3-5933f1dd985b",
   "metadata": {
    "tags": []
   },
   "outputs": [],
   "source": []
  },
  {
   "cell_type": "code",
   "execution_count": 12,
   "id": "a7262455-6f9d-4fc1-9a88-1ee75c67169c",
   "metadata": {
    "tags": []
   },
   "outputs": [
    {
     "name": "stdout",
     "output_type": "stream",
     "text": [
      "Sending build context to Docker daemon  113.7kB\n",
      "Step 1/8 : FROM us-docker.pkg.dev/deeplearning-platform-release/gcr.io/base-cu113.py310\n",
      " ---> 039eb2919b37\n",
      "Step 2/8 : WORKDIR /\n",
      " ---> Using cache\n",
      " ---> eb5e1d2a1fa8\n",
      "Step 3/8 : ENV HOST 0.0.0.0\n",
      " ---> Using cache\n",
      " ---> 355be3dc3b47\n",
      "Step 4/8 : COPY requirements.txt .\n",
      " ---> Using cache\n",
      " ---> 3fd0c1b404ac\n",
      "Step 5/8 : RUN pip install -r requirements.txt\n",
      " ---> Using cache\n",
      " ---> 91ec4a5389df\n",
      "Step 6/8 : COPY . /\n",
      " ---> 3f0f52105991\n",
      "Step 7/8 : CMD [\"uvicorn\", \"main:app\", \"--host\", \"0.0.0.0\", \"--port\", \"8081\"]\n",
      " ---> Running in 69cfc32fa5de\n",
      "Removing intermediate container 69cfc32fa5de\n",
      " ---> bfcd21b12b4f\n",
      "Step 8/8 : EXPOSE 8081\n",
      " ---> Running in 5574349e7470\n",
      "Removing intermediate container 5574349e7470\n",
      " ---> cdcbaddfe0af\n",
      "Successfully built cdcbaddfe0af\n",
      "Successfully tagged europe-west3-docker.pkg.dev/gcp-ccai-auto-ml-contactcenter/repo-demo3/fast_api_automl_serving:latest\n"
     ]
    }
   ],
   "source": [
    "! docker build ./ -t $IMAGE_URI"
   ]
  },
  {
   "cell_type": "code",
   "execution_count": 13,
   "id": "89bcbcc3-a35d-4c19-9897-7562a36f4c9b",
   "metadata": {
    "tags": []
   },
   "outputs": [
    {
     "name": "stdout",
     "output_type": "stream",
     "text": [
      "The push refers to repository [europe-west3-docker.pkg.dev/gcp-ccai-auto-ml-contactcenter/repo-demo3/fast_api_automl_serving]\n",
      "\n",
      "\u001b[1Bd23b4de6: Preparing \n",
      "\u001b[1B05355fdd: Preparing \n",
      "\u001b[1Ba97feeea: Preparing \n",
      "\u001b[1B0840b95b: Preparing \n",
      "\u001b[1B625a528c: Preparing \n",
      "\u001b[1B1351140a: Preparing \n",
      "\u001b[1Bbf18a086: Preparing \n",
      "\u001b[1B82771da2: Preparing \n",
      "\u001b[1B57952521: Preparing \n",
      "\u001b[1B6a5b98f7: Preparing \n",
      "\u001b[1Bbd61aa20: Preparing \n",
      "\u001b[1B5ef9c8b3: Preparing \n",
      "\u001b[1Ba870a840: Preparing \n",
      "\u001b[1B43031e88: Preparing \n",
      "\u001b[1Bab4e5392: Preparing \n",
      "\u001b[1B07dc0b52: Preparing \n",
      "\u001b[1Bdcdb0172: Preparing \n",
      "\u001b[1B379a4282: Preparing \n",
      "\u001b[14B351140a: Waiting g \n",
      "\u001b[1B6aad04a1: Preparing \n",
      "\u001b[1Bdfc3b824: Preparing \n",
      "\u001b[16Bf18a086: Waiting g \n",
      "\u001b[1Be90090ea: Preparing \n",
      "\u001b[1B3da23f15: Preparing \n",
      "\u001b[1Bcd77acfc: Preparing \n",
      "\u001b[19B2771da2: Waiting g \n",
      "\u001b[21Bf18a086: Preparing \n",
      "\u001b[20B7952521: Waiting g \n",
      "\u001b[1B95b7aaed: Preparing \n",
      "\u001b[1Bf5722498: Preparing \n",
      "\u001b[22Ba5b98f7: Waiting g \n",
      "\u001b[1B13d8681b: Preparing \n",
      "\u001b[1B482cf441: Preparing \n",
      "\u001b[24Bd61aa20: Waiting g \n",
      "\u001b[1Ba8f43981: Preparing \n",
      "\u001b[25Bef9c8b3: Waiting g \n",
      "\u001b[1B4a4d2337: Preparing \n",
      "\u001b[26B870a840: Waiting g \n",
      "\u001b[1Bda122002: Preparing \n",
      "\u001b[1B34842944: Preparing \n",
      "\u001b[1B7df31590: Layer already exists 5kB\u001b[37A\u001b[2K\u001b[35A\u001b[2K\u001b[29A\u001b[2K\u001b[26A\u001b[2K\u001b[20A\u001b[2K\u001b[16A\u001b[2K\u001b[8A\u001b[2K\u001b[3A\u001b[2Klatest: digest: sha256:b8ec12d9b67c03f693e3cfb3359f97b9ea2a08e99fdba9cc8bb10826bf03e43c size: 9118\n"
     ]
    }
   ],
   "source": [
    "! docker push $IMAGE_URI"
   ]
  },
  {
   "cell_type": "code",
   "execution_count": null,
   "id": "be1a06cc-2a91-456f-8050-bc275fc15e84",
   "metadata": {},
   "outputs": [],
   "source": []
  },
  {
   "cell_type": "code",
   "execution_count": null,
   "id": "79fca736-bc4a-4c2f-8c37-6bbef5455f68",
   "metadata": {},
   "outputs": [],
   "source": []
  }
 ],
 "metadata": {
  "environment": {
   "kernel": "python3",
   "name": "common-cpu.m115",
   "type": "gcloud",
   "uri": "gcr.io/deeplearning-platform-release/base-cpu:m115"
  },
  "kernelspec": {
   "display_name": "Python 3",
   "language": "python",
   "name": "python3"
  },
  "language_info": {
   "codemirror_mode": {
    "name": "ipython",
    "version": 3
   },
   "file_extension": ".py",
   "mimetype": "text/x-python",
   "name": "python",
   "nbconvert_exporter": "python",
   "pygments_lexer": "ipython3",
   "version": "3.10.13"
  }
 },
 "nbformat": 4,
 "nbformat_minor": 5
}
