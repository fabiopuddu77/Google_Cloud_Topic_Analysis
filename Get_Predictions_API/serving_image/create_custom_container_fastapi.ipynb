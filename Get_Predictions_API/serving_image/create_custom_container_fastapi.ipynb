{
 "cells": [
  {
   "cell_type": "code",
   "execution_count": 13,
   "id": "b87bcb72-33c6-4ad6-ad51-50b06f7a938f",
   "metadata": {
    "tags": []
   },
   "outputs": [],
   "source": [
    "PROJECT_ID = 'gcp-ccai-auto-ml-contactcenter'\n",
    "REGION= \"europe-west3\"\n",
    "REPO_NAME = \"repo-demo3\"\n",
    "SERVICE_ACCOUNT = \"944308723981-compute@developer.gserviceaccount.com\"\n",
    "BUCKET = \"ccai-storage\"\n",
    "PIPELINE_NAME = \"automl_pipeline\"\n",
    "YAML_NAME = f\"{PIPELINE_NAME}.yml\"\n",
    "PIPELINE_ROOT = f\"gs://{BUCKET}/pipeline_root/\"\n",
    "DISPLAY_NAME = PIPELINE_NAME.replace(\"_\", \"-\")\n",
    "NOTEBOOK = \"automl\"\n",
    "DATANAME = \"datasetnlp\"\n",
    "FOLDER = 'make_prediction'\n",
    "PROJECT_ID = 'gcp-ccai-auto-ml-contactcenter'\n",
    "TABLE_ID = \"testdatabq\"\n",
    "TEXT_COLUMN = 'body_pre'\n",
    "LOCATION = \"europe-west3\"\n",
    "RANDOM_SEED=123\n",
    "#BQ_SOURCE = \"bq://gcp-ccai-auto-ml-contactcenter.datasetnlp.stepfinalbq\"\n",
    "\n",
    "OUTPUT_FINAL = 'step_final_bq.parquet'\n",
    "\n",
    "# Resources\n",
    "DEPLOY_COMPUTE = 'n1-standard-4'"
   ]
  },
  {
   "cell_type": "code",
   "execution_count": 14,
   "id": "79c48784-7abb-41a8-8c15-ceb53390d9ad",
   "metadata": {
    "tags": []
   },
   "outputs": [],
   "source": [
    "APPLICATION_DIR = \"src\""
   ]
  },
  {
   "cell_type": "code",
   "execution_count": 15,
   "id": "86005b60-3624-4abb-9060-7ccc06cb1db9",
   "metadata": {
    "tags": []
   },
   "outputs": [
    {
     "name": "stdout",
     "output_type": "stream",
     "text": [
      "/home/jupyter/gcp-ccai-auto-ml-contactcenter/End-to-end-AutoML-Topic-Classification/Get_Predictions_API/serving_image/src\n"
     ]
    }
   ],
   "source": [
    "\n",
    "!pwd"
   ]
  },
  {
   "cell_type": "code",
   "execution_count": 16,
   "id": "855bf4f5-3ac0-46bd-86ec-a64c7091d10f",
   "metadata": {
    "tags": []
   },
   "outputs": [
    {
     "name": "stdout",
     "output_type": "stream",
     "text": [
      "Dockerfile   app.py\t\t     processing\n",
      "__pycache__  gcs_parquet_loader.log  requirements.txt\n"
     ]
    }
   ],
   "source": [
    "!ls"
   ]
  },
  {
   "cell_type": "code",
   "execution_count": 17,
   "id": "5d688fe8-3aaf-4699-be35-237eb8d4c2b1",
   "metadata": {
    "tags": []
   },
   "outputs": [
    {
     "name": "stdout",
     "output_type": "stream",
     "text": [
      "Writing src/Dockerfile\n"
     ]
    },
    {
     "ename": "FileNotFoundError",
     "evalue": "[Errno 2] No such file or directory: 'src/Dockerfile'",
     "output_type": "error",
     "traceback": [
      "\u001b[0;31m---------------------------------------------------------------------------\u001b[0m",
      "\u001b[0;31mFileNotFoundError\u001b[0m                         Traceback (most recent call last)",
      "Cell \u001b[0;32mIn[17], line 1\u001b[0m\n\u001b[0;32m----> 1\u001b[0m \u001b[43mget_ipython\u001b[49m\u001b[43m(\u001b[49m\u001b[43m)\u001b[49m\u001b[38;5;241;43m.\u001b[39;49m\u001b[43mrun_cell_magic\u001b[49m\u001b[43m(\u001b[49m\u001b[38;5;124;43m'\u001b[39;49m\u001b[38;5;124;43mwritefile\u001b[39;49m\u001b[38;5;124;43m'\u001b[39;49m\u001b[43m,\u001b[49m\u001b[43m \u001b[49m\u001b[38;5;124;43m'\u001b[39;49m\u001b[38;5;132;43;01m{APPLICATION_DIR}\u001b[39;49;00m\u001b[38;5;124;43m/Dockerfile\u001b[39;49m\u001b[38;5;124;43m'\u001b[39;49m\u001b[43m,\u001b[49m\u001b[43m \u001b[49m\u001b[38;5;124;43m'\u001b[39;49m\u001b[38;5;130;43;01m\\n\u001b[39;49;00m\u001b[38;5;124;43m# Use the official Python image\u001b[39;49m\u001b[38;5;130;43;01m\\n\u001b[39;49;00m\u001b[38;5;124;43mFROM us-docker.pkg.dev/deeplearning-platform-release/gcr.io/base-cu113.py310\u001b[39;49m\u001b[38;5;130;43;01m\\n\u001b[39;49;00m\u001b[38;5;124;43m \u001b[39;49m\u001b[38;5;130;43;01m\\n\u001b[39;49;00m\u001b[38;5;124;43m# Set the working directory in the container\u001b[39;49m\u001b[38;5;130;43;01m\\n\u001b[39;49;00m\u001b[38;5;124;43mWORKDIR /\u001b[39;49m\u001b[38;5;130;43;01m\\n\u001b[39;49;00m\u001b[38;5;124;43m \u001b[39;49m\u001b[38;5;130;43;01m\\n\u001b[39;49;00m\u001b[38;5;124;43mENV HOST 0.0.0.0\u001b[39;49m\u001b[38;5;130;43;01m\\n\u001b[39;49;00m\u001b[38;5;130;43;01m\\n\u001b[39;49;00m\u001b[38;5;124;43m# Copy the requirements file into the container\u001b[39;49m\u001b[38;5;130;43;01m\\n\u001b[39;49;00m\u001b[38;5;124;43mCOPY requirements.txt .\u001b[39;49m\u001b[38;5;130;43;01m\\n\u001b[39;49;00m\u001b[38;5;124;43m \u001b[39;49m\u001b[38;5;130;43;01m\\n\u001b[39;49;00m\u001b[38;5;124;43m# Install dependencies\u001b[39;49m\u001b[38;5;130;43;01m\\n\u001b[39;49;00m\u001b[38;5;124;43mRUN pip install -r requirements.txt\u001b[39;49m\u001b[38;5;130;43;01m\\n\u001b[39;49;00m\u001b[38;5;124;43m \u001b[39;49m\u001b[38;5;130;43;01m\\n\u001b[39;49;00m\u001b[38;5;124;43m# Copy the rest of the application code into the container\u001b[39;49m\u001b[38;5;130;43;01m\\n\u001b[39;49;00m\u001b[38;5;124;43mCOPY . /\u001b[39;49m\u001b[38;5;130;43;01m\\n\u001b[39;49;00m\u001b[38;5;124;43m \u001b[39;49m\u001b[38;5;130;43;01m\\n\u001b[39;49;00m\u001b[38;5;124;43m# Command to run the FastAPI application\u001b[39;49m\u001b[38;5;130;43;01m\\n\u001b[39;49;00m\u001b[38;5;124;43mCMD [\u001b[39;49m\u001b[38;5;124;43m\"\u001b[39;49m\u001b[38;5;124;43muvicorn\u001b[39;49m\u001b[38;5;124;43m\"\u001b[39;49m\u001b[38;5;124;43m, \u001b[39;49m\u001b[38;5;124;43m\"\u001b[39;49m\u001b[38;5;124;43mapp:app\u001b[39;49m\u001b[38;5;124;43m\"\u001b[39;49m\u001b[38;5;124;43m, \u001b[39;49m\u001b[38;5;124;43m\"\u001b[39;49m\u001b[38;5;124;43m--host\u001b[39;49m\u001b[38;5;124;43m\"\u001b[39;49m\u001b[38;5;124;43m, \u001b[39;49m\u001b[38;5;124;43m\"\u001b[39;49m\u001b[38;5;124;43m0.0.0.0\u001b[39;49m\u001b[38;5;124;43m\"\u001b[39;49m\u001b[38;5;124;43m, \u001b[39;49m\u001b[38;5;124;43m\"\u001b[39;49m\u001b[38;5;124;43m--port\u001b[39;49m\u001b[38;5;124;43m\"\u001b[39;49m\u001b[38;5;124;43m, \u001b[39;49m\u001b[38;5;124;43m\"\u001b[39;49m\u001b[38;5;124;43m8081\u001b[39;49m\u001b[38;5;124;43m\"\u001b[39;49m\u001b[38;5;124;43m]\u001b[39;49m\u001b[38;5;130;43;01m\\n\u001b[39;49;00m\u001b[38;5;130;43;01m\\n\u001b[39;49;00m\u001b[38;5;124;43mEXPOSE 8081\u001b[39;49m\u001b[38;5;130;43;01m\\n\u001b[39;49;00m\u001b[38;5;124;43m'\u001b[39;49m\u001b[43m)\u001b[49m\n",
      "File \u001b[0;32m/opt/conda/lib/python3.10/site-packages/IPython/core/interactiveshell.py:2517\u001b[0m, in \u001b[0;36mInteractiveShell.run_cell_magic\u001b[0;34m(self, magic_name, line, cell)\u001b[0m\n\u001b[1;32m   2515\u001b[0m \u001b[38;5;28;01mwith\u001b[39;00m \u001b[38;5;28mself\u001b[39m\u001b[38;5;241m.\u001b[39mbuiltin_trap:\n\u001b[1;32m   2516\u001b[0m     args \u001b[38;5;241m=\u001b[39m (magic_arg_s, cell)\n\u001b[0;32m-> 2517\u001b[0m     result \u001b[38;5;241m=\u001b[39m \u001b[43mfn\u001b[49m\u001b[43m(\u001b[49m\u001b[38;5;241;43m*\u001b[39;49m\u001b[43margs\u001b[49m\u001b[43m,\u001b[49m\u001b[43m \u001b[49m\u001b[38;5;241;43m*\u001b[39;49m\u001b[38;5;241;43m*\u001b[39;49m\u001b[43mkwargs\u001b[49m\u001b[43m)\u001b[49m\n\u001b[1;32m   2519\u001b[0m \u001b[38;5;66;03m# The code below prevents the output from being displayed\u001b[39;00m\n\u001b[1;32m   2520\u001b[0m \u001b[38;5;66;03m# when using magics with decorator @output_can_be_silenced\u001b[39;00m\n\u001b[1;32m   2521\u001b[0m \u001b[38;5;66;03m# when the last Python token in the expression is a ';'.\u001b[39;00m\n\u001b[1;32m   2522\u001b[0m \u001b[38;5;28;01mif\u001b[39;00m \u001b[38;5;28mgetattr\u001b[39m(fn, magic\u001b[38;5;241m.\u001b[39mMAGIC_OUTPUT_CAN_BE_SILENCED, \u001b[38;5;28;01mFalse\u001b[39;00m):\n",
      "File \u001b[0;32m/opt/conda/lib/python3.10/site-packages/IPython/core/magics/osm.py:854\u001b[0m, in \u001b[0;36mOSMagics.writefile\u001b[0;34m(self, line, cell)\u001b[0m\n\u001b[1;32m    851\u001b[0m     \u001b[38;5;28mprint\u001b[39m(\u001b[38;5;124m\"\u001b[39m\u001b[38;5;124mWriting \u001b[39m\u001b[38;5;132;01m%s\u001b[39;00m\u001b[38;5;124m\"\u001b[39m \u001b[38;5;241m%\u001b[39m filename)\n\u001b[1;32m    853\u001b[0m mode \u001b[38;5;241m=\u001b[39m \u001b[38;5;124m'\u001b[39m\u001b[38;5;124ma\u001b[39m\u001b[38;5;124m'\u001b[39m \u001b[38;5;28;01mif\u001b[39;00m args\u001b[38;5;241m.\u001b[39mappend \u001b[38;5;28;01melse\u001b[39;00m \u001b[38;5;124m'\u001b[39m\u001b[38;5;124mw\u001b[39m\u001b[38;5;124m'\u001b[39m\n\u001b[0;32m--> 854\u001b[0m \u001b[38;5;28;01mwith\u001b[39;00m \u001b[43mio\u001b[49m\u001b[38;5;241;43m.\u001b[39;49m\u001b[43mopen\u001b[49m\u001b[43m(\u001b[49m\u001b[43mfilename\u001b[49m\u001b[43m,\u001b[49m\u001b[43m \u001b[49m\u001b[43mmode\u001b[49m\u001b[43m,\u001b[49m\u001b[43m \u001b[49m\u001b[43mencoding\u001b[49m\u001b[38;5;241;43m=\u001b[39;49m\u001b[38;5;124;43m'\u001b[39;49m\u001b[38;5;124;43mutf-8\u001b[39;49m\u001b[38;5;124;43m'\u001b[39;49m\u001b[43m)\u001b[49m \u001b[38;5;28;01mas\u001b[39;00m f:\n\u001b[1;32m    855\u001b[0m     f\u001b[38;5;241m.\u001b[39mwrite(cell)\n",
      "\u001b[0;31mFileNotFoundError\u001b[0m: [Errno 2] No such file or directory: 'src/Dockerfile'"
     ]
    }
   ],
   "source": [
    "%%writefile {APPLICATION_DIR}/Dockerfile\n",
    "\n",
    "# Use the official Python image\n",
    "FROM us-docker.pkg.dev/deeplearning-platform-release/gcr.io/base-cu113.py310\n",
    " \n",
    "# Set the working directory in the container\n",
    "WORKDIR /\n",
    " \n",
    "ENV HOST 0.0.0.0\n",
    "\n",
    "# Copy the requirements file into the container\n",
    "COPY requirements.txt .\n",
    " \n",
    "# Install dependencies\n",
    "RUN pip install -r requirements.txt\n",
    " \n",
    "# Copy the rest of the application code into the container\n",
    "COPY . /\n",
    " \n",
    "# Command to run the FastAPI application\n",
    "CMD [\"uvicorn\", \"app:app\", \"--host\", \"0.0.0.0\", \"--port\", \"8081\"]\n",
    "\n",
    "EXPOSE 8081"
   ]
  },
  {
   "cell_type": "code",
   "execution_count": 18,
   "id": "6c7c6a4c-ccd7-4d57-ba59-732a0cd7c1ba",
   "metadata": {
    "tags": []
   },
   "outputs": [
    {
     "name": "stdout",
     "output_type": "stream",
     "text": [
      "\u001b[1;33mWARNING:\u001b[0m Your config file at [/home/jupyter/.docker/config.json] contains these credential helper entries:\n",
      "\n",
      "{\n",
      "  \"credHelpers\": {\n",
      "    \"gcr.io\": \"gcloud\",\n",
      "    \"us.gcr.io\": \"gcloud\",\n",
      "    \"eu.gcr.io\": \"gcloud\",\n",
      "    \"asia.gcr.io\": \"gcloud\",\n",
      "    \"staging-k8s.gcr.io\": \"gcloud\",\n",
      "    \"marketplace.gcr.io\": \"gcloud\",\n",
      "    \"europe-west3-docker.pkg.dev\": \"gcloud\"\n",
      "  }\n",
      "}\n",
      "Adding credentials for all GCR repositories.\n",
      "\u001b[1;33mWARNING:\u001b[0m A long list of credential helpers may cause delays running 'docker build'. We recommend passing the registry name to configure only the registry you are using.\n",
      "gcloud credential helpers already registered correctly.\n"
     ]
    }
   ],
   "source": [
    "! gcloud auth configure-docker"
   ]
  },
  {
   "cell_type": "code",
   "execution_count": null,
   "id": "ec1544f5-c707-49c9-ad94-2671fb4c6fee",
   "metadata": {},
   "outputs": [],
   "source": []
  },
  {
   "cell_type": "code",
   "execution_count": null,
   "id": "0e0e3a38-e86e-4a89-b18f-1c9f44fbd3f2",
   "metadata": {},
   "outputs": [],
   "source": []
  },
  {
   "cell_type": "code",
   "execution_count": 19,
   "id": "9673c74f-7f58-416b-af44-c8eee9fd4043",
   "metadata": {
    "tags": []
   },
   "outputs": [
    {
     "name": "stdout",
     "output_type": "stream",
     "text": [
      "\u001b[1;31mERROR:\u001b[0m (gcloud.artifacts.repositories.create) ALREADY_EXISTS: the repository already exists\n"
     ]
    }
   ],
   "source": [
    "!gcloud artifacts repositories create $REPO_NAME --repository-format=docker \\\n",
    "--location=$REGION --description=\"Docker repository\""
   ]
  },
  {
   "cell_type": "code",
   "execution_count": 20,
   "id": "270a66ab-b63d-4dc1-9fc8-d0227651a4b2",
   "metadata": {
    "tags": []
   },
   "outputs": [],
   "source": [
    "IMAGE_URI = (\n",
    "    f\"{LOCATION}-docker.pkg.dev/{PROJECT_ID}/{REPO_NAME}/fast_api_automl_serving:latest\"\n",
    ")"
   ]
  },
  {
   "cell_type": "code",
   "execution_count": 21,
   "id": "399b89e6-75f3-45d4-ab2f-646afed440c4",
   "metadata": {
    "tags": []
   },
   "outputs": [
    {
     "data": {
      "text/plain": [
       "'europe-west3-docker.pkg.dev/gcp-ccai-auto-ml-contactcenter/repo-demo3/fast_api_automl_serving:latest'"
      ]
     },
     "execution_count": 21,
     "metadata": {},
     "output_type": "execute_result"
    }
   ],
   "source": [
    "IMAGE_URI"
   ]
  },
  {
   "cell_type": "code",
   "execution_count": 22,
   "id": "7bab495d-e523-442c-aece-4a96e7feb5cf",
   "metadata": {
    "tags": []
   },
   "outputs": [
    {
     "name": "stdout",
     "output_type": "stream",
     "text": [
      "[Errno 2] No such file or directory: 'src'\n",
      "/home/jupyter/gcp-ccai-auto-ml-contactcenter/End-to-end-AutoML-Topic-Classification/Get_Predictions_API/serving_image/src\n"
     ]
    }
   ],
   "source": [
    "cd $APPLICATION_DIR"
   ]
  },
  {
   "cell_type": "code",
   "execution_count": null,
   "id": "049c1a0a-784f-4bec-a9d3-5933f1dd985b",
   "metadata": {
    "tags": []
   },
   "outputs": [],
   "source": []
  },
  {
   "cell_type": "code",
   "execution_count": 23,
   "id": "a7262455-6f9d-4fc1-9a88-1ee75c67169c",
   "metadata": {
    "tags": []
   },
   "outputs": [
    {
     "name": "stdout",
     "output_type": "stream",
     "text": [
      "Sending build context to Docker daemon  113.2kB\n",
      "Step 1/8 : FROM us-docker.pkg.dev/deeplearning-platform-release/gcr.io/base-cu113.py310\n",
      " ---> 039eb2919b37\n",
      "Step 2/8 : WORKDIR /\n",
      " ---> Using cache\n",
      " ---> eb5e1d2a1fa8\n",
      "Step 3/8 : ENV HOST 0.0.0.0\n",
      " ---> Using cache\n",
      " ---> 355be3dc3b47\n",
      "Step 4/8 : COPY requirements.txt .\n",
      " ---> 818648b146a1\n",
      "Step 5/8 : RUN pip install -r requirements.txt\n",
      " ---> Running in 67aaae4be761\n",
      "Requirement already satisfied: pandas in /opt/conda/lib/python3.10/site-packages (from -r requirements.txt (line 1)) (2.0.3)\n",
      "Collecting fastapi==0.68.0 (from -r requirements.txt (line 2))\n",
      "  Downloading fastapi-0.68.0-py3-none-any.whl.metadata (23 kB)\n",
      "Collecting uvicorn==0.15.0 (from -r requirements.txt (line 3))\n",
      "  Downloading uvicorn-0.15.0-py3-none-any.whl.metadata (4.7 kB)\n",
      "Collecting workalendar (from -r requirements.txt (line 4))\n",
      "  Downloading workalendar-17.0.0-py3-none-any.whl.metadata (8.4 kB)\n",
      "Collecting tensorflow==2.15.0.post1 (from -r requirements.txt (line 5))\n",
      "  Downloading tensorflow-2.15.0.post1-cp310-cp310-manylinux_2_17_x86_64.manylinux2014_x86_64.whl.metadata (4.2 kB)\n",
      "Collecting google-cloud-aiplatform==1.41.0 (from -r requirements.txt (line 6))\n",
      "  Downloading google_cloud_aiplatform-1.41.0-py2.py3-none-any.whl.metadata (27 kB)\n",
      "Collecting google-cloud-logging (from -r requirements.txt (line 7))\n",
      "  Downloading google_cloud_logging-3.10.0-py2.py3-none-any.whl.metadata (4.9 kB)\n",
      "Requirement already satisfied: google-api-python-client in /opt/conda/lib/python3.10/site-packages (from -r requirements.txt (line 8)) (1.8.0)\n",
      "Collecting google-cloud (from -r requirements.txt (line 9))\n",
      "  Downloading google_cloud-0.34.0-py2.py3-none-any.whl.metadata (2.7 kB)\n",
      "Requirement already satisfied: tabulate in /opt/conda/lib/python3.10/site-packages (from -r requirements.txt (line 10)) (0.9.0)\n",
      "Collecting typing (from -r requirements.txt (line 11))\n",
      "  Downloading typing-3.7.4.3.tar.gz (78 kB)\n",
      "     ━━━━━━━━━━━━━━━━━━━━━━━━━━━━━━━━━━━━━━━━ 78.6/78.6 kB 16.2 MB/s eta 0:00:00\n",
      "  Preparing metadata (setup.py): started\n",
      "  Preparing metadata (setup.py): finished with status 'done'\n",
      "Collecting nltk (from -r requirements.txt (line 12))\n",
      "  Downloading nltk-3.8.1-py3-none-any.whl.metadata (2.8 kB)\n",
      "Collecting starlette==0.14.2 (from fastapi==0.68.0->-r requirements.txt (line 2))\n",
      "  Downloading starlette-0.14.2-py3-none-any.whl.metadata (6.5 kB)\n",
      "Requirement already satisfied: pydantic!=1.7,!=1.7.1,!=1.7.2,!=1.7.3,!=1.8,!=1.8.1,<2.0.0,>=1.6.2 in /opt/conda/lib/python3.10/site-packages (from fastapi==0.68.0->-r requirements.txt (line 2)) (1.10.14)\n",
      "Collecting asgiref>=3.4.0 (from uvicorn==0.15.0->-r requirements.txt (line 3))\n",
      "  Downloading asgiref-3.8.1-py3-none-any.whl.metadata (9.3 kB)\n",
      "Requirement already satisfied: click>=7.0 in /opt/conda/lib/python3.10/site-packages (from uvicorn==0.15.0->-r requirements.txt (line 3)) (8.1.7)\n",
      "Requirement already satisfied: h11>=0.8 in /opt/conda/lib/python3.10/site-packages (from uvicorn==0.15.0->-r requirements.txt (line 3)) (0.14.0)\n",
      "Requirement already satisfied: absl-py>=1.0.0 in /opt/conda/lib/python3.10/site-packages (from tensorflow==2.15.0.post1->-r requirements.txt (line 5)) (2.1.0)\n",
      "Collecting astunparse>=1.6.0 (from tensorflow==2.15.0.post1->-r requirements.txt (line 5))\n",
      "  Downloading astunparse-1.6.3-py2.py3-none-any.whl.metadata (4.4 kB)\n",
      "Collecting flatbuffers>=23.5.26 (from tensorflow==2.15.0.post1->-r requirements.txt (line 5))\n",
      "  Downloading flatbuffers-24.3.25-py2.py3-none-any.whl.metadata (850 bytes)\n",
      "Collecting gast!=0.5.0,!=0.5.1,!=0.5.2,>=0.2.1 (from tensorflow==2.15.0.post1->-r requirements.txt (line 5))\n",
      "  Downloading gast-0.5.4-py3-none-any.whl.metadata (1.3 kB)\n",
      "Collecting google-pasta>=0.1.1 (from tensorflow==2.15.0.post1->-r requirements.txt (line 5))\n",
      "  Downloading google_pasta-0.2.0-py3-none-any.whl.metadata (814 bytes)\n",
      "Collecting h5py>=2.9.0 (from tensorflow==2.15.0.post1->-r requirements.txt (line 5))\n",
      "  Downloading h5py-3.10.0-cp310-cp310-manylinux_2_17_x86_64.manylinux2014_x86_64.whl.metadata (2.5 kB)\n",
      "Collecting libclang>=13.0.0 (from tensorflow==2.15.0.post1->-r requirements.txt (line 5))\n",
      "  Downloading libclang-18.1.1-py2.py3-none-manylinux2010_x86_64.whl.metadata (5.2 kB)\n",
      "Collecting ml-dtypes~=0.2.0 (from tensorflow==2.15.0.post1->-r requirements.txt (line 5))\n",
      "  Downloading ml_dtypes-0.2.0-cp310-cp310-manylinux_2_17_x86_64.manylinux2014_x86_64.whl.metadata (20 kB)\n",
      "Requirement already satisfied: numpy<2.0.0,>=1.23.5 in /opt/conda/lib/python3.10/site-packages (from tensorflow==2.15.0.post1->-r requirements.txt (line 5)) (1.25.2)\n",
      "Collecting opt-einsum>=2.3.2 (from tensorflow==2.15.0.post1->-r requirements.txt (line 5))\n",
      "  Downloading opt_einsum-3.3.0-py3-none-any.whl.metadata (6.5 kB)\n",
      "Requirement already satisfied: packaging in /opt/conda/lib/python3.10/site-packages (from tensorflow==2.15.0.post1->-r requirements.txt (line 5)) (23.2)\n",
      "Requirement already satisfied: protobuf!=4.21.0,!=4.21.1,!=4.21.2,!=4.21.3,!=4.21.4,!=4.21.5,<5.0.0dev,>=3.20.3 in /opt/conda/lib/python3.10/site-packages (from tensorflow==2.15.0.post1->-r requirements.txt (line 5)) (3.20.3)\n",
      "Requirement already satisfied: setuptools in /opt/conda/lib/python3.10/site-packages (from tensorflow==2.15.0.post1->-r requirements.txt (line 5)) (69.1.1)\n",
      "Requirement already satisfied: six>=1.12.0 in /opt/conda/lib/python3.10/site-packages (from tensorflow==2.15.0.post1->-r requirements.txt (line 5)) (1.16.0)\n",
      "Collecting termcolor>=1.1.0 (from tensorflow==2.15.0.post1->-r requirements.txt (line 5))\n",
      "  Downloading termcolor-2.4.0-py3-none-any.whl.metadata (6.1 kB)\n",
      "Requirement already satisfied: typing-extensions>=3.6.6 in /opt/conda/lib/python3.10/site-packages (from tensorflow==2.15.0.post1->-r requirements.txt (line 5)) (4.10.0)\n",
      "Collecting wrapt<1.15,>=1.11.0 (from tensorflow==2.15.0.post1->-r requirements.txt (line 5))\n",
      "  Downloading wrapt-1.14.1-cp310-cp310-manylinux_2_5_x86_64.manylinux1_x86_64.manylinux_2_17_x86_64.manylinux2014_x86_64.whl.metadata (6.7 kB)\n",
      "Collecting tensorflow-io-gcs-filesystem>=0.23.1 (from tensorflow==2.15.0.post1->-r requirements.txt (line 5))\n",
      "  Downloading tensorflow_io_gcs_filesystem-0.36.0-cp310-cp310-manylinux_2_17_x86_64.manylinux2014_x86_64.whl.metadata (14 kB)\n",
      "Requirement already satisfied: grpcio<2.0,>=1.24.3 in /opt/conda/lib/python3.10/site-packages (from tensorflow==2.15.0.post1->-r requirements.txt (line 5)) (1.62.0)\n",
      "Collecting tensorboard<2.16,>=2.15 (from tensorflow==2.15.0.post1->-r requirements.txt (line 5))\n",
      "  Downloading tensorboard-2.15.2-py3-none-any.whl.metadata (1.7 kB)\n",
      "Collecting tensorflow-estimator<2.16,>=2.15.0 (from tensorflow==2.15.0.post1->-r requirements.txt (line 5))\n",
      "  Downloading tensorflow_estimator-2.15.0-py2.py3-none-any.whl.metadata (1.3 kB)\n",
      "Collecting keras<2.16,>=2.15.0 (from tensorflow==2.15.0.post1->-r requirements.txt (line 5))\n",
      "  Downloading keras-2.15.0-py3-none-any.whl.metadata (2.4 kB)\n",
      "Requirement already satisfied: google-api-core!=2.0.*,!=2.1.*,!=2.2.*,!=2.3.*,!=2.4.*,!=2.5.*,!=2.6.*,!=2.7.*,<3.0.0dev,>=1.32.0 in /opt/conda/lib/python3.10/site-packages (from google-api-core[grpc]!=2.0.*,!=2.1.*,!=2.2.*,!=2.3.*,!=2.4.*,!=2.5.*,!=2.6.*,!=2.7.*,<3.0.0dev,>=1.32.0->google-cloud-aiplatform==1.41.0->-r requirements.txt (line 6)) (1.34.1)\n",
      "Requirement already satisfied: proto-plus<2.0.0dev,>=1.22.0 in /opt/conda/lib/python3.10/site-packages (from google-cloud-aiplatform==1.41.0->-r requirements.txt (line 6)) (1.23.0)\n",
      "Requirement already satisfied: google-cloud-storage<3.0.0dev,>=1.32.0 in /opt/conda/lib/python3.10/site-packages (from google-cloud-aiplatform==1.41.0->-r requirements.txt (line 6)) (2.14.0)\n",
      "Requirement already satisfied: google-cloud-bigquery<4.0.0dev,>=1.15.0 in /opt/conda/lib/python3.10/site-packages (from google-cloud-aiplatform==1.41.0->-r requirements.txt (line 6)) (3.18.0)\n",
      "Requirement already satisfied: google-cloud-resource-manager<3.0.0dev,>=1.3.3 in /opt/conda/lib/python3.10/site-packages (from google-cloud-aiplatform==1.41.0->-r requirements.txt (line 6)) (1.12.3)\n",
      "Requirement already satisfied: shapely<3.0.0dev in /opt/conda/lib/python3.10/site-packages (from google-cloud-aiplatform==1.41.0->-r requirements.txt (line 6)) (2.0.3)\n",
      "Requirement already satisfied: python-dateutil>=2.8.2 in /opt/conda/lib/python3.10/site-packages (from pandas->-r requirements.txt (line 1)) (2.9.0)\n",
      "Requirement already satisfied: pytz>=2020.1 in /opt/conda/lib/python3.10/site-packages (from pandas->-r requirements.txt (line 1)) (2024.1)\n",
      "Requirement already satisfied: tzdata>=2022.1 in /opt/conda/lib/python3.10/site-packages (from pandas->-r requirements.txt (line 1)) (2024.1)\n",
      "Collecting lunardate (from workalendar->-r requirements.txt (line 4))\n",
      "  Downloading lunardate-0.2.2-py3-none-any.whl.metadata (3.6 kB)\n",
      "Collecting convertdate (from workalendar->-r requirements.txt (line 4))\n",
      "  Downloading convertdate-2.4.0-py3-none-any.whl.metadata (8.3 kB)\n",
      "Collecting pyluach (from workalendar->-r requirements.txt (line 4))\n",
      "  Downloading pyluach-2.2.0-py3-none-any.whl.metadata (4.3 kB)\n",
      "Requirement already satisfied: google-auth!=2.24.0,!=2.25.0,<3.0.0dev,>=2.14.1 in /opt/conda/lib/python3.10/site-packages (from google-cloud-logging->-r requirements.txt (line 7)) (2.28.1)\n",
      "Collecting google-cloud-appengine-logging<2.0.0dev,>=0.1.0 (from google-cloud-logging->-r requirements.txt (line 7))\n",
      "  Downloading google_cloud_appengine_logging-1.4.3-py2.py3-none-any.whl.metadata (5.4 kB)\n",
      "Collecting google-cloud-audit-log<1.0.0dev,>=0.1.0 (from google-cloud-logging->-r requirements.txt (line 7))\n",
      "  Downloading google_cloud_audit_log-0.2.5-py2.py3-none-any.whl.metadata (1.4 kB)\n",
      "Requirement already satisfied: google-cloud-core<3.0.0dev,>=2.0.0 in /opt/conda/lib/python3.10/site-packages (from google-cloud-logging->-r requirements.txt (line 7)) (2.4.1)\n",
      "Requirement already satisfied: grpc-google-iam-v1<1.0.0dev,>=0.12.4 in /opt/conda/lib/python3.10/site-packages (from google-cloud-logging->-r requirements.txt (line 7)) (0.13.0)\n",
      "Requirement already satisfied: httplib2<1dev,>=0.9.2 in /opt/conda/lib/python3.10/site-packages (from google-api-python-client->-r requirements.txt (line 8)) (0.22.0)\n",
      "Requirement already satisfied: google-auth-httplib2>=0.0.3 in /opt/conda/lib/python3.10/site-packages (from google-api-python-client->-r requirements.txt (line 8)) (0.2.0)\n",
      "Requirement already satisfied: uritemplate<4dev,>=3.0.0 in /opt/conda/lib/python3.10/site-packages (from google-api-python-client->-r requirements.txt (line 8)) (3.0.1)\n",
      "Requirement already satisfied: joblib in /opt/conda/lib/python3.10/site-packages (from nltk->-r requirements.txt (line 12)) (1.3.2)\n",
      "Collecting regex>=2021.8.3 (from nltk->-r requirements.txt (line 12))\n",
      "  Downloading regex-2023.12.25-cp310-cp310-manylinux_2_17_x86_64.manylinux2014_x86_64.whl.metadata (40 kB)\n",
      "     ━━━━━━━━━━━━━━━━━━━━━━━━━━━━━━━━━━━━━━━━ 40.9/40.9 kB 6.2 MB/s eta 0:00:00\n",
      "Requirement already satisfied: tqdm in /opt/conda/lib/python3.10/site-packages (from nltk->-r requirements.txt (line 12)) (4.66.2)\n",
      "Requirement already satisfied: wheel<1.0,>=0.23.0 in /opt/conda/lib/python3.10/site-packages (from astunparse>=1.6.0->tensorflow==2.15.0.post1->-r requirements.txt (line 5)) (0.42.0)\n",
      "Requirement already satisfied: googleapis-common-protos<2.0dev,>=1.56.2 in /opt/conda/lib/python3.10/site-packages (from google-api-core!=2.0.*,!=2.1.*,!=2.2.*,!=2.3.*,!=2.4.*,!=2.5.*,!=2.6.*,!=2.7.*,<3.0.0dev,>=1.32.0->google-api-core[grpc]!=2.0.*,!=2.1.*,!=2.2.*,!=2.3.*,!=2.4.*,!=2.5.*,!=2.6.*,!=2.7.*,<3.0.0dev,>=1.32.0->google-cloud-aiplatform==1.41.0->-r requirements.txt (line 6)) (1.62.0)\n",
      "Requirement already satisfied: requests<3.0.0dev,>=2.18.0 in /opt/conda/lib/python3.10/site-packages (from google-api-core!=2.0.*,!=2.1.*,!=2.2.*,!=2.3.*,!=2.4.*,!=2.5.*,!=2.6.*,!=2.7.*,<3.0.0dev,>=1.32.0->google-api-core[grpc]!=2.0.*,!=2.1.*,!=2.2.*,!=2.3.*,!=2.4.*,!=2.5.*,!=2.6.*,!=2.7.*,<3.0.0dev,>=1.32.0->google-cloud-aiplatform==1.41.0->-r requirements.txt (line 6)) (2.31.0)\n",
      "Requirement already satisfied: grpcio-status<2.0dev,>=1.33.2 in /opt/conda/lib/python3.10/site-packages (from google-api-core[grpc]!=2.0.*,!=2.1.*,!=2.2.*,!=2.3.*,!=2.4.*,!=2.5.*,!=2.6.*,!=2.7.*,<3.0.0dev,>=1.32.0->google-cloud-aiplatform==1.41.0->-r requirements.txt (line 6)) (1.48.2)\n",
      "Requirement already satisfied: cachetools<6.0,>=2.0.0 in /opt/conda/lib/python3.10/site-packages (from google-auth!=2.24.0,!=2.25.0,<3.0.0dev,>=2.14.1->google-cloud-logging->-r requirements.txt (line 7)) (5.3.3)\n",
      "Requirement already satisfied: pyasn1-modules>=0.2.1 in /opt/conda/lib/python3.10/site-packages (from google-auth!=2.24.0,!=2.25.0,<3.0.0dev,>=2.14.1->google-cloud-logging->-r requirements.txt (line 7)) (0.3.0)\n",
      "Requirement already satisfied: rsa<5,>=3.1.4 in /opt/conda/lib/python3.10/site-packages (from google-auth!=2.24.0,!=2.25.0,<3.0.0dev,>=2.14.1->google-cloud-logging->-r requirements.txt (line 7)) (4.9)\n",
      "Requirement already satisfied: google-resumable-media<3.0dev,>=0.6.0 in /opt/conda/lib/python3.10/site-packages (from google-cloud-bigquery<4.0.0dev,>=1.15.0->google-cloud-aiplatform==1.41.0->-r requirements.txt (line 6)) (2.7.0)\n",
      "Requirement already satisfied: google-crc32c<2.0dev,>=1.0 in /opt/conda/lib/python3.10/site-packages (from google-cloud-storage<3.0.0dev,>=1.32.0->google-cloud-aiplatform==1.41.0->-r requirements.txt (line 6)) (1.5.0)\n",
      "Requirement already satisfied: pyparsing!=3.0.0,!=3.0.1,!=3.0.2,!=3.0.3,<4,>=2.4.2 in /opt/conda/lib/python3.10/site-packages (from httplib2<1dev,>=0.9.2->google-api-python-client->-r requirements.txt (line 8)) (3.1.2)\n",
      "Requirement already satisfied: google-auth-oauthlib<2,>=0.5 in /opt/conda/lib/python3.10/site-packages (from tensorboard<2.16,>=2.15->tensorflow==2.15.0.post1->-r requirements.txt (line 5)) (1.2.0)\n",
      "Collecting markdown>=2.6.8 (from tensorboard<2.16,>=2.15->tensorflow==2.15.0.post1->-r requirements.txt (line 5))\n",
      "  Downloading Markdown-3.6-py3-none-any.whl.metadata (7.0 kB)\n",
      "Collecting tensorboard-data-server<0.8.0,>=0.7.0 (from tensorboard<2.16,>=2.15->tensorflow==2.15.0.post1->-r requirements.txt (line 5))\n",
      "  Downloading tensorboard_data_server-0.7.2-py3-none-manylinux_2_31_x86_64.whl.metadata (1.1 kB)\n",
      "Collecting werkzeug>=1.0.1 (from tensorboard<2.16,>=2.15->tensorflow==2.15.0.post1->-r requirements.txt (line 5))\n",
      "  Downloading werkzeug-3.0.2-py3-none-any.whl.metadata (4.1 kB)\n",
      "Collecting pymeeus<=1,>=0.3.13 (from convertdate->workalendar->-r requirements.txt (line 4))\n",
      "  Downloading PyMeeus-0.5.12.tar.gz (5.8 MB)\n",
      "     ━━━━━━━━━━━━━━━━━━━━━━━━━━━━━━━━━━━━━━━━ 5.8/5.8 MB 155.8 MB/s eta 0:00:00\n",
      "  Preparing metadata (setup.py): started\n",
      "  Preparing metadata (setup.py): finished with status 'done'\n",
      "Requirement already satisfied: requests-oauthlib>=0.7.0 in /opt/conda/lib/python3.10/site-packages (from google-auth-oauthlib<2,>=0.5->tensorboard<2.16,>=2.15->tensorflow==2.15.0.post1->-r requirements.txt (line 5)) (1.3.1)\n",
      "Requirement already satisfied: pyasn1<0.6.0,>=0.4.6 in /opt/conda/lib/python3.10/site-packages (from pyasn1-modules>=0.2.1->google-auth!=2.24.0,!=2.25.0,<3.0.0dev,>=2.14.1->google-cloud-logging->-r requirements.txt (line 7)) (0.5.1)\n",
      "Requirement already satisfied: charset-normalizer<4,>=2 in /opt/conda/lib/python3.10/site-packages (from requests<3.0.0dev,>=2.18.0->google-api-core!=2.0.*,!=2.1.*,!=2.2.*,!=2.3.*,!=2.4.*,!=2.5.*,!=2.6.*,!=2.7.*,<3.0.0dev,>=1.32.0->google-api-core[grpc]!=2.0.*,!=2.1.*,!=2.2.*,!=2.3.*,!=2.4.*,!=2.5.*,!=2.6.*,!=2.7.*,<3.0.0dev,>=1.32.0->google-cloud-aiplatform==1.41.0->-r requirements.txt (line 6)) (3.3.2)\n",
      "Requirement already satisfied: idna<4,>=2.5 in /opt/conda/lib/python3.10/site-packages (from requests<3.0.0dev,>=2.18.0->google-api-core!=2.0.*,!=2.1.*,!=2.2.*,!=2.3.*,!=2.4.*,!=2.5.*,!=2.6.*,!=2.7.*,<3.0.0dev,>=1.32.0->google-api-core[grpc]!=2.0.*,!=2.1.*,!=2.2.*,!=2.3.*,!=2.4.*,!=2.5.*,!=2.6.*,!=2.7.*,<3.0.0dev,>=1.32.0->google-cloud-aiplatform==1.41.0->-r requirements.txt (line 6)) (3.6)\n",
      "Requirement already satisfied: urllib3<3,>=1.21.1 in /opt/conda/lib/python3.10/site-packages (from requests<3.0.0dev,>=2.18.0->google-api-core!=2.0.*,!=2.1.*,!=2.2.*,!=2.3.*,!=2.4.*,!=2.5.*,!=2.6.*,!=2.7.*,<3.0.0dev,>=1.32.0->google-api-core[grpc]!=2.0.*,!=2.1.*,!=2.2.*,!=2.3.*,!=2.4.*,!=2.5.*,!=2.6.*,!=2.7.*,<3.0.0dev,>=1.32.0->google-cloud-aiplatform==1.41.0->-r requirements.txt (line 6)) (1.26.18)\n",
      "Requirement already satisfied: certifi>=2017.4.17 in /opt/conda/lib/python3.10/site-packages (from requests<3.0.0dev,>=2.18.0->google-api-core!=2.0.*,!=2.1.*,!=2.2.*,!=2.3.*,!=2.4.*,!=2.5.*,!=2.6.*,!=2.7.*,<3.0.0dev,>=1.32.0->google-api-core[grpc]!=2.0.*,!=2.1.*,!=2.2.*,!=2.3.*,!=2.4.*,!=2.5.*,!=2.6.*,!=2.7.*,<3.0.0dev,>=1.32.0->google-cloud-aiplatform==1.41.0->-r requirements.txt (line 6)) (2024.2.2)\n",
      "Requirement already satisfied: MarkupSafe>=2.1.1 in /opt/conda/lib/python3.10/site-packages (from werkzeug>=1.0.1->tensorboard<2.16,>=2.15->tensorflow==2.15.0.post1->-r requirements.txt (line 5)) (2.1.5)\n",
      "Requirement already satisfied: oauthlib>=3.0.0 in /opt/conda/lib/python3.10/site-packages (from requests-oauthlib>=0.7.0->google-auth-oauthlib<2,>=0.5->tensorboard<2.16,>=2.15->tensorflow==2.15.0.post1->-r requirements.txt (line 5)) (3.2.2)\n",
      "Downloading fastapi-0.68.0-py3-none-any.whl (52 kB)\n",
      "   ━━━━━━━━━━━━━━━━━━━━━━━━━━━━━━━━━━━━━━━━ 52.0/52.0 kB 7.4 MB/s eta 0:00:00\n",
      "Downloading uvicorn-0.15.0-py3-none-any.whl (54 kB)\n",
      "   ━━━━━━━━━━━━━━━━━━━━━━━━━━━━━━━━━━━━━━━━ 54.4/54.4 kB 10.8 MB/s eta 0:00:00\n",
      "Downloading tensorflow-2.15.0.post1-cp310-cp310-manylinux_2_17_x86_64.manylinux2014_x86_64.whl (475.2 MB)\n",
      "   ━━━━━━━━━━━━━━━━━━━━━━━━━━━━━━━━━━━━━━━━ 475.2/475.2 MB 2.5 MB/s eta 0:00:00\n",
      "Downloading google_cloud_aiplatform-1.41.0-py2.py3-none-any.whl (3.5 MB)\n",
      "   ━━━━━━━━━━━━━━━━━━━━━━━━━━━━━━━━━━━━━━━━ 3.5/3.5 MB 136.0 MB/s eta 0:00:00\n",
      "Downloading starlette-0.14.2-py3-none-any.whl (60 kB)\n",
      "   ━━━━━━━━━━━━━━━━━━━━━━━━━━━━━━━━━━━━━━━━ 60.6/60.6 kB 11.6 MB/s eta 0:00:00\n",
      "Downloading workalendar-17.0.0-py3-none-any.whl (210 kB)\n",
      "   ━━━━━━━━━━━━━━━━━━━━━━━━━━━━━━━━━━━━━━━━ 210.7/210.7 kB 35.2 MB/s eta 0:00:00\n",
      "Downloading google_cloud_logging-3.10.0-py2.py3-none-any.whl (213 kB)\n",
      "   ━━━━━━━━━━━━━━━━━━━━━━━━━━━━━━━━━━━━━━━━ 213.4/213.4 kB 36.9 MB/s eta 0:00:00\n",
      "Downloading google_cloud-0.34.0-py2.py3-none-any.whl (1.8 kB)\n",
      "Downloading nltk-3.8.1-py3-none-any.whl (1.5 MB)\n",
      "   ━━━━━━━━━━━━━━━━━━━━━━━━━━━━━━━━━━━━━━━━ 1.5/1.5 MB 117.5 MB/s eta 0:00:00\n",
      "Downloading asgiref-3.8.1-py3-none-any.whl (23 kB)\n",
      "Downloading astunparse-1.6.3-py2.py3-none-any.whl (12 kB)\n",
      "Downloading flatbuffers-24.3.25-py2.py3-none-any.whl (26 kB)\n",
      "Downloading gast-0.5.4-py3-none-any.whl (19 kB)\n",
      "Downloading google_cloud_appengine_logging-1.4.3-py2.py3-none-any.whl (15 kB)\n",
      "Downloading google_cloud_audit_log-0.2.5-py2.py3-none-any.whl (12 kB)\n",
      "Downloading google_pasta-0.2.0-py3-none-any.whl (57 kB)\n",
      "   ━━━━━━━━━━━━━━━━━━━━━━━━━━━━━━━━━━━━━━━━ 57.5/57.5 kB 12.3 MB/s eta 0:00:00\n",
      "Downloading h5py-3.10.0-cp310-cp310-manylinux_2_17_x86_64.manylinux2014_x86_64.whl (4.8 MB)\n",
      "   ━━━━━━━━━━━━━━━━━━━━━━━━━━━━━━━━━━━━━━━━ 4.8/4.8 MB 151.5 MB/s eta 0:00:00\n",
      "Downloading keras-2.15.0-py3-none-any.whl (1.7 MB)\n",
      "   ━━━━━━━━━━━━━━━━━━━━━━━━━━━━━━━━━━━━━━━━ 1.7/1.7 MB 129.3 MB/s eta 0:00:00\n",
      "Downloading libclang-18.1.1-py2.py3-none-manylinux2010_x86_64.whl (24.5 MB)\n",
      "   ━━━━━━━━━━━━━━━━━━━━━━━━━━━━━━━━━━━━━━━━ 24.5/24.5 MB 102.5 MB/s eta 0:00:00\n",
      "Downloading ml_dtypes-0.2.0-cp310-cp310-manylinux_2_17_x86_64.manylinux2014_x86_64.whl (1.0 MB)\n",
      "   ━━━━━━━━━━━━━━━━━━━━━━━━━━━━━━━━━━━━━━━━ 1.0/1.0 MB 101.4 MB/s eta 0:00:00\n",
      "Downloading opt_einsum-3.3.0-py3-none-any.whl (65 kB)\n",
      "   ━━━━━━━━━━━━━━━━━━━━━━━━━━━━━━━━━━━━━━━━ 65.5/65.5 kB 13.3 MB/s eta 0:00:00\n",
      "Downloading regex-2023.12.25-cp310-cp310-manylinux_2_17_x86_64.manylinux2014_x86_64.whl (773 kB)\n",
      "   ━━━━━━━━━━━━━━━━━━━━━━━━━━━━━━━━━━━━━━━━ 774.0/774.0 kB 92.6 MB/s eta 0:00:00\n",
      "Downloading tensorboard-2.15.2-py3-none-any.whl (5.5 MB)\n",
      "   ━━━━━━━━━━━━━━━━━━━━━━━━━━━━━━━━━━━━━━━━ 5.5/5.5 MB 153.5 MB/s eta 0:00:00\n",
      "Downloading tensorflow_estimator-2.15.0-py2.py3-none-any.whl (441 kB)\n",
      "   ━━━━━━━━━━━━━━━━━━━━━━━━━━━━━━━━━━━━━━━━ 442.0/442.0 kB 62.1 MB/s eta 0:00:00\n",
      "Downloading tensorflow_io_gcs_filesystem-0.36.0-cp310-cp310-manylinux_2_17_x86_64.manylinux2014_x86_64.whl (5.1 MB)\n",
      "   ━━━━━━━━━━━━━━━━━━━━━━━━━━━━━━━━━━━━━━━━ 5.1/5.1 MB 135.9 MB/s eta 0:00:00\n",
      "Downloading termcolor-2.4.0-py3-none-any.whl (7.7 kB)\n",
      "Downloading wrapt-1.14.1-cp310-cp310-manylinux_2_5_x86_64.manylinux1_x86_64.manylinux_2_17_x86_64.manylinux2014_x86_64.whl (77 kB)\n",
      "   ━━━━━━━━━━━━━━━━━━━━━━━━━━━━━━━━━━━━━━━━ 77.9/77.9 kB 14.8 MB/s eta 0:00:00\n",
      "Downloading convertdate-2.4.0-py3-none-any.whl (47 kB)\n",
      "   ━━━━━━━━━━━━━━━━━━━━━━━━━━━━━━━━━━━━━━━━ 47.9/47.9 kB 9.4 MB/s eta 0:00:00\n",
      "Downloading lunardate-0.2.2-py3-none-any.whl (18 kB)\n",
      "Downloading pyluach-2.2.0-py3-none-any.whl (25 kB)\n",
      "Downloading Markdown-3.6-py3-none-any.whl (105 kB)\n",
      "   ━━━━━━━━━━━━━━━━━━━━━━━━━━━━━━━━━━━━━━━━ 105.4/105.4 kB 22.1 MB/s eta 0:00:00\n",
      "Downloading tensorboard_data_server-0.7.2-py3-none-manylinux_2_31_x86_64.whl (6.6 MB)\n",
      "   ━━━━━━━━━━━━━━━━━━━━━━━━━━━━━━━━━━━━━━━━ 6.6/6.6 MB 108.8 MB/s eta 0:00:00\n",
      "Downloading werkzeug-3.0.2-py3-none-any.whl (226 kB)\n",
      "   ━━━━━━━━━━━━━━━━━━━━━━━━━━━━━━━━━━━━━━━━ 226.8/226.8 kB 40.5 MB/s eta 0:00:00\n",
      "Building wheels for collected packages: typing, pymeeus\n",
      "  Building wheel for typing (setup.py): started\n",
      "  Building wheel for typing (setup.py): finished with status 'done'\n",
      "  Created wheel for typing: filename=typing-3.7.4.3-py3-none-any.whl size=26304 sha256=145bc7a1c7e4eb865fb8fed4844fa764a9fdb0c4bbaf7b031df83dbdb14e012d\n",
      "  Stored in directory: /root/.cache/pip/wheels/7c/d0/9e/1f26ebb66d9e1732e4098bc5a6c2d91f6c9a529838f0284890\n",
      "  Building wheel for pymeeus (setup.py): started\n",
      "  Building wheel for pymeeus (setup.py): finished with status 'done'\n",
      "  Created wheel for pymeeus: filename=PyMeeus-0.5.12-py3-none-any.whl size=732001 sha256=e054d189dba419d325945877b397b28f1bb1ca66b4cb59cd8162dde34759aa12\n",
      "  Stored in directory: /root/.cache/pip/wheels/d6/67/78/aa2e8d108639dd23a5e9e72a4fc88bb44f5541894382712f48\n",
      "Successfully built typing pymeeus\n",
      "Installing collected packages: pymeeus, lunardate, libclang, google-cloud, flatbuffers, wrapt, werkzeug, typing, termcolor, tensorflow-io-gcs-filesystem, tensorflow-estimator, tensorboard-data-server, starlette, regex, pyluach, opt-einsum, ml-dtypes, markdown, keras, h5py, google-pasta, gast, convertdate, astunparse, asgiref, workalendar, uvicorn, nltk, google-cloud-audit-log, fastapi, tensorboard, tensorflow, google-cloud-appengine-logging, google-cloud-logging, google-cloud-aiplatform\n",
      "  Attempting uninstall: wrapt\n",
      "    Found existing installation: wrapt 1.16.0\n",
      "    Uninstalling wrapt-1.16.0:\n",
      "      Successfully uninstalled wrapt-1.16.0\n",
      "  Attempting uninstall: starlette\n",
      "    Found existing installation: starlette 0.32.0.post1\n",
      "    Uninstalling starlette-0.32.0.post1:\n",
      "      Successfully uninstalled starlette-0.32.0.post1\n",
      "  Attempting uninstall: uvicorn\n",
      "    Found existing installation: uvicorn 0.27.1\n",
      "    Uninstalling uvicorn-0.27.1:\n",
      "      Successfully uninstalled uvicorn-0.27.1\n",
      "  Attempting uninstall: fastapi\n",
      "    Found existing installation: fastapi 0.108.0\n",
      "    Uninstalling fastapi-0.108.0:\n",
      "      Successfully uninstalled fastapi-0.108.0\n",
      "  Attempting uninstall: google-cloud-aiplatform\n",
      "    Found existing installation: google-cloud-aiplatform 1.43.0\n",
      "    Uninstalling google-cloud-aiplatform-1.43.0:\n",
      "      Successfully uninstalled google-cloud-aiplatform-1.43.0\n",
      "Successfully installed asgiref-3.8.1 astunparse-1.6.3 convertdate-2.4.0 fastapi-0.68.0 flatbuffers-24.3.25 gast-0.5.4 google-cloud-0.34.0 google-cloud-aiplatform-1.41.0 google-cloud-appengine-logging-1.4.3 google-cloud-audit-log-0.2.5 google-cloud-logging-3.10.0 google-pasta-0.2.0 h5py-3.10.0 keras-2.15.0 libclang-18.1.1 lunardate-0.2.2 markdown-3.6 ml-dtypes-0.2.0 nltk-3.8.1 opt-einsum-3.3.0 pyluach-2.2.0 pymeeus-0.5.12 regex-2023.12.25 starlette-0.14.2 tensorboard-2.15.2 tensorboard-data-server-0.7.2 tensorflow-2.15.0.post1 tensorflow-estimator-2.15.0 tensorflow-io-gcs-filesystem-0.36.0 termcolor-2.4.0 typing-3.7.4.3 uvicorn-0.15.0 werkzeug-3.0.2 workalendar-17.0.0 wrapt-1.14.1\n",
      "\u001b[91mWARNING: Running pip as the 'root' user can result in broken permissions and conflicting behaviour with the system package manager. It is recommended to use a virtual environment instead: https://pip.pypa.io/warnings/venv\n",
      "\u001b[0mRemoving intermediate container 67aaae4be761\n",
      " ---> 23d8ff63cb47\n",
      "Step 6/8 : COPY . /\n",
      " ---> a021a8b774e3\n",
      "Step 7/8 : CMD [\"uvicorn\", \"app:app\", \"--host\", \"0.0.0.0\", \"--port\", \"8081\"]\n",
      " ---> Running in 0e21540b9ad6\n",
      "Removing intermediate container 0e21540b9ad6\n",
      " ---> e9b91cd46efb\n",
      "Step 8/8 : EXPOSE 8081\n",
      " ---> Running in 36c61fb571c4\n",
      "Removing intermediate container 36c61fb571c4\n",
      " ---> 3edd0ef922d5\n",
      "Successfully built 3edd0ef922d5\n",
      "Successfully tagged europe-west3-docker.pkg.dev/gcp-ccai-auto-ml-contactcenter/repo-demo3/fast_api_automl_serving:latest\n"
     ]
    }
   ],
   "source": [
    "! docker build ./ -t $IMAGE_URI"
   ]
  },
  {
   "cell_type": "code",
   "execution_count": 24,
   "id": "89bcbcc3-a35d-4c19-9897-7562a36f4c9b",
   "metadata": {
    "tags": []
   },
   "outputs": [
    {
     "name": "stdout",
     "output_type": "stream",
     "text": [
      "The push refers to repository [europe-west3-docker.pkg.dev/gcp-ccai-auto-ml-contactcenter/repo-demo3/fast_api_automl_serving]\n",
      "\n",
      "\u001b[1B6e548201: Preparing \n",
      "\u001b[1B9822fda4: Preparing \n",
      "\u001b[1B5b289742: Preparing \n",
      "\u001b[1B0840b95b: Preparing \n",
      "\u001b[1B625a528c: Preparing \n",
      "\u001b[1B1351140a: Preparing \n",
      "\u001b[1Bbf18a086: Preparing \n",
      "\u001b[1B82771da2: Preparing \n",
      "\u001b[1B57952521: Preparing \n",
      "\u001b[1B6a5b98f7: Preparing \n",
      "\u001b[1Bbd61aa20: Preparing \n",
      "\u001b[1B5ef9c8b3: Preparing \n",
      "\u001b[1Ba870a840: Preparing \n",
      "\u001b[1B43031e88: Preparing \n",
      "\u001b[1Bab4e5392: Preparing \n",
      "\u001b[1B07dc0b52: Preparing \n",
      "\u001b[11Bf18a086: Waiting g \n",
      "\u001b[1B379a4282: Preparing \n",
      "\u001b[10Ba5b98f7: Waiting g \n",
      "\u001b[1B6aad04a1: Preparing \n",
      "\u001b[1Bdfc3b824: Preparing \n",
      "\u001b[1B4c2a35b9: Preparing \n",
      "\u001b[16B2771da2: Waiting g \n",
      "\u001b[16B7952521: Waiting g \n",
      "\u001b[1Bcd77acfc: Preparing \n",
      "\u001b[1Bb784db22: Preparing \n",
      "\u001b[21Bf18a086: Preparing \n",
      "\u001b[1B88822c42: Preparing \n",
      "\u001b[1B95b7aaed: Preparing \n",
      "\u001b[12Bea69765: Waiting g \n",
      "\u001b[1B2c163a83: Preparing \n",
      "\u001b[1B13d8681b: Preparing \n",
      "\u001b[23Bd61aa20: Waiting g \n",
      "\u001b[23Bef9c8b3: Waiting g \n",
      "\u001b[16Baad04a1: Waiting g \n",
      "\u001b[24B870a840: Waiting g \n",
      "\u001b[17Bfc3b824: Waiting g \n",
      "\u001b[1B30c0e62e: Preparing \n",
      "\u001b[18Bc2a35b9: Waiting g \n",
      "\u001b[27B3031e88: Waiting g \n",
      "\u001b[40B822fda4: Pushed   2.158GB/2.139GB\u001b[40A\u001b[2K\u001b[34A\u001b[2K\u001b[31A\u001b[2K\u001b[29A\u001b[2K\u001b[39A\u001b[2K\u001b[23A\u001b[2K\u001b[20A\u001b[2K\u001b[40A\u001b[2K\u001b[8A\u001b[2K\u001b[40A\u001b[2K\u001b[40A\u001b[2K\u001b[40A\u001b[2K\u001b[40A\u001b[2K\u001b[40A\u001b[2K\u001b[40A\u001b[2K\u001b[40A\u001b[2K\u001b[40A\u001b[2K\u001b[40A\u001b[2K\u001b[40A\u001b[2K\u001b[40A\u001b[2K\u001b[40A\u001b[2K\u001b[40A\u001b[2K\u001b[40A\u001b[2K\u001b[40A\u001b[2K\u001b[40A\u001b[2K\u001b[40A\u001b[2K\u001b[40A\u001b[2K\u001b[40A\u001b[2K\u001b[40A\u001b[2K\u001b[40A\u001b[2K\u001b[40A\u001b[2K\u001b[40A\u001b[2K\u001b[40A\u001b[2K\u001b[40A\u001b[2K\u001b[40A\u001b[2K\u001b[40A\u001b[2K\u001b[40A\u001b[2K\u001b[40A\u001b[2K\u001b[40A\u001b[2K\u001b[40A\u001b[2K\u001b[40A\u001b[2K\u001b[40A\u001b[2K\u001b[40A\u001b[2K\u001b[40A\u001b[2K\u001b[40A\u001b[2K\u001b[40A\u001b[2K\u001b[40A\u001b[2K\u001b[40A\u001b[2K\u001b[40A\u001b[2K\u001b[40A\u001b[2K\u001b[40A\u001b[2K\u001b[40A\u001b[2K\u001b[40A\u001b[2K\u001b[40A\u001b[2K\u001b[40A\u001b[2K\u001b[40A\u001b[2K\u001b[40A\u001b[2K\u001b[40A\u001b[2K\u001b[40A\u001b[2K\u001b[40A\u001b[2K\u001b[40A\u001b[2K\u001b[40A\u001b[2K\u001b[40A\u001b[2K\u001b[40A\u001b[2K\u001b[40A\u001b[2K\u001b[40A\u001b[2K\u001b[40A\u001b[2K\u001b[40A\u001b[2K\u001b[40A\u001b[2K\u001b[40A\u001b[2K\u001b[40A\u001b[2K\u001b[40A\u001b[2K\u001b[40A\u001b[2K\u001b[40A\u001b[2K\u001b[40A\u001b[2K\u001b[40A\u001b[2K\u001b[40A\u001b[2K\u001b[40A\u001b[2K\u001b[40A\u001b[2K\u001b[40A\u001b[2K\u001b[40A\u001b[2K\u001b[40A\u001b[2K\u001b[40A\u001b[2K\u001b[40A\u001b[2K\u001b[40A\u001b[2K\u001b[40A\u001b[2K\u001b[40A\u001b[2K\u001b[40A\u001b[2K\u001b[40A\u001b[2K\u001b[40A\u001b[2K\u001b[40A\u001b[2K\u001b[40A\u001b[2K\u001b[40A\u001b[2K\u001b[40A\u001b[2K\u001b[40A\u001b[2K\u001b[40A\u001b[2K\u001b[40A\u001b[2K\u001b[40A\u001b[2K\u001b[40A\u001b[2K\u001b[40A\u001b[2K\u001b[40A\u001b[2K\u001b[40A\u001b[2K\u001b[40A\u001b[2K\u001b[40A\u001b[2K\u001b[40A\u001b[2K\u001b[40A\u001b[2K\u001b[40A\u001b[2K\u001b[40A\u001b[2K\u001b[40A\u001b[2K\u001b[40A\u001b[2K\u001b[40A\u001b[2K\u001b[40A\u001b[2K\u001b[40A\u001b[2K\u001b[40A\u001b[2K\u001b[40A\u001b[2K\u001b[40A\u001b[2K\u001b[40A\u001b[2K\u001b[40A\u001b[2K\u001b[40A\u001b[2K\u001b[40A\u001b[2K\u001b[40A\u001b[2K\u001b[40A\u001b[2K\u001b[40A\u001b[2K\u001b[40A\u001b[2K\u001b[40A\u001b[2K\u001b[40A\u001b[2K\u001b[40A\u001b[2K\u001b[40A\u001b[2K\u001b[40A\u001b[2K\u001b[40A\u001b[2K\u001b[40A\u001b[2K\u001b[40A\u001b[2K\u001b[40A\u001b[2K\u001b[40A\u001b[2K\u001b[40A\u001b[2K\u001b[40A\u001b[2K\u001b[40A\u001b[2K\u001b[40A\u001b[2K\u001b[40A\u001b[2K\u001b[40A\u001b[2K\u001b[40A\u001b[2K\u001b[40A\u001b[2K\u001b[40A\u001b[2K\u001b[40A\u001b[2K\u001b[40A\u001b[2K\u001b[40A\u001b[2K\u001b[40A\u001b[2K\u001b[40A\u001b[2K\u001b[40A\u001b[2K\u001b[40A\u001b[2K\u001b[40A\u001b[2K\u001b[40A\u001b[2K\u001b[40A\u001b[2K\u001b[40A\u001b[2K\u001b[40A\u001b[2K\u001b[40A\u001b[2K\u001b[40A\u001b[2K\u001b[40A\u001b[2K\u001b[40A\u001b[2K\u001b[40A\u001b[2K\u001b[40A\u001b[2K\u001b[40A\u001b[2K\u001b[40A\u001b[2K\u001b[40A\u001b[2K\u001b[40A\u001b[2K\u001b[40A\u001b[2K\u001b[40A\u001b[2K\u001b[40A\u001b[2K\u001b[40A\u001b[2K\u001b[40A\u001b[2K\u001b[40A\u001b[2K\u001b[40A\u001b[2K\u001b[40A\u001b[2K\u001b[40A\u001b[2K\u001b[40A\u001b[2K\u001b[40A\u001b[2K\u001b[40A\u001b[2K\u001b[40A\u001b[2K\u001b[40A\u001b[2K\u001b[40A\u001b[2K\u001b[40A\u001b[2K\u001b[40A\u001b[2K\u001b[40A\u001b[2K\u001b[40A\u001b[2K\u001b[40A\u001b[2K\u001b[40A\u001b[2K\u001b[40A\u001b[2K\u001b[40A\u001b[2K\u001b[40A\u001b[2K\u001b[40A\u001b[2K\u001b[40A\u001b[2K\u001b[40A\u001b[2K\u001b[40A\u001b[2K\u001b[40A\u001b[2K\u001b[40A\u001b[2K\u001b[40A\u001b[2K\u001b[40A\u001b[2K\u001b[40A\u001b[2K\u001b[40A\u001b[2K\u001b[40A\u001b[2K\u001b[40A\u001b[2K\u001b[40A\u001b[2K\u001b[40A\u001b[2K\u001b[40A\u001b[2K\u001b[40A\u001b[2K\u001b[40A\u001b[2K\u001b[40A\u001b[2K\u001b[40A\u001b[2K\u001b[40A\u001b[2K\u001b[40A\u001b[2K\u001b[40A\u001b[2K\u001b[40A\u001b[2K\u001b[40A\u001b[2K\u001b[40A\u001b[2K\u001b[40A\u001b[2K\u001b[40A\u001b[2K\u001b[40A\u001b[2K\u001b[40A\u001b[2K\u001b[40A\u001b[2K\u001b[40A\u001b[2K\u001b[40A\u001b[2K\u001b[40A\u001b[2K\u001b[40A\u001b[2K\u001b[40A\u001b[2K\u001b[40A\u001b[2K\u001b[40A\u001b[2K\u001b[40A\u001b[2K\u001b[40A\u001b[2K\u001b[40A\u001b[2K\u001b[40A\u001b[2K\u001b[40A\u001b[2K\u001b[40A\u001b[2K\u001b[40A\u001b[2K\u001b[40A\u001b[2K\u001b[40A\u001b[2K\u001b[40A\u001b[2K\u001b[40A\u001b[2K\u001b[40A\u001b[2K\u001b[40A\u001b[2K\u001b[40A\u001b[2K\u001b[40A\u001b[2K\u001b[40A\u001b[2K\u001b[40A\u001b[2K\u001b[40A\u001b[2K\u001b[40A\u001b[2K\u001b[40A\u001b[2K\u001b[40A\u001b[2K\u001b[40A\u001b[2K\u001b[40A\u001b[2K\u001b[40A\u001b[2K\u001b[40A\u001b[2K\u001b[40A\u001b[2K\u001b[40A\u001b[2K\u001b[40A\u001b[2K\u001b[40A\u001b[2K\u001b[40A\u001b[2K\u001b[40A\u001b[2K\u001b[40A\u001b[2K\u001b[40A\u001b[2K\u001b[40A\u001b[2K\u001b[40A\u001b[2K\u001b[40A\u001b[2K\u001b[40A\u001b[2K\u001b[40A\u001b[2K\u001b[40A\u001b[2K\u001b[40A\u001b[2K\u001b[40A\u001b[2K\u001b[40A\u001b[2K\u001b[40A\u001b[2K\u001b[40A\u001b[2K\u001b[40A\u001b[2K\u001b[40A\u001b[2K\u001b[40A\u001b[2K\u001b[40A\u001b[2K\u001b[40A\u001b[2K\u001b[40A\u001b[2K\u001b[40A\u001b[2K\u001b[40A\u001b[2K\u001b[40A\u001b[2K\u001b[40A\u001b[2K\u001b[40A\u001b[2K\u001b[40A\u001b[2K\u001b[40A\u001b[2K\u001b[40A\u001b[2K\u001b[40A\u001b[2K\u001b[40A\u001b[2K\u001b[40A\u001b[2K\u001b[40A\u001b[2K\u001b[40A\u001b[2K\u001b[40A\u001b[2K\u001b[40A\u001b[2K\u001b[40A\u001b[2K\u001b[40A\u001b[2K\u001b[40A\u001b[2K\u001b[40A\u001b[2K\u001b[40A\u001b[2K\u001b[40A\u001b[2K\u001b[40A\u001b[2K\u001b[40A\u001b[2K\u001b[40A\u001b[2K\u001b[40A\u001b[2K\u001b[40A\u001b[2K\u001b[40A\u001b[2K\u001b[40A\u001b[2K\u001b[40A\u001b[2K\u001b[40A\u001b[2K\u001b[40A\u001b[2K\u001b[40A\u001b[2K\u001b[40A\u001b[2K\u001b[40A\u001b[2K\u001b[40A\u001b[2K\u001b[40A\u001b[2K\u001b[40A\u001b[2K\u001b[40A\u001b[2K\u001b[40A\u001b[2K\u001b[40A\u001b[2K\u001b[40A\u001b[2K\u001b[40A\u001b[2K\u001b[40A\u001b[2K\u001b[40A\u001b[2K\u001b[40A\u001b[2K\u001b[40A\u001b[2K\u001b[40A\u001b[2K\u001b[40A\u001b[2K\u001b[40A\u001b[2K\u001b[40A\u001b[2K\u001b[40A\u001b[2K\u001b[40A\u001b[2K\u001b[40A\u001b[2K\u001b[40A\u001b[2K\u001b[40A\u001b[2K\u001b[40A\u001b[2K\u001b[40A\u001b[2K\u001b[40A\u001b[2K\u001b[40A\u001b[2K\u001b[40A\u001b[2K\u001b[40A\u001b[2K\u001b[40A\u001b[2K\u001b[40A\u001b[2K\u001b[40A\u001b[2K\u001b[40A\u001b[2K\u001b[40A\u001b[2K\u001b[40A\u001b[2K\u001b[40A\u001b[2K\u001b[40A\u001b[2K\u001b[40A\u001b[2K\u001b[40A\u001b[2K\u001b[40A\u001b[2K\u001b[40A\u001b[2K\u001b[40A\u001b[2K\u001b[40A\u001b[2K\u001b[40A\u001b[2K\u001b[40A\u001b[2K\u001b[40A\u001b[2K\u001b[40A\u001b[2K\u001b[40A\u001b[2K\u001b[40A\u001b[2K\u001b[40A\u001b[2K\u001b[40A\u001b[2K\u001b[40A\u001b[2K\u001b[40A\u001b[2K\u001b[40A\u001b[2K\u001b[40A\u001b[2K\u001b[40A\u001b[2K\u001b[40A\u001b[2K\u001b[40A\u001b[2K\u001b[40A\u001b[2K\u001b[40A\u001b[2K\u001b[40A\u001b[2K\u001b[40A\u001b[2K\u001b[40A\u001b[2K\u001b[40A\u001b[2K\u001b[40A\u001b[2K\u001b[40A\u001b[2K\u001b[40A\u001b[2K\u001b[40A\u001b[2K\u001b[40A\u001b[2K\u001b[40A\u001b[2K\u001b[40A\u001b[2K\u001b[40A\u001b[2K\u001b[40A\u001b[2K\u001b[40A\u001b[2K\u001b[40A\u001b[2K\u001b[40A\u001b[2K\u001b[40A\u001b[2K\u001b[40A\u001b[2K\u001b[40A\u001b[2K\u001b[40A\u001b[2K\u001b[40A\u001b[2K\u001b[40A\u001b[2K\u001b[40A\u001b[2K\u001b[40A\u001b[2K\u001b[40A\u001b[2K\u001b[40A\u001b[2K\u001b[40A\u001b[2K\u001b[40A\u001b[2K\u001b[40A\u001b[2K\u001b[40A\u001b[2K\u001b[40A\u001b[2K\u001b[40A\u001b[2K\u001b[40A\u001b[2K\u001b[40A\u001b[2K\u001b[40A\u001b[2K\u001b[40A\u001b[2K\u001b[40A\u001b[2K\u001b[40A\u001b[2K\u001b[40A\u001b[2K\u001b[40A\u001b[2K\u001b[40A\u001b[2K\u001b[40A\u001b[2K\u001b[40A\u001b[2K\u001b[40A\u001b[2K\u001b[40A\u001b[2K\u001b[40A\u001b[2K\u001b[40A\u001b[2K\u001b[40A\u001b[2K\u001b[40A\u001b[2K\u001b[40A\u001b[2K\u001b[40A\u001b[2K\u001b[40A\u001b[2K\u001b[40A\u001b[2K\u001b[40A\u001b[2K\u001b[40A\u001b[2K\u001b[40A\u001b[2K\u001b[40A\u001b[2K\u001b[40A\u001b[2K\u001b[40A\u001b[2K\u001b[40A\u001b[2K\u001b[40A\u001b[2K\u001b[40A\u001b[2K\u001b[40A\u001b[2K\u001b[40A\u001b[2K\u001b[40A\u001b[2K\u001b[40A\u001b[2K\u001b[40A\u001b[2K\u001b[40A\u001b[2K\u001b[40A\u001b[2K\u001b[40A\u001b[2K\u001b[40A\u001b[2K\u001b[40A\u001b[2K\u001b[40A\u001b[2K\u001b[40A\u001b[2K\u001b[40A\u001b[2K\u001b[40A\u001b[2K\u001b[40A\u001b[2K\u001b[40A\u001b[2K\u001b[40A\u001b[2K\u001b[40A\u001b[2K\u001b[40A\u001b[2K\u001b[40A\u001b[2K\u001b[40A\u001b[2K\u001b[40A\u001b[2K\u001b[40A\u001b[2K\u001b[40A\u001b[2K\u001b[40A\u001b[2K\u001b[40A\u001b[2K\u001b[40A\u001b[2K\u001b[40A\u001b[2K\u001b[40A\u001b[2K\u001b[40A\u001b[2K\u001b[40A\u001b[2K\u001b[40A\u001b[2K\u001b[40A\u001b[2K\u001b[40A\u001b[2K\u001b[40A\u001b[2K\u001b[40A\u001b[2K\u001b[40A\u001b[2K\u001b[40A\u001b[2K\u001b[40A\u001b[2K\u001b[40A\u001b[2K\u001b[40A\u001b[2K\u001b[40A\u001b[2K\u001b[40A\u001b[2K\u001b[40A\u001b[2K\u001b[40A\u001b[2K\u001b[40A\u001b[2K\u001b[40A\u001b[2K\u001b[40A\u001b[2K\u001b[40A\u001b[2K\u001b[40A\u001b[2K\u001b[40A\u001b[2K\u001b[40A\u001b[2K\u001b[40A\u001b[2K\u001b[40A\u001b[2K\u001b[40A\u001b[2K\u001b[40A\u001b[2K\u001b[40A\u001b[2K\u001b[40A\u001b[2K\u001b[40A\u001b[2K\u001b[40A\u001b[2K\u001b[40A\u001b[2K\u001b[40A\u001b[2K\u001b[40A\u001b[2K\u001b[40A\u001b[2K\u001b[40A\u001b[2K\u001b[40A\u001b[2K\u001b[40A\u001b[2K\u001b[40A\u001b[2K\u001b[40A\u001b[2K\u001b[40A\u001b[2K\u001b[40A\u001b[2K\u001b[40A\u001b[2K\u001b[40A\u001b[2K\u001b[40A\u001b[2K\u001b[40A\u001b[2K\u001b[40A\u001b[2K\u001b[40A\u001b[2K\u001b[40A\u001b[2K\u001b[40A\u001b[2K\u001b[40A\u001b[2K\u001b[40A\u001b[2K\u001b[40A\u001b[2K\u001b[40A\u001b[2K\u001b[40A\u001b[2K\u001b[40A\u001b[2K\u001b[40A\u001b[2K\u001b[40A\u001b[2K\u001b[40A\u001b[2K\u001b[40A\u001b[2K\u001b[40A\u001b[2K\u001b[40A\u001b[2K\u001b[40A\u001b[2K\u001b[40A\u001b[2K\u001b[40A\u001b[2K\u001b[40A\u001b[2K\u001b[40A\u001b[2K\u001b[40A\u001b[2K\u001b[40A\u001b[2K\u001b[40A\u001b[2K\u001b[40A\u001b[2K\u001b[40A\u001b[2K\u001b[40A\u001b[2K\u001b[40A\u001b[2K\u001b[40A\u001b[2K\u001b[40A\u001b[2K\u001b[40A\u001b[2K\u001b[40A\u001b[2K\u001b[40A\u001b[2K\u001b[40A\u001b[2K\u001b[40A\u001b[2K\u001b[40A\u001b[2K\u001b[40A\u001b[2K\u001b[40A\u001b[2K\u001b[40A\u001b[2K\u001b[40A\u001b[2K\u001b[40A\u001b[2K\u001b[40A\u001b[2K\u001b[40A\u001b[2K\u001b[40A\u001b[2K\u001b[40A\u001b[2K\u001b[40A\u001b[2K\u001b[40A\u001b[2K\u001b[40A\u001b[2K\u001b[40A\u001b[2K\u001b[40A\u001b[2K\u001b[40A\u001b[2K\u001b[40A\u001b[2K\u001b[40A\u001b[2K\u001b[40A\u001b[2K\u001b[40A\u001b[2K\u001b[40A\u001b[2K\u001b[40A\u001b[2K\u001b[40A\u001b[2K\u001b[40A\u001b[2K\u001b[40A\u001b[2K\u001b[40A\u001b[2K\u001b[40A\u001b[2K\u001b[40A\u001b[2K\u001b[40A\u001b[2K\u001b[40A\u001b[2K\u001b[40A\u001b[2K\u001b[40A\u001b[2K\u001b[40A\u001b[2K\u001b[40A\u001b[2K\u001b[40A\u001b[2K\u001b[40A\u001b[2K\u001b[40A\u001b[2K\u001b[40A\u001b[2K\u001b[40A\u001b[2K\u001b[40A\u001b[2K\u001b[40A\u001b[2K\u001b[40A\u001b[2K\u001b[40A\u001b[2Klatest: digest: sha256:0b0f3cbd7de06937255e23e0448cc2de1fa3617cdea61481b1d9ba39eb773483 size: 9118\n"
     ]
    }
   ],
   "source": [
    "! docker push $IMAGE_URI"
   ]
  },
  {
   "cell_type": "code",
   "execution_count": null,
   "id": "be1a06cc-2a91-456f-8050-bc275fc15e84",
   "metadata": {},
   "outputs": [],
   "source": []
  },
  {
   "cell_type": "code",
   "execution_count": null,
   "id": "79fca736-bc4a-4c2f-8c37-6bbef5455f68",
   "metadata": {},
   "outputs": [],
   "source": []
  }
 ],
 "metadata": {
  "environment": {
   "kernel": "python3",
   "name": "common-cpu.m115",
   "type": "gcloud",
   "uri": "gcr.io/deeplearning-platform-release/base-cpu:m115"
  },
  "kernelspec": {
   "display_name": "Python 3",
   "language": "python",
   "name": "python3"
  },
  "language_info": {
   "codemirror_mode": {
    "name": "ipython",
    "version": 3
   },
   "file_extension": ".py",
   "mimetype": "text/x-python",
   "name": "python",
   "nbconvert_exporter": "python",
   "pygments_lexer": "ipython3",
   "version": "3.10.13"
  }
 },
 "nbformat": 4,
 "nbformat_minor": 5
}
