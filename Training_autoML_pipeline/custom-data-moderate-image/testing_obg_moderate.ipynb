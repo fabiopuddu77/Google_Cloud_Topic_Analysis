{
 "cells": [
  {
   "cell_type": "code",
   "execution_count": 8,
   "id": "585039b4-7704-4f8c-8921-70dbc4ca0d77",
   "metadata": {
    "tags": []
   },
   "outputs": [],
   "source": [
    "from moderate import GCSTextModerationLoader"
   ]
  },
  {
   "cell_type": "code",
   "execution_count": null,
   "id": "76adcdd6-e70e-4aa5-a8d6-7e8d86bb4f30",
   "metadata": {},
   "outputs": [],
   "source": []
  },
  {
   "cell_type": "code",
   "execution_count": 9,
   "id": "055f4837-5e7c-4114-af23-cf60274994a9",
   "metadata": {
    "tags": []
   },
   "outputs": [],
   "source": [
    "import logging\n",
    "bucket_name = 'ccai-storage'\n",
    "file_path = 'pipeline/step3_pipeline.parquet'\n",
    "folder = 'pipeline'\n",
    "logging.basicConfig(level=logging.INFO, format='%(levelname)s: %(message)s\\n')\n",
    "\n",
    "output_moderate = 'step4_pipeline.parquet'\n",
    "text_column = 'body_pre'\n",
    "num_doc=10\n"
   ]
  },
  {
   "cell_type": "code",
   "execution_count": 10,
   "id": "39689cd1-3ce6-4e77-98de-62f30831b663",
   "metadata": {
    "tags": []
   },
   "outputs": [
    {
     "name": "stderr",
     "output_type": "stream",
     "text": [
      "INFO: Extracting Moderate\n",
      "\n"
     ]
    },
    {
     "name": "stdout",
     "output_type": "stream",
     "text": [
      "Extracting Moderate\n"
     ]
    },
    {
     "name": "stderr",
     "output_type": "stream",
     "text": [
      "INFO: Moderate extracted - process completed and file saved to GCS.\n",
      "\n"
     ]
    },
    {
     "name": "stdout",
     "output_type": "stream",
     "text": [
      "Moderate extracted - process completed and file saved to GCS.\n"
     ]
    },
    {
     "data": {
      "text/plain": [
       "'step4_pipeline.parquet'"
      ]
     },
     "execution_count": 10,
     "metadata": {},
     "output_type": "execute_result"
    }
   ],
   "source": [
    "analyzer = GCSTextModerationLoader(bucket_name=bucket_name, file_path=file_path,\n",
    "                                folder=folder, parquet_file_name=output_moderate, text_column=text_column, num_doc=num_doc)\n",
    "analyzer.process()"
   ]
  },
  {
   "cell_type": "code",
   "execution_count": null,
   "id": "e42fc4cf-c839-4624-b451-ef1bfb05f310",
   "metadata": {},
   "outputs": [],
   "source": []
  },
  {
   "cell_type": "code",
   "execution_count": null,
   "id": "067378e1-9b4a-4c14-92bb-594c1fc4be4e",
   "metadata": {},
   "outputs": [],
   "source": []
  },
  {
   "cell_type": "code",
   "execution_count": null,
   "id": "6cb5a3ff-335b-48c5-ad82-321b422adfdb",
   "metadata": {},
   "outputs": [],
   "source": []
  }
 ],
 "metadata": {
  "environment": {
   "kernel": "python3",
   "name": "common-cpu.m115",
   "type": "gcloud",
   "uri": "gcr.io/deeplearning-platform-release/base-cpu:m115"
  },
  "kernelspec": {
   "display_name": "Python 3",
   "language": "python",
   "name": "python3"
  },
  "language_info": {
   "codemirror_mode": {
    "name": "ipython",
    "version": 3
   },
   "file_extension": ".py",
   "mimetype": "text/x-python",
   "name": "python",
   "nbconvert_exporter": "python",
   "pygments_lexer": "ipython3",
   "version": "3.10.13"
  }
 },
 "nbformat": 4,
 "nbformat_minor": 5
}
