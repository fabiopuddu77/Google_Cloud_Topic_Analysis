{
 "cells": [
  {
   "cell_type": "code",
   "execution_count": 1,
   "id": "b147d60f-705a-40f5-8864-e722b11a26e4",
   "metadata": {},
   "outputs": [],
   "source": [
    "PROJECT_ID = 'gcp-ccai-auto-ml-contactcenter'\n",
    "REGION= \"europe-west3\"\n",
    "REPO_NAME = \"repo-demo3\"\n",
    "SERVICE_ACCOUNT = \"944308723981-compute@developer.gserviceaccount.com\"\n",
    "BUCKET_URI = f\"gs://ccai-storage\""
   ]
  },
  {
   "cell_type": "code",
   "execution_count": 2,
   "id": "b2d89eb2-a69d-46ad-abe8-442eacc51f67",
   "metadata": {},
   "outputs": [],
   "source": [
    "APPLICATION_DIR = \"custom-data-sentiment-image\"\n",
    "PROCESSING_DIR = f\"{APPLICATION_DIR}/processing\""
   ]
  },
  {
   "cell_type": "code",
   "execution_count": 3,
   "id": "60f5ce7e-ee59-4678-88e2-dc85df4c4f96",
   "metadata": {},
   "outputs": [
    {
     "name": "stdout",
     "output_type": "stream",
     "text": [
      "Overwriting custom-data-sentiment-image/Dockerfile\n"
     ]
    }
   ],
   "source": [
    "%%writefile {APPLICATION_DIR}/Dockerfile\n",
    "\n",
    "FROM us-docker.pkg.dev/deeplearning-platform-release/gcr.io/base-cu113.py310\n",
    "\n",
    "WORKDIR /\n",
    "\n",
    "COPY requirements.txt /\n",
    "\n",
    "# Installs hypertune library\n",
    "RUN pip install -r requirements.txt\n",
    "\n",
    "# Copies the trainer code to the Docker image.\n",
    "COPY processing /processing"
   ]
  },
  {
   "cell_type": "code",
   "execution_count": 4,
   "id": "0e1a643c-7e7c-4c3c-8a14-84e16c0e5a78",
   "metadata": {},
   "outputs": [
    {
     "name": "stdout",
     "output_type": "stream",
     "text": [
      "\u001b[1;31mERROR:\u001b[0m (gcloud.artifacts.repositories.create) ALREADY_EXISTS: the repository already exists\n"
     ]
    }
   ],
   "source": [
    "!gcloud artifacts repositories create $REPO_NAME --repository-format=docker \\\n",
    "--location=$REGION --description=\"Docker repository\""
   ]
  },
  {
   "cell_type": "code",
   "execution_count": 5,
   "id": "42a4a773-294d-48c1-bbf7-5fb5f062402c",
   "metadata": {},
   "outputs": [],
   "source": [
    "IMAGE_URI = (\n",
    "    f\"{REGION}-docker.pkg.dev/{PROJECT_ID}/{REPO_NAME}/data_sentiment:latest\"\n",
    ")"
   ]
  },
  {
   "cell_type": "code",
   "execution_count": 6,
   "id": "b54edc4c-23e9-4a71-b5ea-d62bf84f2513",
   "metadata": {},
   "outputs": [
    {
     "name": "stdout",
     "output_type": "stream",
     "text": [
      "/home/jupyter/fabio/training_autoML_pipeline/custom-data-sentiment-image\n"
     ]
    }
   ],
   "source": [
    "cd $APPLICATION_DIR"
   ]
  },
  {
   "cell_type": "code",
   "execution_count": 7,
   "id": "c5bc1949-de98-40b0-ba91-3aec38949742",
   "metadata": {},
   "outputs": [
    {
     "name": "stdout",
     "output_type": "stream",
     "text": [
      "Sending build context to Docker daemon  58.88kB\n",
      "Step 1/5 : FROM us-docker.pkg.dev/deeplearning-platform-release/gcr.io/base-cu113.py310\n",
      " ---> 039eb2919b37\n",
      "Step 2/5 : WORKDIR /\n",
      " ---> Using cache\n",
      " ---> eb5e1d2a1fa8\n",
      "Step 3/5 : COPY requirements.txt /\n",
      " ---> Using cache\n",
      " ---> b2d930b4ff46\n",
      "Step 4/5 : RUN pip install -r requirements.txt\n",
      " ---> Using cache\n",
      " ---> 8bae61c7c46f\n",
      "Step 5/5 : COPY processing /processing\n",
      " ---> 6b4462046d85\n",
      "Successfully built 6b4462046d85\n",
      "Successfully tagged europe-west3-docker.pkg.dev/gcp-ccai-auto-ml-contactcenter/repo-demo3/data_sentiment:latest\n"
     ]
    }
   ],
   "source": [
    "! docker build ./ -t $IMAGE_URI"
   ]
  },
  {
   "cell_type": "code",
   "execution_count": 8,
   "id": "7d8c4348-b958-4423-b724-830f634fd6c9",
   "metadata": {},
   "outputs": [
    {
     "name": "stdout",
     "output_type": "stream",
     "text": [
      "\u001b[1;33mWARNING:\u001b[0m Your config file at [/home/jupyter/.docker/config.json] contains these credential helper entries:\n",
      "\n",
      "{\n",
      "  \"credHelpers\": {\n",
      "    \"gcr.io\": \"gcloud\",\n",
      "    \"us.gcr.io\": \"gcloud\",\n",
      "    \"eu.gcr.io\": \"gcloud\",\n",
      "    \"asia.gcr.io\": \"gcloud\",\n",
      "    \"staging-k8s.gcr.io\": \"gcloud\",\n",
      "    \"marketplace.gcr.io\": \"gcloud\",\n",
      "    \"europe-west3-docker.pkg.dev\": \"gcloud\"\n",
      "  }\n",
      "}\n",
      "Adding credentials for: europe-west3-docker.pkg.dev\n",
      "gcloud credential helpers already registered correctly.\n"
     ]
    }
   ],
   "source": [
    "! gcloud auth configure-docker {REGION}-docker.pkg.dev --quiet"
   ]
  },
  {
   "cell_type": "code",
   "execution_count": 9,
   "id": "22d3913b-9ca4-4291-a5f5-8663f44fbaa2",
   "metadata": {},
   "outputs": [
    {
     "name": "stdout",
     "output_type": "stream",
     "text": [
      "The push refers to repository [europe-west3-docker.pkg.dev/gcp-ccai-auto-ml-contactcenter/repo-demo3/data_sentiment]\n",
      "\n",
      "\u001b[1B18824d3f: Preparing \n",
      "\u001b[1Bbe4efcd5: Preparing \n",
      "\u001b[1B2531ecbd: Preparing \n",
      "\u001b[1B0840b95b: Preparing \n",
      "\u001b[1B625a528c: Preparing \n",
      "\u001b[1B1351140a: Preparing \n",
      "\u001b[1Bbf18a086: Preparing \n",
      "\u001b[1B82771da2: Preparing \n",
      "\u001b[1B57952521: Preparing \n",
      "\u001b[1B6a5b98f7: Preparing \n",
      "\u001b[1Bbd61aa20: Preparing \n",
      "\u001b[1B5ef9c8b3: Preparing \n",
      "\u001b[1Ba870a840: Preparing \n",
      "\u001b[1B43031e88: Preparing \n",
      "\u001b[1Bab4e5392: Preparing \n",
      "\u001b[1B07dc0b52: Preparing \n",
      "\u001b[1Bdcdb0172: Preparing \n",
      "\u001b[1B379a4282: Preparing \n",
      "\u001b[1Baea69765: Preparing \n",
      "\u001b[1B6aad04a1: Preparing \n",
      "\u001b[1Bdfc3b824: Preparing \n",
      "\u001b[1B4c2a35b9: Preparing \n",
      "\u001b[1Be90090ea: Preparing \n",
      "\u001b[1B3da23f15: Preparing \n",
      "\u001b[19Bf18a086: Waiting g \n",
      "\u001b[1Bb784db22: Preparing \n",
      "\u001b[21Bf18a086: Preparing \n",
      "\u001b[20B7952521: Waiting g \n",
      "\u001b[17B870a840: Waiting g \n",
      "\u001b[1Bf5722498: Preparing \n",
      "\u001b[18B3031e88: Waiting g \n",
      "\u001b[18Bb4e5392: Waiting g \n",
      "\u001b[23Bd61aa20: Waiting g \n",
      "\u001b[19B7dc0b52: Waiting g \n",
      "\u001b[1Ba8f43981: Preparing \n",
      "\u001b[20Bcdb0172: Waiting g \n",
      "\u001b[26Bef9c8b3: Waiting g \n",
      "\u001b[21B79a4282: Waiting g \n",
      "\u001b[1Bda122002: Preparing \n",
      "\u001b[22Bea69765: Waiting g \n",
      "\u001b[1B7df31590: Layer already exists 4kB\u001b[40A\u001b[2K\u001b[36A\u001b[2K\u001b[33A\u001b[2K\u001b[29A\u001b[2K\u001b[24A\u001b[2K\u001b[20A\u001b[2K\u001b[15A\u001b[2K\u001b[9A\u001b[2K\u001b[3A\u001b[2Klatest: digest: sha256:6140fea287ee2e608c2123a4fe4cf3bfdfef0e13ff4a1fb126eeecf3813c3a3a size: 9115\n"
     ]
    }
   ],
   "source": [
    "! docker push $IMAGE_URI"
   ]
  },
  {
   "cell_type": "code",
   "execution_count": null,
   "id": "6095cde3-c691-4d5a-950e-ad90eaed17aa",
   "metadata": {},
   "outputs": [],
   "source": []
  },
  {
   "cell_type": "code",
   "execution_count": null,
   "id": "ec8b613b-a38b-4a3a-a813-12e4bbab9cf0",
   "metadata": {},
   "outputs": [],
   "source": []
  },
  {
   "cell_type": "code",
   "execution_count": null,
   "id": "84809c85-494e-4fe1-8d19-c5e62d5226c8",
   "metadata": {},
   "outputs": [],
   "source": []
  },
  {
   "cell_type": "code",
   "execution_count": null,
   "id": "e2b818fb-e014-4f45-ab05-455c22e2d09e",
   "metadata": {},
   "outputs": [],
   "source": []
  },
  {
   "cell_type": "code",
   "execution_count": null,
   "id": "7b5e184c-91f3-4363-8aba-d8def0e09b45",
   "metadata": {},
   "outputs": [],
   "source": []
  },
  {
   "cell_type": "code",
   "execution_count": null,
   "id": "2201f8e4-e488-460d-9b4d-623856e925c6",
   "metadata": {},
   "outputs": [],
   "source": []
  },
  {
   "cell_type": "code",
   "execution_count": null,
   "id": "5d53b4ff-8029-4f26-bd8d-13db76dd83aa",
   "metadata": {},
   "outputs": [],
   "source": []
  },
  {
   "cell_type": "code",
   "execution_count": null,
   "id": "b017af19-9cf3-46b7-86f7-a49401c98c7e",
   "metadata": {},
   "outputs": [],
   "source": []
  },
  {
   "cell_type": "code",
   "execution_count": null,
   "id": "4b2dd0ed-90b2-4554-a848-d3ace590f7c2",
   "metadata": {},
   "outputs": [],
   "source": []
  },
  {
   "cell_type": "code",
   "execution_count": null,
   "id": "49055049-8769-4880-b727-0ce93981d3a7",
   "metadata": {},
   "outputs": [],
   "source": []
  },
  {
   "cell_type": "code",
   "execution_count": null,
   "id": "e995b497-4b24-4aa3-b37b-cec5dce631fc",
   "metadata": {},
   "outputs": [],
   "source": []
  },
  {
   "cell_type": "code",
   "execution_count": null,
   "id": "e23c2a28-9a62-4df2-8af3-3b3e705dcc8b",
   "metadata": {},
   "outputs": [],
   "source": []
  },
  {
   "cell_type": "code",
   "execution_count": null,
   "id": "06630bda-26bd-4e3c-8ffb-3220995f8c52",
   "metadata": {},
   "outputs": [],
   "source": []
  },
  {
   "cell_type": "code",
   "execution_count": null,
   "id": "6ceaf6de-2aa7-4569-80fc-bf15a14b4ae8",
   "metadata": {},
   "outputs": [],
   "source": []
  },
  {
   "cell_type": "code",
   "execution_count": null,
   "id": "83e53819-3cb6-417a-9f49-bdfee43b7253",
   "metadata": {},
   "outputs": [],
   "source": []
  },
  {
   "cell_type": "code",
   "execution_count": null,
   "id": "3420fc12-caa9-4bd3-b866-9325ec8de840",
   "metadata": {},
   "outputs": [],
   "source": []
  },
  {
   "cell_type": "code",
   "execution_count": null,
   "id": "ebf1699b-875b-4cf4-80d0-3c29bf3180db",
   "metadata": {},
   "outputs": [],
   "source": []
  },
  {
   "cell_type": "code",
   "execution_count": null,
   "id": "0ea0e54b-c94c-45bd-83b0-3c7df8f7281c",
   "metadata": {},
   "outputs": [],
   "source": []
  },
  {
   "cell_type": "code",
   "execution_count": null,
   "id": "19e7b845-d566-489a-9ee3-617f3b313ae2",
   "metadata": {},
   "outputs": [],
   "source": []
  },
  {
   "cell_type": "code",
   "execution_count": null,
   "id": "4409b8f5-260c-4da2-b0ff-35515487c16f",
   "metadata": {},
   "outputs": [],
   "source": []
  },
  {
   "cell_type": "code",
   "execution_count": null,
   "id": "0113ac05-5e90-43a7-9ca9-62dd9cb1f268",
   "metadata": {},
   "outputs": [],
   "source": []
  }
 ],
 "metadata": {
  "environment": {
   "kernel": "python3",
   "name": "common-cpu.m115",
   "type": "gcloud",
   "uri": "gcr.io/deeplearning-platform-release/base-cpu:m115"
  },
  "kernelspec": {
   "display_name": "Python 3",
   "language": "python",
   "name": "python3"
  },
  "language_info": {
   "codemirror_mode": {
    "name": "ipython",
    "version": 3
   },
   "file_extension": ".py",
   "mimetype": "text/x-python",
   "name": "python",
   "nbconvert_exporter": "python",
   "pygments_lexer": "ipython3",
   "version": "3.10.13"
  }
 },
 "nbformat": 4,
 "nbformat_minor": 5
}
