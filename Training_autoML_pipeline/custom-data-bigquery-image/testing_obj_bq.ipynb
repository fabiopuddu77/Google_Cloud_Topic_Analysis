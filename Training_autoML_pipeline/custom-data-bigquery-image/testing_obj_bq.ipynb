{
 "cells": [
  {
   "cell_type": "code",
   "execution_count": 1,
   "id": "b23345e8-8b96-4656-95b7-c2e6e834b8d8",
   "metadata": {
    "tags": []
   },
   "outputs": [],
   "source": [
    "from processing.bigquery import GCS_Bigquery"
   ]
  },
  {
   "cell_type": "code",
   "execution_count": 2,
   "id": "4de82ff5-fb83-442b-a584-783094c02fd0",
   "metadata": {
    "tags": []
   },
   "outputs": [
    {
     "name": "stderr",
     "output_type": "stream",
     "text": [
      "INFO: Start loading DataFrame from step5_pipeline.parquet\n",
      "\n",
      "INFO: Loaded DataFrame from step5_pipeline.parquet\n",
      "\n"
     ]
    },
    {
     "name": "stdout",
     "output_type": "stream",
     "text": [
      "Start loading DataFrame from step5_pipeline.parquet\n",
      "Loaded DataFrame from step5_pipeline.parquet\n",
      "Loaded 10 rows into BigQuery table: gcp-ccai-auto-ml-contactcenter.datasetnlp.stepfinalbq\n"
     ]
    },
    {
     "data": {
      "text/plain": [
       "'stepfinalbq'"
      ]
     },
     "execution_count": 2,
     "metadata": {},
     "output_type": "execute_result"
    }
   ],
   "source": [
    "import logging\n",
    "PROJECT_ID = 'gcp-ccai-auto-ml-contactcenter' \n",
    "bucket_name = 'ccai-storage'\n",
    "file_path = 'step5_pipeline.parquet'\n",
    "folder = 'pipeline'\n",
    "parquet_file_name = 'pipeline/step_final_bq.parquet'\n",
    "dataset_id = \"datasetnlp\"\n",
    "table_id = \"stepfinalbq\"\n",
    "location = \"europe-west3\"\n",
    "\n",
    "logging.basicConfig(level=logging.INFO, format='%(levelname)s: %(message)s\\n')\n",
    "\n",
    "processor = GCS_Bigquery(bucket_name=bucket_name, file_path=file_path, folder=folder, parquet_file_name=parquet_file_name, \n",
    "                         project_id=PROJECT_ID, dataset_id=dataset_id, table_id=table_id, location=location)\n",
    "\n",
    "    \n",
    "bigquery_table_out = processor.upload_dataframe_to_bigquery()\n",
    "big_query_gcs = bigquery_table_out\n",
    "big_query_gcs"
   ]
  },
  {
   "cell_type": "code",
   "execution_count": null,
   "id": "5d71567e-d82e-4297-90f0-d4c97d06d491",
   "metadata": {},
   "outputs": [],
   "source": []
  }
 ],
 "metadata": {
  "environment": {
   "kernel": "python3",
   "name": "common-cpu.m115",
   "type": "gcloud",
   "uri": "gcr.io/deeplearning-platform-release/base-cpu:m115"
  },
  "kernelspec": {
   "display_name": "Python 3",
   "language": "python",
   "name": "python3"
  },
  "language_info": {
   "codemirror_mode": {
    "name": "ipython",
    "version": 3
   },
   "file_extension": ".py",
   "mimetype": "text/x-python",
   "name": "python",
   "nbconvert_exporter": "python",
   "pygments_lexer": "ipython3",
   "version": "3.10.13"
  }
 },
 "nbformat": 4,
 "nbformat_minor": 5
}
