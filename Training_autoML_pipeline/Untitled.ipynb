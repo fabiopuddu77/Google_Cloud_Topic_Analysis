{
 "cells": [
  {
   "cell_type": "code",
   "execution_count": 7,
   "id": "ca8d00c9-3522-4978-ad74-6a9a3f1daa69",
   "metadata": {
    "tags": []
   },
   "outputs": [
    {
     "name": "stdout",
     "output_type": "stream",
     "text": [
      "\u001b[1;31mERROR:\u001b[0m (gcloud.source.repos.clone) Directory path specified exists and is not empty\n"
     ]
    }
   ],
   "source": [
    "! gcloud source repos clone end-to-end-auto-ml-demo3 --project=gcp-ccai-auto-ml-contactcenter"
   ]
  },
  {
   "cell_type": "code",
   "execution_count": 6,
   "id": "05c0da2c-e150-452f-ac9a-6fe18804717c",
   "metadata": {
    "tags": []
   },
   "outputs": [
    {
     "name": "stdout",
     "output_type": "stream",
     "text": [
      "error: No such remote: 'origin'\n"
     ]
    }
   ],
   "source": [
    "! git remote rm origin"
   ]
  },
  {
   "cell_type": "code",
   "execution_count": null,
   "id": "ff2b7fa0-a548-4f4b-9515-19e457275836",
   "metadata": {
    "tags": []
   },
   "outputs": [
    {
     "name": "stdout",
     "output_type": "stream",
     "text": [
      "\u001b[32mINFO\u001b[0m:     Will watch for changes in these directories: ['/home/jupyter/gcp-ccai-auto-ml-contactcenter/End-to-end-AutoML-Topic-Classification/Training_autoML_pipeline']\n",
      "\u001b[32mINFO\u001b[0m:     Uvicorn running on \u001b[1mhttp://127.0.0.1:8081\u001b[0m (Press CTRL+C to quit)\n",
      "\u001b[32mINFO\u001b[0m:     Started reloader process [\u001b[36m\u001b[1m854666\u001b[0m] using \u001b[36m\u001b[1mWatchFiles\u001b[0m\n",
      "\u001b[31mERROR\u001b[0m:    Error loading ASGI app. Could not import module \"app\".\n"
     ]
    }
   ],
   "source": [
    "! uvicorn app:app --reload --port 8081"
   ]
  },
  {
   "cell_type": "code",
   "execution_count": null,
   "id": "141a5750-5c34-4c1b-ada8-fcbf9b964c29",
   "metadata": {
    "tags": []
   },
   "outputs": [],
   "source": [
    "! pwd"
   ]
  },
  {
   "cell_type": "code",
   "execution_count": null,
   "id": "cde3d235-8241-412a-99fc-6915d244bf28",
   "metadata": {},
   "outputs": [],
   "source": []
  }
 ],
 "metadata": {
  "environment": {
   "kernel": "python3",
   "name": "common-cpu.m115",
   "type": "gcloud",
   "uri": "gcr.io/deeplearning-platform-release/base-cpu:m115"
  },
  "kernelspec": {
   "display_name": "Python 3",
   "language": "python",
   "name": "python3"
  },
  "language_info": {
   "codemirror_mode": {
    "name": "ipython",
    "version": 3
   },
   "file_extension": ".py",
   "mimetype": "text/x-python",
   "name": "python",
   "nbconvert_exporter": "python",
   "pygments_lexer": "ipython3",
   "version": "3.10.13"
  }
 },
 "nbformat": 4,
 "nbformat_minor": 5
}
