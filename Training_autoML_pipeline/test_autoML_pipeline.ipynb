{
 "cells": [
  {
   "cell_type": "code",
   "execution_count": 1,
   "id": "3bcf1a69-8a28-48b4-8d53-334b8465741c",
   "metadata": {
    "tags": []
   },
   "outputs": [
    {
     "name": "stderr",
     "output_type": "stream",
     "text": [
      "/var/tmp/ipykernel_1580561/450478126.py:4: DeprecationWarning: The module `kfp.v2` is deprecated and will be removed in a futureversion. Please import directly from the `kfp` namespace, instead of `kfp.v2`.\n",
      "  from kfp.v2 import compiler\n"
     ]
    }
   ],
   "source": [
    "from google.cloud import aiplatform\n",
    "from datetime import datetime\n",
    "import kfp\n",
    "from kfp.v2 import compiler\n",
    "#import kfp.v2.dsl as dsl\n",
    "#import google_cloud_pipeline_components as gcc_aip\n",
    "from google_cloud_pipeline_components.v1.dataset import TabularDatasetCreateOp\n",
    "from google_cloud_pipeline_components.v1.automl.training_job import AutoMLTabularTrainingJobRunOp\n",
    "from google_cloud_pipeline_components.v1.endpoint import EndpointCreateOp, ModelDeployOp\n",
    "\n",
    "from google.cloud import bigquery\n",
    "from google.protobuf import json_format\n",
    "from google.protobuf.struct_pb2 import Value\n",
    "import json\n",
    "import numpy as np"
   ]
  },
  {
   "cell_type": "code",
   "execution_count": 2,
   "id": "27818c01-ab44-4fc6-841d-89807ce6a0b1",
   "metadata": {
    "tags": []
   },
   "outputs": [
    {
     "data": {
      "text/plain": [
       "'gcp-ccai-auto-ml-contactcenter'"
      ]
     },
     "execution_count": 2,
     "metadata": {},
     "output_type": "execute_result"
    }
   ],
   "source": [
    "project = !gcloud config get-value project\n",
    "PROJECT_ID = project[0]\n",
    "PROJECT_ID"
   ]
  },
  {
   "cell_type": "code",
   "execution_count": 3,
   "id": "a879e5bf-9705-4010-83f1-9c42c6e50557",
   "metadata": {
    "tags": []
   },
   "outputs": [
    {
     "data": {
      "text/plain": [
       "'gs://ccai-storage/pipeline_root/'"
      ]
     },
     "execution_count": 3,
     "metadata": {},
     "output_type": "execute_result"
    }
   ],
   "source": [
    "PROJECT_ID = 'gcp-ccai-auto-ml-contactcenter'\n",
    "REGION= \"europe-west3\"\n",
    "REPO_NAME = \"repo-demo3\"\n",
    "SERVICE_ACCOUNT = \"944308723981-compute@developer.gserviceaccount.com\"\n",
    "BUCKET = \"ccai-storage\"\n",
    "PIPELINE_NAME = \"automl_pipeline\"\n",
    "YAML_NAME = f\"{PIPELINE_NAME}.yml\"\n",
    "PIPELINE_ROOT = f\"gs://{BUCKET}/pipeline_root/\"\n",
    "DISPLAY_NAME = PIPELINE_NAME.replace(\"_\", \"-\")\n",
    "BQ_SOURCE = \"bq://gcp-ccai-auto-ml-contactcenter.dataset_nlp.step_final_bq\"\n",
    "NOTEBOOK = \"automl\"\n",
    "DATANAME = \"datasetnlp\"\n",
    "BQ_NAME = \"finaldf5\"\n",
    "PIPELINE_ROOT"
   ]
  },
  {
   "cell_type": "code",
   "execution_count": 4,
   "id": "ac2c812a-554a-4d9f-9516-2f61ffd15fde",
   "metadata": {
    "tags": []
   },
   "outputs": [],
   "source": [
    "TIMESTAMP = datetime.now().strftime(\"%Y%m%d%H%M%S\")\n",
    "\n",
    "URI = f\"gs://{BUCKET}/{DATANAME}/models/{NOTEBOOK}\"\n",
    "DIR = f\"temp/{NOTEBOOK}\""
   ]
  },
  {
   "cell_type": "raw",
   "id": "8161213f-79f0-47ad-bc44-112bb2610b35",
   "metadata": {
    "tags": []
   },
   "source": [
    "# Resources\n",
    "DEPLOY_COMPUTE = 'n1-standard-2'\n",
    "\n",
    "# Model Training\n",
    "VAR_TARGET = 'topic'\n",
    "VAR_OMIT = 'uri' 'url' 'title' 'body' 'date' 'time' 'dateTime' 'dateTimePub' 'lang' 'isDuplicate' 'dataType' 'sentiment' 'eventUri' 'relevance' 'image' 'authors' 'sharesFacebook' 'sourceTitle' 'sourceLocationLabel' 'categoryLabels' 'categoryWeights' 'importanceRank' 'alexaGlobalRank' 'alexaCountryRank' 'date_column' 'year' 'month' 'year_month' 'split' 'score' 'magnitude' 'num_documents' 'Toxic' 'Insult' 'Profanity' 'Derogatory' 'Sexual' 'Death_Harm__Tragedy' 'Violent' 'Firearms__Weapons' 'Public_Safety' 'Health' 'Religion__Belief' 'Illicit_Drugs' 'War__Conflict' 'Politics' 'Finance' 'Legal' 'PERSON' 'OTHER' 'ORGANIZATION' 'EVENT' 'LOCATION' 'WORK_OF_ART' 'CONSUMER_GOOD' 'NUMBER' 'DATE' 'PERSON_mean_salience' 'OTHER_mean_salience' 'ORGANIZATION_mean_salience' 'EVENT_mean_salience' 'LOCATION_mean_salience' 'WORK_OF_ART_mean_salience' 'CONSUMER_GOOD_mean_salience' 'NUMBER_mean_salience' 'DATE_mean_salience' 'PRICE' 'PRICE_mean_salience' 'ADDRESS' 'ADDRESS_mean_salience' 'PHONE_NUMBER' 'PHONE_NUMBER_mean_salience'# add more variables to the string with space delimiters"
   ]
  },
  {
   "cell_type": "code",
   "execution_count": 76,
   "id": "cc7697d8-3766-49c1-b609-fbca19bd3bb9",
   "metadata": {
    "tags": []
   },
   "outputs": [],
   "source": [
    "# Resources\n",
    "DEPLOY_COMPUTE = 'n1-standard-4'\n",
    "\n",
    "# Model Training\n",
    "VAR_TARGET = 'topic'\n",
    "VAR_OMIT = (\n",
    "    'uri,url,title,body,time,dateTime,dateTimePub,lang,isDuplicate,dataType,sentiment,' +\n",
    "    'eventUri,image,authors,sharesFacebook,' +\n",
    "    'sourceLocationLabel,categoryLabels,' +\n",
    "    'categoryWeights,alexaGlobalRank,' +\n",
    "    'alexaCountryRank,date_column,year,year_month,' +\n",
    "    'num_documents,' +\n",
    "    'PERSON,OTHER,ORGANIZATION,' +\n",
    "    'EVENT,LOCATION,WORK_OF_ART,CONSUMER_GOOD,NUMBER,DATE,' +\n",
    "    'NUMBER_mean_salience,' +\n",
    "    'DATE_mean_salience,PRICE,ADDRESS,' +\n",
    "    'ADDRESS_mean_salience,PHONE_NUMBER,PHONE_NUMBER_mean_salience'\n",
    ")\n",
    "\n",
    "COLUMN_TOPICK = \"shares_scaled, body_pre\""
   ]
  },
  {
   "cell_type": "code",
   "execution_count": 47,
   "id": "7ac330fe-fa75-4916-94db-b6fa09e3f66a",
   "metadata": {
    "tags": []
   },
   "outputs": [],
   "source": [
    "aiplatform.init(project=PROJECT_ID, location=REGION)\n",
    "bq = bigquery.Client()"
   ]
  },
  {
   "cell_type": "code",
   "execution_count": 48,
   "id": "92ef5d29-560b-4a27-aee1-25f602687a83",
   "metadata": {
    "tags": []
   },
   "outputs": [
    {
     "data": {
      "text/plain": [
       "'gs://ccai-storage/datasetnlp/models/automl'"
      ]
     },
     "execution_count": 48,
     "metadata": {},
     "output_type": "execute_result"
    }
   ],
   "source": [
    "TIMESTAMP = datetime.now().strftime(\"%Y%m%d%H%M%S\")\n",
    "\n",
    "URI = f\"gs://{BUCKET}/{DATASET}/models/{NOTEBOOK}\"\n",
    "DIR = f\"temp/{NOTEBOOK}\"\n",
    "URI\n"
   ]
  },
  {
   "cell_type": "code",
   "execution_count": 49,
   "id": "82d8d6db-45a0-401f-8fc9-f22abab002c2",
   "metadata": {
    "tags": []
   },
   "outputs": [
    {
     "data": {
      "text/plain": [
       "'944308723981-compute@developer.gserviceaccount.com'"
      ]
     },
     "execution_count": 49,
     "metadata": {},
     "output_type": "execute_result"
    }
   ],
   "source": [
    "SERVICE_ACCOUNT = !gcloud config list --format='value(core.account)' \n",
    "SERVICE_ACCOUNT = SERVICE_ACCOUNT[0]\n",
    "SERVICE_ACCOUNT"
   ]
  },
  {
   "cell_type": "code",
   "execution_count": 50,
   "id": "6b63e17d-079b-4f7d-a6e2-47e6c6445b36",
   "metadata": {
    "tags": []
   },
   "outputs": [
    {
     "name": "stdout",
     "output_type": "stream",
     "text": [
      "ROLE\n",
      "organizations/329273198709/roles/Ruolopersonalizzato\n",
      "organizations/329273198709/roles/Ruolopersonalizzato517\n",
      "roles/aiplatform.user\n",
      "roles/artifactregistry.admin\n",
      "roles/artifactregistry.createOnPushWriter\n",
      "roles/artifactregistry.writer\n",
      "roles/bigquery.admin\n",
      "roles/cloudtranslate.editor\n",
      "roles/contactcenterinsights.editor\n",
      "roles/dataflow.admin\n",
      "roles/dataflow.developer\n",
      "roles/dataflow.worker\n",
      "roles/datastore.user\n",
      "roles/dialogflow.client\n",
      "roles/pubsub.editor\n",
      "roles/securesourcemanager.repoCreator\n",
      "roles/securesourcemanager.repoWriter\n",
      "roles/source.writer\n",
      "roles/storage.objectAdmin\n",
      "roles/viewer\n"
     ]
    }
   ],
   "source": [
    "!gcloud projects get-iam-policy $PROJECT_ID --filter=\"bindings.members:$SERVICE_ACCOUNT\" --format='table(bindings.role)' --flatten=\"bindings[].members\""
   ]
  },
  {
   "cell_type": "code",
   "execution_count": 10,
   "id": "8eb39930-71d2-405b-925f-d5bd9207c8ce",
   "metadata": {
    "tags": []
   },
   "outputs": [],
   "source": [
    "!rm -rf {DIR}\n",
    "!mkdir -p {DIR}"
   ]
  },
  {
   "cell_type": "code",
   "execution_count": 11,
   "id": "b6dcf6d0-8433-4041-859f-4d3a7d73110c",
   "metadata": {
    "tags": []
   },
   "outputs": [],
   "source": [
    "!rm -rf {URI}\n",
    "!mkdir -p {URI}"
   ]
  },
  {
   "cell_type": "code",
   "execution_count": 12,
   "id": "b42923b0-73d8-4556-b39f-1bd3bf115ce3",
   "metadata": {
    "tags": []
   },
   "outputs": [
    {
     "data": {
      "text/plain": [
       "'europe-west3'"
      ]
     },
     "execution_count": 12,
     "metadata": {},
     "output_type": "execute_result"
    }
   ],
   "source": [
    "REGION"
   ]
  },
  {
   "cell_type": "code",
   "execution_count": 22,
   "id": "02d6ee0b-5472-4f30-b71a-dd78078a051a",
   "metadata": {
    "tags": []
   },
   "outputs": [],
   "source": [
    "\n",
    "@kfp.dsl.pipeline(\n",
    "    name = f'kfp-{NOTEBOOK}-{DATASET}-{TIMESTAMP}',\n",
    "    pipeline_root = URI+'/'+str(TIMESTAMP)+'/kfp/'\n",
    ")\n",
    "def pipeline(\n",
    "    project: str,\n",
    "    dataset: str,\n",
    "    display_name: str,\n",
    "    deploy_machine: str,\n",
    "    bq_source: str,\n",
    "    var_target: str,\n",
    "    var_omit: str,\n",
    "    features: dict,\n",
    "    labels: dict \n",
    "):\n",
    "    \n",
    "       # dataset\n",
    "    dataset = TabularDatasetCreateOp(\n",
    "        project = project,\n",
    "        display_name = display_name,\n",
    "        bq_source = bq_source,\n",
    "        labels = labels,\n",
    "        location = REGION\n",
    "    )\n",
    "    \n",
    "    # training\n",
    "    model = AutoMLTabularTrainingJobRunOp(\n",
    "        project = project,\n",
    "        display_name = display_name,\n",
    "        optimization_prediction_type = \"classification\",\n",
    "        optimization_objective=\"minimize-log-loss\",\n",
    "        budget_milli_node_hours = 1000,\n",
    "        disable_early_stopping=False,\n",
    "        column_specs = features,\n",
    "        dataset = dataset.outputs['dataset'],\n",
    "        target_column = var_target,\n",
    "        predefined_split_column_name = 'split',\n",
    "        labels = labels,\n",
    "        location = REGION\n",
    "    )\n",
    "    \n",
    "    # Endpoint: Creation\n",
    "    endpoint = EndpointCreateOp(\n",
    "        project = project,\n",
    "        display_name = display_name,\n",
    "        labels = labels,\n",
    "        location = REGION\n",
    "    )\n",
    "    \n",
    "    # Endpoint: Deployment of Model\n",
    "    deployment = ModelDeployOp(\n",
    "        model = model.outputs[\"model\"],\n",
    "        endpoint = endpoint.outputs[\"endpoint\"],\n",
    "        dedicated_resources_min_replica_count = 1,\n",
    "        dedicated_resources_max_replica_count = 1,\n",
    "        traffic_split = {\"0\": 100},\n",
    "        dedicated_resources_machine_type= deploy_machine\n",
    "    )"
   ]
  },
  {
   "cell_type": "raw",
   "id": "ba441687-e30a-4aa0-b7ae-861c917c7bed",
   "metadata": {},
   "source": [
    "endpoints_aip = aiplatform.Endpoint.list(filter=(\"display_name={}\").format(endpoint_name))\n",
    "endpoint = None if len(endpoints_aip)==0 else endpoints_aip[0]\n",
    "\n",
    "if not endpoint:\n",
    "    endpoint = aiplatform.Endpoint.create(\n",
    "         display_name=endpoint_name,\n",
    "         project=project_id,\n",
    "         location=location\n",
    "     )"
   ]
  },
  {
   "cell_type": "raw",
   "id": "1a9179a9-ba11-4a58-87ef-358a25c2f6f9",
   "metadata": {},
   "source": [
    "@kfp.dsl.pipeline(name=\"automl-tab-beans-training-v2\", \n",
    "                  pipeline_root=PIPELINE_ROOT)\n",
    "def pipeline(\n",
    "    bq_source: str = \"bq://aju-dev-demos.beans.beans1\",\n",
    "    display_name: str = DISPLAY_NAME,\n",
    "    project: str = PROJECT_ID,\n",
    "    gcp_region: str = \"us-central1\",\n",
    "    api_endpoint: str = \"us-central1-aiplatform.googleapis.com\",\n",
    "    thresholds_dict_str: str = '{\"auRoc\": 0.95}',\n",
    "):\n",
    "    dataset_create_op = gcc_aip.TabularDatasetCreateOp(\n",
    "        project=project, display_name=display_name, bq_source=bq_source\n",
    "    )\n",
    " \n",
    "    training_op = gcc_aip.AutoMLTabularTrainingJobRunOp(\n",
    "        project=project,\n",
    "        display_name=display_name,\n",
    "        optimization_prediction_type=\"classification\",\n",
    "        optimization_objective=\"minimize-log-loss\",\n",
    "        budget_milli_node_hours=1000,\n",
    "        column_transformations=[\n",
    "            {\"numeric\": {\"column_name\": \"Area\"}},\n",
    "            {\"numeric\": {\"column_name\": \"Perimeter\"}},\n",
    "            {\"numeric\": {\"column_name\": \"MajorAxisLength\"}},\n",
    "            ... other columns ...\n",
    "            {\"categorical\": {\"column_name\": \"Class\"}},\n",
    "        ],\n",
    "        dataset=dataset_create_op.outputs[\"dataset\"],\n",
    "        target_column=\"Class\",\n",
    "    )\n",
    "    model_eval_task = classif_model_eval_metrics(\n",
    "        project,\n",
    "        gcp_region,\n",
    "        api_endpoint,\n",
    "        thresholds_dict_str,\n",
    "        training_op.outputs[\"model\"],\n",
    "    )\n",
    " \n",
    "    with dsl.Condition(\n",
    "        model_eval_task.outputs[\"dep_decision\"] == \"true\",\n",
    "        name=\"deploy_decision\",\n",
    "    ):\n",
    " \n",
    "        deploy_op = gcc_aip.ModelDeployOp(  # noqa: F841\n",
    "            model=training_op.outputs[\"model\"],\n",
    "            project=project,\n",
    "            machine_type=\"n1-standard-4\",\n",
    "        )"
   ]
  },
  {
   "cell_type": "code",
   "execution_count": 23,
   "id": "9220e469-834b-4041-99d8-d231daf2f004",
   "metadata": {
    "tags": []
   },
   "outputs": [],
   "source": [
    "compiler.Compiler().compile(\n",
    "    pipeline_func = pipeline,\n",
    "    package_path = f\"{DIR}/{NOTEBOOK}.json\"\n",
    ")"
   ]
  },
  {
   "cell_type": "code",
   "execution_count": 24,
   "id": "aae40149-c9ce-4416-8a1e-4083f5864541",
   "metadata": {
    "tags": []
   },
   "outputs": [
    {
     "name": "stdout",
     "output_type": "stream",
     "text": [
      "Copying file://temp/automl/automl.json [Content-Type=application/json]...\n",
      "/ [1 files][ 47.0 KiB/ 47.0 KiB]                                                \n",
      "Operation completed over 1 objects/47.0 KiB.                                     \n"
     ]
    }
   ],
   "source": [
    "!gsutil cp {DIR}/{NOTEBOOK}.json {URI}/{TIMESTAMP}/kfp/"
   ]
  },
  {
   "cell_type": "code",
   "execution_count": 51,
   "id": "1fcbbfcd-0269-439f-aaac-ec26831d33b7",
   "metadata": {
    "tags": []
   },
   "outputs": [],
   "source": [
    "# get feature names\n",
    "query = f\"SELECT * FROM {DATASET}.INFORMATION_SCHEMA.COLUMNS WHERE TABLE_NAME = '{BQ_NAME}'\"\n",
    "schema = bq.query(query).to_dataframe()\n",
    "OMIT = VAR_OMIT.split(\",\") + [VAR_TARGET, 'split']\n",
    "features = schema[~schema.column_name.isin(OMIT)].column_name.tolist()\n",
    "features = dict.fromkeys(features, 'auto')"
   ]
  },
  {
   "cell_type": "code",
   "execution_count": 52,
   "id": "b2721c98-62d9-458f-94f6-382b4adda7fb",
   "metadata": {
    "tags": []
   },
   "outputs": [
    {
     "data": {
      "text/plain": [
       "{'relevance': 'auto',\n",
       " 'sourceTitle': 'auto',\n",
       " 'importanceRank': 'auto',\n",
       " 'month': 'auto',\n",
       " 'shares_scaled': 'auto',\n",
       " 'body_pre': 'auto',\n",
       " 'score': 'auto',\n",
       " 'magnitude': 'auto',\n",
       " 'Toxic': 'auto',\n",
       " 'Insult': 'auto',\n",
       " 'Profanity': 'auto',\n",
       " 'Derogatory': 'auto',\n",
       " 'Sexual': 'auto',\n",
       " 'Death_Harm__Tragedy': 'auto',\n",
       " 'Violent': 'auto',\n",
       " 'Firearms__Weapons': 'auto',\n",
       " 'Public_Safety': 'auto',\n",
       " 'Health': 'auto',\n",
       " 'Religion__Belief': 'auto',\n",
       " 'Illicit_Drugs': 'auto',\n",
       " 'War__Conflict': 'auto',\n",
       " 'Politics': 'auto',\n",
       " 'Finance': 'auto',\n",
       " 'Legal': 'auto',\n",
       " 'PERSON_mean_salience': 'auto',\n",
       " 'OTHER_mean_salience': 'auto',\n",
       " 'ORGANIZATION_mean_salience': 'auto',\n",
       " 'EVENT_mean_salience': 'auto',\n",
       " 'LOCATION_mean_salience': 'auto',\n",
       " 'WORK_OF_ART_mean_salience': 'auto',\n",
       " 'CONSUMER_GOOD_mean_salience': 'auto',\n",
       " 'PRICE_mean_salience': 'auto'}"
      ]
     },
     "execution_count": 52,
     "metadata": {},
     "output_type": "execute_result"
    }
   ],
   "source": [
    "features"
   ]
  },
  {
   "cell_type": "code",
   "execution_count": 27,
   "id": "470a6d39-a8f0-46f0-a2d2-bed413907209",
   "metadata": {
    "tags": []
   },
   "outputs": [],
   "source": [
    "pipeline = aiplatform.PipelineJob(\n",
    "    display_name = f'{NOTEBOOK}_{DATASET}_{TIMESTAMP}',\n",
    "    template_path = f\"{URI}/{TIMESTAMP}/kfp/{NOTEBOOK}.json\",\n",
    "    parameter_values = {\n",
    "        \"project\" : PROJECT_ID,\n",
    "        \"dataset\" : DATASET,\n",
    "        \"display_name\" : f'{NOTEBOOK}_{DATASET}_{TIMESTAMP}',\n",
    "        \"deploy_machine\" : DEPLOY_COMPUTE,\n",
    "        \"bq_source\" : f'bq://{PROJECT_ID}.{DATASET}.{BQ_NAME}',\n",
    "        \"var_target\" : VAR_TARGET,\n",
    "        \"var_omit\" : VAR_OMIT,\n",
    "        \"features\" : features,\n",
    "        \"labels\" : {'notebook': NOTEBOOK}       \n",
    "    },\n",
    "    labels = {'notebook': NOTEBOOK},\n",
    "    enable_caching=True\n",
    ")"
   ]
  },
  {
   "cell_type": "code",
   "execution_count": 28,
   "id": "ea681e87-2a15-45a0-9f2f-e728e62c60df",
   "metadata": {
    "tags": []
   },
   "outputs": [
    {
     "name": "stdout",
     "output_type": "stream",
     "text": [
      "Creating PipelineJob\n",
      "PipelineJob created. Resource name: projects/944308723981/locations/europe-west3/pipelineJobs/kfp-automl-datasetnlp-20240324222952-20240324231852\n",
      "To use this PipelineJob in another session:\n",
      "pipeline_job = aiplatform.PipelineJob.get('projects/944308723981/locations/europe-west3/pipelineJobs/kfp-automl-datasetnlp-20240324222952-20240324231852')\n",
      "View Pipeline Job:\n",
      "https://console.cloud.google.com/vertex-ai/locations/europe-west3/pipelines/runs/kfp-automl-datasetnlp-20240324222952-20240324231852?project=944308723981\n",
      "PipelineJob projects/944308723981/locations/europe-west3/pipelineJobs/kfp-automl-datasetnlp-20240324222952-20240324231852 current state:\n",
      "PipelineState.PIPELINE_STATE_RUNNING\n",
      "PipelineJob projects/944308723981/locations/europe-west3/pipelineJobs/kfp-automl-datasetnlp-20240324222952-20240324231852 current state:\n",
      "PipelineState.PIPELINE_STATE_RUNNING\n",
      "PipelineJob projects/944308723981/locations/europe-west3/pipelineJobs/kfp-automl-datasetnlp-20240324222952-20240324231852 current state:\n",
      "PipelineState.PIPELINE_STATE_RUNNING\n",
      "PipelineJob projects/944308723981/locations/europe-west3/pipelineJobs/kfp-automl-datasetnlp-20240324222952-20240324231852 current state:\n",
      "PipelineState.PIPELINE_STATE_RUNNING\n",
      "PipelineJob projects/944308723981/locations/europe-west3/pipelineJobs/kfp-automl-datasetnlp-20240324222952-20240324231852 current state:\n",
      "PipelineState.PIPELINE_STATE_RUNNING\n",
      "PipelineJob projects/944308723981/locations/europe-west3/pipelineJobs/kfp-automl-datasetnlp-20240324222952-20240324231852 current state:\n",
      "PipelineState.PIPELINE_STATE_RUNNING\n",
      "PipelineJob projects/944308723981/locations/europe-west3/pipelineJobs/kfp-automl-datasetnlp-20240324222952-20240324231852 current state:\n",
      "PipelineState.PIPELINE_STATE_RUNNING\n",
      "PipelineJob projects/944308723981/locations/europe-west3/pipelineJobs/kfp-automl-datasetnlp-20240324222952-20240324231852 current state:\n",
      "PipelineState.PIPELINE_STATE_RUNNING\n",
      "PipelineJob projects/944308723981/locations/europe-west3/pipelineJobs/kfp-automl-datasetnlp-20240324222952-20240324231852 current state:\n",
      "PipelineState.PIPELINE_STATE_RUNNING\n",
      "PipelineJob projects/944308723981/locations/europe-west3/pipelineJobs/kfp-automl-datasetnlp-20240324222952-20240324231852 current state:\n",
      "PipelineState.PIPELINE_STATE_RUNNING\n",
      "PipelineJob projects/944308723981/locations/europe-west3/pipelineJobs/kfp-automl-datasetnlp-20240324222952-20240324231852 current state:\n",
      "PipelineState.PIPELINE_STATE_RUNNING\n",
      "PipelineJob projects/944308723981/locations/europe-west3/pipelineJobs/kfp-automl-datasetnlp-20240324222952-20240324231852 current state:\n",
      "PipelineState.PIPELINE_STATE_RUNNING\n",
      "PipelineJob projects/944308723981/locations/europe-west3/pipelineJobs/kfp-automl-datasetnlp-20240324222952-20240324231852 current state:\n",
      "PipelineState.PIPELINE_STATE_RUNNING\n",
      "PipelineJob projects/944308723981/locations/europe-west3/pipelineJobs/kfp-automl-datasetnlp-20240324222952-20240324231852 current state:\n",
      "PipelineState.PIPELINE_STATE_RUNNING\n",
      "PipelineJob projects/944308723981/locations/europe-west3/pipelineJobs/kfp-automl-datasetnlp-20240324222952-20240324231852 current state:\n",
      "PipelineState.PIPELINE_STATE_RUNNING\n",
      "PipelineJob projects/944308723981/locations/europe-west3/pipelineJobs/kfp-automl-datasetnlp-20240324222952-20240324231852 current state:\n",
      "PipelineState.PIPELINE_STATE_RUNNING\n",
      "PipelineJob projects/944308723981/locations/europe-west3/pipelineJobs/kfp-automl-datasetnlp-20240324222952-20240324231852 current state:\n",
      "PipelineState.PIPELINE_STATE_RUNNING\n",
      "PipelineJob projects/944308723981/locations/europe-west3/pipelineJobs/kfp-automl-datasetnlp-20240324222952-20240324231852 current state:\n",
      "PipelineState.PIPELINE_STATE_RUNNING\n",
      "PipelineJob projects/944308723981/locations/europe-west3/pipelineJobs/kfp-automl-datasetnlp-20240324222952-20240324231852 current state:\n",
      "PipelineState.PIPELINE_STATE_RUNNING\n",
      "PipelineJob projects/944308723981/locations/europe-west3/pipelineJobs/kfp-automl-datasetnlp-20240324222952-20240324231852 current state:\n",
      "PipelineState.PIPELINE_STATE_RUNNING\n",
      "PipelineJob projects/944308723981/locations/europe-west3/pipelineJobs/kfp-automl-datasetnlp-20240324222952-20240324231852 current state:\n",
      "PipelineState.PIPELINE_STATE_RUNNING\n",
      "PipelineJob projects/944308723981/locations/europe-west3/pipelineJobs/kfp-automl-datasetnlp-20240324222952-20240324231852 current state:\n",
      "PipelineState.PIPELINE_STATE_RUNNING\n",
      "PipelineJob projects/944308723981/locations/europe-west3/pipelineJobs/kfp-automl-datasetnlp-20240324222952-20240324231852 current state:\n",
      "PipelineState.PIPELINE_STATE_RUNNING\n",
      "PipelineJob projects/944308723981/locations/europe-west3/pipelineJobs/kfp-automl-datasetnlp-20240324222952-20240324231852 current state:\n",
      "PipelineState.PIPELINE_STATE_RUNNING\n",
      "PipelineJob projects/944308723981/locations/europe-west3/pipelineJobs/kfp-automl-datasetnlp-20240324222952-20240324231852 current state:\n",
      "PipelineState.PIPELINE_STATE_RUNNING\n",
      "PipelineJob projects/944308723981/locations/europe-west3/pipelineJobs/kfp-automl-datasetnlp-20240324222952-20240324231852 current state:\n",
      "PipelineState.PIPELINE_STATE_RUNNING\n",
      "PipelineJob projects/944308723981/locations/europe-west3/pipelineJobs/kfp-automl-datasetnlp-20240324222952-20240324231852 current state:\n",
      "PipelineState.PIPELINE_STATE_RUNNING\n",
      "PipelineJob projects/944308723981/locations/europe-west3/pipelineJobs/kfp-automl-datasetnlp-20240324222952-20240324231852 current state:\n",
      "PipelineState.PIPELINE_STATE_RUNNING\n",
      "PipelineJob projects/944308723981/locations/europe-west3/pipelineJobs/kfp-automl-datasetnlp-20240324222952-20240324231852 current state:\n",
      "PipelineState.PIPELINE_STATE_RUNNING\n",
      "PipelineJob projects/944308723981/locations/europe-west3/pipelineJobs/kfp-automl-datasetnlp-20240324222952-20240324231852 current state:\n",
      "PipelineState.PIPELINE_STATE_RUNNING\n",
      "PipelineJob projects/944308723981/locations/europe-west3/pipelineJobs/kfp-automl-datasetnlp-20240324222952-20240324231852 current state:\n",
      "PipelineState.PIPELINE_STATE_RUNNING\n",
      "PipelineJob run completed. Resource name: projects/944308723981/locations/europe-west3/pipelineJobs/kfp-automl-datasetnlp-20240324222952-20240324231852\n"
     ]
    }
   ],
   "source": [
    "response = pipeline.run(\n",
    "    service_account = SERVICE_ACCOUNT\n",
    ")"
   ]
  },
  {
   "cell_type": "code",
   "execution_count": 30,
   "id": "c4924fb8-e669-46aa-b567-eac0df47caf3",
   "metadata": {
    "tags": []
   },
   "outputs": [
    {
     "name": "stdout",
     "output_type": "stream",
     "text": [
      "Review the Pipeline as it runs here:\n",
      "https://console.cloud.google.com/vertex-ai/locations/europe-west3/pipelines/runs/kfp-automl-datasetnlp-20240324222952-20240324231852?project=gcp-ccai-auto-ml-contactcenter\n"
     ]
    }
   ],
   "source": [
    "print(f\"Review the Pipeline as it runs here:\\nhttps://console.cloud.google.com/vertex-ai/locations/{REGION}/pipelines/runs/{pipeline.resource_name.split('/')[-1]}?project={PROJECT_ID}\")"
   ]
  },
  {
   "cell_type": "markdown",
   "id": "6174b0d0-10bd-4bf0-b8e3-96a05f0c0f22",
   "metadata": {
    "tags": []
   },
   "source": [
    "aiplatform.get_pipeline_df(pipeline = f'kfp-{NOTEBOOK}-{DATASET}-{TIMESTAMP}')"
   ]
  },
  {
   "cell_type": "code",
   "execution_count": 32,
   "id": "76088d58-7fa9-4316-843a-105bd894d0da",
   "metadata": {
    "tags": []
   },
   "outputs": [],
   "source": [
    "models = aiplatform.Model.list(filter=f'labels.notebook={NOTEBOOK}')"
   ]
  },
  {
   "cell_type": "code",
   "execution_count": 33,
   "id": "4959d029-f366-4a15-87ca-e3ecf34fa58c",
   "metadata": {
    "tags": []
   },
   "outputs": [
    {
     "data": {
      "text/plain": [
       "'projects/944308723981/locations/europe-west3/models/8349999164586721280'"
      ]
     },
     "execution_count": 33,
     "metadata": {},
     "output_type": "execute_result"
    }
   ],
   "source": [
    "model = models[0]\n",
    "model.resource_name"
   ]
  },
  {
   "cell_type": "code",
   "execution_count": 34,
   "id": "e7a013d1-b2c2-480d-9009-ad861b94f6cd",
   "metadata": {
    "tags": []
   },
   "outputs": [],
   "source": [
    "evaluation = model.get_model_evaluation().to_dict() # get first evaluation"
   ]
  },
  {
   "cell_type": "code",
   "execution_count": 35,
   "id": "aa7f6193-8e56-47ab-b0f1-6a678fd25867",
   "metadata": {
    "tags": []
   },
   "outputs": [
    {
     "data": {
      "text/plain": [
       "dict_keys(['name', 'metricsSchemaUri', 'metrics', 'createTime', 'sliceDimensions', 'modelExplanation'])"
      ]
     },
     "execution_count": 35,
     "metadata": {},
     "output_type": "execute_result"
    }
   ],
   "source": [
    "evaluation.keys()"
   ]
  },
  {
   "cell_type": "code",
   "execution_count": 36,
   "id": "6b76cba4-f422-4536-9f6e-9bc42994aa2c",
   "metadata": {},
   "outputs": [
    {
     "data": {
      "text/plain": [
       "dict_keys(['auPrc', 'auRoc', 'logLoss', 'confusionMatrix', 'confidenceMetrics'])"
      ]
     },
     "execution_count": 36,
     "metadata": {},
     "output_type": "execute_result"
    }
   ],
   "source": [
    "evaluation['metrics'].keys()"
   ]
  },
  {
   "cell_type": "code",
   "execution_count": 37,
   "id": "b75335aa-5d61-4ad6-9196-ae39c1d06926",
   "metadata": {},
   "outputs": [
    {
     "data": {
      "text/plain": [
       "0.88903844"
      ]
     },
     "execution_count": 37,
     "metadata": {},
     "output_type": "execute_result"
    }
   ],
   "source": [
    "evaluation['metrics']['logLoss']"
   ]
  },
  {
   "cell_type": "code",
   "execution_count": 38,
   "id": "ff250522-65a5-41c9-a988-8dae412d5552",
   "metadata": {
    "tags": []
   },
   "outputs": [
    {
     "data": {
      "text/plain": [
       "{'falseNegativeCount': '2',\n",
       " 'recallAt1': 0.6858038,\n",
       " 'falsePositiveRateAt1': 0.044885177,\n",
       " 'truePositiveCount': '956',\n",
       " 'recall': 0.9979123,\n",
       " 'trueNegativeCount': '2577',\n",
       " 'confidenceThreshold': 0.01,\n",
       " 'falsePositiveRate': 0.6157173,\n",
       " 'precisionAt1': 0.6858038,\n",
       " 'confusionMatrix': {'rows': [[3.0, 1.0, 0.0, 5.0, 1.0, 1.0, 13.0, 7.0, 0.0],\n",
       "   [2.0, 55.0, 0.0, 0.0, 1.0, 0.0, 6.0, 27.0, 0.0],\n",
       "   [0.0, 0.0, 0.0, 0.0, 1.0, 1.0, 0.0, 6.0, 0.0],\n",
       "   [1.0, 1.0, 0.0, 236.0, 0.0, 2.0, 30.0, 19.0, 0.0],\n",
       "   [0.0, 2.0, 1.0, 2.0, 34.0, 0.0, 7.0, 10.0, 0.0],\n",
       "   [0.0, 0.0, 2.0, 0.0, 0.0, 7.0, 0.0, 1.0, 0.0],\n",
       "   [1.0, 2.0, 1.0, 42.0, 0.0, 1.0, 108.0, 30.0, 0.0],\n",
       "   [1.0, 10.0, 2.0, 25.0, 9.0, 3.0, 24.0, 214.0, 0.0],\n",
       "   [0.0, 0.0, 0.0, 0.0, 0.0, 0.0, 0.0, 0.0, 0.0]],\n",
       "  'annotationSpecs': [{'displayName': 'Technology', 'id': '0'},\n",
       "   {'displayName': 'Sports', 'id': '1'},\n",
       "   {'displayName': 'Science', 'id': '2'},\n",
       "   {'displayName': 'Politics', 'id': '3'},\n",
       "   {'displayName': 'Health', 'id': '4'},\n",
       "   {'displayName': 'Environment', 'id': '5'},\n",
       "   {'displayName': 'Business', 'id': '6'},\n",
       "   {'displayName': 'Arts and Entertainment', 'id': '7'},\n",
       "   {'displayName': 'DROPPED', 'id': 'DROPPED'}]},\n",
       " 'precision': 0.18800393,\n",
       " 'f1ScoreAt1': 0.6858038,\n",
       " 'f1ScoreMacro': 0.26680186,\n",
       " 'f1Score': 0.31639913,\n",
       " 'falsePositiveCount': '4129',\n",
       " 'f1ScoreMicro': 0.31639913}"
      ]
     },
     "execution_count": 38,
     "metadata": {},
     "output_type": "execute_result"
    }
   ],
   "source": [
    "evaluation['metrics']['confidenceMetrics'][3]"
   ]
  },
  {
   "cell_type": "code",
   "execution_count": 39,
   "id": "0289bff7-763e-47a8-980f-31faf2f7a62b",
   "metadata": {
    "tags": []
   },
   "outputs": [
    {
     "name": "stdout",
     "output_type": "stream",
     "text": [
      "True Label =  Technology  has Predicted labels =  [3.0, 1.0, 0.0, 5.0, 1.0, 1.0, 13.0, 7.0, 0.0]\n",
      "True Label =  Sports  has Predicted labels =  [2.0, 55.0, 0.0, 0.0, 1.0, 0.0, 6.0, 27.0, 0.0]\n",
      "True Label =  Science  has Predicted labels =  [0.0, 0.0, 0.0, 0.0, 1.0, 1.0, 0.0, 6.0, 0.0]\n",
      "True Label =  Politics  has Predicted labels =  [1.0, 1.0, 0.0, 236.0, 0.0, 2.0, 30.0, 19.0, 0.0]\n",
      "True Label =  Health  has Predicted labels =  [0.0, 2.0, 1.0, 2.0, 34.0, 0.0, 7.0, 10.0, 0.0]\n",
      "True Label =  Environment  has Predicted labels =  [0.0, 0.0, 2.0, 0.0, 0.0, 7.0, 0.0, 1.0, 0.0]\n",
      "True Label =  Business  has Predicted labels =  [1.0, 2.0, 1.0, 42.0, 0.0, 1.0, 108.0, 30.0, 0.0]\n",
      "True Label =  Arts and Entertainment  has Predicted labels =  [1.0, 10.0, 2.0, 25.0, 9.0, 3.0, 24.0, 214.0, 0.0]\n",
      "True Label =  DROPPED  has Predicted labels =  [0.0, 0.0, 0.0, 0.0, 0.0, 0.0, 0.0, 0.0, 0.0]\n"
     ]
    }
   ],
   "source": [
    "for i in range(len(evaluation['metrics']['confusionMatrix']['annotationSpecs'])):\n",
    "    print('True Label = ', evaluation['metrics']['confusionMatrix']['annotationSpecs'][i]['displayName'], ' has Predicted labels = ', evaluation['metrics']['confusionMatrix']['rows'][i])\n"
   ]
  },
  {
   "cell_type": "code",
   "execution_count": 40,
   "id": "250ebd18-67ff-4862-b2a0-186b0a6b8ab9",
   "metadata": {
    "tags": []
   },
   "outputs": [],
   "source": [
    "model_client = aiplatform.gapic.ModelServiceClient(\n",
    "    client_options = {\n",
    "        'api_endpoint' : f'{REGION}-aiplatform.googleapis.com'\n",
    "    }\n",
    ")"
   ]
  },
  {
   "cell_type": "code",
   "execution_count": 41,
   "id": "9937559b-f07c-4b78-8ef4-4ce77653464a",
   "metadata": {
    "tags": []
   },
   "outputs": [],
   "source": [
    "slices = model_client.list_model_evaluation_slices(parent = evaluation['name'])"
   ]
  },
  {
   "cell_type": "code",
   "execution_count": 42,
   "id": "985354ba-0b50-45ce-a81f-fcd57076bdce",
   "metadata": {
    "tags": []
   },
   "outputs": [
    {
     "name": "stdout",
     "output_type": "stream",
     "text": [
      "Label =  Business has logLoss =  0.34745255\n",
      "Label =  Technology has logLoss =  0.11609337\n",
      "Label =  Science has logLoss =  0.04861673\n",
      "Label =  Environment has logLoss =  0.03680636\n",
      "Label =  Politics has logLoss =  0.28194597\n",
      "Label =  Health has logLoss =  0.09024783\n",
      "Label =  Arts and Entertainment has logLoss =  0.39729494\n",
      "Label =  Sports has logLoss =  0.15564342\n"
     ]
    }
   ],
   "source": [
    "for slice in slices:\n",
    "    print('Label = ', slice.slice_.value, 'has logLoss = ', slice.metrics['logLoss'])"
   ]
  },
  {
   "cell_type": "code",
   "execution_count": null,
   "id": "76840fdf-2b8e-420a-9ac4-72cc21ae3e8e",
   "metadata": {},
   "outputs": [],
   "source": []
  },
  {
   "cell_type": "code",
   "execution_count": 64,
   "id": "6918a7b8-d4a1-45fa-b66a-bda7ab4c20fc",
   "metadata": {
    "tags": []
   },
   "outputs": [],
   "source": [
    "    query = f\"\"\"\n",
    "        SELECT {COLUMN_TOPICK}\n",
    "        FROM `{DATASET}.{BQ_NAME}`\n",
    "        WHERE split='TEST'\n",
    "        LIMIT 10\n",
    "    \"\"\""
   ]
  },
  {
   "cell_type": "code",
   "execution_count": 65,
   "id": "f8fbafcb-2d6c-4c62-b56c-0c04356be350",
   "metadata": {
    "tags": []
   },
   "outputs": [
    {
     "data": {
      "text/plain": [
       "\"\\n    SELECT * EXCEPT(topic, split, uri,url,title,body,date,time,dateTime,dateTimePub,lang,isDuplicate,dataType,sentiment,eventUri,image,authors,sharesFacebook,sourceLocationLabel,categoryLabels,categoryWeights,alexaGlobalRank,alexaCountryRank,date_column,year,year_month,num_documents,PERSON,OTHER,ORGANIZATION,EVENT,LOCATION,WORK_OF_ART,CONSUMER_GOOD,NUMBER,DATE,NUMBER_mean_salience,DATE_mean_salience,PRICE,ADDRESS,ADDRESS_mean_salience,PHONE_NUMBER,PHONE_NUMBER_mean_salience,DATE)\\n    FROM `datasetnlp.finaldf5`\\n    WHERE split='TEST'\\n    LIMIT 10\\n\""
      ]
     },
     "execution_count": 65,
     "metadata": {},
     "output_type": "execute_result"
    }
   ],
   "source": [
    "query"
   ]
  },
  {
   "cell_type": "code",
   "execution_count": 99,
   "id": "2a6934f9-19ae-4948-8857-3f04a23c1b04",
   "metadata": {
    "tags": []
   },
   "outputs": [],
   "source": [
    "pred = bq.query(\n",
    "    query = f\"\"\"\n",
    "        SELECT relevance\n",
    "        FROM `{DATASET}.{BQ_NAME}`\n",
    "        WHERE split='TEST'\n",
    "        LIMIT 10\n",
    "    \"\"\"\n",
    ").to_dataframe()\n"
   ]
  },
  {
   "cell_type": "code",
   "execution_count": 100,
   "id": "7d231ef4-c9ce-4f6d-994b-a4eb20c08f44",
   "metadata": {
    "tags": []
   },
   "outputs": [
    {
     "data": {
      "text/html": [
       "<div>\n",
       "<style scoped>\n",
       "    .dataframe tbody tr th:only-of-type {\n",
       "        vertical-align: middle;\n",
       "    }\n",
       "\n",
       "    .dataframe tbody tr th {\n",
       "        vertical-align: top;\n",
       "    }\n",
       "\n",
       "    .dataframe thead th {\n",
       "        text-align: right;\n",
       "    }\n",
       "</style>\n",
       "<table border=\"1\" class=\"dataframe\">\n",
       "  <thead>\n",
       "    <tr style=\"text-align: right;\">\n",
       "      <th></th>\n",
       "      <th>relevance</th>\n",
       "    </tr>\n",
       "  </thead>\n",
       "  <tbody>\n",
       "    <tr>\n",
       "      <th>0</th>\n",
       "      <td>1</td>\n",
       "    </tr>\n",
       "    <tr>\n",
       "      <th>1</th>\n",
       "      <td>1</td>\n",
       "    </tr>\n",
       "    <tr>\n",
       "      <th>2</th>\n",
       "      <td>1</td>\n",
       "    </tr>\n",
       "    <tr>\n",
       "      <th>3</th>\n",
       "      <td>1</td>\n",
       "    </tr>\n",
       "  </tbody>\n",
       "</table>\n",
       "</div>"
      ],
      "text/plain": [
       "   relevance\n",
       "0          1\n",
       "1          1\n",
       "2          1\n",
       "3          1"
      ]
     },
     "execution_count": 100,
     "metadata": {},
     "output_type": "execute_result"
    }
   ],
   "source": [
    "\n",
    "pred.head(4)"
   ]
  },
  {
   "cell_type": "code",
   "execution_count": 101,
   "id": "cc2a71da-f141-4c1c-b482-eabd20c4c512",
   "metadata": {
    "tags": []
   },
   "outputs": [
    {
     "data": {
      "text/plain": [
       "{'relevance': 1}"
      ]
     },
     "execution_count": 101,
     "metadata": {},
     "output_type": "execute_result"
    }
   ],
   "source": [
    "newobs = pred.to_dict(orient='records')\n",
    "newobs[0]"
   ]
  },
  {
   "cell_type": "code",
   "execution_count": 102,
   "id": "f421478d-4539-460a-8be1-8c32491e3e14",
   "metadata": {
    "tags": []
   },
   "outputs": [],
   "source": [
    "instances = [json_format.ParseDict(newob, Value()) for newob in newobs]"
   ]
  },
  {
   "cell_type": "code",
   "execution_count": 103,
   "id": "18ae5c44-7fd3-4af7-ab17-24169ecfbed0",
   "metadata": {
    "tags": []
   },
   "outputs": [
    {
     "data": {
      "text/plain": [
       "[struct_value {\n",
       "   fields {\n",
       "     key: \"relevance\"\n",
       "     value {\n",
       "       number_value: 1\n",
       "     }\n",
       "   }\n",
       " },\n",
       " struct_value {\n",
       "   fields {\n",
       "     key: \"relevance\"\n",
       "     value {\n",
       "       number_value: 1\n",
       "     }\n",
       "   }\n",
       " },\n",
       " struct_value {\n",
       "   fields {\n",
       "     key: \"relevance\"\n",
       "     value {\n",
       "       number_value: 1\n",
       "     }\n",
       "   }\n",
       " },\n",
       " struct_value {\n",
       "   fields {\n",
       "     key: \"relevance\"\n",
       "     value {\n",
       "       number_value: 1\n",
       "     }\n",
       "   }\n",
       " },\n",
       " struct_value {\n",
       "   fields {\n",
       "     key: \"relevance\"\n",
       "     value {\n",
       "       number_value: 1\n",
       "     }\n",
       "   }\n",
       " },\n",
       " struct_value {\n",
       "   fields {\n",
       "     key: \"relevance\"\n",
       "     value {\n",
       "       number_value: 1\n",
       "     }\n",
       "   }\n",
       " },\n",
       " struct_value {\n",
       "   fields {\n",
       "     key: \"relevance\"\n",
       "     value {\n",
       "       number_value: 1\n",
       "     }\n",
       "   }\n",
       " },\n",
       " struct_value {\n",
       "   fields {\n",
       "     key: \"relevance\"\n",
       "     value {\n",
       "       number_value: 1\n",
       "     }\n",
       "   }\n",
       " },\n",
       " struct_value {\n",
       "   fields {\n",
       "     key: \"relevance\"\n",
       "     value {\n",
       "       number_value: 1\n",
       "     }\n",
       "   }\n",
       " },\n",
       " struct_value {\n",
       "   fields {\n",
       "     key: \"relevance\"\n",
       "     value {\n",
       "       number_value: 1\n",
       "     }\n",
       "   }\n",
       " }]"
      ]
     },
     "execution_count": 103,
     "metadata": {},
     "output_type": "execute_result"
    }
   ],
   "source": [
    "instances"
   ]
  },
  {
   "cell_type": "markdown",
   "id": "56f08d3c-c6d0-4f18-863d-126b8dd7b582",
   "metadata": {},
   "source": [
    "### Get Predictions: Python Client\n"
   ]
  },
  {
   "cell_type": "code",
   "execution_count": null,
   "id": "1460b1ad-cc3f-4150-a0ca-f32ec9ccd859",
   "metadata": {},
   "outputs": [],
   "source": []
  },
  {
   "cell_type": "code",
   "execution_count": 104,
   "id": "65a023fb-5b6f-4176-b430-a1cfd8163176",
   "metadata": {
    "tags": []
   },
   "outputs": [
    {
     "data": {
      "text/plain": [
       "[<google.cloud.aiplatform.models.Endpoint object at 0x7f1a8453b910> \n",
       " resource name: projects/944308723981/locations/europe-west3/endpoints/6842661081882558464,\n",
       " <google.cloud.aiplatform.models.Endpoint object at 0x7f1a84539690> \n",
       " resource name: projects/944308723981/locations/europe-west3/endpoints/238132228343726080]"
      ]
     },
     "execution_count": 104,
     "metadata": {},
     "output_type": "execute_result"
    }
   ],
   "source": [
    "aiplatform.Endpoint.list(filter=f'labels.notebook={NOTEBOOK}')"
   ]
  },
  {
   "cell_type": "code",
   "execution_count": 105,
   "id": "e7aabdec-28db-4abd-9e30-d8bb7c78d092",
   "metadata": {
    "tags": []
   },
   "outputs": [
    {
     "data": {
      "text/plain": [
       "'automl_datasetnlp_20240324222952'"
      ]
     },
     "execution_count": 105,
     "metadata": {},
     "output_type": "execute_result"
    }
   ],
   "source": [
    "endpoint = aiplatform.Endpoint.list(filter=f'labels.notebook={NOTEBOOK}')[0]\n",
    "endpoint.display_name"
   ]
  },
  {
   "cell_type": "code",
   "execution_count": null,
   "id": "24deac44-4e86-42ac-85ba-7520581fc2e3",
   "metadata": {},
   "outputs": [],
   "source": []
  },
  {
   "cell_type": "code",
   "execution_count": 106,
   "id": "3d72ddf8-165c-4720-b785-d4dd7e163c9a",
   "metadata": {
    "tags": []
   },
   "outputs": [
    {
     "ename": "InvalidArgument",
     "evalue": "400 {\"error\": \"Column: relevance. Error: Expected string_value but got number_value. Type casting is not allowed.\"}",
     "output_type": "error",
     "traceback": [
      "\u001b[0;31m---------------------------------------------------------------------------\u001b[0m",
      "\u001b[0;31m_InactiveRpcError\u001b[0m                         Traceback (most recent call last)",
      "File \u001b[0;32m/opt/conda/lib/python3.10/site-packages/google/api_core/grpc_helpers.py:76\u001b[0m, in \u001b[0;36m_wrap_unary_errors.<locals>.error_remapped_callable\u001b[0;34m(*args, **kwargs)\u001b[0m\n\u001b[1;32m     75\u001b[0m \u001b[38;5;28;01mtry\u001b[39;00m:\n\u001b[0;32m---> 76\u001b[0m     \u001b[38;5;28;01mreturn\u001b[39;00m \u001b[43mcallable_\u001b[49m\u001b[43m(\u001b[49m\u001b[38;5;241;43m*\u001b[39;49m\u001b[43margs\u001b[49m\u001b[43m,\u001b[49m\u001b[43m \u001b[49m\u001b[38;5;241;43m*\u001b[39;49m\u001b[38;5;241;43m*\u001b[39;49m\u001b[43mkwargs\u001b[49m\u001b[43m)\u001b[49m\n\u001b[1;32m     77\u001b[0m \u001b[38;5;28;01mexcept\u001b[39;00m grpc\u001b[38;5;241m.\u001b[39mRpcError \u001b[38;5;28;01mas\u001b[39;00m exc:\n",
      "File \u001b[0;32m/opt/conda/lib/python3.10/site-packages/grpc/_channel.py:1160\u001b[0m, in \u001b[0;36m_UnaryUnaryMultiCallable.__call__\u001b[0;34m(self, request, timeout, metadata, credentials, wait_for_ready, compression)\u001b[0m\n\u001b[1;32m   1154\u001b[0m (\n\u001b[1;32m   1155\u001b[0m     state,\n\u001b[1;32m   1156\u001b[0m     call,\n\u001b[1;32m   1157\u001b[0m ) \u001b[38;5;241m=\u001b[39m \u001b[38;5;28mself\u001b[39m\u001b[38;5;241m.\u001b[39m_blocking(\n\u001b[1;32m   1158\u001b[0m     request, timeout, metadata, credentials, wait_for_ready, compression\n\u001b[1;32m   1159\u001b[0m )\n\u001b[0;32m-> 1160\u001b[0m \u001b[38;5;28;01mreturn\u001b[39;00m \u001b[43m_end_unary_response_blocking\u001b[49m\u001b[43m(\u001b[49m\u001b[43mstate\u001b[49m\u001b[43m,\u001b[49m\u001b[43m \u001b[49m\u001b[43mcall\u001b[49m\u001b[43m,\u001b[49m\u001b[43m \u001b[49m\u001b[38;5;28;43;01mFalse\u001b[39;49;00m\u001b[43m,\u001b[49m\u001b[43m \u001b[49m\u001b[38;5;28;43;01mNone\u001b[39;49;00m\u001b[43m)\u001b[49m\n",
      "File \u001b[0;32m/opt/conda/lib/python3.10/site-packages/grpc/_channel.py:1003\u001b[0m, in \u001b[0;36m_end_unary_response_blocking\u001b[0;34m(state, call, with_call, deadline)\u001b[0m\n\u001b[1;32m   1002\u001b[0m \u001b[38;5;28;01melse\u001b[39;00m:\n\u001b[0;32m-> 1003\u001b[0m     \u001b[38;5;28;01mraise\u001b[39;00m _InactiveRpcError(state)\n",
      "\u001b[0;31m_InactiveRpcError\u001b[0m: <_InactiveRpcError of RPC that terminated with:\n\tstatus = StatusCode.INVALID_ARGUMENT\n\tdetails = \"{\"error\": \"Column: relevance. Error: Expected string_value but got number_value. Type casting is not allowed.\"}\"\n\tdebug_error_string = \"UNKNOWN:Error received from peer ipv4:142.250.186.170:443 {grpc_message:\"{\\\"error\\\": \\\"Column: relevance. Error: Expected string_value but got number_value. Type casting is not allowed.\\\"}\", grpc_status:3, created_time:\"2024-03-25T07:29:53.306084202+00:00\"}\"\n>",
      "\nThe above exception was the direct cause of the following exception:\n",
      "\u001b[0;31mInvalidArgument\u001b[0m                           Traceback (most recent call last)",
      "Cell \u001b[0;32mIn[106], line 1\u001b[0m\n\u001b[0;32m----> 1\u001b[0m prediction \u001b[38;5;241m=\u001b[39m \u001b[43mendpoint\u001b[49m\u001b[38;5;241;43m.\u001b[39;49m\u001b[43mpredict\u001b[49m\u001b[43m(\u001b[49m\u001b[43minstances\u001b[49m\u001b[43m \u001b[49m\u001b[38;5;241;43m=\u001b[39;49m\u001b[43m \u001b[49m\u001b[43minstances\u001b[49m\u001b[43m)\u001b[49m \u001b[38;5;66;03m# or instances = newobs\u001b[39;00m\n\u001b[1;32m      2\u001b[0m prediction\u001b[38;5;241m.\u001b[39mpredictions[\u001b[38;5;241m0\u001b[39m]\n",
      "File \u001b[0;32m/opt/conda/lib/python3.10/site-packages/google/cloud/aiplatform/models.py:1579\u001b[0m, in \u001b[0;36mEndpoint.predict\u001b[0;34m(self, instances, parameters, timeout, use_raw_predict)\u001b[0m\n\u001b[1;32m   1565\u001b[0m     \u001b[38;5;28;01mreturn\u001b[39;00m Prediction(\n\u001b[1;32m   1566\u001b[0m         predictions\u001b[38;5;241m=\u001b[39mjson_response[\u001b[38;5;124m\"\u001b[39m\u001b[38;5;124mpredictions\u001b[39m\u001b[38;5;124m\"\u001b[39m],\n\u001b[1;32m   1567\u001b[0m         metadata\u001b[38;5;241m=\u001b[39mjson_response\u001b[38;5;241m.\u001b[39mget(\u001b[38;5;124m\"\u001b[39m\u001b[38;5;124mmetadata\u001b[39m\u001b[38;5;124m\"\u001b[39m),\n\u001b[0;32m   (...)\u001b[0m\n\u001b[1;32m   1576\u001b[0m         ),\n\u001b[1;32m   1577\u001b[0m     )\n\u001b[1;32m   1578\u001b[0m \u001b[38;5;28;01melse\u001b[39;00m:\n\u001b[0;32m-> 1579\u001b[0m     prediction_response \u001b[38;5;241m=\u001b[39m \u001b[38;5;28;43mself\u001b[39;49m\u001b[38;5;241;43m.\u001b[39;49m\u001b[43m_prediction_client\u001b[49m\u001b[38;5;241;43m.\u001b[39;49m\u001b[43mpredict\u001b[49m\u001b[43m(\u001b[49m\n\u001b[1;32m   1580\u001b[0m \u001b[43m        \u001b[49m\u001b[43mendpoint\u001b[49m\u001b[38;5;241;43m=\u001b[39;49m\u001b[38;5;28;43mself\u001b[39;49m\u001b[38;5;241;43m.\u001b[39;49m\u001b[43m_gca_resource\u001b[49m\u001b[38;5;241;43m.\u001b[39;49m\u001b[43mname\u001b[49m\u001b[43m,\u001b[49m\n\u001b[1;32m   1581\u001b[0m \u001b[43m        \u001b[49m\u001b[43minstances\u001b[49m\u001b[38;5;241;43m=\u001b[39;49m\u001b[43minstances\u001b[49m\u001b[43m,\u001b[49m\n\u001b[1;32m   1582\u001b[0m \u001b[43m        \u001b[49m\u001b[43mparameters\u001b[49m\u001b[38;5;241;43m=\u001b[39;49m\u001b[43mparameters\u001b[49m\u001b[43m,\u001b[49m\n\u001b[1;32m   1583\u001b[0m \u001b[43m        \u001b[49m\u001b[43mtimeout\u001b[49m\u001b[38;5;241;43m=\u001b[39;49m\u001b[43mtimeout\u001b[49m\u001b[43m,\u001b[49m\n\u001b[1;32m   1584\u001b[0m \u001b[43m    \u001b[49m\u001b[43m)\u001b[49m\n\u001b[1;32m   1585\u001b[0m     \u001b[38;5;28;01mif\u001b[39;00m prediction_response\u001b[38;5;241m.\u001b[39m_pb\u001b[38;5;241m.\u001b[39mmetadata:\n\u001b[1;32m   1586\u001b[0m         metadata \u001b[38;5;241m=\u001b[39m json_format\u001b[38;5;241m.\u001b[39mMessageToDict(prediction_response\u001b[38;5;241m.\u001b[39m_pb\u001b[38;5;241m.\u001b[39mmetadata)\n",
      "File \u001b[0;32m/opt/conda/lib/python3.10/site-packages/google/cloud/aiplatform_v1/services/prediction_service/client.py:836\u001b[0m, in \u001b[0;36mPredictionServiceClient.predict\u001b[0;34m(self, request, endpoint, instances, parameters, retry, timeout, metadata)\u001b[0m\n\u001b[1;32m    833\u001b[0m \u001b[38;5;28mself\u001b[39m\u001b[38;5;241m.\u001b[39m_validate_universe_domain()\n\u001b[1;32m    835\u001b[0m \u001b[38;5;66;03m# Send the request.\u001b[39;00m\n\u001b[0;32m--> 836\u001b[0m response \u001b[38;5;241m=\u001b[39m \u001b[43mrpc\u001b[49m\u001b[43m(\u001b[49m\n\u001b[1;32m    837\u001b[0m \u001b[43m    \u001b[49m\u001b[43mrequest\u001b[49m\u001b[43m,\u001b[49m\n\u001b[1;32m    838\u001b[0m \u001b[43m    \u001b[49m\u001b[43mretry\u001b[49m\u001b[38;5;241;43m=\u001b[39;49m\u001b[43mretry\u001b[49m\u001b[43m,\u001b[49m\n\u001b[1;32m    839\u001b[0m \u001b[43m    \u001b[49m\u001b[43mtimeout\u001b[49m\u001b[38;5;241;43m=\u001b[39;49m\u001b[43mtimeout\u001b[49m\u001b[43m,\u001b[49m\n\u001b[1;32m    840\u001b[0m \u001b[43m    \u001b[49m\u001b[43mmetadata\u001b[49m\u001b[38;5;241;43m=\u001b[39;49m\u001b[43mmetadata\u001b[49m\u001b[43m,\u001b[49m\n\u001b[1;32m    841\u001b[0m \u001b[43m\u001b[49m\u001b[43m)\u001b[49m\n\u001b[1;32m    843\u001b[0m \u001b[38;5;66;03m# Done; return the response.\u001b[39;00m\n\u001b[1;32m    844\u001b[0m \u001b[38;5;28;01mreturn\u001b[39;00m response\n",
      "File \u001b[0;32m/opt/conda/lib/python3.10/site-packages/google/api_core/gapic_v1/method.py:131\u001b[0m, in \u001b[0;36m_GapicCallable.__call__\u001b[0;34m(self, timeout, retry, compression, *args, **kwargs)\u001b[0m\n\u001b[1;32m    128\u001b[0m \u001b[38;5;28;01mif\u001b[39;00m \u001b[38;5;28mself\u001b[39m\u001b[38;5;241m.\u001b[39m_compression \u001b[38;5;129;01mis\u001b[39;00m \u001b[38;5;129;01mnot\u001b[39;00m \u001b[38;5;28;01mNone\u001b[39;00m:\n\u001b[1;32m    129\u001b[0m     kwargs[\u001b[38;5;124m\"\u001b[39m\u001b[38;5;124mcompression\u001b[39m\u001b[38;5;124m\"\u001b[39m] \u001b[38;5;241m=\u001b[39m compression\n\u001b[0;32m--> 131\u001b[0m \u001b[38;5;28;01mreturn\u001b[39;00m \u001b[43mwrapped_func\u001b[49m\u001b[43m(\u001b[49m\u001b[38;5;241;43m*\u001b[39;49m\u001b[43margs\u001b[49m\u001b[43m,\u001b[49m\u001b[43m \u001b[49m\u001b[38;5;241;43m*\u001b[39;49m\u001b[38;5;241;43m*\u001b[39;49m\u001b[43mkwargs\u001b[49m\u001b[43m)\u001b[49m\n",
      "File \u001b[0;32m/opt/conda/lib/python3.10/site-packages/google/api_core/grpc_helpers.py:78\u001b[0m, in \u001b[0;36m_wrap_unary_errors.<locals>.error_remapped_callable\u001b[0;34m(*args, **kwargs)\u001b[0m\n\u001b[1;32m     76\u001b[0m     \u001b[38;5;28;01mreturn\u001b[39;00m callable_(\u001b[38;5;241m*\u001b[39margs, \u001b[38;5;241m*\u001b[39m\u001b[38;5;241m*\u001b[39mkwargs)\n\u001b[1;32m     77\u001b[0m \u001b[38;5;28;01mexcept\u001b[39;00m grpc\u001b[38;5;241m.\u001b[39mRpcError \u001b[38;5;28;01mas\u001b[39;00m exc:\n\u001b[0;32m---> 78\u001b[0m     \u001b[38;5;28;01mraise\u001b[39;00m exceptions\u001b[38;5;241m.\u001b[39mfrom_grpc_error(exc) \u001b[38;5;28;01mfrom\u001b[39;00m \u001b[38;5;21;01mexc\u001b[39;00m\n",
      "\u001b[0;31mInvalidArgument\u001b[0m: 400 {\"error\": \"Column: relevance. Error: Expected string_value but got number_value. Type casting is not allowed.\"}"
     ]
    }
   ],
   "source": [
    "prediction = endpoint.predict(instances = instances) # or instances = newobs\n",
    "prediction.predictions[0]"
   ]
  },
  {
   "cell_type": "code",
   "execution_count": 96,
   "id": "a97c8e95-ce9b-4807-8b19-df4469b17c56",
   "metadata": {
    "tags": []
   },
   "outputs": [
    {
     "ename": "NameError",
     "evalue": "name 'prediction' is not defined",
     "output_type": "error",
     "traceback": [
      "\u001b[0;31m---------------------------------------------------------------------------\u001b[0m",
      "\u001b[0;31mNameError\u001b[0m                                 Traceback (most recent call last)",
      "Cell \u001b[0;32mIn[96], line 1\u001b[0m\n\u001b[0;32m----> 1\u001b[0m \u001b[43mprediction\u001b[49m\u001b[38;5;241m.\u001b[39mpredictions[\u001b[38;5;241m0\u001b[39m][\u001b[38;5;124m'\u001b[39m\u001b[38;5;124mclasses\u001b[39m\u001b[38;5;124m'\u001b[39m][np\u001b[38;5;241m.\u001b[39margmax(prediction\u001b[38;5;241m.\u001b[39mpredictions[\u001b[38;5;241m0\u001b[39m][\u001b[38;5;124m'\u001b[39m\u001b[38;5;124mscores\u001b[39m\u001b[38;5;124m'\u001b[39m])]\n",
      "\u001b[0;31mNameError\u001b[0m: name 'prediction' is not defined"
     ]
    }
   ],
   "source": [
    "prediction.predictions[0]['classes'][np.argmax(prediction.predictions[0]['scores'])]"
   ]
  },
  {
   "cell_type": "markdown",
   "id": "86538b00-c19b-4293-968d-a803196e6c8e",
   "metadata": {},
   "source": [
    "### Get Predictions: REST"
   ]
  },
  {
   "cell_type": "code",
   "execution_count": 97,
   "id": "ce95fd72-9222-479a-a760-b95d921ad8ee",
   "metadata": {
    "tags": []
   },
   "outputs": [],
   "source": [
    "with open(f'{DIR}/request.json','w') as file:\n",
    "    file.write(json.dumps({\"instances\": [newobs[0]]}))"
   ]
  },
  {
   "cell_type": "code",
   "execution_count": 98,
   "id": "02e906d2-724c-48f0-a71f-087af2805000",
   "metadata": {
    "tags": []
   },
   "outputs": [
    {
     "name": "stdout",
     "output_type": "stream",
     "text": [
      "{\"error\": \"Column prefix: . Error: Missing struct property: relevance.\"}"
     ]
    }
   ],
   "source": [
    "!curl -X POST \\\n",
    "-H \"Authorization: Bearer \"$(gcloud auth application-default print-access-token) \\\n",
    "-H \"Content-Type: application/json; charset=utf-8\" \\\n",
    "-d @{DIR}/request.json \\\n",
    "https://{REGION}-aiplatform.googleapis.com/v1/{endpoint.resource_name}:predict"
   ]
  },
  {
   "cell_type": "markdown",
   "id": "f6c475b9-61f7-4703-80f1-c9f549ec4789",
   "metadata": {},
   "source": [
    "### Get Predictions: gcloud (CLI)"
   ]
  },
  {
   "cell_type": "code",
   "execution_count": null,
   "id": "4a04c93f-fb44-4e16-bbc9-9384ba86ed5c",
   "metadata": {},
   "outputs": [],
   "source": [
    "!gcloud beta ai endpoints predict {endpoint.name.rsplit('/',1)[-1]} --region={REGION} --json-request={DIR}/request.json"
   ]
  },
  {
   "cell_type": "markdown",
   "id": "8b19f58b-223d-4073-8a50-ff7e4804c401",
   "metadata": {},
   "source": [
    "---\n",
    "## Explanations\n",
    "Interpretation Guide\n",
    "- https://cloud.google.com/vertex-ai/docs/predictions/interpreting-results-automl#tabular"
   ]
  },
  {
   "cell_type": "code",
   "execution_count": null,
   "id": "d627ed95-bc73-429f-ab8f-4972b673598e",
   "metadata": {},
   "outputs": [],
   "source": [
    "explanation = endpoint.explain(instances = instances)"
   ]
  },
  {
   "cell_type": "code",
   "execution_count": null,
   "id": "c412bc76-8acf-43d2-a6dd-2c777c44df6d",
   "metadata": {},
   "outputs": [],
   "source": [
    "explanation.predictions[0]"
   ]
  },
  {
   "cell_type": "code",
   "execution_count": null,
   "id": "32764c5e-8537-4520-a051-c9b89e73fa4b",
   "metadata": {},
   "outputs": [],
   "source": [
    "print(\"attribution:\")\n",
    "print(\"baseline output\",explanation.explanations[0].attributions[0].baseline_output_value)\n",
    "print(\"instance output\",explanation.explanations[0].attributions[0].instance_output_value)\n",
    "print(\"output_index\",explanation.explanations[0].attributions[0].output_index)\n",
    "print(\"output display value\",explanation.explanations[0].attributions[0].output_display_name)\n",
    "print(\"approximation error\",explanation.explanations[0].attributions[0].approximation_error)"
   ]
  },
  {
   "cell_type": "code",
   "execution_count": null,
   "id": "0f8eed6f-27fc-4470-8ec6-7d5c49c7bef8",
   "metadata": {},
   "outputs": [],
   "source": [
    "import matplotlib.pyplot as plt\n",
    "features = []\n",
    "scores = []\n",
    "for k in explanation.explanations[0].attributions[0].feature_attributions:\n",
    "    features.append(k)\n",
    "    scores.append(explanation.explanations[0].attributions[0].feature_attributions[k])\n",
    "features = [x for _, x in sorted(zip(scores, features))]\n",
    "scores = sorted(scores)\n",
    "fig, ax = plt.subplots()\n",
    "fig.set_size_inches(9, 9)\n",
    "ax.barh(features, scores)\n",
    "fig.show()"
   ]
  },
  {
   "cell_type": "code",
   "execution_count": null,
   "id": "17e52105-52b0-49f8-a357-7516a4840326",
   "metadata": {},
   "outputs": [],
   "source": []
  },
  {
   "cell_type": "code",
   "execution_count": null,
   "id": "950f71d3-3e48-4cbe-9360-34174e95b157",
   "metadata": {},
   "outputs": [],
   "source": []
  }
 ],
 "metadata": {
  "environment": {
   "kernel": "python3",
   "name": "common-cpu.m115",
   "type": "gcloud",
   "uri": "gcr.io/deeplearning-platform-release/base-cpu:m115"
  },
  "kernelspec": {
   "display_name": "Python 3",
   "language": "python",
   "name": "python3"
  },
  "language_info": {
   "codemirror_mode": {
    "name": "ipython",
    "version": 3
   },
   "file_extension": ".py",
   "mimetype": "text/x-python",
   "name": "python",
   "nbconvert_exporter": "python",
   "pygments_lexer": "ipython3",
   "version": "3.10.13"
  }
 },
 "nbformat": 4,
 "nbformat_minor": 5
}
