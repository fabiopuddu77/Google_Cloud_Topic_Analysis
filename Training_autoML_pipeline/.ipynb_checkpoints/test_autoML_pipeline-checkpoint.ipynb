{
 "cells": [
  {
   "cell_type": "code",
   "execution_count": 1,
   "id": "3bcf1a69-8a28-48b4-8d53-334b8465741c",
   "metadata": {
    "tags": []
   },
   "outputs": [
    {
     "name": "stderr",
     "output_type": "stream",
     "text": [
      "/var/tmp/ipykernel_1431033/450478126.py:4: DeprecationWarning: The module `kfp.v2` is deprecated and will be removed in a futureversion. Please import directly from the `kfp` namespace, instead of `kfp.v2`.\n",
      "  from kfp.v2 import compiler\n"
     ]
    }
   ],
   "source": [
    "from google.cloud import aiplatform\n",
    "from datetime import datetime\n",
    "import kfp\n",
    "from kfp.v2 import compiler\n",
    "#import kfp.v2.dsl as dsl\n",
    "#import google_cloud_pipeline_components as gcc_aip\n",
    "from google_cloud_pipeline_components.v1.dataset import TabularDatasetCreateOp\n",
    "from google_cloud_pipeline_components.v1.automl.training_job import AutoMLTabularTrainingJobRunOp\n",
    "from google_cloud_pipeline_components.v1.endpoint import EndpointCreateOp, ModelDeployOp\n",
    "\n",
    "from google.cloud import bigquery\n",
    "from google.protobuf import json_format\n",
    "from google.protobuf.struct_pb2 import Value\n",
    "import json\n",
    "import numpy as np"
   ]
  },
  {
   "cell_type": "code",
   "execution_count": 2,
   "id": "27818c01-ab44-4fc6-841d-89807ce6a0b1",
   "metadata": {
    "tags": []
   },
   "outputs": [
    {
     "data": {
      "text/plain": [
       "'gcp-ccai-auto-ml-contactcenter'"
      ]
     },
     "execution_count": 2,
     "metadata": {},
     "output_type": "execute_result"
    }
   ],
   "source": [
    "project = !gcloud config get-value project\n",
    "PROJECT_ID = project[0]\n",
    "PROJECT_ID"
   ]
  },
  {
   "cell_type": "code",
   "execution_count": 2,
   "id": "a879e5bf-9705-4010-83f1-9c42c6e50557",
   "metadata": {
    "tags": []
   },
   "outputs": [
    {
     "data": {
      "text/plain": [
       "'gs://ccai-storage/pipeline_root/'"
      ]
     },
     "execution_count": 2,
     "metadata": {},
     "output_type": "execute_result"
    }
   ],
   "source": [
    "PROJECT_ID = 'gcp-ccai-auto-ml-contactcenter'\n",
    "REGION= \"europe-west3\"\n",
    "REPO_NAME = \"repo-demo3\"\n",
    "SERVICE_ACCOUNT = \"944308723981-compute@developer.gserviceaccount.com\"\n",
    "BUCKET = \"ccai-storage\"\n",
    "PIPELINE_NAME = \"automl_pipeline\"\n",
    "YAML_NAME = f\"{PIPELINE_NAME}.yml\"\n",
    "PIPELINE_ROOT = f\"gs://{BUCKET}/pipeline_root/\"\n",
    "DISPLAY_NAME = PIPELINE_NAME.replace(\"_\", \"-\")\n",
    "BQ_SOURCE = \"bq://gcp-ccai-auto-ml-contactcenter.dataset_nlp.step_final_bq\"\n",
    "NOTEBOOK = \"automl\"\n",
    "DATASET = \"dataset_nlp\"\n",
    "BQ_NAME = \"final_df5\"\n",
    "PIPELINE_ROOT"
   ]
  },
  {
   "cell_type": "code",
   "execution_count": 4,
   "id": "ac2c812a-554a-4d9f-9516-2f61ffd15fde",
   "metadata": {
    "tags": []
   },
   "outputs": [],
   "source": [
    "TIMESTAMP = datetime.now().strftime(\"%Y%m%d%H%M%S\")\n",
    "\n",
    "URI = f\"gs://{BUCKET}/{DATASET}/models/{NOTEBOOK}\"\n",
    "DIR = f\"temp/{NOTEBOOK}\""
   ]
  },
  {
   "cell_type": "code",
   "execution_count": 5,
   "id": "974f5d15-a624-4c77-93a6-ce114bef7abe",
   "metadata": {
    "tags": []
   },
   "outputs": [],
   "source": [
    "# Resources\n",
    "DEPLOY_COMPUTE = 'n1-standard-2'\n",
    "\n",
    "# Model Training\n",
    "VAR_TARGET = 'Topic'\n",
    "VAR_OMIT = 'uri' 'url' 'title' 'body' 'date' 'time' 'dateTime' 'dateTimePub' 'lang' 'isDuplicate' 'dataType' 'sentiment' 'eventUri' 'relevance' 'image' 'authors' 'sharesFacebook' 'sourceTitle' 'sourceLocationLabel' 'categoryLabels' 'categoryWeights' 'importanceRank' 'alexaGlobalRank' 'alexaCountryRank' 'date_column' 'year' 'month' 'year_month' 'split' 'score' 'magnitude' 'num_documents' 'Toxic' 'Insult' 'Profanity' 'Derogatory' 'Sexual' 'Death_Harm__Tragedy' 'Violent' 'Firearms__Weapons' 'Public_Safety' 'Health' 'Religion__Belief' 'Illicit_Drugs' 'War__Conflict' 'Politics' 'Finance' 'Legal' 'PERSON' 'OTHER' 'ORGANIZATION' 'EVENT' 'LOCATION' 'WORK_OF_ART' 'CONSUMER_GOOD' 'NUMBER' 'DATE' 'PERSON_mean_salience' 'OTHER_mean_salience' 'ORGANIZATION_mean_salience' 'EVENT_mean_salience' 'LOCATION_mean_salience' 'WORK_OF_ART_mean_salience' 'CONSUMER_GOOD_mean_salience' 'NUMBER_mean_salience' 'DATE_mean_salience' 'PRICE' 'PRICE_mean_salience' 'ADDRESS' 'ADDRESS_mean_salience' 'PHONE_NUMBER' 'PHONE_NUMBER_mean_salience'# add more variables to the string with space delimiters"
   ]
  },
  {
   "cell_type": "code",
   "execution_count": 6,
   "id": "2ce51c5c-1fb1-4c54-8460-4538d3e9b0ad",
   "metadata": {
    "tags": []
   },
   "outputs": [
    {
     "ename": "IndentationError",
     "evalue": "unexpected indent (1426193541.py, line 2)",
     "output_type": "error",
     "traceback": [
      "\u001b[0;36m  Cell \u001b[0;32mIn[6], line 2\u001b[0;36m\u001b[0m\n\u001b[0;31m    'dateTimePub', 'lang', 'isDuplicate', 'dataType', 'sentiment',\u001b[0m\n\u001b[0m    ^\u001b[0m\n\u001b[0;31mIndentationError\u001b[0m\u001b[0;31m:\u001b[0m unexpected indent\n"
     ]
    }
   ],
   "source": [
    "'uri', 'url', 'title', 'body', 'date', 'time', 'dateTime',\n",
    "       'dateTimePub', 'lang', 'isDuplicate', 'dataType', 'sentiment',\n",
    "       'eventUri', 'relevance', 'image', 'authors', 'sharesFacebook',\n",
    "       'sourceTitle', 'sourceLocationLabel', 'categoryLabels',\n",
    "       'categoryWeights', 'importanceRank', 'alexaGlobalRank',\n",
    "       'alexaCountryRank', 'date_column', 'year', 'month', 'year_month',\n",
    "       'topic', 'split', 'shares_scaled', 'body_pre', 'score', 'magnitude',\n",
    "       'num_documents', 'Toxic', 'Insult', 'Profanity', 'Derogatory', 'Sexual',\n",
    "       'Death_Harm__Tragedy', 'Violent', 'Firearms__Weapons', 'Public_Safety',\n",
    "       'Health', 'Religion__Belief', 'Illicit_Drugs', 'War__Conflict',\n",
    "       'Politics', 'Finance', 'Legal', 'PERSON', 'OTHER', 'ORGANIZATION',\n",
    "       'EVENT', 'LOCATION', 'WORK_OF_ART', 'CONSUMER_GOOD', 'NUMBER', 'DATE',\n",
    "       'PERSON_mean_salience', 'OTHER_mean_salience',\n",
    "       'ORGANIZATION_mean_salience', 'EVENT_mean_salience',\n",
    "       'LOCATION_mean_salience', 'WORK_OF_ART_mean_salience',\n",
    "       'CONSUMER_GOOD_mean_salience', 'NUMBER_mean_salience',\n",
    "       'DATE_mean_salience', 'PRICE', 'PRICE_mean_salience', 'ADDRESS',\n",
    "       'ADDRESS_mean_salience', 'PHONE_NUMBER', 'PHONE_NUMBER_mean_salience'"
   ]
  },
  {
   "cell_type": "code",
   "execution_count": 7,
   "id": "7ac330fe-fa75-4916-94db-b6fa09e3f66a",
   "metadata": {
    "tags": []
   },
   "outputs": [],
   "source": [
    "aiplatform.init(project=PROJECT_ID, location=REGION)\n",
    "bq = bigquery.Client()"
   ]
  },
  {
   "cell_type": "code",
   "execution_count": 8,
   "id": "92ef5d29-560b-4a27-aee1-25f602687a83",
   "metadata": {
    "tags": []
   },
   "outputs": [
    {
     "data": {
      "text/plain": [
       "'gs://ccai-storage/dataset_nlp/models/automl'"
      ]
     },
     "execution_count": 8,
     "metadata": {},
     "output_type": "execute_result"
    }
   ],
   "source": [
    "TIMESTAMP = datetime.now().strftime(\"%Y%m%d%H%M%S\")\n",
    "\n",
    "URI = f\"gs://{BUCKET}/{DATASET}/models/{NOTEBOOK}\"\n",
    "DIR = f\"temp/{NOTEBOOK}\"\n",
    "URI\n"
   ]
  },
  {
   "cell_type": "code",
   "execution_count": 9,
   "id": "82d8d6db-45a0-401f-8fc9-f22abab002c2",
   "metadata": {
    "tags": []
   },
   "outputs": [
    {
     "data": {
      "text/plain": [
       "'944308723981-compute@developer.gserviceaccount.com'"
      ]
     },
     "execution_count": 9,
     "metadata": {},
     "output_type": "execute_result"
    }
   ],
   "source": [
    "SERVICE_ACCOUNT = !gcloud config list --format='value(core.account)' \n",
    "SERVICE_ACCOUNT = SERVICE_ACCOUNT[0]\n",
    "SERVICE_ACCOUNT"
   ]
  },
  {
   "cell_type": "code",
   "execution_count": 10,
   "id": "6b63e17d-079b-4f7d-a6e2-47e6c6445b36",
   "metadata": {
    "tags": []
   },
   "outputs": [
    {
     "name": "stdout",
     "output_type": "stream",
     "text": [
      "ROLE\n",
      "organizations/329273198709/roles/Ruolopersonalizzato\n",
      "organizations/329273198709/roles/Ruolopersonalizzato517\n",
      "roles/aiplatform.user\n",
      "roles/artifactregistry.admin\n",
      "roles/artifactregistry.createOnPushWriter\n",
      "roles/artifactregistry.writer\n",
      "roles/bigquery.admin\n",
      "roles/cloudtranslate.editor\n",
      "roles/contactcenterinsights.editor\n",
      "roles/dataflow.admin\n",
      "roles/dataflow.developer\n",
      "roles/dataflow.worker\n",
      "roles/datastore.user\n",
      "roles/dialogflow.client\n",
      "roles/pubsub.editor\n",
      "roles/securesourcemanager.repoCreator\n",
      "roles/securesourcemanager.repoWriter\n",
      "roles/source.writer\n",
      "roles/storage.objectAdmin\n",
      "roles/viewer\n"
     ]
    }
   ],
   "source": [
    "!gcloud projects get-iam-policy $PROJECT_ID --filter=\"bindings.members:$SERVICE_ACCOUNT\" --format='table(bindings.role)' --flatten=\"bindings[].members\""
   ]
  },
  {
   "cell_type": "code",
   "execution_count": 11,
   "id": "8eb39930-71d2-405b-925f-d5bd9207c8ce",
   "metadata": {
    "tags": []
   },
   "outputs": [],
   "source": [
    "!rm -rf {DIR}\n",
    "!mkdir -p {DIR}"
   ]
  },
  {
   "cell_type": "code",
   "execution_count": 12,
   "id": "b6dcf6d0-8433-4041-859f-4d3a7d73110c",
   "metadata": {
    "tags": []
   },
   "outputs": [],
   "source": [
    "!rm -rf {URI}\n",
    "!mkdir -p {URI}"
   ]
  },
  {
   "cell_type": "code",
   "execution_count": 13,
   "id": "b42923b0-73d8-4556-b39f-1bd3bf115ce3",
   "metadata": {
    "tags": []
   },
   "outputs": [
    {
     "data": {
      "text/plain": [
       "'gs://ccai-storage/dataset_nlp/models/automl'"
      ]
     },
     "execution_count": 13,
     "metadata": {},
     "output_type": "execute_result"
    }
   ],
   "source": [
    "URI"
   ]
  },
  {
   "cell_type": "code",
   "execution_count": 14,
   "id": "02d6ee0b-5472-4f30-b71a-dd78078a051a",
   "metadata": {
    "tags": []
   },
   "outputs": [],
   "source": [
    "\n",
    "@kfp.dsl.pipeline(\n",
    "    name = f'kfp-{NOTEBOOK}-{DATASET}-{TIMESTAMP}',\n",
    "    pipeline_root = URI+'/'+str(TIMESTAMP)+'/kfp/'\n",
    ")\n",
    "def pipeline(\n",
    "    project: str,\n",
    "    dataname: str,\n",
    "    display_name: str,\n",
    "    deploy_machine: str,\n",
    "    bq_source: str,\n",
    "    var_target: str,\n",
    "    var_omit: str,\n",
    "    features: dict,\n",
    "    labels: dict \n",
    "):\n",
    "    \n",
    "    # dataset\n",
    "    dataset = TabularDatasetCreateOp(\n",
    "        project = project,\n",
    "        display_name = display_name,\n",
    "        bq_source = bq_source,\n",
    "        labels = labels\n",
    "    )\n",
    "    \n",
    "    # training\n",
    "    model = AutoMLTabularTrainingJobRunOp(\n",
    "        project = project,\n",
    "        display_name = display_name,\n",
    "        optimization_prediction_type = \"classification\",\n",
    "        optimization_objective = \"maximize-au-prc\",\n",
    "        budget_milli_node_hours = 1000,\n",
    "        disable_early_stopping=False,\n",
    "        column_specs = features,\n",
    "        dataset = dataset.outputs['dataset'],\n",
    "        target_column = var_target,\n",
    "        predefined_split_column_name = 'split',\n",
    "        labels = labels\n",
    "    )\n",
    "    \n",
    "    # Endpoint: Creation\n",
    "    endpoint = EndpointCreateOp(\n",
    "        project = project,\n",
    "        display_name = display_name,\n",
    "        labels = labels\n",
    "    )\n",
    "    \n",
    "    # Endpoint: Deployment of Model\n",
    "    deployment = ModelDeployOp(\n",
    "        model = model.outputs[\"model\"],\n",
    "        endpoint = endpoint.outputs[\"endpoint\"],\n",
    "        dedicated_resources_min_replica_count = 1,\n",
    "        dedicated_resources_max_replica_count = 1,\n",
    "        traffic_split = {\"0\": 100},\n",
    "        dedicated_resources_machine_type= deploy_machine\n",
    "    )"
   ]
  },
  {
   "cell_type": "code",
   "execution_count": 15,
   "id": "9220e469-834b-4041-99d8-d231daf2f004",
   "metadata": {
    "tags": []
   },
   "outputs": [],
   "source": [
    "compiler.Compiler().compile(\n",
    "    pipeline_func = pipeline,\n",
    "    package_path = f\"{DIR}/{NOTEBOOK}.json\"\n",
    ")"
   ]
  },
  {
   "cell_type": "code",
   "execution_count": 16,
   "id": "aae40149-c9ce-4416-8a1e-4083f5864541",
   "metadata": {
    "tags": []
   },
   "outputs": [
    {
     "name": "stdout",
     "output_type": "stream",
     "text": [
      "Copying file://temp/automl/automl.json [Content-Type=application/json]...\n",
      "/ [1 files][ 46.6 KiB/ 46.6 KiB]                                                \n",
      "Operation completed over 1 objects/46.6 KiB.                                     \n"
     ]
    }
   ],
   "source": [
    "!gsutil cp {DIR}/{NOTEBOOK}.json {URI}/{TIMESTAMP}/kfp/"
   ]
  },
  {
   "cell_type": "code",
   "execution_count": 21,
   "id": "1fcbbfcd-0269-439f-aaac-ec26831d33b7",
   "metadata": {
    "tags": []
   },
   "outputs": [],
   "source": [
    "# get feature names\n",
    "query = f\"SELECT * FROM {DATASET}.INFORMATION_SCHEMA.COLUMNS WHERE TABLE_NAME = '{BQ_NAME}'\"\n",
    "schema = bq.query(query).to_dataframe()\n",
    "OMIT = VAR_OMIT.split() + [VAR_TARGET, 'split']\n",
    "features = schema[~schema.column_name.isin(OMIT)].column_name.tolist()\n",
    "features = dict.fromkeys(features, 'auto')"
   ]
  },
  {
   "cell_type": "code",
   "execution_count": 22,
   "id": "b2721c98-62d9-458f-94f6-382b4adda7fb",
   "metadata": {
    "tags": []
   },
   "outputs": [
    {
     "data": {
      "text/plain": [
       "{'uri': 'auto',\n",
       " 'url': 'auto',\n",
       " 'title': 'auto',\n",
       " 'body': 'auto',\n",
       " 'date': 'auto',\n",
       " 'time': 'auto',\n",
       " 'dateTime': 'auto',\n",
       " 'dateTimePub': 'auto',\n",
       " 'lang': 'auto',\n",
       " 'isDuplicate': 'auto',\n",
       " 'dataType': 'auto',\n",
       " 'sentiment': 'auto',\n",
       " 'eventUri': 'auto',\n",
       " 'relevance': 'auto',\n",
       " 'image': 'auto',\n",
       " 'authors': 'auto',\n",
       " 'sharesFacebook': 'auto',\n",
       " 'sourceTitle': 'auto',\n",
       " 'sourceLocationLabel': 'auto',\n",
       " 'categoryLabels': 'auto',\n",
       " 'categoryWeights': 'auto',\n",
       " 'importanceRank': 'auto',\n",
       " 'alexaGlobalRank': 'auto',\n",
       " 'alexaCountryRank': 'auto',\n",
       " 'date_column': 'auto',\n",
       " 'year': 'auto',\n",
       " 'month': 'auto',\n",
       " 'year_month': 'auto',\n",
       " 'topic': 'auto',\n",
       " 'shares_scaled': 'auto',\n",
       " 'body_pre': 'auto',\n",
       " 'score': 'auto',\n",
       " 'magnitude': 'auto',\n",
       " 'num_documents': 'auto',\n",
       " 'Toxic': 'auto',\n",
       " 'Insult': 'auto',\n",
       " 'Profanity': 'auto',\n",
       " 'Derogatory': 'auto',\n",
       " 'Sexual': 'auto',\n",
       " 'Death_Harm__Tragedy': 'auto',\n",
       " 'Violent': 'auto',\n",
       " 'Firearms__Weapons': 'auto',\n",
       " 'Public_Safety': 'auto',\n",
       " 'Health': 'auto',\n",
       " 'Religion__Belief': 'auto',\n",
       " 'Illicit_Drugs': 'auto',\n",
       " 'War__Conflict': 'auto',\n",
       " 'Politics': 'auto',\n",
       " 'Finance': 'auto',\n",
       " 'Legal': 'auto',\n",
       " 'PERSON': 'auto',\n",
       " 'OTHER': 'auto',\n",
       " 'ORGANIZATION': 'auto',\n",
       " 'EVENT': 'auto',\n",
       " 'LOCATION': 'auto',\n",
       " 'WORK_OF_ART': 'auto',\n",
       " 'CONSUMER_GOOD': 'auto',\n",
       " 'NUMBER': 'auto',\n",
       " 'PERSON_mean_salience': 'auto',\n",
       " 'OTHER_mean_salience': 'auto',\n",
       " 'ORGANIZATION_mean_salience': 'auto',\n",
       " 'EVENT_mean_salience': 'auto',\n",
       " 'LOCATION_mean_salience': 'auto',\n",
       " 'WORK_OF_ART_mean_salience': 'auto',\n",
       " 'CONSUMER_GOOD_mean_salience': 'auto',\n",
       " 'NUMBER_mean_salience': 'auto',\n",
       " 'DATE_mean_salience': 'auto',\n",
       " 'PRICE': 'auto',\n",
       " 'PRICE_mean_salience': 'auto',\n",
       " 'ADDRESS': 'auto',\n",
       " 'ADDRESS_mean_salience': 'auto',\n",
       " 'PHONE_NUMBER': 'auto',\n",
       " 'PHONE_NUMBER_mean_salience': 'auto'}"
      ]
     },
     "execution_count": 22,
     "metadata": {},
     "output_type": "execute_result"
    }
   ],
   "source": [
    "features"
   ]
  },
  {
   "cell_type": "code",
   "execution_count": 24,
   "id": "470a6d39-a8f0-46f0-a2d2-bed413907209",
   "metadata": {
    "tags": []
   },
   "outputs": [],
   "source": [
    "pipeline = aiplatform.PipelineJob(\n",
    "    display_name = f'{NOTEBOOK}_{DATASET}_{TIMESTAMP}',\n",
    "    template_path = f\"{URI}/{TIMESTAMP}/kfp/{NOTEBOOK}.json\",\n",
    "    parameter_values = {\n",
    "        \"project\" : PROJECT_ID,\n",
    "        \"dataname\" : DATASET,\n",
    "        \"display_name\" : f'{NOTEBOOK}_{DATASET}_{TIMESTAMP}',\n",
    "        \"deploy_machine\" : DEPLOY_COMPUTE,\n",
    "        \"bq_source\" : f'bq://{PROJECT_ID}.{DATASET}.{BQ_NAME}',\n",
    "        \"var_target\" : VAR_TARGET,\n",
    "        \"var_omit\" : VAR_OMIT,\n",
    "        \"features\" : features,\n",
    "        \"labels\" : {'notebook': NOTEBOOK}       \n",
    "    },\n",
    "    labels = {'notebook': NOTEBOOK},\n",
    "    enable_caching=False\n",
    ")"
   ]
  },
  {
   "cell_type": "code",
   "execution_count": 25,
   "id": "ea681e87-2a15-45a0-9f2f-e728e62c60df",
   "metadata": {
    "tags": []
   },
   "outputs": [
    {
     "name": "stdout",
     "output_type": "stream",
     "text": [
      "Creating PipelineJob\n",
      "PipelineJob created. Resource name: projects/944308723981/locations/europe-west3/pipelineJobs/kfp-automl-dataset-nlp-20240324180008-20240324180423\n",
      "To use this PipelineJob in another session:\n",
      "pipeline_job = aiplatform.PipelineJob.get('projects/944308723981/locations/europe-west3/pipelineJobs/kfp-automl-dataset-nlp-20240324180008-20240324180423')\n",
      "View Pipeline Job:\n",
      "https://console.cloud.google.com/vertex-ai/locations/europe-west3/pipelines/runs/kfp-automl-dataset-nlp-20240324180008-20240324180423?project=944308723981\n",
      "PipelineJob projects/944308723981/locations/europe-west3/pipelineJobs/kfp-automl-dataset-nlp-20240324180008-20240324180423 current state:\n",
      "PipelineState.PIPELINE_STATE_RUNNING\n",
      "PipelineJob projects/944308723981/locations/europe-west3/pipelineJobs/kfp-automl-dataset-nlp-20240324180008-20240324180423 current state:\n",
      "PipelineState.PIPELINE_STATE_RUNNING\n",
      "PipelineJob projects/944308723981/locations/europe-west3/pipelineJobs/kfp-automl-dataset-nlp-20240324180008-20240324180423 current state:\n",
      "PipelineState.PIPELINE_STATE_RUNNING\n",
      "PipelineJob projects/944308723981/locations/europe-west3/pipelineJobs/kfp-automl-dataset-nlp-20240324180008-20240324180423 current state:\n",
      "PipelineState.PIPELINE_STATE_RUNNING\n",
      "PipelineJob projects/944308723981/locations/europe-west3/pipelineJobs/kfp-automl-dataset-nlp-20240324180008-20240324180423 current state:\n",
      "PipelineState.PIPELINE_STATE_RUNNING\n"
     ]
    },
    {
     "ename": "KeyboardInterrupt",
     "evalue": "",
     "output_type": "error",
     "traceback": [
      "\u001b[0;31m---------------------------------------------------------------------------\u001b[0m",
      "\u001b[0;31mKeyboardInterrupt\u001b[0m                         Traceback (most recent call last)",
      "Cell \u001b[0;32mIn[25], line 1\u001b[0m\n\u001b[0;32m----> 1\u001b[0m response \u001b[38;5;241m=\u001b[39m \u001b[43mpipeline\u001b[49m\u001b[38;5;241;43m.\u001b[39;49m\u001b[43mrun\u001b[49m\u001b[43m(\u001b[49m\n\u001b[1;32m      2\u001b[0m \u001b[43m    \u001b[49m\u001b[43mservice_account\u001b[49m\u001b[43m \u001b[49m\u001b[38;5;241;43m=\u001b[39;49m\u001b[43m \u001b[49m\u001b[43mSERVICE_ACCOUNT\u001b[49m\n\u001b[1;32m      3\u001b[0m \u001b[43m)\u001b[49m\n",
      "File \u001b[0;32m/opt/conda/lib/python3.10/site-packages/google/cloud/aiplatform/pipeline_jobs.py:323\u001b[0m, in \u001b[0;36mPipelineJob.run\u001b[0;34m(self, service_account, network, reserved_ip_ranges, sync, create_request_timeout)\u001b[0m\n\u001b[1;32m    301\u001b[0m \u001b[38;5;250m\u001b[39m\u001b[38;5;124;03m\"\"\"Run this configured PipelineJob and monitor the job until completion.\u001b[39;00m\n\u001b[1;32m    302\u001b[0m \n\u001b[1;32m    303\u001b[0m \u001b[38;5;124;03mArgs:\u001b[39;00m\n\u001b[0;32m   (...)\u001b[0m\n\u001b[1;32m    319\u001b[0m \u001b[38;5;124;03m        Optional. The timeout for the create request in seconds.\u001b[39;00m\n\u001b[1;32m    320\u001b[0m \u001b[38;5;124;03m\"\"\"\u001b[39;00m\n\u001b[1;32m    321\u001b[0m network \u001b[38;5;241m=\u001b[39m network \u001b[38;5;129;01mor\u001b[39;00m initializer\u001b[38;5;241m.\u001b[39mglobal_config\u001b[38;5;241m.\u001b[39mnetwork\n\u001b[0;32m--> 323\u001b[0m \u001b[38;5;28;43mself\u001b[39;49m\u001b[38;5;241;43m.\u001b[39;49m\u001b[43m_run\u001b[49m\u001b[43m(\u001b[49m\n\u001b[1;32m    324\u001b[0m \u001b[43m    \u001b[49m\u001b[43mservice_account\u001b[49m\u001b[38;5;241;43m=\u001b[39;49m\u001b[43mservice_account\u001b[49m\u001b[43m,\u001b[49m\n\u001b[1;32m    325\u001b[0m \u001b[43m    \u001b[49m\u001b[43mnetwork\u001b[49m\u001b[38;5;241;43m=\u001b[39;49m\u001b[43mnetwork\u001b[49m\u001b[43m,\u001b[49m\n\u001b[1;32m    326\u001b[0m \u001b[43m    \u001b[49m\u001b[43mreserved_ip_ranges\u001b[49m\u001b[38;5;241;43m=\u001b[39;49m\u001b[43mreserved_ip_ranges\u001b[49m\u001b[43m,\u001b[49m\n\u001b[1;32m    327\u001b[0m \u001b[43m    \u001b[49m\u001b[43msync\u001b[49m\u001b[38;5;241;43m=\u001b[39;49m\u001b[43msync\u001b[49m\u001b[43m,\u001b[49m\n\u001b[1;32m    328\u001b[0m \u001b[43m    \u001b[49m\u001b[43mcreate_request_timeout\u001b[49m\u001b[38;5;241;43m=\u001b[39;49m\u001b[43mcreate_request_timeout\u001b[49m\u001b[43m,\u001b[49m\n\u001b[1;32m    329\u001b[0m \u001b[43m\u001b[49m\u001b[43m)\u001b[49m\n",
      "File \u001b[0;32m/opt/conda/lib/python3.10/site-packages/google/cloud/aiplatform/base.py:863\u001b[0m, in \u001b[0;36moptional_sync.<locals>.optional_run_in_thread.<locals>.wrapper\u001b[0;34m(*args, **kwargs)\u001b[0m\n\u001b[1;32m    861\u001b[0m     \u001b[38;5;28;01mif\u001b[39;00m \u001b[38;5;28mself\u001b[39m:\n\u001b[1;32m    862\u001b[0m         VertexAiResourceNounWithFutureManager\u001b[38;5;241m.\u001b[39mwait(\u001b[38;5;28mself\u001b[39m)\n\u001b[0;32m--> 863\u001b[0m     \u001b[38;5;28;01mreturn\u001b[39;00m \u001b[43mmethod\u001b[49m\u001b[43m(\u001b[49m\u001b[38;5;241;43m*\u001b[39;49m\u001b[43margs\u001b[49m\u001b[43m,\u001b[49m\u001b[43m \u001b[49m\u001b[38;5;241;43m*\u001b[39;49m\u001b[38;5;241;43m*\u001b[39;49m\u001b[43mkwargs\u001b[49m\u001b[43m)\u001b[49m\n\u001b[1;32m    865\u001b[0m \u001b[38;5;66;03m# callbacks to call within the Future (in same Thread)\u001b[39;00m\n\u001b[1;32m    866\u001b[0m internal_callbacks \u001b[38;5;241m=\u001b[39m []\n",
      "File \u001b[0;32m/opt/conda/lib/python3.10/site-packages/google/cloud/aiplatform/pipeline_jobs.py:366\u001b[0m, in \u001b[0;36mPipelineJob._run\u001b[0;34m(self, service_account, network, reserved_ip_ranges, sync, create_request_timeout)\u001b[0m\n\u001b[1;32m    340\u001b[0m \u001b[38;5;250m\u001b[39m\u001b[38;5;124;03m\"\"\"Helper method to ensure network synchronization and to run\u001b[39;00m\n\u001b[1;32m    341\u001b[0m \u001b[38;5;124;03mthe configured PipelineJob and monitor the job until completion.\u001b[39;00m\n\u001b[1;32m    342\u001b[0m \n\u001b[0;32m   (...)\u001b[0m\n\u001b[1;32m    357\u001b[0m \u001b[38;5;124;03m        Optional. The timeout for the create request in seconds.\u001b[39;00m\n\u001b[1;32m    358\u001b[0m \u001b[38;5;124;03m\"\"\"\u001b[39;00m\n\u001b[1;32m    359\u001b[0m \u001b[38;5;28mself\u001b[39m\u001b[38;5;241m.\u001b[39msubmit(\n\u001b[1;32m    360\u001b[0m     service_account\u001b[38;5;241m=\u001b[39mservice_account,\n\u001b[1;32m    361\u001b[0m     network\u001b[38;5;241m=\u001b[39mnetwork,\n\u001b[1;32m    362\u001b[0m     reserved_ip_ranges\u001b[38;5;241m=\u001b[39mreserved_ip_ranges,\n\u001b[1;32m    363\u001b[0m     create_request_timeout\u001b[38;5;241m=\u001b[39mcreate_request_timeout,\n\u001b[1;32m    364\u001b[0m )\n\u001b[0;32m--> 366\u001b[0m \u001b[38;5;28;43mself\u001b[39;49m\u001b[38;5;241;43m.\u001b[39;49m\u001b[43m_block_until_complete\u001b[49m\u001b[43m(\u001b[49m\u001b[43m)\u001b[49m\n",
      "File \u001b[0;32m/opt/conda/lib/python3.10/site-packages/google/cloud/aiplatform/pipeline_jobs.py:610\u001b[0m, in \u001b[0;36mPipelineJob._block_until_complete\u001b[0;34m(self)\u001b[0m\n\u001b[1;32m    608\u001b[0m         log_wait \u001b[38;5;241m=\u001b[39m \u001b[38;5;28mmin\u001b[39m(log_wait \u001b[38;5;241m*\u001b[39m multiplier, max_wait)\n\u001b[1;32m    609\u001b[0m         previous_time \u001b[38;5;241m=\u001b[39m current_time\n\u001b[0;32m--> 610\u001b[0m     \u001b[43mtime\u001b[49m\u001b[38;5;241;43m.\u001b[39;49m\u001b[43msleep\u001b[49m\u001b[43m(\u001b[49m\u001b[43mwait\u001b[49m\u001b[43m)\u001b[49m\n\u001b[1;32m    612\u001b[0m \u001b[38;5;66;03m# Error is only populated when the job state is\u001b[39;00m\n\u001b[1;32m    613\u001b[0m \u001b[38;5;66;03m# JOB_STATE_FAILED or JOB_STATE_CANCELLED.\u001b[39;00m\n\u001b[1;32m    614\u001b[0m \u001b[38;5;28;01mif\u001b[39;00m \u001b[38;5;28mself\u001b[39m\u001b[38;5;241m.\u001b[39m_gca_resource\u001b[38;5;241m.\u001b[39mstate \u001b[38;5;129;01min\u001b[39;00m _PIPELINE_ERROR_STATES:\n",
      "\u001b[0;31mKeyboardInterrupt\u001b[0m: "
     ]
    }
   ],
   "source": [
    "response = pipeline.run(\n",
    "    service_account = SERVICE_ACCOUNT\n",
    ")"
   ]
  },
  {
   "cell_type": "code",
   "execution_count": null,
   "id": "c4924fb8-e669-46aa-b567-eac0df47caf3",
   "metadata": {
    "tags": []
   },
   "outputs": [],
   "source": [
    "print(f\"Review the Pipeline as it runs here:\\nhttps://console.cloud.google.com/vertex-ai/locations/{REGION}/pipelines/runs/{pipeline.resource_name.split('/')[-1]}?project={PROJECT_ID}\")"
   ]
  },
  {
   "cell_type": "code",
   "execution_count": null,
   "id": "786f4421-c9df-42e0-9690-c138322e27e4",
   "metadata": {},
   "outputs": [],
   "source": []
  },
  {
   "cell_type": "code",
   "execution_count": null,
   "id": "76088d58-7fa9-4316-843a-105bd894d0da",
   "metadata": {},
   "outputs": [],
   "source": []
  },
  {
   "cell_type": "code",
   "execution_count": null,
   "id": "6b76cba4-f422-4536-9f6e-9bc42994aa2c",
   "metadata": {},
   "outputs": [],
   "source": []
  },
  {
   "cell_type": "code",
   "execution_count": null,
   "id": "b75335aa-5d61-4ad6-9196-ae39c1d06926",
   "metadata": {},
   "outputs": [],
   "source": []
  },
  {
   "cell_type": "code",
   "execution_count": null,
   "id": "82d129c0-afe2-44b3-bb60-cfdc0c9aefad",
   "metadata": {},
   "outputs": [],
   "source": []
  }
 ],
 "metadata": {
  "environment": {
   "kernel": "python3",
   "name": "common-cpu.m115",
   "type": "gcloud",
   "uri": "gcr.io/deeplearning-platform-release/base-cpu:m115"
  },
  "kernelspec": {
   "display_name": "Python 3",
   "language": "python",
   "name": "python3"
  },
  "language_info": {
   "codemirror_mode": {
    "name": "ipython",
    "version": 3
   },
   "file_extension": ".py",
   "mimetype": "text/x-python",
   "name": "python",
   "nbconvert_exporter": "python",
   "pygments_lexer": "ipython3",
   "version": "3.10.13"
  }
 },
 "nbformat": 4,
 "nbformat_minor": 5
}
