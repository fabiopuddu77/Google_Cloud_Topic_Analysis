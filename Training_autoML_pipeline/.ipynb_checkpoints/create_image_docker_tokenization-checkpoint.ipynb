{
 "cells": [
  {
   "cell_type": "code",
   "execution_count": 1,
   "id": "15d2ff4f-79f0-4221-a35f-3313009ecc9a",
   "metadata": {
    "tags": []
   },
   "outputs": [],
   "source": [
    "PROJECT_ID = 'gcp-ccai-auto-ml-contactcenter'\n",
    "REGION= \"europe-west3\"\n",
    "REPO_NAME = \"repo-demo3\"\n",
    "SERVICE_ACCOUNT = \"944308723981-compute@developer.gserviceaccount.com\"\n",
    "BUCKET_URI = f\"gs://ccai-storage\""
   ]
  },
  {
   "cell_type": "code",
   "execution_count": 2,
   "id": "a9b8691d-d380-4d9b-8382-dfd29dd970ef",
   "metadata": {
    "tags": []
   },
   "outputs": [],
   "source": [
    "APPLICATION_DIR = \"custom-data-preparation-image\"\n",
    "PROCESSING_DIR = f\"{APPLICATION_DIR}/processing\""
   ]
  },
  {
   "cell_type": "code",
   "execution_count": 3,
   "id": "920827b7-b1c8-4520-a4e3-3888fdfa5d3b",
   "metadata": {
    "tags": []
   },
   "outputs": [
    {
     "name": "stdout",
     "output_type": "stream",
     "text": [
      "Overwriting custom-data-preparation-image/Dockerfile\n"
     ]
    }
   ],
   "source": [
    "%%writefile {APPLICATION_DIR}/Dockerfile\n",
    "\n",
    "FROM us-docker.pkg.dev/deeplearning-platform-release/gcr.io/base-cu113.py310\n",
    "\n",
    "WORKDIR /\n",
    "\n",
    "COPY requirements.txt /\n",
    "\n",
    "# Installs hypertune library\n",
    "RUN pip install -r requirements.txt\n",
    "\n",
    "# Copies the trainer code to the Docker image.\n",
    "COPY processing /processing"
   ]
  },
  {
   "cell_type": "code",
   "execution_count": 4,
   "id": "d53749c1-3924-4543-a2f0-04c2690aca9d",
   "metadata": {
    "tags": []
   },
   "outputs": [
    {
     "name": "stdout",
     "output_type": "stream",
     "text": [
      "\u001b[1;31mERROR:\u001b[0m (gcloud.artifacts.repositories.create) ALREADY_EXISTS: the repository already exists\n"
     ]
    }
   ],
   "source": [
    "!gcloud artifacts repositories create $REPO_NAME --repository-format=docker \\\n",
    "--location=$REGION --description=\"Docker repository\""
   ]
  },
  {
   "cell_type": "code",
   "execution_count": 5,
   "id": "fd1efbeb-bfea-4f1d-8747-40e15d5aef55",
   "metadata": {},
   "outputs": [],
   "source": [
    "IMAGE_URI = (\n",
    "    f\"{REGION}-docker.pkg.dev/{PROJECT_ID}/{REPO_NAME}/data_preparation:latest\"\n",
    ")"
   ]
  },
  {
   "cell_type": "code",
   "execution_count": 6,
   "id": "69175ae8-3c6b-4bb1-b46a-4da083bc8050",
   "metadata": {
    "tags": []
   },
   "outputs": [
    {
     "name": "stdout",
     "output_type": "stream",
     "text": [
      "/home/jupyter/fabio/pipeline/custom-data-preparation-image\n"
     ]
    }
   ],
   "source": [
    "cd $APPLICATION_DIR"
   ]
  },
  {
   "cell_type": "code",
   "execution_count": 7,
   "id": "9d31bded-8a2e-408e-b936-030820a4a87b",
   "metadata": {},
   "outputs": [
    {
     "name": "stdout",
     "output_type": "stream",
     "text": [
      "Sending build context to Docker daemon  23.04kB\n",
      "Step 1/5 : FROM us-docker.pkg.dev/deeplearning-platform-release/gcr.io/base-cu113.py310\n",
      "latest: Pulling from deeplearning-platform-release/gcr.io/base-cu113.py310\n",
      "\n",
      "\u001b[1B4c3075c9: Pulling fs layer \n",
      "\u001b[1B5ac03608: Pulling fs layer \n",
      "\u001b[1Ba0f44e37: Pulling fs layer \n",
      "\u001b[1B897adb41: Pulling fs layer \n",
      "\u001b[1B2bd2f1fc: Pulling fs layer \n",
      "\u001b[1B48468c4c: Pulling fs layer \n",
      "\u001b[1B62c9634f: Pulling fs layer \n",
      "\u001b[1B73afe479: Pulling fs layer \n",
      "\u001b[1B90fac1fd: Pulling fs layer \n",
      "\u001b[1B12d52855: Pulling fs layer \n",
      "\u001b[7B2bd2f1fc: Waiting fs layer \n",
      "\u001b[6B62c9634f: Waiting fs layer \n",
      "\u001b[10B97adb41: Waiting fs layer \n",
      "\u001b[1Bddfec18c: Pulling fs layer \n",
      "\u001b[8B73afe479: Waiting fs layer \n",
      "\u001b[1B26d9f335: Pulling fs layer \n",
      "\u001b[9B90fac1fd: Waiting fs layer \n",
      "\u001b[1B61b99ad8: Pulling fs layer \n",
      "\u001b[9B42cd5e49: Waiting fs layer \n",
      "\u001b[1Bc2e20593: Pulling fs layer \n",
      "\u001b[1Bb2de284f: Pulling fs layer \n",
      "\u001b[1Baf3677f4: Pulling fs layer \n",
      "\u001b[1Bfd8adb3c: Pulling fs layer \n",
      "\u001b[13B42b0909: Waiting fs layer \n",
      "\u001b[1B34b66b6e: Pulling fs layer \n",
      "\u001b[14B46aec54: Waiting fs layer \n",
      "\u001b[14Bdfec18c: Waiting fs layer \n",
      "\u001b[9Bc2e20593: Waiting fs layer \n",
      "\u001b[1Bda608a61: Pulling fs layer \n",
      "\u001b[15B6d9f335: Waiting fs layer \n",
      "\u001b[15Bfdba24e: Waiting fs layer \n",
      "\u001b[11Bf3677f4: Waiting fs layer \n",
      "\u001b[1B02dc197b: Pulling fs layer \n",
      "\u001b[12Bd8adb3c: Waiting fs layer \n",
      "\u001b[12B8980c10: Waiting fs layer \n",
      "\u001b[5Bd850b852: Waiting fs layer \n",
      "\u001b[1B1cab6457: Pulling fs layer \n",
      "\u001b[1BDigest: sha256:2fd9281791f0f2b2793e7a98f1779712d1bc3ecd77f70c1b520140d56070faa1\u001b[2K\u001b[38A\u001b[2K\u001b[38A\u001b[2K\u001b[38A\u001b[2K\u001b[38A\u001b[2K\u001b[38A\u001b[2K\u001b[38A\u001b[2K\u001b[38A\u001b[2K\u001b[38A\u001b[2K\u001b[37A\u001b[2K\u001b[37A\u001b[2K\u001b[37A\u001b[2K\u001b[34A\u001b[2K\u001b[36A\u001b[2K\u001b[36A\u001b[2K\u001b[36A\u001b[2K\u001b[36A\u001b[2K\u001b[36A\u001b[2K\u001b[35A\u001b[2K\u001b[34A\u001b[2K\u001b[34A\u001b[2K\u001b[33A\u001b[2K\u001b[33A\u001b[2K\u001b[33A\u001b[2K\u001b[33A\u001b[2K\u001b[33A\u001b[2K\u001b[33A\u001b[2K\u001b[32A\u001b[2K\u001b[33A\u001b[2K\u001b[31A\u001b[2K\u001b[33A\u001b[2K\u001b[33A\u001b[2K\u001b[33A\u001b[2K\u001b[33A\u001b[2K\u001b[33A\u001b[2K\u001b[33A\u001b[2K\u001b[30A\u001b[2K\u001b[33A\u001b[2K\u001b[33A\u001b[2K\u001b[33A\u001b[2K\u001b[33A\u001b[2K\u001b[33A\u001b[2K\u001b[33A\u001b[2K\u001b[33A\u001b[2K\u001b[33A\u001b[2K\u001b[29A\u001b[2K\u001b[33A\u001b[2K\u001b[33A\u001b[2K\u001b[33A\u001b[2K\u001b[33A\u001b[2K\u001b[33A\u001b[2K\u001b[29A\u001b[2K\u001b[33A\u001b[2K\u001b[33A\u001b[2K\u001b[33A\u001b[2K\u001b[33A\u001b[2K\u001b[29A\u001b[2K\u001b[33A\u001b[2K\u001b[33A\u001b[2K\u001b[33A\u001b[2K\u001b[33A\u001b[2K\u001b[33A\u001b[2K\u001b[33A\u001b[2K\u001b[33A\u001b[2K\u001b[33A\u001b[2K\u001b[33A\u001b[2K\u001b[33A\u001b[2K\u001b[33A\u001b[2K\u001b[33A\u001b[2K\u001b[33A\u001b[2K\u001b[33A\u001b[2K\u001b[33A\u001b[2K\u001b[29A\u001b[2K\u001b[33A\u001b[2K\u001b[33A\u001b[2K\u001b[33A\u001b[2K\u001b[29A\u001b[2K\u001b[33A\u001b[2K\u001b[33A\u001b[2K\u001b[33A\u001b[2K\u001b[33A\u001b[2K\u001b[33A\u001b[2K\u001b[33A\u001b[2K\u001b[33A\u001b[2K\u001b[33A\u001b[2K\u001b[29A\u001b[2K\u001b[33A\u001b[2K\u001b[33A\u001b[2K\u001b[33A\u001b[2K\u001b[33A\u001b[2K\u001b[29A\u001b[2K\u001b[33A\u001b[2K\u001b[33A\u001b[2K\u001b[33A\u001b[2K\u001b[33A\u001b[2K\u001b[29A\u001b[2K\u001b[33A\u001b[2K\u001b[33A\u001b[2K\u001b[33A\u001b[2K\u001b[29A\u001b[2K\u001b[33A\u001b[2K\u001b[27A\u001b[2K\u001b[33A\u001b[2K\u001b[33A\u001b[2K\u001b[29A\u001b[2K\u001b[33A\u001b[2K\u001b[26A\u001b[2K\u001b[33A\u001b[2K\u001b[29A\u001b[2K\u001b[29A\u001b[2K\u001b[33A\u001b[2K\u001b[33A\u001b[2K\u001b[29A\u001b[2K\u001b[33A\u001b[2K\u001b[29A\u001b[2K\u001b[33A\u001b[2K\u001b[26A\u001b[2K\u001b[33A\u001b[2K\u001b[29A\u001b[2K\u001b[33A\u001b[2K\u001b[33A\u001b[2K\u001b[33A\u001b[2K\u001b[27A\u001b[2K\u001b[33A\u001b[2K\u001b[29A\u001b[2K\u001b[33A\u001b[2K\u001b[29A\u001b[2K\u001b[33A\u001b[2K\u001b[26A\u001b[2K\u001b[33A\u001b[2K\u001b[33A\u001b[2K\u001b[29A\u001b[2K\u001b[33A\u001b[2K\u001b[29A\u001b[2K\u001b[33A\u001b[2K\u001b[33A\u001b[2K\u001b[33A\u001b[2K\u001b[33A\u001b[2K\u001b[26A\u001b[2K\u001b[33A\u001b[2K\u001b[33A\u001b[2K\u001b[29A\u001b[2K\u001b[26A\u001b[2K\u001b[29A\u001b[2K\u001b[33A\u001b[2K\u001b[33A\u001b[2K\u001b[33A\u001b[2K\u001b[29A\u001b[2K\u001b[33A\u001b[2K\u001b[29A\u001b[2K\u001b[27A\u001b[2K\u001b[33A\u001b[2K\u001b[26A\u001b[2K\u001b[29A\u001b[2K\u001b[26A\u001b[2K\u001b[33A\u001b[2K\u001b[29A\u001b[2K\u001b[26A\u001b[2K\u001b[29A\u001b[2K\u001b[33A\u001b[2K\u001b[26A\u001b[2K\u001b[27A\u001b[2K\u001b[33A\u001b[2K\u001b[29A\u001b[2K\u001b[26A\u001b[2K\u001b[29A\u001b[2K\u001b[33A\u001b[2K\u001b[26A\u001b[2K\u001b[33A\u001b[2K\u001b[33A\u001b[2K\u001b[26A\u001b[2K\u001b[29A\u001b[2K\u001b[29A\u001b[2K\u001b[33A\u001b[2K\u001b[26A\u001b[2K\u001b[27A\u001b[2K\u001b[33A\u001b[2K\u001b[29A\u001b[2K\u001b[33A\u001b[2K\u001b[29A\u001b[2K\u001b[33A\u001b[2K\u001b[26A\u001b[2K\u001b[33A\u001b[2K\u001b[33A\u001b[2K\u001b[26A\u001b[2K\u001b[26A\u001b[2K\u001b[26A\u001b[2K\u001b[33A\u001b[2K\u001b[27A\u001b[2K\u001b[33A\u001b[2K\u001b[33A\u001b[2K\u001b[33A\u001b[2K\u001b[26A\u001b[2K\u001b[33A\u001b[2K\u001b[26A\u001b[2K\u001b[33A\u001b[2K\u001b[26A\u001b[2K\u001b[33A\u001b[2K\u001b[33A\u001b[2K\u001b[26A\u001b[2K\u001b[33A\u001b[2K\u001b[29A\u001b[2K\u001b[26A\u001b[2K\u001b[29A\u001b[2K\u001b[26A\u001b[2K\u001b[26A\u001b[2K\u001b[27A\u001b[2K\u001b[26A\u001b[2K\u001b[29A\u001b[2K\u001b[33A\u001b[2K\u001b[29A\u001b[2K\u001b[33A\u001b[2K\u001b[26A\u001b[2K\u001b[26A\u001b[2K\u001b[27A\u001b[2K\u001b[26A\u001b[2K\u001b[29A\u001b[2K\u001b[26A\u001b[2K\u001b[27A\u001b[2K\u001b[26A\u001b[2K\u001b[27A\u001b[2K\u001b[26A\u001b[2K\u001b[33A\u001b[2K\u001b[26A\u001b[2K\u001b[26A\u001b[2K\u001b[27A\u001b[2K\u001b[33A\u001b[2K\u001b[27A\u001b[2K\u001b[33A\u001b[2K\u001b[29A\u001b[2K\u001b[33A\u001b[2K\u001b[29A\u001b[2K\u001b[27A\u001b[2K\u001b[29A\u001b[2K\u001b[27A\u001b[2K\u001b[33A\u001b[2K\u001b[29A\u001b[2K\u001b[33A\u001b[2K\u001b[29A\u001b[2K\u001b[27A\u001b[2K\u001b[29A\u001b[2K\u001b[27A\u001b[2K\u001b[33A\u001b[2K\u001b[29A\u001b[2K\u001b[33A\u001b[2K\u001b[29A\u001b[2K\u001b[33A\u001b[2K\u001b[27A\u001b[2K\u001b[33A\u001b[2K\u001b[27A\u001b[2K\u001b[33A\u001b[2K\u001b[33A\u001b[2K\u001b[27A\u001b[2K\u001b[27A\u001b[2K\u001b[33A\u001b[2K\u001b[29A\u001b[2K\u001b[33A\u001b[2K\u001b[29A\u001b[2K\u001b[27A\u001b[2K\u001b[29A\u001b[2K\u001b[27A\u001b[2K\u001b[33A\u001b[2K\u001b[29A\u001b[2K\u001b[27A\u001b[2K\u001b[29A\u001b[2K\u001b[27A\u001b[2K\u001b[23A\u001b[2K\u001b[29A\u001b[2K\u001b[29A\u001b[2K\u001b[33A\u001b[2K\u001b[29A\u001b[2K\u001b[32A\u001b[2K\u001b[23A\u001b[2K\u001b[23A\u001b[2K\u001b[23A\u001b[2K\u001b[27A\u001b[2K\u001b[23A\u001b[2K\u001b[27A\u001b[2K\u001b[23A\u001b[2K\u001b[29A\u001b[2K\u001b[23A\u001b[2K\u001b[23A\u001b[2K\u001b[27A\u001b[2K\u001b[23A\u001b[2K\u001b[29A\u001b[2K\u001b[23A\u001b[2K\u001b[29A\u001b[2K\u001b[23A\u001b[2K\u001b[23A\u001b[2K\u001b[23A\u001b[2K\u001b[27A\u001b[2K\u001b[29A\u001b[2K\u001b[27A\u001b[2K\u001b[29A\u001b[2K\u001b[23A\u001b[2K\u001b[29A\u001b[2K\u001b[27A\u001b[2K\u001b[29A\u001b[2K\u001b[27A\u001b[2K\u001b[29A\u001b[2K\u001b[27A\u001b[2K\u001b[29A\u001b[2K\u001b[27A\u001b[2K\u001b[22A\u001b[2K\u001b[29A\u001b[2K\u001b[27A\u001b[2K\u001b[27A\u001b[2K\u001b[22A\u001b[2K\u001b[22A\u001b[2K\u001b[27A\u001b[2K\u001b[29A\u001b[2K\u001b[27A\u001b[2K\u001b[22A\u001b[2K\u001b[29A\u001b[2K\u001b[27A\u001b[2K\u001b[29A\u001b[2K\u001b[27A\u001b[2K\u001b[22A\u001b[2K\u001b[22A\u001b[2K\u001b[29A\u001b[2K\u001b[29A\u001b[2K\u001b[27A\u001b[2K\u001b[22A\u001b[2K\u001b[29A\u001b[2K\u001b[22A\u001b[2K\u001b[27A\u001b[2K\u001b[27A\u001b[2K\u001b[22A\u001b[2K\u001b[29A\u001b[2K\u001b[27A\u001b[2K\u001b[29A\u001b[2K\u001b[27A\u001b[2K\u001b[29A\u001b[2K\u001b[27A\u001b[2K\u001b[29A\u001b[2K\u001b[27A\u001b[2K\u001b[29A\u001b[2K\u001b[22A\u001b[2K\u001b[22A\u001b[2K\u001b[27A\u001b[2K\u001b[27A\u001b[2K\u001b[27A\u001b[2K\u001b[22A\u001b[2K\u001b[22A\u001b[2K\u001b[27A\u001b[2K\u001b[29A\u001b[2K\u001b[27A\u001b[2K\u001b[22A\u001b[2K\u001b[22A\u001b[2K\u001b[22A\u001b[2K\u001b[29A\u001b[2K\u001b[22A\u001b[2K\u001b[29A\u001b[2K\u001b[22A\u001b[2K\u001b[29A\u001b[2K\u001b[27A\u001b[2K\u001b[27A\u001b[2K\u001b[29A\u001b[2K\u001b[29A\u001b[2K\u001b[29A\u001b[2K\u001b[29A\u001b[2K\u001b[29A\u001b[2K\u001b[29A\u001b[2K\u001b[29A\u001b[2K\u001b[29A\u001b[2K\u001b[27A\u001b[2K\u001b[29A\u001b[2K\u001b[27A\u001b[2K\u001b[27A\u001b[2K\u001b[29A\u001b[2K\u001b[27A\u001b[2K\u001b[27A\u001b[2K\u001b[21A\u001b[2K\u001b[29A\u001b[2K\u001b[29A\u001b[2K\u001b[29A\u001b[2K\u001b[27A\u001b[2K\u001b[29A\u001b[2K\u001b[29A\u001b[2K\u001b[21A\u001b[2K\u001b[27A\u001b[2K\u001b[27A\u001b[2K\u001b[21A\u001b[2K\u001b[27A\u001b[2K\u001b[29A\u001b[2K\u001b[27A\u001b[2K\u001b[29A\u001b[2K\u001b[21A\u001b[2K\u001b[27A\u001b[2K\u001b[27A\u001b[2K\u001b[21A\u001b[2K\u001b[29A\u001b[2K\u001b[27A\u001b[2K\u001b[21A\u001b[2K\u001b[27A\u001b[2K\u001b[27A\u001b[2K\u001b[29A\u001b[2K\u001b[27A\u001b[2K\u001b[29A\u001b[2K\u001b[27A\u001b[2K\u001b[27A\u001b[2K\u001b[29A\u001b[2K\u001b[29A\u001b[2K\u001b[27A\u001b[2K\u001b[29A\u001b[2K\u001b[20A\u001b[2K\u001b[20A\u001b[2K\u001b[29A\u001b[2K\u001b[29A\u001b[2K\u001b[27A\u001b[2K\u001b[29A\u001b[2K\u001b[27A\u001b[2K\u001b[29A\u001b[2K\u001b[27A\u001b[2K\u001b[29A\u001b[2K\u001b[27A\u001b[2K\u001b[29A\u001b[2K\u001b[27A\u001b[2K\u001b[29A\u001b[2K\u001b[27A\u001b[2K\u001b[29A\u001b[2K\u001b[27A\u001b[2K\u001b[29A\u001b[2K\u001b[27A\u001b[2K\u001b[29A\u001b[2K\u001b[27A\u001b[2K\u001b[29A\u001b[2K\u001b[19A\u001b[2K\u001b[29A\u001b[2K\u001b[29A\u001b[2K\u001b[19A\u001b[2K\u001b[18A\u001b[2K\u001b[27A\u001b[2K\u001b[29A\u001b[2K\u001b[27A\u001b[2K\u001b[29A\u001b[2K\u001b[27A\u001b[2K\u001b[29A\u001b[2K\u001b[27A\u001b[2K\u001b[29A\u001b[2K\u001b[27A\u001b[2K\u001b[29A\u001b[2K\u001b[27A\u001b[2K\u001b[29A\u001b[2K\u001b[27A\u001b[2K\u001b[29A\u001b[2K\u001b[16A\u001b[2K\u001b[29A\u001b[2K\u001b[27A\u001b[2K\u001b[29A\u001b[2K\u001b[27A\u001b[2K\u001b[29A\u001b[2K\u001b[27A\u001b[2K\u001b[29A\u001b[2K\u001b[27A\u001b[2K\u001b[29A\u001b[2K\u001b[27A\u001b[2K\u001b[29A\u001b[2K\u001b[29A\u001b[2K\u001b[29A\u001b[2K\u001b[29A\u001b[2K\u001b[29A\u001b[2K\u001b[27A\u001b[2K\u001b[29A\u001b[2K\u001b[27A\u001b[2K\u001b[29A\u001b[2K\u001b[29A\u001b[2K\u001b[27A\u001b[2K\u001b[29A\u001b[2K\u001b[27A\u001b[2K\u001b[29A\u001b[2K\u001b[27A\u001b[2K\u001b[29A\u001b[2K\u001b[15A\u001b[2K\u001b[29A\u001b[2K\u001b[27A\u001b[2K\u001b[29A\u001b[2K\u001b[27A\u001b[2K\u001b[29A\u001b[2K\u001b[27A\u001b[2K\u001b[29A\u001b[2K\u001b[27A\u001b[2K\u001b[29A\u001b[2K\u001b[29A\u001b[2K\u001b[27A\u001b[2K\u001b[29A\u001b[2K\u001b[29A\u001b[2K\u001b[27A\u001b[2K\u001b[27A\u001b[2K\u001b[29A\u001b[2K\u001b[15A\u001b[2K\u001b[29A\u001b[2K\u001b[29A\u001b[2K\u001b[12A\u001b[2K\u001b[29A\u001b[2K\u001b[29A\u001b[2K\u001b[29A\u001b[2K\u001b[27A\u001b[2K\u001b[29A\u001b[2K\u001b[27A\u001b[2K\u001b[29A\u001b[2K\u001b[15A\u001b[2K\u001b[29A\u001b[2K\u001b[29A\u001b[2K\u001b[27A\u001b[2K\u001b[29A\u001b[2K\u001b[27A\u001b[2K\u001b[27A\u001b[2K\u001b[29A\u001b[2K\u001b[27A\u001b[2K\u001b[29A\u001b[2K\u001b[27A\u001b[2K\u001b[15A\u001b[2K\u001b[27A\u001b[2K\u001b[29A\u001b[2K\u001b[29A\u001b[2K\u001b[27A\u001b[2K\u001b[29A\u001b[2K\u001b[15A\u001b[2K\u001b[29A\u001b[2K\u001b[27A\u001b[2K\u001b[29A\u001b[2K\u001b[29A\u001b[2K\u001b[27A\u001b[2K\u001b[29A\u001b[2K\u001b[27A\u001b[2K\u001b[29A\u001b[2K\u001b[27A\u001b[2K\u001b[29A\u001b[2K\u001b[15A\u001b[2K\u001b[29A\u001b[2K\u001b[27A\u001b[2K\u001b[15A\u001b[2K\u001b[27A\u001b[2K\u001b[9A\u001b[2K\u001b[27A\u001b[2K\u001b[29A\u001b[2K\u001b[29A\u001b[2K\u001b[27A\u001b[2K\u001b[27A\u001b[2K\u001b[29A\u001b[2K\u001b[27A\u001b[2K\u001b[29A\u001b[2K\u001b[27A\u001b[2K\u001b[29A\u001b[2K\u001b[27A\u001b[2K\u001b[15A\u001b[2K\u001b[29A\u001b[2K\u001b[29A\u001b[2K\u001b[29A\u001b[2K\u001b[29A\u001b[2K\u001b[27A\u001b[2K\u001b[29A\u001b[2K\u001b[27A\u001b[2K\u001b[27A\u001b[2K\u001b[29A\u001b[2K\u001b[27A\u001b[2K\u001b[29A\u001b[2K\u001b[15A\u001b[2K\u001b[29A\u001b[2K\u001b[6A\u001b[2K\u001b[29A\u001b[2K\u001b[27A\u001b[2K\u001b[29A\u001b[2K\u001b[15A\u001b[2K\u001b[27A\u001b[2K\u001b[29A\u001b[2K\u001b[27A\u001b[2K\u001b[27A\u001b[2K\u001b[27A\u001b[2K\u001b[5A\u001b[2K\u001b[27A\u001b[2K\u001b[27A\u001b[2K\u001b[29A\u001b[2K\u001b[29A\u001b[2K\u001b[29A\u001b[2K\u001b[29A\u001b[2K\u001b[29A\u001b[2K\u001b[27A\u001b[2K\u001b[29A\u001b[2K\u001b[27A\u001b[2K\u001b[29A\u001b[2K\u001b[27A\u001b[2K\u001b[29A\u001b[2K\u001b[4A\u001b[2K\u001b[27A\u001b[2K\u001b[27A\u001b[2K\u001b[27A\u001b[2K\u001b[29A\u001b[2K\u001b[27A\u001b[2K\u001b[27A\u001b[2K\u001b[29A\u001b[2K\u001b[29A\u001b[2K\u001b[29A\u001b[2K\u001b[29A\u001b[2K\u001b[29A\u001b[2K\u001b[29A\u001b[2K\u001b[29A\u001b[2K\u001b[29A\u001b[2K\u001b[29A\u001b[2K\u001b[29A\u001b[2K\u001b[29A\u001b[2K\u001b[29A\u001b[2K\u001b[1A\u001b[2K\u001b[4A\u001b[2K\u001b[29A\u001b[2K\u001b[29A\u001b[2K\u001b[29A\u001b[2K\u001b[29A\u001b[2K\u001b[4A\u001b[2K\u001b[4A\u001b[2K\u001b[29A\u001b[2K\u001b[1A\u001b[2K\u001b[4A\u001b[2K\u001b[29A\u001b[2K\u001b[4A\u001b[2K\u001b[1A\u001b[2K\u001b[29A\u001b[2K\u001b[29A\u001b[2K\u001b[1A\u001b[2K\u001b[4A\u001b[2K\u001b[29A\u001b[2K\u001b[29A\u001b[2K\u001b[1A\u001b[2K\u001b[29A\u001b[2K\u001b[4A\u001b[2K\u001b[29A\u001b[2K\u001b[1A\u001b[2K\u001b[29A\u001b[2K\u001b[4A\u001b[2K\u001b[29A\u001b[2K\u001b[29A\u001b[2K\u001b[29A\u001b[2K\u001b[4A\u001b[2K\u001b[29A\u001b[2K\u001b[29A\u001b[2K\u001b[1A\u001b[2K\u001b[4A\u001b[2K\u001b[29A\u001b[2K\u001b[1A\u001b[2K\u001b[4A\u001b[2K\u001b[29A\u001b[2K\u001b[29A\u001b[2K\u001b[29A\u001b[2K\u001b[4A\u001b[2K\u001b[29A\u001b[2K\u001b[29A\u001b[2K\u001b[29A\u001b[2K\u001b[29A\u001b[2K\u001b[29A\u001b[2K\u001b[29A\u001b[2K\u001b[29A\u001b[2K\u001b[29A\u001b[2K\u001b[29A\u001b[2K\u001b[29A\u001b[2K\u001b[29A\u001b[2K\u001b[29A\u001b[2K\u001b[29A\u001b[2K\u001b[29A\u001b[2K\u001b[29A\u001b[2K\u001b[1A\u001b[2K\u001b[29A\u001b[2K\u001b[1A\u001b[2K\u001b[29A\u001b[2K\u001b[29A\u001b[2K\u001b[29A\u001b[2K\u001b[1A\u001b[2K\u001b[4A\u001b[2K\u001b[29A\u001b[2K\u001b[29A\u001b[2K\u001b[4A\u001b[2K\u001b[29A\u001b[2K\u001b[4A\u001b[2K\u001b[29A\u001b[2K\u001b[29A\u001b[2K\u001b[29A\u001b[2K\u001b[4A\u001b[2K\u001b[4A\u001b[2K\u001b[29A\u001b[2K\u001b[4A\u001b[2K\u001b[4A\u001b[2K\u001b[29A\u001b[2K\u001b[29A\u001b[2K\u001b[29A\u001b[2K\u001b[29A\u001b[2K\u001b[29A\u001b[2K\u001b[4A\u001b[2K\u001b[29A\u001b[2K\u001b[29A\u001b[2K\u001b[4A\u001b[2K\u001b[29A\u001b[2K\u001b[4A\u001b[2K\u001b[29A\u001b[2K\u001b[4A\u001b[2K\u001b[4A\u001b[2K\u001b[4A\u001b[2K\u001b[4A\u001b[2K\u001b[29A\u001b[2K\u001b[4A\u001b[2K\u001b[29A\u001b[2K\u001b[4A\u001b[2K\u001b[29A\u001b[2K\u001b[4A\u001b[2K\u001b[29A\u001b[2K\u001b[4A\u001b[2K\u001b[29A\u001b[2K\u001b[4A\u001b[2K\u001b[29A\u001b[2K\u001b[4A\u001b[2K\u001b[29A\u001b[2K\u001b[4A\u001b[2K\u001b[29A\u001b[2K\u001b[29A\u001b[2K\u001b[29A\u001b[2K\u001b[29A\u001b[2K\u001b[4A\u001b[2K\u001b[29A\u001b[2K\u001b[4A\u001b[2K\u001b[29A\u001b[2K\u001b[29A\u001b[2K\u001b[4A\u001b[2K\u001b[29A\u001b[2K\u001b[4A\u001b[2K\u001b[29A\u001b[2K\u001b[29A\u001b[2K\u001b[29A\u001b[2K\u001b[29A\u001b[2K\u001b[4A\u001b[2K\u001b[4A\u001b[2K\u001b[4A\u001b[2K\u001b[4A\u001b[2K\u001b[29A\u001b[2K\u001b[4A\u001b[2K\u001b[29A\u001b[2K\u001b[4A\u001b[2K\u001b[29A\u001b[2K\u001b[4A\u001b[2K\u001b[4A\u001b[2K\u001b[29A\u001b[2K\u001b[4A\u001b[2K\u001b[29A\u001b[2K\u001b[4A\u001b[2K\u001b[29A\u001b[2K\u001b[4A\u001b[2K\u001b[29A\u001b[2K\u001b[4A\u001b[2K\u001b[29A\u001b[2K\u001b[4A\u001b[2K\u001b[29A\u001b[2K\u001b[4A\u001b[2K\u001b[29A\u001b[2K\u001b[4A\u001b[2K\u001b[4A\u001b[2K\u001b[4A\u001b[2K\u001b[29A\u001b[2K\u001b[4A\u001b[2K\u001b[4A\u001b[2K\u001b[4A\u001b[2K\u001b[4A\u001b[2K\u001b[4A\u001b[2K\u001b[4A\u001b[2K\u001b[4A\u001b[2K\u001b[4A\u001b[2K\u001b[4A\u001b[2K\u001b[4A\u001b[2K\u001b[29A\u001b[2K\u001b[4A\u001b[2K\u001b[4A\u001b[2K\u001b[4A\u001b[2K\u001b[4A\u001b[2K\u001b[4A\u001b[2K\u001b[28A\u001b[2K\u001b[27A\u001b[2K\u001b[27A\u001b[2K\u001b[27A\u001b[2K\u001b[27A\u001b[2K\u001b[27A\u001b[2K\u001b[27A\u001b[2K\u001b[27A\u001b[2K\u001b[27A\u001b[2K\u001b[27A\u001b[2K\u001b[27A\u001b[2K\u001b[27A\u001b[2K\u001b[27A\u001b[2K\u001b[27A\u001b[2K\u001b[27A\u001b[2K\u001b[27A\u001b[2K\u001b[27A\u001b[2K\u001b[27A\u001b[2K\u001b[27A\u001b[2K\u001b[27A\u001b[2K\u001b[27A\u001b[2K\u001b[27A\u001b[2K\u001b[27A\u001b[2K\u001b[27A\u001b[2K\u001b[27A\u001b[2K\u001b[27A\u001b[2K\u001b[27A\u001b[2K\u001b[27A\u001b[2K\u001b[27A\u001b[2K\u001b[27A\u001b[2K\u001b[27A\u001b[2K\u001b[27A\u001b[2K\u001b[27A\u001b[2K\u001b[27A\u001b[2K\u001b[27A\u001b[2K\u001b[27A\u001b[2K\u001b[27A\u001b[2K\u001b[27A\u001b[2K\u001b[27A\u001b[2K\u001b[27A\u001b[2K\u001b[27A\u001b[2K\u001b[27A\u001b[2K\u001b[27A\u001b[2K\u001b[27A\u001b[2K\u001b[27A\u001b[2K\u001b[27A\u001b[2K\u001b[27A\u001b[2K\u001b[27A\u001b[2K\u001b[27A\u001b[2K\u001b[27A\u001b[2K\u001b[27A\u001b[2K\u001b[27A\u001b[2K\u001b[27A\u001b[2K\u001b[27A\u001b[2K\u001b[27A\u001b[2K\u001b[27A\u001b[2K\u001b[27A\u001b[2K\u001b[27A\u001b[2K\u001b[27A\u001b[2K\u001b[27A\u001b[2K\u001b[27A\u001b[2K\u001b[27A\u001b[2K\u001b[27A\u001b[2K\u001b[27A\u001b[2K\u001b[27A\u001b[2K\u001b[27A\u001b[2K\u001b[27A\u001b[2K\u001b[27A\u001b[2K\u001b[27A\u001b[2K\u001b[27A\u001b[2K\u001b[27A\u001b[2K\u001b[27A\u001b[2K\u001b[27A\u001b[2K\u001b[27A\u001b[2K\u001b[27A\u001b[2K\u001b[27A\u001b[2K\u001b[27A\u001b[2K\u001b[27A\u001b[2K\u001b[27A\u001b[2K\u001b[27A\u001b[2K\u001b[27A\u001b[2K\u001b[27A\u001b[2K\u001b[27A\u001b[2K\u001b[27A\u001b[2K\u001b[27A\u001b[2K\u001b[27A\u001b[2K\u001b[27A\u001b[2K\u001b[27A\u001b[2K\u001b[27A\u001b[2K\u001b[27A\u001b[2K\u001b[27A\u001b[2K\u001b[27A\u001b[2K\u001b[27A\u001b[2K\u001b[27A\u001b[2K\u001b[27A\u001b[2K\u001b[27A\u001b[2K\u001b[27A\u001b[2K\u001b[27A\u001b[2K\u001b[27A\u001b[2K\u001b[27A\u001b[2K\u001b[27A\u001b[2K\u001b[27A\u001b[2K\u001b[27A\u001b[2K\u001b[27A\u001b[2K\u001b[27A\u001b[2K\u001b[27A\u001b[2K\u001b[27A\u001b[2K\u001b[27A\u001b[2K\u001b[27A\u001b[2K\u001b[27A\u001b[2K\u001b[27A\u001b[2K\u001b[27A\u001b[2K\u001b[27A\u001b[2K\u001b[27A\u001b[2K\u001b[27A\u001b[2K\u001b[27A\u001b[2K\u001b[27A\u001b[2K\u001b[27A\u001b[2K\u001b[27A\u001b[2K\u001b[27A\u001b[2K\u001b[27A\u001b[2K\u001b[27A\u001b[2K\u001b[27A\u001b[2K\u001b[27A\u001b[2K\u001b[27A\u001b[2K\u001b[27A\u001b[2K\u001b[27A\u001b[2K\u001b[27A\u001b[2K\u001b[27A\u001b[2K\u001b[27A\u001b[2K\u001b[27A\u001b[2K\u001b[27A\u001b[2K\u001b[27A\u001b[2K\u001b[27A\u001b[2K\u001b[27A\u001b[2K\u001b[27A\u001b[2K\u001b[27A\u001b[2K\u001b[27A\u001b[2K\u001b[27A\u001b[2K\u001b[27A\u001b[2K\u001b[27A\u001b[2K\u001b[27A\u001b[2K\u001b[27A\u001b[2K\u001b[27A\u001b[2K\u001b[27A\u001b[2K\u001b[27A\u001b[2K\u001b[27A\u001b[2K\u001b[27A\u001b[2K\u001b[27A\u001b[2K\u001b[27A\u001b[2K\u001b[27A\u001b[2K\u001b[27A\u001b[2K\u001b[27A\u001b[2K\u001b[27A\u001b[2K\u001b[27A\u001b[2K\u001b[27A\u001b[2K\u001b[27A\u001b[2K\u001b[27A\u001b[2K\u001b[27A\u001b[2K\u001b[27A\u001b[2K\u001b[27A\u001b[2K\u001b[27A\u001b[2K\u001b[27A\u001b[2K\u001b[27A\u001b[2K\u001b[27A\u001b[2K\u001b[27A\u001b[2K\u001b[27A\u001b[2K\u001b[27A\u001b[2K\u001b[27A\u001b[2K\u001b[27A\u001b[2K\u001b[27A\u001b[2K\u001b[27A\u001b[2K\u001b[27A\u001b[2K\u001b[27A\u001b[2K\u001b[27A\u001b[2K\u001b[27A\u001b[2K\u001b[27A\u001b[2K\u001b[27A\u001b[2K\u001b[27A\u001b[2K\u001b[27A\u001b[2K\u001b[27A\u001b[2K\u001b[27A\u001b[2K\u001b[27A\u001b[2K\u001b[27A\u001b[2K\u001b[27A\u001b[2K\u001b[27A\u001b[2K\u001b[27A\u001b[2K\u001b[27A\u001b[2K\u001b[27A\u001b[2K\u001b[27A\u001b[2K\u001b[27A\u001b[2K\u001b[27A\u001b[2K\u001b[27A\u001b[2K\u001b[27A\u001b[2K\u001b[27A\u001b[2K\u001b[27A\u001b[2K\u001b[27A\u001b[2K\u001b[27A\u001b[2K\u001b[27A\u001b[2K\u001b[27A\u001b[2K\u001b[27A\u001b[2K\u001b[27A\u001b[2K\u001b[27A\u001b[2K\u001b[27A\u001b[2K\u001b[27A\u001b[2K\u001b[27A\u001b[2K\u001b[27A\u001b[2K\u001b[27A\u001b[2K\u001b[27A\u001b[2K\u001b[27A\u001b[2K\u001b[27A\u001b[2K\u001b[27A\u001b[2K\u001b[27A\u001b[2K\u001b[27A\u001b[2K\u001b[27A\u001b[2K\u001b[27A\u001b[2K\u001b[27A\u001b[2K\u001b[27A\u001b[2K\u001b[27A\u001b[2K\u001b[27A\u001b[2K\u001b[27A\u001b[2K\u001b[27A\u001b[2K\u001b[27A\u001b[2K\u001b[27A\u001b[2K\u001b[27A\u001b[2K\u001b[27A\u001b[2K\u001b[27A\u001b[2K\u001b[27A\u001b[2K\u001b[27A\u001b[2K\u001b[27A\u001b[2K\u001b[27A\u001b[2K\u001b[27A\u001b[2K\u001b[27A\u001b[2K\u001b[27A\u001b[2K\u001b[27A\u001b[2K\u001b[27A\u001b[2K\u001b[27A\u001b[2K\u001b[27A\u001b[2K\u001b[27A\u001b[2K\u001b[27A\u001b[2K\u001b[27A\u001b[2K\u001b[27A\u001b[2K\u001b[27A\u001b[2K\u001b[26A\u001b[2K\u001b[26A\u001b[2K\u001b[26A\u001b[2K\u001b[26A\u001b[2K\u001b[26A\u001b[2K\u001b[26A\u001b[2K\u001b[26A\u001b[2K\u001b[26A\u001b[2K\u001b[26A\u001b[2K\u001b[26A\u001b[2K\u001b[26A\u001b[2K\u001b[26A\u001b[2K\u001b[26A\u001b[2K\u001b[26A\u001b[2K\u001b[26A\u001b[2K\u001b[26A\u001b[2K\u001b[26A\u001b[2K\u001b[26A\u001b[2K\u001b[26A\u001b[2K\u001b[26A\u001b[2K\u001b[26A\u001b[2K\u001b[26A\u001b[2K\u001b[26A\u001b[2K\u001b[26A\u001b[2K\u001b[26A\u001b[2K\u001b[26A\u001b[2K\u001b[26A\u001b[2K\u001b[26A\u001b[2K\u001b[26A\u001b[2K\u001b[26A\u001b[2K\u001b[26A\u001b[2K\u001b[26A\u001b[2K\u001b[26A\u001b[2K\u001b[26A\u001b[2K\u001b[26A\u001b[2K\u001b[26A\u001b[2K\u001b[26A\u001b[2K\u001b[26A\u001b[2K\u001b[26A\u001b[2K\u001b[26A\u001b[2K\u001b[26A\u001b[2K\u001b[26A\u001b[2K\u001b[26A\u001b[2K\u001b[26A\u001b[2K\u001b[26A\u001b[2K\u001b[26A\u001b[2K\u001b[26A\u001b[2K\u001b[26A\u001b[2K\u001b[26A\u001b[2K\u001b[26A\u001b[2K\u001b[26A\u001b[2K\u001b[26A\u001b[2K\u001b[26A\u001b[2K\u001b[26A\u001b[2K\u001b[26A\u001b[2K\u001b[26A\u001b[2K\u001b[26A\u001b[2K\u001b[25A\u001b[2K\u001b[25A\u001b[2K\u001b[24A\u001b[2K\u001b[24A\u001b[2K\u001b[23A\u001b[2K\u001b[23A\u001b[2K\u001b[23A\u001b[2K\u001b[23A\u001b[2K\u001b[23A\u001b[2K\u001b[23A\u001b[2K\u001b[23A\u001b[2K\u001b[23A\u001b[2K\u001b[23A\u001b[2K\u001b[23A\u001b[2K\u001b[23A\u001b[2K\u001b[23A\u001b[2K\u001b[23A\u001b[2K\u001b[23A\u001b[2K\u001b[23A\u001b[2K\u001b[23A\u001b[2K\u001b[23A\u001b[2K\u001b[23A\u001b[2K\u001b[23A\u001b[2K\u001b[23A\u001b[2K\u001b[23A\u001b[2K\u001b[23A\u001b[2K\u001b[23A\u001b[2K\u001b[23A\u001b[2K\u001b[23A\u001b[2K\u001b[23A\u001b[2K\u001b[23A\u001b[2K\u001b[23A\u001b[2K\u001b[23A\u001b[2K\u001b[23A\u001b[2K\u001b[23A\u001b[2K\u001b[23A\u001b[2K\u001b[23A\u001b[2K\u001b[23A\u001b[2K\u001b[23A\u001b[2K\u001b[23A\u001b[2K\u001b[23A\u001b[2K\u001b[23A\u001b[2K\u001b[23A\u001b[2K\u001b[23A\u001b[2K\u001b[23A\u001b[2K\u001b[23A\u001b[2K\u001b[23A\u001b[2K\u001b[23A\u001b[2K\u001b[23A\u001b[2K\u001b[23A\u001b[2K\u001b[23A\u001b[2K\u001b[23A\u001b[2K\u001b[23A\u001b[2K\u001b[23A\u001b[2K\u001b[23A\u001b[2K\u001b[23A\u001b[2K\u001b[23A\u001b[2K\u001b[23A\u001b[2K\u001b[23A\u001b[2K\u001b[23A\u001b[2K\u001b[23A\u001b[2K\u001b[23A\u001b[2K\u001b[23A\u001b[2K\u001b[23A\u001b[2K\u001b[23A\u001b[2K\u001b[23A\u001b[2K\u001b[23A\u001b[2K\u001b[23A\u001b[2K\u001b[23A\u001b[2K\u001b[23A\u001b[2K\u001b[23A\u001b[2K\u001b[23A\u001b[2K\u001b[23A\u001b[2K\u001b[23A\u001b[2K\u001b[23A\u001b[2K\u001b[23A\u001b[2K\u001b[22A\u001b[2K\u001b[22A\u001b[2K\u001b[22A\u001b[2K\u001b[22A\u001b[2K\u001b[22A\u001b[2K\u001b[22A\u001b[2K\u001b[22A\u001b[2K\u001b[22A\u001b[2K\u001b[22A\u001b[2K\u001b[22A\u001b[2K\u001b[22A\u001b[2K\u001b[22A\u001b[2K\u001b[22A\u001b[2K\u001b[22A\u001b[2K\u001b[22A\u001b[2K\u001b[22A\u001b[2K\u001b[22A\u001b[2K\u001b[22A\u001b[2K\u001b[22A\u001b[2K\u001b[22A\u001b[2K\u001b[22A\u001b[2K\u001b[22A\u001b[2K\u001b[22A\u001b[2K\u001b[22A\u001b[2K\u001b[22A\u001b[2K\u001b[22A\u001b[2K\u001b[22A\u001b[2K\u001b[22A\u001b[2K\u001b[22A\u001b[2K\u001b[22A\u001b[2K\u001b[22A\u001b[2K\u001b[22A\u001b[2K\u001b[22A\u001b[2K\u001b[22A\u001b[2K\u001b[22A\u001b[2K\u001b[22A\u001b[2K\u001b[22A\u001b[2K\u001b[22A\u001b[2K\u001b[22A\u001b[2K\u001b[22A\u001b[2K\u001b[22A\u001b[2K\u001b[22A\u001b[2K\u001b[22A\u001b[2K\u001b[22A\u001b[2K\u001b[22A\u001b[2K\u001b[22A\u001b[2K\u001b[22A\u001b[2K\u001b[22A\u001b[2K\u001b[22A\u001b[2K\u001b[22A\u001b[2K\u001b[22A\u001b[2K\u001b[22A\u001b[2K\u001b[22A\u001b[2K\u001b[22A\u001b[2K\u001b[22A\u001b[2K\u001b[22A\u001b[2K\u001b[22A\u001b[2K\u001b[22A\u001b[2K\u001b[22A\u001b[2K\u001b[22A\u001b[2K\u001b[22A\u001b[2K\u001b[22A\u001b[2K\u001b[22A\u001b[2K\u001b[22A\u001b[2K\u001b[22A\u001b[2K\u001b[22A\u001b[2K\u001b[22A\u001b[2K\u001b[22A\u001b[2K\u001b[22A\u001b[2K\u001b[22A\u001b[2K\u001b[22A\u001b[2K\u001b[22A\u001b[2K\u001b[22A\u001b[2K\u001b[22A\u001b[2K\u001b[22A\u001b[2K\u001b[22A\u001b[2K\u001b[22A\u001b[2K\u001b[22A\u001b[2K\u001b[22A\u001b[2K\u001b[22A\u001b[2K\u001b[22A\u001b[2K\u001b[21A\u001b[2K\u001b[21A\u001b[2K\u001b[21A\u001b[2K\u001b[21A\u001b[2K\u001b[21A\u001b[2K\u001b[21A\u001b[2K\u001b[20A\u001b[2K\u001b[20A\u001b[2K\u001b[20A\u001b[2K\u001b[19A\u001b[2K\u001b[19A\u001b[2K\u001b[19A\u001b[2K\u001b[19A\u001b[2K\u001b[19A\u001b[2K\u001b[18A\u001b[2K\u001b[18A\u001b[2K\u001b[17A\u001b[2K\u001b[16A\u001b[2K\u001b[16A\u001b[2K\u001b[15A\u001b[2K\u001b[15A\u001b[2K\u001b[15A\u001b[2K\u001b[15A\u001b[2K\u001b[15A\u001b[2K\u001b[15A\u001b[2K\u001b[15A\u001b[2K\u001b[15A\u001b[2K\u001b[15A\u001b[2K\u001b[15A\u001b[2K\u001b[15A\u001b[2K\u001b[15A\u001b[2K\u001b[15A\u001b[2K\u001b[15A\u001b[2K\u001b[15A\u001b[2K\u001b[15A\u001b[2K\u001b[15A\u001b[2K\u001b[15A\u001b[2K\u001b[15A\u001b[2K\u001b[15A\u001b[2K\u001b[15A\u001b[2K\u001b[15A\u001b[2K\u001b[15A\u001b[2K\u001b[15A\u001b[2K\u001b[15A\u001b[2K\u001b[15A\u001b[2K\u001b[15A\u001b[2K\u001b[15A\u001b[2K\u001b[15A\u001b[2K\u001b[15A\u001b[2K\u001b[15A\u001b[2K\u001b[15A\u001b[2K\u001b[15A\u001b[2K\u001b[15A\u001b[2K\u001b[14A\u001b[2K\u001b[13A\u001b[2K\u001b[12A\u001b[2K\u001b[11A\u001b[2K\u001b[10A\u001b[2K\u001b[9A\u001b[2K\u001b[8A\u001b[2K\u001b[7A\u001b[2K\u001b[6A\u001b[2K\u001b[6A\u001b[2K\u001b[5A\u001b[2K\u001b[4A\u001b[2K\u001b[4A\u001b[2K\u001b[4A\u001b[2K\u001b[4A\u001b[2K\u001b[4A\u001b[2K\u001b[4A\u001b[2K\u001b[4A\u001b[2K\u001b[4A\u001b[2K\u001b[4A\u001b[2K\u001b[4A\u001b[2K\u001b[4A\u001b[2K\u001b[4A\u001b[2K\u001b[4A\u001b[2K\u001b[4A\u001b[2K\u001b[4A\u001b[2K\u001b[4A\u001b[2K\u001b[4A\u001b[2K\u001b[4A\u001b[2K\u001b[4A\u001b[2K\u001b[4A\u001b[2K\u001b[4A\u001b[2K\u001b[4A\u001b[2K\u001b[4A\u001b[2K\u001b[4A\u001b[2K\u001b[4A\u001b[2K\u001b[4A\u001b[2K\u001b[4A\u001b[2K\u001b[4A\u001b[2K\u001b[4A\u001b[2K\u001b[4A\u001b[2K\u001b[4A\u001b[2K\u001b[4A\u001b[2K\u001b[4A\u001b[2K\u001b[4A\u001b[2K\u001b[4A\u001b[2K\u001b[4A\u001b[2K\u001b[4A\u001b[2K\u001b[4A\u001b[2K\u001b[4A\u001b[2K\u001b[4A\u001b[2K\u001b[4A\u001b[2K\u001b[4A\u001b[2K\u001b[4A\u001b[2K\u001b[4A\u001b[2K\u001b[4A\u001b[2K\u001b[4A\u001b[2K\u001b[4A\u001b[2K\u001b[4A\u001b[2K\u001b[4A\u001b[2K\u001b[4A\u001b[2K\u001b[4A\u001b[2K\u001b[4A\u001b[2K\u001b[4A\u001b[2K\u001b[4A\u001b[2K\u001b[4A\u001b[2K\u001b[4A\u001b[2K\u001b[4A\u001b[2K\u001b[4A\u001b[2K\u001b[4A\u001b[2K\u001b[4A\u001b[2K\u001b[4A\u001b[2K\u001b[4A\u001b[2K\u001b[4A\u001b[2K\u001b[4A\u001b[2K\u001b[4A\u001b[2K\u001b[4A\u001b[2K\u001b[4A\u001b[2K\u001b[4A\u001b[2K\u001b[4A\u001b[2K\u001b[4A\u001b[2K\u001b[4A\u001b[2K\u001b[4A\u001b[2K\u001b[4A\u001b[2K\u001b[4A\u001b[2K\u001b[4A\u001b[2K\u001b[4A\u001b[2K\u001b[4A\u001b[2K\u001b[4A\u001b[2K\u001b[4A\u001b[2K\u001b[4A\u001b[2K\u001b[4A\u001b[2K\u001b[4A\u001b[2K\u001b[4A\u001b[2K\u001b[4A\u001b[2K\u001b[4A\u001b[2K\u001b[4A\u001b[2K\u001b[4A\u001b[2K\u001b[4A\u001b[2K\u001b[4A\u001b[2K\u001b[4A\u001b[2K\u001b[4A\u001b[2K\u001b[4A\u001b[2K\u001b[4A\u001b[2K\u001b[4A\u001b[2K\u001b[4A\u001b[2K\u001b[4A\u001b[2K\u001b[4A\u001b[2K\u001b[4A\u001b[2K\u001b[4A\u001b[2K\u001b[4A\u001b[2K\u001b[4A\u001b[2K\u001b[4A\u001b[2K\u001b[4A\u001b[2K\u001b[4A\u001b[2K\u001b[4A\u001b[2K\u001b[4A\u001b[2K\u001b[4A\u001b[2K\u001b[4A\u001b[2K\u001b[4A\u001b[2K\u001b[4A\u001b[2K\u001b[4A\u001b[2K\u001b[4A\u001b[2K\u001b[4A\u001b[2K\u001b[4A\u001b[2K\u001b[4A\u001b[2K\u001b[4A\u001b[2K\u001b[4A\u001b[2K\u001b[4A\u001b[2K\u001b[4A\u001b[2K\u001b[4A\u001b[2K\u001b[4A\u001b[2K\u001b[4A\u001b[2K\u001b[4A\u001b[2K\u001b[4A\u001b[2K\u001b[4A\u001b[2K\u001b[4A\u001b[2K\u001b[4A\u001b[2K\u001b[4A\u001b[2K\u001b[4A\u001b[2K\u001b[4A\u001b[2K\u001b[4A\u001b[2K\u001b[4A\u001b[2K\u001b[4A\u001b[2K\u001b[4A\u001b[2K\u001b[4A\u001b[2K\u001b[4A\u001b[2K\u001b[4A\u001b[2K\u001b[4A\u001b[2K\u001b[4A\u001b[2K\u001b[4A\u001b[2K\u001b[4A\u001b[2K\u001b[4A\u001b[2K\u001b[4A\u001b[2K\u001b[4A\u001b[2K\u001b[4A\u001b[2K\u001b[4A\u001b[2K\u001b[4A\u001b[2K\u001b[4A\u001b[2K\u001b[4A\u001b[2K\u001b[4A\u001b[2K\u001b[4A\u001b[2K\u001b[4A\u001b[2K\u001b[4A\u001b[2K\u001b[4A\u001b[2K\u001b[4A\u001b[2K\u001b[4A\u001b[2K\u001b[4A\u001b[2K\u001b[4A\u001b[2K\u001b[4A\u001b[2K\u001b[4A\u001b[2K\u001b[4A\u001b[2K\u001b[4A\u001b[2K\u001b[4A\u001b[2K\u001b[4A\u001b[2K\u001b[4A\u001b[2K\u001b[4A\u001b[2K\u001b[4A\u001b[2K\u001b[4A\u001b[2K\u001b[4A\u001b[2K\u001b[4A\u001b[2K\u001b[4A\u001b[2K\u001b[4A\u001b[2K\u001b[4A\u001b[2K\u001b[4A\u001b[2K\u001b[4A\u001b[2K\u001b[4A\u001b[2K\u001b[4A\u001b[2K\u001b[4A\u001b[2K\u001b[4A\u001b[2K\u001b[4A\u001b[2K\u001b[4A\u001b[2K\u001b[4A\u001b[2K\u001b[4A\u001b[2K\u001b[4A\u001b[2K\u001b[4A\u001b[2K\u001b[4A\u001b[2K\u001b[4A\u001b[2K\u001b[4A\u001b[2K\u001b[4A\u001b[2K\u001b[4A\u001b[2K\u001b[4A\u001b[2K\u001b[4A\u001b[2K\u001b[4A\u001b[2K\u001b[4A\u001b[2K\u001b[4A\u001b[2K\u001b[4A\u001b[2K\u001b[4A\u001b[2K\u001b[4A\u001b[2K\u001b[4A\u001b[2K\u001b[4A\u001b[2K\u001b[4A\u001b[2K\u001b[4A\u001b[2K\u001b[4A\u001b[2K\u001b[4A\u001b[2K\u001b[4A\u001b[2K\u001b[4A\u001b[2K\u001b[4A\u001b[2K\u001b[4A\u001b[2K\u001b[4A\u001b[2K\u001b[4A\u001b[2K\u001b[4A\u001b[2K\u001b[4A\u001b[2K\u001b[4A\u001b[2K\u001b[4A\u001b[2K\u001b[4A\u001b[2K\u001b[4A\u001b[2K\u001b[4A\u001b[2K\u001b[4A\u001b[2K\u001b[4A\u001b[2K\u001b[4A\u001b[2K\u001b[4A\u001b[2K\u001b[4A\u001b[2K\u001b[4A\u001b[2K\u001b[4A\u001b[2K\u001b[4A\u001b[2K\u001b[4A\u001b[2K\u001b[4A\u001b[2K\u001b[4A\u001b[2K\u001b[4A\u001b[2K\u001b[4A\u001b[2K\u001b[4A\u001b[2K\u001b[4A\u001b[2K\u001b[4A\u001b[2K\u001b[4A\u001b[2K\u001b[4A\u001b[2K\u001b[4A\u001b[2K\u001b[4A\u001b[2K\u001b[4A\u001b[2K\u001b[4A\u001b[2K\u001b[4A\u001b[2K\u001b[4A\u001b[2K\u001b[4A\u001b[2K\u001b[4A\u001b[2K\u001b[4A\u001b[2K\u001b[4A\u001b[2K\u001b[4A\u001b[2K\u001b[4A\u001b[2K\u001b[4A\u001b[2K\u001b[4A\u001b[2K\u001b[4A\u001b[2K\u001b[4A\u001b[2K\u001b[4A\u001b[2K\u001b[4A\u001b[2K\u001b[4A\u001b[2K\u001b[4A\u001b[2K\u001b[4A\u001b[2K\u001b[4A\u001b[2K\u001b[4A\u001b[2K\u001b[4A\u001b[2K\u001b[4A\u001b[2K\u001b[4A\u001b[2K\u001b[4A\u001b[2K\u001b[4A\u001b[2K\u001b[4A\u001b[2K\u001b[4A\u001b[2K\u001b[4A\u001b[2K\u001b[4A\u001b[2K\u001b[4A\u001b[2K\u001b[4A\u001b[2K\u001b[4A\u001b[2K\u001b[4A\u001b[2K\u001b[4A\u001b[2K\u001b[4A\u001b[2K\u001b[4A\u001b[2K\u001b[4A\u001b[2K\u001b[4A\u001b[2K\u001b[4A\u001b[2K\u001b[4A\u001b[2K\u001b[4A\u001b[2K\u001b[4A\u001b[2K\u001b[4A\u001b[2K\u001b[4A\u001b[2K\u001b[4A\u001b[2K\u001b[4A\u001b[2K\u001b[4A\u001b[2K\u001b[4A\u001b[2K\u001b[4A\u001b[2K\u001b[4A\u001b[2K\u001b[4A\u001b[2K\u001b[4A\u001b[2K\u001b[4A\u001b[2K\u001b[4A\u001b[2K\u001b[4A\u001b[2K\u001b[4A\u001b[2K\u001b[4A\u001b[2K\u001b[4A\u001b[2K\u001b[4A\u001b[2K\u001b[4A\u001b[2K\u001b[4A\u001b[2K\u001b[4A\u001b[2K\u001b[4A\u001b[2K\u001b[4A\u001b[2K\u001b[4A\u001b[2K\u001b[4A\u001b[2K\u001b[4A\u001b[2K\u001b[4A\u001b[2K\u001b[3A\u001b[2K\u001b[3A\u001b[2K\u001b[2A\u001b[2K\u001b[2A\u001b[2K\u001b[1A\u001b[2K\u001b[1A\u001b[2K\u001b[1A\u001b[2K\u001b[1A\u001b[2K\u001b[1A\u001b[2K\u001b[1A\u001b[2K\u001b[1A\u001b[2K\u001b[1A\u001b[2K\u001b[1A\u001b[2K\u001b[1A\u001b[2K\n",
      "Status: Downloaded newer image for us-docker.pkg.dev/deeplearning-platform-release/gcr.io/base-cu113.py310:latest\n",
      " ---> 039eb2919b37\n",
      "Step 2/5 : WORKDIR /\n",
      " ---> Running in 95741da5e8c9\n",
      "Removing intermediate container 95741da5e8c9\n",
      " ---> dc3471dcbb7b\n",
      "Step 3/5 : COPY requirements.txt /\n",
      " ---> ca7d2df714ec\n",
      "Step 4/5 : RUN pip install -r requirements.txt\n",
      " ---> Running in f2427d673d86\n",
      "Collecting pandas==2.0.0 (from -r requirements.txt (line 1))\n",
      "  Downloading pandas-2.0.0-cp310-cp310-manylinux_2_17_x86_64.manylinux2014_x86_64.whl.metadata (18 kB)\n",
      "Requirement already satisfied: numpy==1.25.2 in /opt/conda/lib/python3.10/site-packages (from -r requirements.txt (line 2)) (1.25.2)\n",
      "Requirement already satisfied: google-api-core in /opt/conda/lib/python3.10/site-packages (from -r requirements.txt (line 3)) (1.34.1)\n",
      "Requirement already satisfied: google-api-python-client in /opt/conda/lib/python3.10/site-packages (from -r requirements.txt (line 4)) (1.8.0)\n",
      "Collecting google-auth==2.26.2 (from -r requirements.txt (line 5))\n",
      "  Downloading google_auth-2.26.2-py2.py3-none-any.whl.metadata (4.7 kB)\n",
      "Requirement already satisfied: google-auth-httplib2==0.2.0 in /opt/conda/lib/python3.10/site-packages (from -r requirements.txt (line 6)) (0.2.0)\n",
      "Requirement already satisfied: google-auth-oauthlib==1.2.0 in /opt/conda/lib/python3.10/site-packages (from -r requirements.txt (line 7)) (1.2.0)\n",
      "Collecting google-cloud-aiplatform==1.41.0 (from -r requirements.txt (line 8))\n",
      "  Downloading google_cloud_aiplatform-1.41.0-py2.py3-none-any.whl.metadata (27 kB)\n",
      "Collecting google-cloud-artifact-registry==1.10.0 (from -r requirements.txt (line 9))\n",
      "  Downloading google_cloud_artifact_registry-1.10.0-py2.py3-none-any.whl.metadata (5.5 kB)\n",
      "Collecting google-cloud-bigquery==3.17.2 (from -r requirements.txt (line 10))\n",
      "  Downloading google_cloud_bigquery-3.17.2-py2.py3-none-any.whl.metadata (8.8 kB)\n",
      "Requirement already satisfied: google-cloud-bigquery-storage==2.24.0 in /opt/conda/lib/python3.10/site-packages (from -r requirements.txt (line 11)) (2.24.0)\n",
      "Requirement already satisfied: google-cloud-core==2.4.1 in /opt/conda/lib/python3.10/site-packages (from -r requirements.txt (line 12)) (2.4.1)\n",
      "Requirement already satisfied: google-cloud-datastore==1.15.5 in /opt/conda/lib/python3.10/site-packages (from -r requirements.txt (line 13)) (1.15.5)\n",
      "Requirement already satisfied: google-cloud-jupyter-config==0.0.5 in /opt/conda/lib/python3.10/site-packages (from -r requirements.txt (line 14)) (0.0.5)\n",
      "Collecting google-cloud-language==2.12.0 (from -r requirements.txt (line 15))\n",
      "  Downloading google_cloud_language-2.12.0-py2.py3-none-any.whl.metadata (5.3 kB)\n",
      "Collecting google-cloud-monitoring==2.18.0 (from -r requirements.txt (line 16))\n",
      "  Downloading google_cloud_monitoring-2.18.0-py2.py3-none-any.whl.metadata (5.6 kB)\n",
      "Collecting google-cloud-resource-manager==1.11.0 (from -r requirements.txt (line 17))\n",
      "  Downloading google_cloud_resource_manager-1.11.0-py2.py3-none-any.whl.metadata (5.2 kB)\n",
      "Requirement already satisfied: google-cloud-storage==2.14.0 in /opt/conda/lib/python3.10/site-packages (from -r requirements.txt (line 18)) (2.14.0)\n",
      "Requirement already satisfied: tqdm in /opt/conda/lib/python3.10/site-packages (from -r requirements.txt (line 19)) (4.66.2)\n",
      "Requirement already satisfied: scikit-learn in /opt/conda/lib/python3.10/site-packages (from -r requirements.txt (line 20)) (1.4.1.post1)\n",
      "Requirement already satisfied: db-dtypes in /opt/conda/lib/python3.10/site-packages (from -r requirements.txt (line 21)) (1.2.0)\n",
      "Requirement already satisfied: python-dateutil>=2.8.2 in /opt/conda/lib/python3.10/site-packages (from pandas==2.0.0->-r requirements.txt (line 1)) (2.9.0)\n",
      "Requirement already satisfied: pytz>=2020.1 in /opt/conda/lib/python3.10/site-packages (from pandas==2.0.0->-r requirements.txt (line 1)) (2024.1)\n",
      "Requirement already satisfied: tzdata>=2022.1 in /opt/conda/lib/python3.10/site-packages (from pandas==2.0.0->-r requirements.txt (line 1)) (2024.1)\n",
      "Requirement already satisfied: cachetools<6.0,>=2.0.0 in /opt/conda/lib/python3.10/site-packages (from google-auth==2.26.2->-r requirements.txt (line 5)) (5.3.3)\n",
      "Requirement already satisfied: pyasn1-modules>=0.2.1 in /opt/conda/lib/python3.10/site-packages (from google-auth==2.26.2->-r requirements.txt (line 5)) (0.3.0)\n",
      "Requirement already satisfied: rsa<5,>=3.1.4 in /opt/conda/lib/python3.10/site-packages (from google-auth==2.26.2->-r requirements.txt (line 5)) (4.9)\n",
      "Requirement already satisfied: httplib2>=0.19.0 in /opt/conda/lib/python3.10/site-packages (from google-auth-httplib2==0.2.0->-r requirements.txt (line 6)) (0.22.0)\n",
      "Requirement already satisfied: requests-oauthlib>=0.7.0 in /opt/conda/lib/python3.10/site-packages (from google-auth-oauthlib==1.2.0->-r requirements.txt (line 7)) (1.3.1)\n",
      "Requirement already satisfied: proto-plus<2.0.0dev,>=1.22.0 in /opt/conda/lib/python3.10/site-packages (from google-cloud-aiplatform==1.41.0->-r requirements.txt (line 8)) (1.23.0)\n",
      "Requirement already satisfied: protobuf!=3.20.0,!=3.20.1,!=4.21.0,!=4.21.1,!=4.21.2,!=4.21.3,!=4.21.4,!=4.21.5,<5.0.0dev,>=3.19.5 in /opt/conda/lib/python3.10/site-packages (from google-cloud-aiplatform==1.41.0->-r requirements.txt (line 8)) (3.20.3)\n",
      "Requirement already satisfied: packaging>=14.3 in /opt/conda/lib/python3.10/site-packages (from google-cloud-aiplatform==1.41.0->-r requirements.txt (line 8)) (23.2)\n",
      "Requirement already satisfied: shapely<3.0.0dev in /opt/conda/lib/python3.10/site-packages (from google-cloud-aiplatform==1.41.0->-r requirements.txt (line 8)) (2.0.3)\n",
      "Requirement already satisfied: grpc-google-iam-v1<1.0.0dev,>=0.12.4 in /opt/conda/lib/python3.10/site-packages (from google-cloud-artifact-registry==1.10.0->-r requirements.txt (line 9)) (0.13.0)\n",
      "Requirement already satisfied: google-resumable-media<3.0dev,>=0.6.0 in /opt/conda/lib/python3.10/site-packages (from google-cloud-bigquery==3.17.2->-r requirements.txt (line 10)) (2.7.0)\n",
      "Requirement already satisfied: requests<3.0.0dev,>=2.21.0 in /opt/conda/lib/python3.10/site-packages (from google-cloud-bigquery==3.17.2->-r requirements.txt (line 10)) (2.31.0)\n",
      "Requirement already satisfied: jupyter-server>=2.4.0 in /opt/conda/lib/python3.10/site-packages (from google-cloud-jupyter-config==0.0.5->-r requirements.txt (line 14)) (2.13.0)\n",
      "Requirement already satisfied: traitlets in /opt/conda/lib/python3.10/site-packages (from google-cloud-jupyter-config==0.0.5->-r requirements.txt (line 14)) (5.9.0)\n",
      "Requirement already satisfied: google-crc32c<2.0dev,>=1.0 in /opt/conda/lib/python3.10/site-packages (from google-cloud-storage==2.14.0->-r requirements.txt (line 18)) (1.5.0)\n",
      "Requirement already satisfied: googleapis-common-protos<2.0dev,>=1.56.2 in /opt/conda/lib/python3.10/site-packages (from google-api-core->-r requirements.txt (line 3)) (1.62.0)\n",
      "Requirement already satisfied: six<2dev,>=1.6.1 in /opt/conda/lib/python3.10/site-packages (from google-api-python-client->-r requirements.txt (line 4)) (1.16.0)\n",
      "Requirement already satisfied: uritemplate<4dev,>=3.0.0 in /opt/conda/lib/python3.10/site-packages (from google-api-python-client->-r requirements.txt (line 4)) (3.0.1)\n",
      "Requirement already satisfied: scipy>=1.6.0 in /opt/conda/lib/python3.10/site-packages (from scikit-learn->-r requirements.txt (line 20)) (1.11.4)\n",
      "Requirement already satisfied: joblib>=1.2.0 in /opt/conda/lib/python3.10/site-packages (from scikit-learn->-r requirements.txt (line 20)) (1.3.2)\n",
      "Requirement already satisfied: threadpoolctl>=2.0.0 in /opt/conda/lib/python3.10/site-packages (from scikit-learn->-r requirements.txt (line 20)) (3.3.0)\n",
      "Requirement already satisfied: pyarrow>=3.0.0 in /opt/conda/lib/python3.10/site-packages (from db-dtypes->-r requirements.txt (line 21)) (15.0.0)\n",
      "Requirement already satisfied: grpcio<2.0dev,>=1.33.2 in /opt/conda/lib/python3.10/site-packages (from google-api-core[grpc]!=2.0.*,!=2.1.*,!=2.2.*,!=2.3.*,!=2.4.*,!=2.5.*,!=2.6.*,!=2.7.*,<3.0.0dev,>=1.32.0->google-cloud-aiplatform==1.41.0->-r requirements.txt (line 8)) (1.62.0)\n",
      "Requirement already satisfied: grpcio-status<2.0dev,>=1.33.2 in /opt/conda/lib/python3.10/site-packages (from google-api-core[grpc]!=2.0.*,!=2.1.*,!=2.2.*,!=2.3.*,!=2.4.*,!=2.5.*,!=2.6.*,!=2.7.*,<3.0.0dev,>=1.32.0->google-cloud-aiplatform==1.41.0->-r requirements.txt (line 8)) (1.48.2)\n",
      "Requirement already satisfied: pyparsing!=3.0.0,!=3.0.1,!=3.0.2,!=3.0.3,<4,>=2.4.2 in /opt/conda/lib/python3.10/site-packages (from httplib2>=0.19.0->google-auth-httplib2==0.2.0->-r requirements.txt (line 6)) (3.1.2)\n",
      "Requirement already satisfied: anyio>=3.1.0 in /opt/conda/lib/python3.10/site-packages (from jupyter-server>=2.4.0->google-cloud-jupyter-config==0.0.5->-r requirements.txt (line 14)) (4.3.0)\n",
      "Requirement already satisfied: argon2-cffi in /opt/conda/lib/python3.10/site-packages (from jupyter-server>=2.4.0->google-cloud-jupyter-config==0.0.5->-r requirements.txt (line 14)) (23.1.0)\n",
      "Requirement already satisfied: jinja2 in /opt/conda/lib/python3.10/site-packages (from jupyter-server>=2.4.0->google-cloud-jupyter-config==0.0.5->-r requirements.txt (line 14)) (3.1.3)\n",
      "Requirement already satisfied: jupyter-client>=7.4.4 in /opt/conda/lib/python3.10/site-packages (from jupyter-server>=2.4.0->google-cloud-jupyter-config==0.0.5->-r requirements.txt (line 14)) (7.4.9)\n",
      "Requirement already satisfied: jupyter-core!=5.0.*,>=4.12 in /opt/conda/lib/python3.10/site-packages (from jupyter-server>=2.4.0->google-cloud-jupyter-config==0.0.5->-r requirements.txt (line 14)) (5.7.1)\n",
      "Requirement already satisfied: jupyter-events>=0.9.0 in /opt/conda/lib/python3.10/site-packages (from jupyter-server>=2.4.0->google-cloud-jupyter-config==0.0.5->-r requirements.txt (line 14)) (0.9.0)\n",
      "Requirement already satisfied: jupyter-server-terminals in /opt/conda/lib/python3.10/site-packages (from jupyter-server>=2.4.0->google-cloud-jupyter-config==0.0.5->-r requirements.txt (line 14)) (0.5.2)\n",
      "Requirement already satisfied: nbconvert>=6.4.4 in /opt/conda/lib/python3.10/site-packages (from jupyter-server>=2.4.0->google-cloud-jupyter-config==0.0.5->-r requirements.txt (line 14)) (7.16.2)\n",
      "Requirement already satisfied: nbformat>=5.3.0 in /opt/conda/lib/python3.10/site-packages (from jupyter-server>=2.4.0->google-cloud-jupyter-config==0.0.5->-r requirements.txt (line 14)) (5.9.2)\n",
      "Requirement already satisfied: overrides in /opt/conda/lib/python3.10/site-packages (from jupyter-server>=2.4.0->google-cloud-jupyter-config==0.0.5->-r requirements.txt (line 14)) (7.7.0)\n",
      "Requirement already satisfied: prometheus-client in /opt/conda/lib/python3.10/site-packages (from jupyter-server>=2.4.0->google-cloud-jupyter-config==0.0.5->-r requirements.txt (line 14)) (0.20.0)\n",
      "Requirement already satisfied: pyzmq>=24 in /opt/conda/lib/python3.10/site-packages (from jupyter-server>=2.4.0->google-cloud-jupyter-config==0.0.5->-r requirements.txt (line 14)) (24.0.1)\n",
      "Requirement already satisfied: send2trash>=1.8.2 in /opt/conda/lib/python3.10/site-packages (from jupyter-server>=2.4.0->google-cloud-jupyter-config==0.0.5->-r requirements.txt (line 14)) (1.8.2)\n",
      "Requirement already satisfied: terminado>=0.8.3 in /opt/conda/lib/python3.10/site-packages (from jupyter-server>=2.4.0->google-cloud-jupyter-config==0.0.5->-r requirements.txt (line 14)) (0.18.0)\n",
      "Requirement already satisfied: tornado>=6.2.0 in /opt/conda/lib/python3.10/site-packages (from jupyter-server>=2.4.0->google-cloud-jupyter-config==0.0.5->-r requirements.txt (line 14)) (6.4)\n",
      "Requirement already satisfied: websocket-client in /opt/conda/lib/python3.10/site-packages (from jupyter-server>=2.4.0->google-cloud-jupyter-config==0.0.5->-r requirements.txt (line 14)) (1.7.0)\n",
      "Requirement already satisfied: pyasn1<0.6.0,>=0.4.6 in /opt/conda/lib/python3.10/site-packages (from pyasn1-modules>=0.2.1->google-auth==2.26.2->-r requirements.txt (line 5)) (0.5.1)\n",
      "Requirement already satisfied: charset-normalizer<4,>=2 in /opt/conda/lib/python3.10/site-packages (from requests<3.0.0dev,>=2.21.0->google-cloud-bigquery==3.17.2->-r requirements.txt (line 10)) (3.3.2)\n",
      "Requirement already satisfied: idna<4,>=2.5 in /opt/conda/lib/python3.10/site-packages (from requests<3.0.0dev,>=2.21.0->google-cloud-bigquery==3.17.2->-r requirements.txt (line 10)) (3.6)\n",
      "Requirement already satisfied: urllib3<3,>=1.21.1 in /opt/conda/lib/python3.10/site-packages (from requests<3.0.0dev,>=2.21.0->google-cloud-bigquery==3.17.2->-r requirements.txt (line 10)) (1.26.18)\n",
      "Requirement already satisfied: certifi>=2017.4.17 in /opt/conda/lib/python3.10/site-packages (from requests<3.0.0dev,>=2.21.0->google-cloud-bigquery==3.17.2->-r requirements.txt (line 10)) (2024.2.2)\n",
      "Requirement already satisfied: oauthlib>=3.0.0 in /opt/conda/lib/python3.10/site-packages (from requests-oauthlib>=0.7.0->google-auth-oauthlib==1.2.0->-r requirements.txt (line 7)) (3.2.2)\n",
      "Requirement already satisfied: sniffio>=1.1 in /opt/conda/lib/python3.10/site-packages (from anyio>=3.1.0->jupyter-server>=2.4.0->google-cloud-jupyter-config==0.0.5->-r requirements.txt (line 14)) (1.3.1)\n",
      "Requirement already satisfied: exceptiongroup>=1.0.2 in /opt/conda/lib/python3.10/site-packages (from anyio>=3.1.0->jupyter-server>=2.4.0->google-cloud-jupyter-config==0.0.5->-r requirements.txt (line 14)) (1.2.0)\n",
      "Requirement already satisfied: typing-extensions>=4.1 in /opt/conda/lib/python3.10/site-packages (from anyio>=3.1.0->jupyter-server>=2.4.0->google-cloud-jupyter-config==0.0.5->-r requirements.txt (line 14)) (4.10.0)\n",
      "Requirement already satisfied: entrypoints in /opt/conda/lib/python3.10/site-packages (from jupyter-client>=7.4.4->jupyter-server>=2.4.0->google-cloud-jupyter-config==0.0.5->-r requirements.txt (line 14)) (0.4)\n",
      "Requirement already satisfied: nest-asyncio>=1.5.4 in /opt/conda/lib/python3.10/site-packages (from jupyter-client>=7.4.4->jupyter-server>=2.4.0->google-cloud-jupyter-config==0.0.5->-r requirements.txt (line 14)) (1.6.0)\n",
      "Requirement already satisfied: platformdirs>=2.5 in /opt/conda/lib/python3.10/site-packages (from jupyter-core!=5.0.*,>=4.12->jupyter-server>=2.4.0->google-cloud-jupyter-config==0.0.5->-r requirements.txt (line 14)) (4.2.0)\n",
      "Requirement already satisfied: jsonschema>=4.18.0 in /opt/conda/lib/python3.10/site-packages (from jsonschema[format-nongpl]>=4.18.0->jupyter-events>=0.9.0->jupyter-server>=2.4.0->google-cloud-jupyter-config==0.0.5->-r requirements.txt (line 14)) (4.21.1)\n",
      "Requirement already satisfied: python-json-logger>=2.0.4 in /opt/conda/lib/python3.10/site-packages (from jupyter-events>=0.9.0->jupyter-server>=2.4.0->google-cloud-jupyter-config==0.0.5->-r requirements.txt (line 14)) (2.0.7)\n",
      "Requirement already satisfied: pyyaml>=5.3 in /opt/conda/lib/python3.10/site-packages (from jupyter-events>=0.9.0->jupyter-server>=2.4.0->google-cloud-jupyter-config==0.0.5->-r requirements.txt (line 14)) (6.0.1)\n",
      "Requirement already satisfied: referencing in /opt/conda/lib/python3.10/site-packages (from jupyter-events>=0.9.0->jupyter-server>=2.4.0->google-cloud-jupyter-config==0.0.5->-r requirements.txt (line 14)) (0.33.0)\n",
      "Requirement already satisfied: rfc3339-validator in /opt/conda/lib/python3.10/site-packages (from jupyter-events>=0.9.0->jupyter-server>=2.4.0->google-cloud-jupyter-config==0.0.5->-r requirements.txt (line 14)) (0.1.4)\n",
      "Requirement already satisfied: rfc3986-validator>=0.1.1 in /opt/conda/lib/python3.10/site-packages (from jupyter-events>=0.9.0->jupyter-server>=2.4.0->google-cloud-jupyter-config==0.0.5->-r requirements.txt (line 14)) (0.1.1)\n",
      "Requirement already satisfied: beautifulsoup4 in /opt/conda/lib/python3.10/site-packages (from nbconvert>=6.4.4->jupyter-server>=2.4.0->google-cloud-jupyter-config==0.0.5->-r requirements.txt (line 14)) (4.12.3)\n",
      "Requirement already satisfied: bleach!=5.0.0 in /opt/conda/lib/python3.10/site-packages (from nbconvert>=6.4.4->jupyter-server>=2.4.0->google-cloud-jupyter-config==0.0.5->-r requirements.txt (line 14)) (6.1.0)\n",
      "Requirement already satisfied: defusedxml in /opt/conda/lib/python3.10/site-packages (from nbconvert>=6.4.4->jupyter-server>=2.4.0->google-cloud-jupyter-config==0.0.5->-r requirements.txt (line 14)) (0.7.1)\n",
      "Requirement already satisfied: jupyterlab-pygments in /opt/conda/lib/python3.10/site-packages (from nbconvert>=6.4.4->jupyter-server>=2.4.0->google-cloud-jupyter-config==0.0.5->-r requirements.txt (line 14)) (0.3.0)\n",
      "Requirement already satisfied: markupsafe>=2.0 in /opt/conda/lib/python3.10/site-packages (from nbconvert>=6.4.4->jupyter-server>=2.4.0->google-cloud-jupyter-config==0.0.5->-r requirements.txt (line 14)) (2.1.5)\n",
      "Requirement already satisfied: mistune<4,>=2.0.3 in /opt/conda/lib/python3.10/site-packages (from nbconvert>=6.4.4->jupyter-server>=2.4.0->google-cloud-jupyter-config==0.0.5->-r requirements.txt (line 14)) (3.0.2)\n",
      "Requirement already satisfied: nbclient>=0.5.0 in /opt/conda/lib/python3.10/site-packages (from nbconvert>=6.4.4->jupyter-server>=2.4.0->google-cloud-jupyter-config==0.0.5->-r requirements.txt (line 14)) (0.8.0)\n",
      "Requirement already satisfied: pandocfilters>=1.4.1 in /opt/conda/lib/python3.10/site-packages (from nbconvert>=6.4.4->jupyter-server>=2.4.0->google-cloud-jupyter-config==0.0.5->-r requirements.txt (line 14)) (1.5.0)\n",
      "Requirement already satisfied: pygments>=2.4.1 in /opt/conda/lib/python3.10/site-packages (from nbconvert>=6.4.4->jupyter-server>=2.4.0->google-cloud-jupyter-config==0.0.5->-r requirements.txt (line 14)) (2.17.2)\n",
      "Requirement already satisfied: tinycss2 in /opt/conda/lib/python3.10/site-packages (from nbconvert>=6.4.4->jupyter-server>=2.4.0->google-cloud-jupyter-config==0.0.5->-r requirements.txt (line 14)) (1.2.1)\n",
      "Requirement already satisfied: fastjsonschema in /opt/conda/lib/python3.10/site-packages (from nbformat>=5.3.0->jupyter-server>=2.4.0->google-cloud-jupyter-config==0.0.5->-r requirements.txt (line 14)) (2.19.1)\n",
      "Requirement already satisfied: ptyprocess in /opt/conda/lib/python3.10/site-packages (from terminado>=0.8.3->jupyter-server>=2.4.0->google-cloud-jupyter-config==0.0.5->-r requirements.txt (line 14)) (0.7.0)\n",
      "Requirement already satisfied: argon2-cffi-bindings in /opt/conda/lib/python3.10/site-packages (from argon2-cffi->jupyter-server>=2.4.0->google-cloud-jupyter-config==0.0.5->-r requirements.txt (line 14)) (21.2.0)\n",
      "Requirement already satisfied: webencodings in /opt/conda/lib/python3.10/site-packages (from bleach!=5.0.0->nbconvert>=6.4.4->jupyter-server>=2.4.0->google-cloud-jupyter-config==0.0.5->-r requirements.txt (line 14)) (0.5.1)\n",
      "Requirement already satisfied: attrs>=22.2.0 in /opt/conda/lib/python3.10/site-packages (from jsonschema>=4.18.0->jsonschema[format-nongpl]>=4.18.0->jupyter-events>=0.9.0->jupyter-server>=2.4.0->google-cloud-jupyter-config==0.0.5->-r requirements.txt (line 14)) (23.2.0)\n",
      "Requirement already satisfied: jsonschema-specifications>=2023.03.6 in /opt/conda/lib/python3.10/site-packages (from jsonschema>=4.18.0->jsonschema[format-nongpl]>=4.18.0->jupyter-events>=0.9.0->jupyter-server>=2.4.0->google-cloud-jupyter-config==0.0.5->-r requirements.txt (line 14)) (2023.12.1)\n",
      "Requirement already satisfied: rpds-py>=0.7.1 in /opt/conda/lib/python3.10/site-packages (from jsonschema>=4.18.0->jsonschema[format-nongpl]>=4.18.0->jupyter-events>=0.9.0->jupyter-server>=2.4.0->google-cloud-jupyter-config==0.0.5->-r requirements.txt (line 14)) (0.18.0)\n",
      "Requirement already satisfied: fqdn in /opt/conda/lib/python3.10/site-packages (from jsonschema[format-nongpl]>=4.18.0->jupyter-events>=0.9.0->jupyter-server>=2.4.0->google-cloud-jupyter-config==0.0.5->-r requirements.txt (line 14)) (1.5.1)\n",
      "Requirement already satisfied: isoduration in /opt/conda/lib/python3.10/site-packages (from jsonschema[format-nongpl]>=4.18.0->jupyter-events>=0.9.0->jupyter-server>=2.4.0->google-cloud-jupyter-config==0.0.5->-r requirements.txt (line 14)) (20.11.0)\n",
      "Requirement already satisfied: jsonpointer>1.13 in /opt/conda/lib/python3.10/site-packages (from jsonschema[format-nongpl]>=4.18.0->jupyter-events>=0.9.0->jupyter-server>=2.4.0->google-cloud-jupyter-config==0.0.5->-r requirements.txt (line 14)) (2.4)\n",
      "Requirement already satisfied: uri-template in /opt/conda/lib/python3.10/site-packages (from jsonschema[format-nongpl]>=4.18.0->jupyter-events>=0.9.0->jupyter-server>=2.4.0->google-cloud-jupyter-config==0.0.5->-r requirements.txt (line 14)) (1.3.0)\n",
      "Requirement already satisfied: webcolors>=1.11 in /opt/conda/lib/python3.10/site-packages (from jsonschema[format-nongpl]>=4.18.0->jupyter-events>=0.9.0->jupyter-server>=2.4.0->google-cloud-jupyter-config==0.0.5->-r requirements.txt (line 14)) (1.13)\n",
      "Requirement already satisfied: cffi>=1.0.1 in /opt/conda/lib/python3.10/site-packages (from argon2-cffi-bindings->argon2-cffi->jupyter-server>=2.4.0->google-cloud-jupyter-config==0.0.5->-r requirements.txt (line 14)) (1.16.0)\n",
      "Requirement already satisfied: soupsieve>1.2 in /opt/conda/lib/python3.10/site-packages (from beautifulsoup4->nbconvert>=6.4.4->jupyter-server>=2.4.0->google-cloud-jupyter-config==0.0.5->-r requirements.txt (line 14)) (2.5)\n",
      "Requirement already satisfied: pycparser in /opt/conda/lib/python3.10/site-packages (from cffi>=1.0.1->argon2-cffi-bindings->argon2-cffi->jupyter-server>=2.4.0->google-cloud-jupyter-config==0.0.5->-r requirements.txt (line 14)) (2.21)\n",
      "Requirement already satisfied: arrow>=0.15.0 in /opt/conda/lib/python3.10/site-packages (from isoduration->jsonschema[format-nongpl]>=4.18.0->jupyter-events>=0.9.0->jupyter-server>=2.4.0->google-cloud-jupyter-config==0.0.5->-r requirements.txt (line 14)) (1.3.0)\n",
      "Requirement already satisfied: types-python-dateutil>=2.8.10 in /opt/conda/lib/python3.10/site-packages (from arrow>=0.15.0->isoduration->jsonschema[format-nongpl]>=4.18.0->jupyter-events>=0.9.0->jupyter-server>=2.4.0->google-cloud-jupyter-config==0.0.5->-r requirements.txt (line 14)) (2.8.19.20240106)\n",
      "Downloading pandas-2.0.0-cp310-cp310-manylinux_2_17_x86_64.manylinux2014_x86_64.whl (12.3 MB)\n",
      "   ━━━━━━━━━━━━━━━━━━━━━━━━━━━━━━━━━━━━━━━━ 12.3/12.3 MB 133.8 MB/s eta 0:00:00\n",
      "Downloading google_auth-2.26.2-py2.py3-none-any.whl (186 kB)\n",
      "   ━━━━━━━━━━━━━━━━━━━━━━━━━━━━━━━━━━━━━━━━ 186.5/186.5 kB 22.8 MB/s eta 0:00:00\n",
      "Downloading google_cloud_aiplatform-1.41.0-py2.py3-none-any.whl (3.5 MB)\n",
      "   ━━━━━━━━━━━━━━━━━━━━━━━━━━━━━━━━━━━━━━━━ 3.5/3.5 MB 118.5 MB/s eta 0:00:00\n",
      "Downloading google_cloud_artifact_registry-1.10.0-py2.py3-none-any.whl (181 kB)\n",
      "   ━━━━━━━━━━━━━━━━━━━━━━━━━━━━━━━━━━━━━━━━ 181.6/181.6 kB 20.9 MB/s eta 0:00:00\n",
      "Downloading google_cloud_bigquery-3.17.2-py2.py3-none-any.whl (230 kB)\n",
      "   ━━━━━━━━━━━━━━━━━━━━━━━━━━━━━━━━━━━━━━━━ 230.3/230.3 kB 27.1 MB/s eta 0:00:00\n",
      "Downloading google_cloud_language-2.12.0-py2.py3-none-any.whl (137 kB)\n",
      "   ━━━━━━━━━━━━━━━━━━━━━━━━━━━━━━━━━━━━━━━━ 137.8/137.8 kB 15.1 MB/s eta 0:00:00\n",
      "Downloading google_cloud_monitoring-2.18.0-py2.py3-none-any.whl (325 kB)\n",
      "   ━━━━━━━━━━━━━━━━━━━━━━━━━━━━━━━━━━━━━━━━ 326.0/326.0 kB 32.6 MB/s eta 0:00:00\n",
      "Downloading google_cloud_resource_manager-1.11.0-py2.py3-none-any.whl (320 kB)\n",
      "   ━━━━━━━━━━━━━━━━━━━━━━━━━━━━━━━━━━━━━━━━ 320.2/320.2 kB 32.5 MB/s eta 0:00:00\n",
      "Installing collected packages: pandas, google-auth, google-cloud-resource-manager, google-cloud-monitoring, google-cloud-language, google-cloud-bigquery, google-cloud-artifact-registry, google-cloud-aiplatform\n",
      "  Attempting uninstall: pandas\n",
      "    Found existing installation: pandas 2.0.3\n",
      "    Uninstalling pandas-2.0.3:\n",
      "      Successfully uninstalled pandas-2.0.3\n",
      "  Attempting uninstall: google-auth\n",
      "    Found existing installation: google-auth 2.28.1\n",
      "    Uninstalling google-auth-2.28.1:\n",
      "      Successfully uninstalled google-auth-2.28.1\n",
      "  Attempting uninstall: google-cloud-resource-manager\n",
      "    Found existing installation: google-cloud-resource-manager 1.12.3\n",
      "    Uninstalling google-cloud-resource-manager-1.12.3:\n",
      "      Successfully uninstalled google-cloud-resource-manager-1.12.3\n",
      "  Attempting uninstall: google-cloud-monitoring\n",
      "    Found existing installation: google-cloud-monitoring 2.19.3\n",
      "    Uninstalling google-cloud-monitoring-2.19.3:\n",
      "      Successfully uninstalled google-cloud-monitoring-2.19.3\n",
      "  Attempting uninstall: google-cloud-language\n",
      "    Found existing installation: google-cloud-language 2.13.3\n",
      "    Uninstalling google-cloud-language-2.13.3:\n",
      "      Successfully uninstalled google-cloud-language-2.13.3\n",
      "  Attempting uninstall: google-cloud-bigquery\n",
      "    Found existing installation: google-cloud-bigquery 3.18.0\n",
      "    Uninstalling google-cloud-bigquery-3.18.0:\n",
      "      Successfully uninstalled google-cloud-bigquery-3.18.0\n",
      "  Attempting uninstall: google-cloud-artifact-registry\n",
      "    Found existing installation: google-cloud-artifact-registry 1.11.3\n",
      "    Uninstalling google-cloud-artifact-registry-1.11.3:\n",
      "      Successfully uninstalled google-cloud-artifact-registry-1.11.3\n",
      "  Attempting uninstall: google-cloud-aiplatform\n",
      "    Found existing installation: google-cloud-aiplatform 1.43.0\n",
      "    Uninstalling google-cloud-aiplatform-1.43.0:\n",
      "      Successfully uninstalled google-cloud-aiplatform-1.43.0\n",
      "Successfully installed google-auth-2.26.2 google-cloud-aiplatform-1.41.0 google-cloud-artifact-registry-1.10.0 google-cloud-bigquery-3.17.2 google-cloud-language-2.12.0 google-cloud-monitoring-2.18.0 google-cloud-resource-manager-1.11.0 pandas-2.0.0\n",
      "\u001b[91mWARNING: Running pip as the 'root' user can result in broken permissions and conflicting behaviour with the system package manager. It is recommended to use a virtual environment instead: https://pip.pypa.io/warnings/venv\n",
      "\u001b[0mRemoving intermediate container f2427d673d86\n",
      " ---> 51d3c8284d5c\n",
      "Step 5/5 : COPY processing /processing\n",
      " ---> d577d20a9851\n",
      "Successfully built d577d20a9851\n",
      "Successfully tagged europe-west3-docker.pkg.dev/gcp-ccai-auto-ml-contactcenter/repo-demo3/data_preparation:latest\n"
     ]
    }
   ],
   "source": [
    "! docker build ./ -t $IMAGE_URI"
   ]
  },
  {
   "cell_type": "code",
   "execution_count": 8,
   "id": "54d56eb9-9d4a-44f7-8ae0-8dbd821618ee",
   "metadata": {},
   "outputs": [
    {
     "name": "stdout",
     "output_type": "stream",
     "text": [
      "\u001b[1;33mWARNING:\u001b[0m Your config file at [/home/jupyter/.docker/config.json] contains these credential helper entries:\n",
      "\n",
      "{\n",
      "  \"credHelpers\": {\n",
      "    \"gcr.io\": \"gcloud\",\n",
      "    \"us.gcr.io\": \"gcloud\",\n",
      "    \"eu.gcr.io\": \"gcloud\",\n",
      "    \"asia.gcr.io\": \"gcloud\",\n",
      "    \"staging-k8s.gcr.io\": \"gcloud\",\n",
      "    \"marketplace.gcr.io\": \"gcloud\",\n",
      "    \"europe-west3-docker.pkg.dev\": \"gcloud\"\n",
      "  }\n",
      "}\n",
      "Adding credentials for: europe-west3-docker.pkg.dev\n",
      "gcloud credential helpers already registered correctly.\n"
     ]
    }
   ],
   "source": [
    "! gcloud auth configure-docker {REGION}-docker.pkg.dev --quiet"
   ]
  },
  {
   "cell_type": "code",
   "execution_count": 9,
   "id": "e344f9c6-ea6f-4860-a773-5437363e83b0",
   "metadata": {},
   "outputs": [
    {
     "name": "stdout",
     "output_type": "stream",
     "text": [
      "The push refers to repository [europe-west3-docker.pkg.dev/gcp-ccai-auto-ml-contactcenter/repo-demo3/data_preparation]\n",
      "\n",
      "\u001b[1Bcb1dee5c: Preparing \n",
      "\u001b[1Bb97699d6: Preparing \n",
      "\u001b[1B2be5e7b9: Preparing \n",
      "\u001b[1B0840b95b: Preparing \n",
      "\u001b[1B625a528c: Preparing \n",
      "\u001b[1B1351140a: Preparing \n",
      "\u001b[1Bbf18a086: Preparing \n",
      "\u001b[1B82771da2: Preparing \n",
      "\u001b[1B57952521: Preparing \n",
      "\u001b[1B6a5b98f7: Preparing \n",
      "\u001b[1Bbd61aa20: Preparing \n",
      "\u001b[1B5ef9c8b3: Preparing \n",
      "\u001b[1Ba870a840: Preparing \n",
      "\u001b[1B43031e88: Preparing \n",
      "\u001b[1Bab4e5392: Preparing \n",
      "\u001b[1B07dc0b52: Preparing \n",
      "\u001b[1Bdcdb0172: Preparing \n",
      "\u001b[1B379a4282: Preparing \n",
      "\u001b[1Baea69765: Preparing \n",
      "\u001b[1B6aad04a1: Preparing \n",
      "\u001b[1Bdfc3b824: Preparing \n",
      "\u001b[1B4c2a35b9: Preparing \n",
      "\u001b[1Be90090ea: Preparing \n",
      "\u001b[1B3da23f15: Preparing \n",
      "\u001b[1Bcd77acfc: Preparing \n",
      "\u001b[1Bb784db22: Preparing \n",
      "\u001b[21Bf18a086: Preparing \n",
      "\u001b[1B88822c42: Preparing \n",
      "\u001b[1B95b7aaed: Preparing \n",
      "\u001b[1Bf5722498: Preparing \n",
      "\u001b[1B2c163a83: Preparing \n",
      "\u001b[1B13d8681b: Preparing \n",
      "\u001b[1B482cf441: Preparing \n",
      "\u001b[22B870a840: Waiting g \n",
      "\u001b[1Ba8f43981: Preparing \n",
      "\u001b[23B3031e88: Waiting g \n",
      "\u001b[1B4a4d2337: Preparing \n",
      "\u001b[29Ba5b98f7: Waiting g \n",
      "\u001b[29Bd61aa20: Waiting g \n",
      "\u001b[35B351140a: Waiting g \n",
      "\u001b[40B97699d6: Pushed   130.9MB/126MBkB\u001b[36A\u001b[2K\u001b[33A\u001b[2K\u001b[30A\u001b[2K\u001b[41A\u001b[2K\u001b[23A\u001b[2K\u001b[17A\u001b[2K\u001b[12A\u001b[2K\u001b[7A\u001b[2K\u001b[1A\u001b[2K\u001b[40A\u001b[2K\u001b[40A\u001b[2K\u001b[40A\u001b[2K\u001b[40A\u001b[2K\u001b[40A\u001b[2K\u001b[40A\u001b[2K\u001b[40A\u001b[2K\u001b[40A\u001b[2K\u001b[40A\u001b[2K\u001b[40A\u001b[2K\u001b[40A\u001b[2K\u001b[40A\u001b[2K\u001b[40A\u001b[2K\u001b[40A\u001b[2K\u001b[40A\u001b[2K\u001b[40A\u001b[2K\u001b[40A\u001b[2K\u001b[40A\u001b[2K\u001b[40A\u001b[2K\u001b[40A\u001b[2K\u001b[40A\u001b[2K\u001b[40A\u001b[2K\u001b[40A\u001b[2K\u001b[40A\u001b[2K\u001b[40A\u001b[2K\u001b[40A\u001b[2K\u001b[40A\u001b[2K\u001b[40A\u001b[2K\u001b[40A\u001b[2K\u001b[40A\u001b[2K\u001b[40A\u001b[2K\u001b[40A\u001b[2K\u001b[40A\u001b[2K\u001b[40A\u001b[2K\u001b[40A\u001b[2K\u001b[40A\u001b[2K\u001b[40A\u001b[2K\u001b[40A\u001b[2K\u001b[40A\u001b[2K\u001b[40A\u001b[2K\u001b[40A\u001b[2K\u001b[40A\u001b[2K\u001b[40A\u001b[2Klatest: digest: sha256:936172d1057a20d1bcb9442bddb97952856dcfb3749fdd823002da961b579189 size: 9115\n"
     ]
    }
   ],
   "source": [
    "! docker push $IMAGE_URI"
   ]
  },
  {
   "cell_type": "code",
   "execution_count": null,
   "id": "c95a0711-6521-40fe-ba76-89ea7ae68f74",
   "metadata": {},
   "outputs": [],
   "source": []
  }
 ],
 "metadata": {
  "environment": {
   "kernel": "python3",
   "name": "common-cpu.m115",
   "type": "gcloud",
   "uri": "gcr.io/deeplearning-platform-release/base-cpu:m115"
  },
  "kernelspec": {
   "display_name": "Python 3",
   "language": "python",
   "name": "python3"
  },
  "language_info": {
   "codemirror_mode": {
    "name": "ipython",
    "version": 3
   },
   "file_extension": ".py",
   "mimetype": "text/x-python",
   "name": "python",
   "nbconvert_exporter": "python",
   "pygments_lexer": "ipython3",
   "version": "3.10.13"
  }
 },
 "nbformat": 4,
 "nbformat_minor": 5
}
