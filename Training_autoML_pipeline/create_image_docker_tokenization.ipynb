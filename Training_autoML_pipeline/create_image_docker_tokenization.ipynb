{
 "cells": [
  {
   "cell_type": "code",
   "execution_count": 1,
   "id": "15d2ff4f-79f0-4221-a35f-3313009ecc9a",
   "metadata": {
    "tags": []
   },
   "outputs": [],
   "source": [
    "PROJECT_ID = 'gcp-ccai-auto-ml-contactcenter'\n",
    "REGION= \"europe-west3\"\n",
    "REPO_NAME = \"repo-demo3\"\n",
    "SERVICE_ACCOUNT = \"944308723981-compute@developer.gserviceaccount.com\"\n",
    "BUCKET_URI = f\"gs://ccai-storage\""
   ]
  },
  {
   "cell_type": "code",
   "execution_count": 2,
   "id": "a9b8691d-d380-4d9b-8382-dfd29dd970ef",
   "metadata": {
    "tags": []
   },
   "outputs": [],
   "source": [
    "APPLICATION_DIR = \"custom-data-tokenization-image\"\n",
    "PROCESSING_DIR = f\"{APPLICATION_DIR}/processing\""
   ]
  },
  {
   "cell_type": "code",
   "execution_count": 3,
   "id": "920827b7-b1c8-4520-a4e3-3888fdfa5d3b",
   "metadata": {
    "tags": []
   },
   "outputs": [
    {
     "name": "stdout",
     "output_type": "stream",
     "text": [
      "Overwriting custom-data-tokenization-image/Dockerfile\n"
     ]
    }
   ],
   "source": [
    "%%writefile {APPLICATION_DIR}/Dockerfile\n",
    "\n",
    "FROM us-docker.pkg.dev/deeplearning-platform-release/gcr.io/base-cu113.py310\n",
    "\n",
    "WORKDIR /\n",
    "\n",
    "COPY requirements.txt /\n",
    "\n",
    "# Installs hypertune library\n",
    "RUN pip install -r requirements.txt\n",
    "\n",
    "# Copies the trainer code to the Docker image.\n",
    "COPY processing /processing"
   ]
  },
  {
   "cell_type": "code",
   "execution_count": 4,
   "id": "d53749c1-3924-4543-a2f0-04c2690aca9d",
   "metadata": {
    "tags": []
   },
   "outputs": [
    {
     "name": "stdout",
     "output_type": "stream",
     "text": [
      "\u001b[1;31mERROR:\u001b[0m (gcloud.artifacts.repositories.create) ALREADY_EXISTS: the repository already exists\n"
     ]
    }
   ],
   "source": [
    "!gcloud artifacts repositories create $REPO_NAME --repository-format=docker \\\n",
    "--location=$REGION --description=\"Docker repository\""
   ]
  },
  {
   "cell_type": "code",
   "execution_count": 5,
   "id": "fd1efbeb-bfea-4f1d-8747-40e15d5aef55",
   "metadata": {},
   "outputs": [],
   "source": [
    "IMAGE_URI = (\n",
    "    f\"{REGION}-docker.pkg.dev/{PROJECT_ID}/{REPO_NAME}/data_tokenization:latest\"\n",
    ")"
   ]
  },
  {
   "cell_type": "code",
   "execution_count": 6,
   "id": "69175ae8-3c6b-4bb1-b46a-4da083bc8050",
   "metadata": {
    "tags": []
   },
   "outputs": [
    {
     "name": "stdout",
     "output_type": "stream",
     "text": [
      "/home/jupyter/fabio/pipeline/custom-data-tokenization-image\n"
     ]
    }
   ],
   "source": [
    "cd $APPLICATION_DIR"
   ]
  },
  {
   "cell_type": "code",
   "execution_count": 7,
   "id": "9d31bded-8a2e-408e-b936-030820a4a87b",
   "metadata": {},
   "outputs": [
    {
     "name": "stdout",
     "output_type": "stream",
     "text": [
      "Sending build context to Docker daemon  1.063MB\n",
      "Step 1/5 : FROM us-docker.pkg.dev/deeplearning-platform-release/gcr.io/base-cu113.py310\n",
      " ---> 039eb2919b37\n",
      "Step 2/5 : WORKDIR /\n",
      " ---> Using cache\n",
      " ---> eb5e1d2a1fa8\n",
      "Step 3/5 : COPY requirements.txt /\n",
      " ---> Using cache\n",
      " ---> 805ce9675d01\n",
      "Step 4/5 : RUN pip install -r requirements.txt\n",
      " ---> Using cache\n",
      " ---> e081cb48a167\n",
      "Step 5/5 : COPY processing /processing\n",
      " ---> 4382181ac920\n",
      "Successfully built 4382181ac920\n",
      "Successfully tagged europe-west3-docker.pkg.dev/gcp-ccai-auto-ml-contactcenter/repo-demo3/data_tokenization:latest\n"
     ]
    }
   ],
   "source": [
    "! docker build ./ -t $IMAGE_URI"
   ]
  },
  {
   "cell_type": "code",
   "execution_count": 8,
   "id": "54d56eb9-9d4a-44f7-8ae0-8dbd821618ee",
   "metadata": {},
   "outputs": [
    {
     "name": "stdout",
     "output_type": "stream",
     "text": [
      "\u001b[1;33mWARNING:\u001b[0m Your config file at [/home/jupyter/.docker/config.json] contains these credential helper entries:\n",
      "\n",
      "{\n",
      "  \"credHelpers\": {\n",
      "    \"gcr.io\": \"gcloud\",\n",
      "    \"us.gcr.io\": \"gcloud\",\n",
      "    \"eu.gcr.io\": \"gcloud\",\n",
      "    \"asia.gcr.io\": \"gcloud\",\n",
      "    \"staging-k8s.gcr.io\": \"gcloud\",\n",
      "    \"marketplace.gcr.io\": \"gcloud\",\n",
      "    \"europe-west3-docker.pkg.dev\": \"gcloud\"\n",
      "  }\n",
      "}\n",
      "Adding credentials for: europe-west3-docker.pkg.dev\n",
      "gcloud credential helpers already registered correctly.\n"
     ]
    }
   ],
   "source": [
    "! gcloud auth configure-docker {REGION}-docker.pkg.dev --quiet"
   ]
  },
  {
   "cell_type": "code",
   "execution_count": 9,
   "id": "e344f9c6-ea6f-4860-a773-5437363e83b0",
   "metadata": {},
   "outputs": [
    {
     "name": "stdout",
     "output_type": "stream",
     "text": [
      "The push refers to repository [europe-west3-docker.pkg.dev/gcp-ccai-auto-ml-contactcenter/repo-demo3/data_tokenization]\n",
      "\n",
      "\u001b[1Bd4169661: Preparing \n",
      "\u001b[1B9ee37de1: Preparing \n",
      "\u001b[1B2215fad3: Preparing \n",
      "\u001b[1B0840b95b: Preparing \n",
      "\u001b[1B625a528c: Preparing \n",
      "\u001b[1B1351140a: Preparing \n",
      "\u001b[1Bbf18a086: Preparing \n",
      "\u001b[1B82771da2: Preparing \n",
      "\u001b[1B57952521: Preparing \n",
      "\u001b[1B6a5b98f7: Preparing \n",
      "\u001b[1Bbd61aa20: Preparing \n",
      "\u001b[1B5ef9c8b3: Preparing \n",
      "\u001b[1Ba870a840: Preparing \n",
      "\u001b[1B43031e88: Preparing \n",
      "\u001b[1Bab4e5392: Preparing \n",
      "\u001b[1B07dc0b52: Preparing \n",
      "\u001b[1Bdcdb0172: Preparing \n",
      "\u001b[1B379a4282: Preparing \n",
      "\u001b[1Baea69765: Preparing \n",
      "\u001b[15B351140a: Waiting g \n",
      "\u001b[1Bdfc3b824: Preparing \n",
      "\u001b[1B4c2a35b9: Preparing \n",
      "\u001b[1Be90090ea: Preparing \n",
      "\u001b[1B3da23f15: Preparing \n",
      "\u001b[17B7952521: Waiting g \n",
      "\u001b[1Bb784db22: Preparing \n",
      "\u001b[21Bf18a086: Preparing \n",
      "\u001b[18Bd61aa20: Waiting g \n",
      "\u001b[18Bef9c8b3: Waiting g \n",
      "\u001b[18B870a840: Waiting g \n",
      "\u001b[18B3031e88: Waiting g \n",
      "\u001b[1B13d8681b: Preparing \n",
      "\u001b[19Bb4e5392: Waiting g \n",
      "\u001b[1Bba9dc290: Preparing \n",
      "\u001b[1Ba8f43981: Preparing \n",
      "\u001b[1Bf5c71bf6: Preparing \n",
      "\u001b[22B7dc0b52: Waiting g \n",
      "\u001b[22Bcdb0172: Waiting g \n",
      "\u001b[1Bda122002: Preparing \n",
      "\u001b[23B79a4282: Waiting g \n",
      "\u001b[1B7df31590: Layer already exists 5kB\u001b[39A\u001b[2K\u001b[33A\u001b[2K\u001b[30A\u001b[2K\u001b[24A\u001b[2K\u001b[20A\u001b[2K\u001b[16A\u001b[2K\u001b[10A\u001b[2K\u001b[5A\u001b[2Klatest: digest: sha256:363880c58f2802b60aecce5eb5757c39f41e1bc6e8eb2965d94b3c192e70278f size: 9115\n"
     ]
    }
   ],
   "source": [
    "! docker push $IMAGE_URI"
   ]
  },
  {
   "cell_type": "code",
   "execution_count": null,
   "id": "c95a0711-6521-40fe-ba76-89ea7ae68f74",
   "metadata": {},
   "outputs": [],
   "source": []
  },
  {
   "cell_type": "code",
   "execution_count": null,
   "id": "89c13d97-05dc-44e3-8702-dffb8caef231",
   "metadata": {},
   "outputs": [],
   "source": []
  }
 ],
 "metadata": {
  "environment": {
   "kernel": "python3",
   "name": "common-cpu.m115",
   "type": "gcloud",
   "uri": "gcr.io/deeplearning-platform-release/base-cpu:m115"
  },
  "kernelspec": {
   "display_name": "Python 3",
   "language": "python",
   "name": "python3"
  },
  "language_info": {
   "codemirror_mode": {
    "name": "ipython",
    "version": 3
   },
   "file_extension": ".py",
   "mimetype": "text/x-python",
   "name": "python",
   "nbconvert_exporter": "python",
   "pygments_lexer": "ipython3",
   "version": "3.10.13"
  }
 },
 "nbformat": 4,
 "nbformat_minor": 5
}
